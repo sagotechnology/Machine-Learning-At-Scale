{
 "cells": [
  {
   "cell_type": "markdown",
   "metadata": {
    "application/vnd.databricks.v1+cell": {
     "inputWidgets": {},
     "nuid": "c052a4ea-9f23-4194-afc4-ef6472f60a3b",
     "showTitle": false,
     "title": ""
    }
   },
   "source": [
    "# HW 3 - Synonym Detection In Spark\n",
    "__`MIDS w261: Machine Learning at Scale | UC Berkeley School of Information | Fall 2018`__\n",
    "\n",
    "In the last homework assignment you performed Naive Bayes to classify documents as 'ham' or 'spam.' In doing so, we relied on the implicit assumption that the list of words in a document can tell us something about the nature of that document's content. We'll rely on a similar intuition this week: the idea that, if we analyze a large enough corpus of text, the list of words that appear in small window before or after a vocabulary term can tell us something about that term's meaning. This is similar to the intuition behind the word2vec algorithm.\n",
    "\n",
    "This will be your first assignment working in Spark. You'll perform Synonym Detection by repurposing an algorithm commonly used in Natural Language Processing to perform document similarity analysis. In doing so you'll also become familiar with important datatypes for efficiently processing sparse vectors and a number of set similarity metrics (e.g. Cosine, Jaccard, Dice). By the end of this homework you should be able to:  \n",
    "* ... __define__ the terms `one-hot encoding`, `co-occurrance matrix`, `stripe`, `inverted index`, `postings`, and `basis vocabulary` in the context of both synonym detection and document similarity analysis.\n",
    "* ... __explain__ the reasoning behind using a word stripe to compare word meanings.\n",
    "* ... __identify__ what makes set-similarity calculations computationally challenging.\n",
    "* ... __implement__ stateless algorithms in Spark to build stripes, inverted index and compute similarity metrics.\n",
    "* ... __identify__ when it makes sense to take a stripe approach and when to use pairs\n",
    "* ... __apply__ appropriate metrics to assess the performance of your synonym detection algorithm. \n",
    "\n",
    "__RECOMMENDED READING FOR HW3__:\t\n",
    "Your reading assignment for weeks 4 and 5 were fairly heavy and you may have glossed over the papers on dimension independent similarity metrics by [Zadeh et al](http://stanford.edu/~rezab/papers/disco.pdf) and pairwise document similarity by [Elsayed et al](https://terpconnect.umd.edu/~oard/pdf/acl08elsayed2.pdf). If you haven't already, this would be a good time to review those readings, especially when it comes to the similarity formulas -- they are directly relevant to this assignment.\n",
    "\n",
    "DITP Chapter 4 - Inverted Indexing for Text Retrieval. While this text is specific to Hadoop, the Map/Reduce concepts still apply.\n",
    "\n",
    "__Please refer to the `README` for homework submission instructions and additional resources.__"
   ]
  },
  {
   "cell_type": "markdown",
   "metadata": {
    "application/vnd.databricks.v1+cell": {
     "inputWidgets": {},
     "nuid": "516b0fa3-8a8e-4279-a9a9-d0e2610edca0",
     "showTitle": false,
     "title": ""
    }
   },
   "source": [
    "# Notebook Set-Up\n",
    "Before starting your homework run the following cells to confirm your setup."
   ]
  },
  {
   "cell_type": "code",
   "execution_count": 65,
   "metadata": {
    "application/vnd.databricks.v1+cell": {
     "inputWidgets": {},
     "nuid": "6f5abc60-dcd4-468a-b0f2-250552a36386",
     "showTitle": false,
     "title": ""
    }
   },
   "outputs": [],
   "source": [
    "import re\n",
    "import ast\n",
    "import time\n",
    "import itertools\n",
    "import numpy as np\n",
    "import pandas as pd\n",
    "import matplotlib.pyplot as plt"
   ]
  },
  {
   "cell_type": "code",
   "execution_count": 66,
   "metadata": {
    "application/vnd.databricks.v1+cell": {
     "inputWidgets": {},
     "nuid": "6f5abc60-dcd4-468a-b0f2-250552a36386",
     "showTitle": false,
     "title": ""
    }
   },
   "outputs": [],
   "source": [
    "# store path to notebook\n",
    "PWD = !pwd\n",
    "PWD = PWD[0]"
   ]
  },
  {
   "cell_type": "code",
   "execution_count": 67,
   "metadata": {
    "application/vnd.databricks.v1+cell": {
     "inputWidgets": {},
     "nuid": "6f5abc60-dcd4-468a-b0f2-250552a36386",
     "showTitle": false,
     "title": ""
    }
   },
   "outputs": [],
   "source": [
    "# start Spark Session (RUN THIS CELL AS IS)\n",
    "from pyspark.sql import SparkSession\n",
    "app_name = \"hw3_notebook\"\n",
    "master = \"local[*]\"\n",
    "spark = SparkSession\\\n",
    "        .builder\\\n",
    "        .appName(app_name)\\\n",
    "        .master(master)\\\n",
    "        .getOrCreate()\n",
    "sc = spark.sparkContext"
   ]
  },
  {
   "cell_type": "code",
   "execution_count": 68,
   "metadata": {
    "application/vnd.databricks.v1+cell": {
     "inputWidgets": {},
     "nuid": "6f5abc60-dcd4-468a-b0f2-250552a36386",
     "showTitle": false,
     "title": ""
    }
   },
   "outputs": [
    {
     "data": {
      "text/plain": [
       "[('spark.app.name', 'hw3_notebook'),\n",
       " ('spark.executor.id', 'driver'),\n",
       " ('spark.app.id', 'local-1633128898809'),\n",
       " ('spark.sql.warehouse.dir',\n",
       "  'file:/home/samueljohngomez/docker/student/spark-warehouse'),\n",
       " ('spark.driver.port', '40415'),\n",
       " ('spark.driver.host', 'docker.w261'),\n",
       " ('spark.driver.extraJavaOptions',\n",
       "  '-Dio.netty.tryReflectionSetAccessible=true'),\n",
       " ('spark.rdd.compress', 'True'),\n",
       " ('spark.serializer.objectStreamReset', '100'),\n",
       " ('spark.master', 'local[*]'),\n",
       " ('spark.submit.pyFiles', ''),\n",
       " ('spark.submit.deployMode', 'client'),\n",
       " ('spark.executor.extraJavaOptions',\n",
       "  '-Dio.netty.tryReflectionSetAccessible=true'),\n",
       " ('spark.app.startTime', '1633128897828'),\n",
       " ('spark.ui.showConsoleProgress', 'true')]"
      ]
     },
     "execution_count": 68,
     "metadata": {},
     "output_type": "execute_result"
    }
   ],
   "source": [
    "# Spark configuration Information (RUN THIS CELL AS IS)\n",
    "sc.getConf().getAll()"
   ]
  },
  {
   "cell_type": "code",
   "execution_count": 69,
   "metadata": {
    "application/vnd.databricks.v1+cell": {
     "inputWidgets": {},
     "nuid": "7909b057-ba61-490a-95e7-e60c7cb06c04",
     "showTitle": false,
     "title": ""
    }
   },
   "outputs": [
    {
     "data": {
      "text/html": [
       "\n",
       "            <div>\n",
       "                <p><b>SparkSession - in-memory</b></p>\n",
       "                \n",
       "        <div>\n",
       "            <p><b>SparkContext</b></p>\n",
       "\n",
       "            <p><a href=\"http://docker.w261:4040\">Spark UI</a></p>\n",
       "\n",
       "            <dl>\n",
       "              <dt>Version</dt>\n",
       "                <dd><code>v3.1.2</code></dd>\n",
       "              <dt>Master</dt>\n",
       "                <dd><code>local[*]</code></dd>\n",
       "              <dt>AppName</dt>\n",
       "                <dd><code>hw3_notebook</code></dd>\n",
       "            </dl>\n",
       "        </div>\n",
       "        \n",
       "            </div>\n",
       "        "
      ],
      "text/plain": [
       "<pyspark.sql.session.SparkSession at 0x7fd20f046370>"
      ]
     },
     "execution_count": 69,
     "metadata": {},
     "output_type": "execute_result"
    }
   ],
   "source": [
    "# get Spark Session info (RUN THIS CELL AS IS)\n",
    "spark"
   ]
  },
  {
   "cell_type": "markdown",
   "metadata": {
    "application/vnd.databricks.v1+cell": {
     "inputWidgets": {},
     "nuid": "5cf6e6b5-5993-4e10-9da2-47429244cfda",
     "showTitle": false,
     "title": ""
    }
   },
   "source": [
    "# Question 1: Spark Basics.\n",
    "In your readings and live session demos for weeks 4 and 5 you got a crash course in working with Spark. We also talked about how Spark RDDs fit into the broader picture of distributed algorithm design. The questions below cover key points from these discussions. Answer each one very briefly - 2 to 3 sentences.\n",
    "\n",
    "### Q1 Tasks:\n",
    "\n",
    "* __a) short response:__ What is Spark? How  does it relate to Hadoop MapReduce?\n",
    "\n",
    "* __b) short response:__ In what ways does Spark follow the principles of statelessness (a.k.a. functional programming)? List at least one way in which it allows the programmer to depart from this principle. \n",
    "\n",
    "* __c) short response:__ In the context of Spark what is a 'DAG' and how does it relate to the difference between an 'action' and a 'transformation'? Why is it useful to pay attention to the DAG that underlies your Spark implementation?"
   ]
  },
  {
   "cell_type": "markdown",
   "metadata": {
    "application/vnd.databricks.v1+cell": {
     "inputWidgets": {},
     "nuid": "d8876d5d-05fe-47a5-b61b-a251ee4ebc6a",
     "showTitle": false,
     "title": ""
    }
   },
   "source": [
    "### Q1 Student Answers:\n",
    "> __a)__ Spark is a data processing engine for big data sets.  Similar to Hadoop, Spark distributes large tasks across different nodes.  Other similarities among these two frameworks include the use of functional programming, higher-order functions, and parallel computation fault tolerance.  In contrast to Hadoop, Spark is not constrained to Hadoop's two-stage paradigm.  Moreover, Spark processes data in random access memory (RAM) using a concept known as a resilient distributed dataset, while Hadoop MapReduce persists data back to the disk after a map or reduce action.  Spark's performance is thus much faster than Hadoop's.  Due to Spark's use of RAM, Hadoop runs at a lower cost.  Though both platforms process data in a distributed environment, Hadoop is ideal for batch processing and linear data processing.  Although, Spark has the capability of real-time processing and processing live unstructured data streams.  One advantage Spark has over Hadoop is the availability of custom libraries that perform regression, classification, persistence, pipeline construction, evaluation, and other machine learning computation. As a final note, Hadoop has the upper hand regarding security with its use of multiple authentication and access control methods.  However, Spark can integrate with Hadoop to improve security. \n",
    "\n",
    "> __b)__ Spark follows the principles of statelessness through its use of projection and selection operations.  Operations such as map(), flatMap(), filter(), etc., process each input record individually, self-reliant from previous information.  The independence from prior input data makes these operations stateless. \n",
    "\n",
    "> A DataFrame.groupBy().count() operation is one way Spark departs from statelessness.  This operation allows the programmer to generate a running count of the number of records received since the beginning of a query.  For example, every executed micro-batch adds the count of current records to the previous count of prior micro-batch records.  Spark executors maintain the state in memory, allowing the programmer to specify a location where checkpoint counts can be stored to enable fault tolerance. \n",
    "\n",
    "> __c)__ Spark achieves fast computation speed through several means.  The three most notable are CPU performance and memory, directed acyclic graph (DAG), and the use of whole-stage code generation in its execution engine, Tungsten.  The DAG scheduler and query optimizer construct an efficient computation graph usually decomposed into tasks for execution in parallel across workers on the cluster.  In essence, a DAG is a visual representation of Spark's execution plan, where each node within a DAG can be single or multiple stages with the tasks depicted to complete the job.  Transformations such as select(), filter(), etc., are represented visually in a DAG.  Since Spark transformations are lazily evaluated, an action like collect(), count(), etc., must be invoked to start the execution.  The visual representation of the job offers valuable insight into the execution roadmap for the programmer. "
   ]
  },
  {
   "cell_type": "markdown",
   "metadata": {
    "application/vnd.databricks.v1+cell": {
     "inputWidgets": {},
     "nuid": "c2542400-9725-4996-94c2-313025d682ba",
     "showTitle": false,
     "title": ""
    }
   },
   "source": [
    "# Question 2: Similarity Metrics\n",
    "As mentioned in the introduction to this assignment, an intuitive way to compare the meaning of two documents is to compare the list of words they contain. Given a vocabulary \\\\(V\\\\) (feature set) we would represent each document as a vector of `1`-s and `0`-s based on whether or not it contains each word in \\\\(V\\\\). These \"one-hot encoded\" vector representations allow us to use math to identify similar documents. However like many NLP tasks the high-dimensionality of the feature space is a challenge... especially when we start to scale up the size and number of documents we want to compare.\n",
    "\n",
    "In this question we'll look at a toy example of document similarity analysis. Consider these 3 'documents': \n",
    "```\n",
    "docA\tthe flight of a bumblebee\n",
    "docB\tthe length of a flight\n",
    "docC\tbuzzing bumblebee flight\n",
    "```\n",
    "These documents have a total of \\\\(7\\\\) unique words: \n",
    ">`a, bumblebee, buzzing, flight, length, of, the`.     \n",
    "\n",
    "Given this vocabulary, the documents' vector representations are (note that one-hot encoded entries follow the order of the vocab list above):\n",
    "\n",
    "```\n",
    "docA\t[1,1,0,1,0,1,1]\n",
    "docB\t[1,0,0,1,1,1,1]\n",
    "docC\t[0,1,1,1,0,0,0]\n",
    "```  \n",
    "\n",
    "### Q2 Tasks:\n",
    "\n",
    "* __a) short response:__ The cosine similarity between two vectors is $$\\frac{A\\cdot B}{\\|A\\|\\|B\\|}$$. Explain what the the numerator and denominator of this calculation would represent in terms of word counts in documents A and B. \n",
    "\n",
    "* __b) short response:__ Explain how the Jaccard, Overlap and Dice metrics are similar/different to the calculation for cosine similarity. When would these metrics lead to different similarity rankings for a set of documents? HINT: consider documents of very different lengths. It may be helpful to generate some small examples.\n",
    "\n",
    "* __c) short response:__ Calculate the cosine similarity for each pair of documents in our toy corpus. Please use markdown and \\\\(\\LaTeX\\\\) to show your calcuations.  \n",
    "\n",
    "* __d) short response:__ According to your calculations in `part c` which pair of documents are most similar in meaning? __BONUS__: Does this match your expecatation from reading the documents? If not, speculate about why we might have gotten this result.\n",
    "\n",
    "* __e) short response:__ In NLP common words like '`the`', '`of`', and '`a`' increase our feature space without adding a lot of signal about _semantic meaning_. Repeat your analysis from `part c` but this time ignore these three words in your calculations [__`TIP:`__ _to 'remove' stopwords just ignore the vector entries in columns corresponding to the words you wish to disregard_]. How do your results change?"
   ]
  },
  {
   "cell_type": "markdown",
   "metadata": {
    "application/vnd.databricks.v1+cell": {
     "inputWidgets": {},
     "nuid": "4b5124c4-8817-422f-ba04-ad6d4de5ff9d",
     "showTitle": false,
     "title": ""
    },
    "jp-MarkdownHeadingCollapsed": true,
    "tags": []
   },
   "source": [
    "### Q2 Student Answers:\n",
    "> __a)__ In data science and other subjects, cosine similarity is used as a quantitative measure for the similarity between two things.  Values range from -1 to 1, where -1 is perfectly dissimilar, and 1 is perfectly similar.  In this example, vectors represent the words in a document.  The numerator in the cosine similarity function is the dot product of the number of times each term appears in documents $A$ and $B$ (represented in vector format), also known as the inner product.  The numerator increases by the product of word i in documents $A$ and $B$.  This part of the equation can be understood as a numerical intersection, where more strongly weighted words increase the value.  The denominator is the product of these two vectors' Euclidean lengths, in other words, the magnitude of each document's co-occurrence vector with all other terms (vector norm). Dividing a vector by its norm rescales its components so the length is between 0 and 1\n",
    "\n",
    "> __b)__ Note that all these metrics are similarity statistics.  \n",
    "\n",
    "> The Jaccard index is similar to cosine similarity because only words common in both documents increase the value of the numerator.  The difference between the two is the normalizing component/denominator.  Cosine similarity only normalizes by the product of the sums of each word common to both documents, while Jaccard sums the cardinality of both documents (sums the total number of uniques words in each document).  In short, the cosine similarity's denominator is influenced by common words, while the Jaccard index's denominator is concerned about unique words in each document.\n",
    "\n",
    "> Similar to cosine similarity, the overlap coefficient's numerator increases in value only by words common in both documents.  The difference being the denominator is equal to the smaller number of unique words among documents A or B. \n",
    "\n",
    "> Similar to cosine similarity, the Dice coefficient's numerator increases in value only by words common in both documents.  As a side note, the Dice numerator differs from the Jaccard index and overlap coefficient in that it is multiplied by 2.   The difference between cosine similarity is that the denominator equals the sum of document A and B's cardinality--the same as the Jaccard Index. \n",
    "\n",
    "> When considering the similarity rankings for each statistic, the overlap coefficient yields quite a different ranking than the other statistics if the document's unique word count varies widely from the minimum document size.  In general, cosine similarity is more robust to document size disparity compared to the other statistics; it is affected more by common word frequency.\n",
    "\n",
    "> __c)__ \n",
    "> similarity = $cos(\\theta) = \\frac{|A|\\cdot|B|}{||A|| ||B||} = \\frac{\\sum_{i=1}^{n}A_i B_i}{\\sqrt{\\sum_{i=1}^{n}A_i^2}\\sqrt{\\sum_{i=1}^{n}B_i^2}}$\n",
    "\n",
    "> $\\sum_{i=1}^{n}A_i B_i = 4$, &nbsp; &nbsp; &nbsp; $\\sqrt{\\sum_{i=1}^{n}A_i^2} = \\sqrt{5}$, &nbsp; &nbsp; &nbsp; $\\sqrt{\\sum_{i=1}^{n}B_i^2}, = \\sqrt{5}$ &nbsp; &nbsp; &nbsp; --> &nbsp; &nbsp; &nbsp; $similarity_{AB} = 4/5 = 0.8$  \n",
    "\n",
    "> $\\sum_{i=1}^{n}B_i C_i = 1$, &nbsp; &nbsp; &nbsp; $\\sqrt{\\sum_{i=1}^{n}B_i^2} = \\sqrt{5}$, &nbsp; &nbsp; &nbsp; $\\sqrt{\\sum_{i=1}^{n}C_i^2}, = \\sqrt{3}$ &nbsp; &nbsp; &nbsp; --> &nbsp; &nbsp; &nbsp; $similarity_{BC} = 0.258$  \n",
    "\n",
    "\n",
    "> $\\sum_{i=1}^{n}A_i C_i = 2$, &nbsp; &nbsp; &nbsp; $\\sqrt{\\sum_{i=1}^{n}A_i^2} = \\sqrt{5}$, &nbsp; &nbsp; &nbsp; $\\sqrt{\\sum_{i=1}^{n}C_i^2}, = \\sqrt{3}$ &nbsp; &nbsp; &nbsp; --> &nbsp; &nbsp; &nbsp; $similarity_{AC} = 0.516$\n",
    "\n",
    "\n",
    "> __d & d-bonus)__  According to calculations, A and B are the most similar pair of documents.  This outcome does match my expectation but is contrary to my initial intuition.  Naturally, I thought A and C are more related because of common words bumblebee and flight, which are more relevant to document similarity than words a, of, and the.  However, because A and B have more common words overall, they are more similar in this example.  As the saying goes, the more data, the better--more data needed for this exercise!\n",
    "\n",
    "> __e)__ After removing stop words, documents A and C have the highest similarity ranking.\n",
    "```\n",
    "docA\t[1,0,1,0]\n",
    "docB\t[0,0,1,1]\n",
    "docC\t[1,1,1,0]\n",
    "``` \n",
    "> $similarity_{AB} = 0.5$  \n",
    "> $similarity_{BC} = 0.41$  \n",
    "> $similarity_{AC} = 0.82$  "
   ]
  },
  {
   "cell_type": "markdown",
   "metadata": {
    "application/vnd.databricks.v1+cell": {
     "inputWidgets": {},
     "nuid": "9b5fd240-e9d2-44a2-8fa8-9c6adfa5df05",
     "showTitle": false,
     "title": ""
    }
   },
   "source": [
    "# Question 3: Synonym Detection Strategy\n",
    "\n",
    "In the Synonym Detection task we want to compare the meaning of words, not documents. For clarity, lets call the words whose meaning we want to compare `terms`. If only we had a 'meaning document' for each `term` then we could easily use the document similarity strategy from Question 2 to figure out which `terms` have similar meaning (i.e. are 'synonyms'). Of course in order for that to work we'd have to reasonably believe that the words in these 'meaning documents' really do reflect the meaning of the `term`. For a good analysis we'd also need these 'meaning documents' to be fairly long -- the one or two sentence dictionary definition of a term isn't going to provide enough signal to distinguish between thousands and thousands of `term` meanings.\n",
    "\n",
    "This is where the idea of co-occurrance comes in. Just like DocSim makes the assumption that words in a document tell us about the document's meaning, we're going to assume that the set of words that 'co-occur' within a small window around our term can tell us some thing about the meaning of that `term`. Remember that we're going to make this 'co-words' list (a.k.a. 'stripe') by looking at a large body of text. This stripe is our 'meaning document' in that it reflects all the kinds of situations in which our `term` gets used in real language. So another way to phrase our assumption is: we think `terms` that get used to complete lots of the same phrases probably have related meanings. This may seem like an odd assumption but computational linguists have found that it works surprisingly well in practice. Let's look at a toy example to build your intuition for why and how.\n",
    "\n",
    "Consider the opening line of Charles Dickens' _A Tale of Two Cities_:"
   ]
  },
  {
   "cell_type": "code",
   "execution_count": 8,
   "metadata": {
    "application/vnd.databricks.v1+cell": {
     "inputWidgets": {},
     "nuid": "b7504e66-ef09-472a-909b-bea5b1f5e393",
     "showTitle": false,
     "title": ""
    }
   },
   "outputs": [],
   "source": [
    "# (RUN THIS CELL AS IS)\n",
    "corpus = \"\"\"It was the best of times, it was the worst of times, \n",
    "it was the age of wisdom it was the age of foolishness\"\"\""
   ]
  },
  {
   "cell_type": "markdown",
   "metadata": {
    "application/vnd.databricks.v1+cell": {
     "inputWidgets": {},
     "nuid": "7676fba9-0e45-4f63-876d-89132d7b25c1",
     "showTitle": false,
     "title": ""
    }
   },
   "source": [
    "There are a total of 10 unique words in this short 'corpus':"
   ]
  },
  {
   "cell_type": "code",
   "execution_count": 9,
   "metadata": {
    "application/vnd.databricks.v1+cell": {
     "inputWidgets": {},
     "nuid": "520d6d4c-336a-4df2-b518-a1e48c00bc98",
     "showTitle": false,
     "title": ""
    }
   },
   "outputs": [
    {
     "name": "stdout",
     "output_type": "stream",
     "text": [
      "['age', 'was', 'it', 'best', 'wisdom', 'of', 'the', 'worst', 'foolishness', 'times']\n"
     ]
    }
   ],
   "source": [
    "# (RUN THIS CELL AS IS)\n",
    "words = list(set(re.findall(r'\\w+', corpus.lower())))\n",
    "print(words)"
   ]
  },
  {
   "cell_type": "markdown",
   "metadata": {
    "application/vnd.databricks.v1+cell": {
     "inputWidgets": {},
     "nuid": "b095aa02-95a8-4ac1-9a1c-b7b6c985916a",
     "showTitle": false,
     "title": ""
    }
   },
   "source": [
    "But of these 10 words, 4 are so common that they probably don't tell us very much about meaning."
   ]
  },
  {
   "cell_type": "code",
   "execution_count": 10,
   "metadata": {
    "application/vnd.databricks.v1+cell": {
     "inputWidgets": {},
     "nuid": "fec9f761-d5db-4c48-90cc-85303e7e3335",
     "showTitle": false,
     "title": ""
    }
   },
   "outputs": [],
   "source": [
    "# (RUN THIS CELL AS IS)\n",
    "stopwords = [\"it\", \"the\", \"was\", \"of\"]"
   ]
  },
  {
   "cell_type": "markdown",
   "metadata": {
    "application/vnd.databricks.v1+cell": {
     "inputWidgets": {},
     "nuid": "d5a85035-6a79-476a-807b-cbcbdb71579e",
     "showTitle": false,
     "title": ""
    }
   },
   "source": [
    "So we'll ignore these 'stop words' and we're left with a 6 word vocabulary:"
   ]
  },
  {
   "cell_type": "code",
   "execution_count": 11,
   "metadata": {
    "application/vnd.databricks.v1+cell": {
     "inputWidgets": {},
     "nuid": "117ecf80-a449-4cc5-9fa6-c5f5128a4daa",
     "showTitle": false,
     "title": ""
    }
   },
   "outputs": [
    {
     "name": "stdout",
     "output_type": "stream",
     "text": [
      "['age', 'best', 'foolishness', 'times', 'wisdom', 'worst']\n"
     ]
    }
   ],
   "source": [
    "# (RUN THIS CELL AS IS)\n",
    "vocab = sorted([w for w in words if w not in stopwords])\n",
    "print(vocab)"
   ]
  },
  {
   "cell_type": "markdown",
   "metadata": {
    "application/vnd.databricks.v1+cell": {
     "inputWidgets": {},
     "nuid": "b833d4bf-fe53-4ca1-bf82-733995aed493",
     "showTitle": false,
     "title": ""
    }
   },
   "source": [
    "Your goal in the tasks below is to asses, which of these six words are most related to each other in meaning -- based solely on this short two line body of text.\n",
    "\n",
    "### Q3 Tasks:\n",
    "\n",
    "* __a) short response:__ Given this six word vocabulary, how many 'pairs' of words do we want to compare? More generally for a n-word vocabulary how many pairwise comparisons are there to make? \n",
    "\n",
    "* __b) code:__ In the space provided below, create a 'stripe' for each `term` in the vocabulary. This stripe should be the list of all other vocabulary words that occur within a __5 word window__ (two words on either side) of the `term`'s position in the original text (In this exercise, use ['it', 'was', 'the','of'] as stopwords, just ignore them from your 5 word vectors).\n",
    "\n",
    "* __c) short response:__ Run the provided code to turn your stripes into a 1-hot encoded co-occurrence matrix. For our 6 word vocabulary how many entries are in this matrix? How many entries are zeros? \n",
    "\n",
    "* __d) code:__ Complete the provided code to loop over all pairs and compute their cosine similarity. Please do not modify the existing code, just add your own in the spot marked.\n",
    "\n",
    "* __e) short response:__ Which pairs of words have the highest 'similarity' scores? __BONUS__: Are these words 'synonyms' in the traditional sense? In what sense are their meanings 'similar'? Explain how our results are contingent on the input text. What would change if we had a much larger corpus?"
   ]
  },
  {
   "cell_type": "markdown",
   "metadata": {
    "application/vnd.databricks.v1+cell": {
     "inputWidgets": {},
     "nuid": "06d178ec-c8bf-42aa-8d67-a09ba61187f4",
     "showTitle": false,
     "title": ""
    }
   },
   "source": [
    "### Q3 Student Answers:\n",
    "> __a)__ The general formula for calculating pairwise comparison for a n-word vocabulary is: &nbsp; $\\frac{n * (n-1)}{2}$  \n",
    "> In this example, the number of pairwise comparisons is:  \n",
    "> $\\frac{(6)(5)}{2} = \\frac{30}{2} =15$\n",
    "\n",
    "> __c)__ For the six-word vocabulary, there are 36 entries in the matrix; there are 28 zero entries.  \n",
    "\n",
    "> __e)__ The pairs with the highest similarity scores are:  \n",
    "best-worst = 1  \n",
    "foolishness-wisdom = 1  \n",
    "\n",
    "> __e-bonus)__ The words in the pairs above are not synonyms in the traditional sense.  They are similar in this context because they appear around a common word--precisely two words before or after a common term.  If the corpus were larger, these words would most likely have a lower cosine similarity value."
   ]
  },
  {
   "cell_type": "code",
   "execution_count": 12,
   "metadata": {
    "application/vnd.databricks.v1+cell": {
     "inputWidgets": {},
     "nuid": "429c15b1-d1bd-4b04-a6e7-175e336a1907",
     "showTitle": false,
     "title": ""
    }
   },
   "outputs": [
    {
     "name": "stdout",
     "output_type": "stream",
     "text": [
      "CORPUS:\n",
      "It was the best of times, it was the worst of times, \n",
      "it was the age of wisdom it was the age of foolishness\n",
      "VOCAB:\n",
      "['age', 'best', 'foolishness', 'times', 'wisdom', 'worst']\n"
     ]
    }
   ],
   "source": [
    "# for convenience, here are the corpus & vocab list again (RUN THIS CELL AS IS)\n",
    "print(\"CORPUS:\")\n",
    "print(corpus)\n",
    "print('VOCAB:')\n",
    "print(vocab)"
   ]
  },
  {
   "cell_type": "markdown",
   "metadata": {
    "application/vnd.databricks.v1+cell": {
     "inputWidgets": {},
     "nuid": "482cae9e-bee6-48ab-97e4-175f993e0834",
     "showTitle": false,
     "title": ""
    }
   },
   "source": [
    "<img src='https://github.com/kyleiwaniec/w261_assets/blob/master/images/best-of-times.png?raw=true' style='width:80%'>"
   ]
  },
  {
   "cell_type": "code",
   "execution_count": 15,
   "metadata": {
    "application/vnd.databricks.v1+cell": {
     "inputWidgets": {},
     "nuid": "72c12700-cffd-4ef4-b408-f5809acc6671",
     "showTitle": false,
     "title": ""
    }
   },
   "outputs": [],
   "source": [
    "# part b - USE THE TEXT ABOVE TO COMPLETE EACH STRIPE\n",
    "# Stopwords: \n",
    "#     ['it', 'was', 'the', 'of'] \n",
    "# Hint:\n",
    "#     In provided sentence, age appears in two 5 word vectors: ['was', 'the', 'age', 'of', 'wisdom'] and ['was', 'the', 'age', 'of', 'foolishness']\n",
    "#     After removing stopwords, the remaining words are 'wisdom' and 'foolishness'\n",
    "#\n",
    "#     You finish the rest of the non-stopwords below. \n",
    "\n",
    "stripes = {'age':['wisdom','foolishness'], # example\n",
    "           'best':['times'], # YOU FILL IN THE REST\n",
    "           'foolishness':['age'],\n",
    "           'times': ['best', 'worst'],\n",
    "           'wisdom':['age'],\n",
    "           'worst':['times']}"
   ]
  },
  {
   "cell_type": "code",
   "execution_count": 16,
   "metadata": {
    "application/vnd.databricks.v1+cell": {
     "inputWidgets": {},
     "nuid": "38f4b1a4-3e91-4976-89d3-07b4942215bd",
     "showTitle": false,
     "title": ""
    }
   },
   "outputs": [],
   "source": [
    "# part c - initializing an empty co-occurrence matrix (RUN THIS CELL AS IS)\n",
    "co_matrix = pd.DataFrame({term: [0]*len(vocab) for term in vocab}, index = vocab, dtype=int)"
   ]
  },
  {
   "cell_type": "code",
   "execution_count": 17,
   "metadata": {
    "application/vnd.databricks.v1+cell": {
     "inputWidgets": {},
     "nuid": "bac747a0-a1e3-4795-aa2c-c010b10ab979",
     "showTitle": false,
     "title": ""
    }
   },
   "outputs": [
    {
     "data": {
      "text/html": [
       "<div>\n",
       "<style scoped>\n",
       "    .dataframe tbody tr th:only-of-type {\n",
       "        vertical-align: middle;\n",
       "    }\n",
       "\n",
       "    .dataframe tbody tr th {\n",
       "        vertical-align: top;\n",
       "    }\n",
       "\n",
       "    .dataframe thead th {\n",
       "        text-align: right;\n",
       "    }\n",
       "</style>\n",
       "<table border=\"1\" class=\"dataframe\">\n",
       "  <thead>\n",
       "    <tr style=\"text-align: right;\">\n",
       "      <th></th>\n",
       "      <th>age</th>\n",
       "      <th>best</th>\n",
       "      <th>foolishness</th>\n",
       "      <th>times</th>\n",
       "      <th>wisdom</th>\n",
       "      <th>worst</th>\n",
       "    </tr>\n",
       "  </thead>\n",
       "  <tbody>\n",
       "    <tr>\n",
       "      <th>age</th>\n",
       "      <td>0</td>\n",
       "      <td>0</td>\n",
       "      <td>1</td>\n",
       "      <td>0</td>\n",
       "      <td>1</td>\n",
       "      <td>0</td>\n",
       "    </tr>\n",
       "    <tr>\n",
       "      <th>best</th>\n",
       "      <td>0</td>\n",
       "      <td>0</td>\n",
       "      <td>0</td>\n",
       "      <td>1</td>\n",
       "      <td>0</td>\n",
       "      <td>0</td>\n",
       "    </tr>\n",
       "    <tr>\n",
       "      <th>foolishness</th>\n",
       "      <td>1</td>\n",
       "      <td>0</td>\n",
       "      <td>0</td>\n",
       "      <td>0</td>\n",
       "      <td>0</td>\n",
       "      <td>0</td>\n",
       "    </tr>\n",
       "    <tr>\n",
       "      <th>times</th>\n",
       "      <td>0</td>\n",
       "      <td>1</td>\n",
       "      <td>0</td>\n",
       "      <td>0</td>\n",
       "      <td>0</td>\n",
       "      <td>1</td>\n",
       "    </tr>\n",
       "    <tr>\n",
       "      <th>wisdom</th>\n",
       "      <td>1</td>\n",
       "      <td>0</td>\n",
       "      <td>0</td>\n",
       "      <td>0</td>\n",
       "      <td>0</td>\n",
       "      <td>0</td>\n",
       "    </tr>\n",
       "    <tr>\n",
       "      <th>worst</th>\n",
       "      <td>0</td>\n",
       "      <td>0</td>\n",
       "      <td>0</td>\n",
       "      <td>1</td>\n",
       "      <td>0</td>\n",
       "      <td>0</td>\n",
       "    </tr>\n",
       "  </tbody>\n",
       "</table>\n",
       "</div>"
      ],
      "text/plain": [
       "             age  best  foolishness  times  wisdom  worst\n",
       "age            0     0            1      0       1      0\n",
       "best           0     0            0      1       0      0\n",
       "foolishness    1     0            0      0       0      0\n",
       "times          0     1            0      0       0      1\n",
       "wisdom         1     0            0      0       0      0\n",
       "worst          0     0            0      1       0      0"
      ]
     },
     "execution_count": 17,
     "metadata": {},
     "output_type": "execute_result"
    }
   ],
   "source": [
    "# part c - this cell 1-hot encodes the co-occurrence matrix (RUN THIS CELL AS IS) \n",
    "for term, nbrs in stripes.items():\n",
    "    pass\n",
    "    for nbr in nbrs:\n",
    "        co_matrix.loc[term, nbr] = 1\n",
    "co_matrix"
   ]
  },
  {
   "cell_type": "code",
   "execution_count": 19,
   "metadata": {
    "application/vnd.databricks.v1+cell": {
     "inputWidgets": {},
     "nuid": "9b6cf0e3-9003-4d88-aa65-68d0a7b693e5",
     "showTitle": false,
     "title": ""
    }
   },
   "outputs": [
    {
     "name": "stdout",
     "output_type": "stream",
     "text": [
      "age-best: 0.0\n",
      "age-foolishness: 0.0\n",
      "age-times: 0.0\n",
      "age-wisdom: 0.0\n",
      "age-worst: 0.0\n",
      "best-foolishness: 0.0\n",
      "best-times: 0.0\n",
      "best-wisdom: 0.0\n",
      "best-worst: 1.0\n",
      "foolishness-times: 0.0\n",
      "foolishness-wisdom: 1.0\n",
      "foolishness-worst: 0.0\n",
      "times-wisdom: 0.0\n",
      "times-worst: 0.0\n",
      "wisdom-worst: 0.0\n"
     ]
    }
   ],
   "source": [
    "# part e - FILL IN THE MISSING LINES to compute the cosine similarity between each pair of terms\n",
    "for term1, term2 in itertools.combinations(vocab, 2):\n",
    "    # one hot-encoded vectors\n",
    "    v1 = co_matrix[term1]\n",
    "    v2 = co_matrix[term2]\n",
    "    \n",
    "    # cosine similarity\n",
    "    ############# YOUR CODE HERE #################\n",
    "    dot, normV1, normV2 = np.dot(v1, v2), np.linalg.norm(v1), np.linalg.norm(v2)\n",
    "    csim = dot / (normV1 * normV2)\n",
    "    ############# (END) YOUR CODE #################    \n",
    "    \n",
    "    print(f\"{term1}-{term2}: {csim}\")"
   ]
  },
  {
   "cell_type": "markdown",
   "metadata": {
    "application/vnd.databricks.v1+cell": {
     "inputWidgets": {},
     "nuid": "3e757c6f-10ef-487c-bd29-4f0bd0c93aa7",
     "showTitle": false,
     "title": ""
    },
    "tags": []
   },
   "source": [
    "# Question 4: Pairs and Stripes at Scale\n",
    "\n",
    "As you read in the paper by Zadeh et al, the advantage of metrics like Cosine, Dice, Overlap and Jaccard is that they are dimension independent -- that is to say, if we implement them in a smart way the computational complexity of performing these computations is independent of the number of documents we want to compare (or in our case, the number of terms that are potential synonyms). One component of a 'smart implementation' involves thinking carefully both about how you define the \"basis vocabulary\" that forms your feature set (removing stopwords, etc). Another key idea is to use a data structure that facilitates distributed calculations. The DISCO implemetation further uses a sampling strategy, but that is beyond the scope of this assignment. \n",
    "\n",
    "In this question we'll take a closer look at the computational complexity of the synonym detection approach we took in question 3 and then revist the document similarity example as a way to explore a more efficient approach to parallelizing this analysis.\n",
    "\n",
    "### Q4 Tasks:\n",
    "\n",
    "* __a) short response:__ In question 3 you calculated the cosine similarity of pairs of words using the vector representation of their co-occurrences in a corpus. In the asynch videos about \"Pairs and Stripes\" you were introduced to an alternative strategy. Explain two ways that using these data structures are more efficient than 1-hot encoded vectors when it comes to distributed similarity calculations [__`HINT:`__ _Consider memory constraints, amount of information being shuffled, amount of information being transfered over the network, and level of parallelization._]\n",
    "\n",
    "* __b) read provided code:__ The code below provides a streamined implementation of Document similarity analysis in Spark. Read through this code carefully. Once you are confident you understand how it works, answer the remaining questions. [__`TIP:`__ _to see the output of each transformation try commenting out the subsequent lines and adding an early `collect()` action_.]\n",
    "\n",
    "* __c) short response:__ The second mapper function, `splitWords`, emits 'postings'. The list of all 'postings' for a word is also refered to as an 'inverted index'. In your own words, define each of these terms ('postings' and 'inverted index') based on your reading of the provided code. (*DITP by Lin and Dyer also contains a chapter on the Inverted Index although in the context of Hadoop rather than Spark. You may find the illustration in Chaprter 4 helpful in answering this question*).\n",
    "\n",
    "* __d) short response:__ The third mapper, `makeCompositeKeys`, loops over the inverted index to emit 'pairs' of what? Explain what information is included in the composite key created at this stage and why it makes sense to synchronize around that information in the context of performing document similarity calculations. In addition to the information included in these new keys, what other piece of information will we need to compute Jaccard or Cosine similarity?\n",
    "\n",
    "* __e) short response:__ Out of all the Spark transformations we make in this analysis, which are 'wide' transformations and which are 'narrow' transformations. Explain."
   ]
  },
  {
   "cell_type": "markdown",
   "metadata": {
    "application/vnd.databricks.v1+cell": {
     "inputWidgets": {},
     "nuid": "244c0e4a-7043-4bc1-a64f-231db9211ea1",
     "showTitle": false,
     "title": ""
    }
   },
   "source": [
    "### Q4 Student Answers:\n",
    "\n",
    "> __a)__ The pairs and stripes data structures allow similarity calculations to be handled in parallel across a cluster, unlike the vector form computed in Question 3.  Parallel computation is particularly important for speed and memory--two advantages of the pairs and stripes data structures.  One-hot encoding may be too overwhelming for one machine's memory.  At some point, memory is limited when using a pandas dataframe for one-hot encoding vector computation.  With pairs and stripes, more resources can be added to the cluster to handle large datasets.  Another benefit is the available computation power in parallel, which can speed up the processing time. \n",
    "\n",
    "> __b)__ _read provided code before answering d-f_ \n",
    "\n",
    "> __c)__ A posting consists of a document ID and a payload.  In this example, a posting is comprised of a term's document ID and the number of words in the document in which it resides.  Each unique term has its postings arranged into a posting list (a list of tuples) by invoking the reduceByKey() transformation and lambda function.  The result is an inverted index, which provides quick access to document IDs containing a specific term.\n",
    "\n",
    "> __d)__ The third map loops over the data to emit pairs of documents containing the same term.  The composite key is a pair of postings belonging to the same term.  In this example, the posting includes the docID and the total number of words in each document.  It makes sense to synchronize around this information to as a precursor to calculating the Jaccard coefficient or another similarity statistic.   Aside from the pairs of posting data, the total number of similar words among the document pair is needed to compute a similarity statistic--which the key-value pair includes.\n",
    "\n",
    "> __e)__ The transformations applied in this analysis are map(), flatMap(), and reduceByKey().  Categorizing these transformation as either wide or narrow yields the following:   \n",
    "> wide - reduceByKey()  \n",
    "> narrow - map(), flatMap()  \n",
    "> If each partition of the parent RDD is used by at most one partition of the child RDD, the transformation is narrow.  In contrast, a wide transformation uses multiple parent RDD partitions to generate a child RDD partition."
   ]
  },
  {
   "cell_type": "markdown",
   "metadata": {
    "application/vnd.databricks.v1+cell": {
     "inputWidgets": {},
     "nuid": "02bbeeeb-2c83-40ad-b648-79b76f2603cb",
     "showTitle": false,
     "title": ""
    }
   },
   "source": [
    "A small test file: __`sample_docs.txt`__"
   ]
  },
  {
   "cell_type": "code",
   "execution_count": 70,
   "metadata": {
    "application/vnd.databricks.v1+cell": {
     "inputWidgets": {},
     "nuid": "c4aa7016-5fff-4b11-b615-4cff0007f244",
     "showTitle": false,
     "title": ""
    }
   },
   "outputs": [
    {
     "name": "stdout",
     "output_type": "stream",
     "text": [
      "Overwriting sample_docs.txt\n"
     ]
    }
   ],
   "source": [
    "%%writefile sample_docs.txt\n",
    "docA\tbright blue butterfly forget\n",
    "docB\tbest forget bright sky\n",
    "docC\tblue sky bright sun\n",
    "docD\tunder butterfly sky hangs\n",
    "docE\tforget blue butterfly"
   ]
  },
  {
   "cell_type": "code",
   "execution_count": 71,
   "metadata": {
    "application/vnd.databricks.v1+cell": {
     "inputWidgets": {},
     "nuid": "c738aa14-92f0-4727-bd60-0c0f5326ad37",
     "showTitle": false,
     "title": ""
    }
   },
   "outputs": [
    {
     "name": "stdout",
     "output_type": "stream",
     "text": [
      "docA\tbright blue butterfly forget\n",
      "docB\tbest forget bright sky\n",
      "docC\tblue sky bright sun\n",
      "docD\tunder butterfly sky hangs\n",
      "docE\tforget blue butterfly\n"
     ]
    }
   ],
   "source": [
    "# load data - RUN THIS CELL AS IS\n",
    "!cat sample_docs.txt"
   ]
  },
  {
   "cell_type": "markdown",
   "metadata": {
    "application/vnd.databricks.v1+cell": {
     "inputWidgets": {},
     "nuid": "36e04f30-d4ee-484f-a6f4-5568a1698a49",
     "showTitle": false,
     "title": ""
    }
   },
   "source": [
    "__Document Similarity Analysis in Spark:__"
   ]
  },
  {
   "cell_type": "code",
   "execution_count": 72,
   "metadata": {
    "application/vnd.databricks.v1+cell": {
     "inputWidgets": {},
     "nuid": "da504044-0c75-4763-adad-2d8e2817265b",
     "showTitle": false,
     "title": ""
    }
   },
   "outputs": [],
   "source": [
    "# load data - RUN THIS CELL AS IS\n",
    "data = sc.textFile(\"sample_docs.txt\")  "
   ]
  },
  {
   "cell_type": "code",
   "execution_count": 83,
   "metadata": {
    "application/vnd.databricks.v1+cell": {
     "inputWidgets": {},
     "nuid": "13bca2b5-8996-4018-b59b-3db3599f14fd",
     "showTitle": false,
     "title": ""
    }
   },
   "outputs": [],
   "source": [
    "# helper function - RUN THIS CELL AS IS\n",
    "def splitWords(pair):\n",
    "    \"\"\"Mapper 2: tokenize each document and emit postings.\"\"\"\n",
    "    doc, text = pair\n",
    "    words = text.split(\" \")\n",
    "    for w in words:\n",
    "        yield (w, [(doc,len(words))])"
   ]
  },
  {
   "cell_type": "code",
   "execution_count": 74,
   "metadata": {
    "application/vnd.databricks.v1+cell": {
     "inputWidgets": {},
     "nuid": "68200122-deb9-434b-84b1-a1a130566b68",
     "showTitle": false,
     "title": ""
    }
   },
   "outputs": [],
   "source": [
    "# helper function - RUN THIS CELL AS IS\n",
    "def makeCompositeKey(inverted_index):\n",
    "    \"\"\"Mapper 3: loop over postings and yield pairs.\"\"\"\n",
    "    word, postings = inverted_index\n",
    "    # taking advantage of symmetry, output only (a,b), but not (b,a)\n",
    "    for subset in itertools.combinations(sorted(postings), 2):\n",
    "        yield (str(subset), 1)"
   ]
  },
  {
   "cell_type": "code",
   "execution_count": 75,
   "metadata": {
    "application/vnd.databricks.v1+cell": {
     "inputWidgets": {},
     "nuid": "34b72a6c-cab1-46ea-b50b-00ce7fa49cc4",
     "showTitle": false,
     "title": ""
    }
   },
   "outputs": [],
   "source": [
    "# helper function - RUN THIS CELL AS IS\n",
    "def jaccard(line):\n",
    "    \"\"\"Mapper 4: compute similarity scores\"\"\"\n",
    "    (doc1, n1), (doc2, n2) = ast.literal_eval(line[0])\n",
    "    total = int(line[1])\n",
    "    jaccard = total / float(int(n1) + int(n2) - total)\n",
    "    yield doc1+\" - \"+doc2, jaccard"
   ]
  },
  {
   "cell_type": "code",
   "execution_count": 53,
   "metadata": {
    "application/vnd.databricks.v1+cell": {
     "inputWidgets": {},
     "nuid": "1a706f1c-bbb2-4f45-af1c-9ebee2fbea0c",
     "showTitle": false,
     "title": ""
    }
   },
   "outputs": [
    {
     "data": {
      "text/plain": [
       "[('bright', [('docA', 4)]),\n",
       " ('blue', [('docA', 4)]),\n",
       " ('butterfly', [('docA', 4)]),\n",
       " ('forget', [('docA', 4)]),\n",
       " ('best', [('docB', 4)]),\n",
       " ('forget', [('docB', 4)]),\n",
       " ('bright', [('docB', 4)]),\n",
       " ('sky', [('docB', 4)]),\n",
       " ('blue', [('docC', 4)]),\n",
       " ('sky', [('docC', 4)]),\n",
       " ('bright', [('docC', 4)]),\n",
       " ('sun', [('docC', 4)]),\n",
       " ('under', [('docD', 4)]),\n",
       " ('butterfly', [('docD', 4)]),\n",
       " ('sky', [('docD', 4)]),\n",
       " ('hangs', [('docD', 4)]),\n",
       " ('forget', [('docE', 3)]),\n",
       " ('blue', [('docE', 3)]),\n",
       " ('butterfly', [('docE', 3)])]"
      ]
     },
     "execution_count": 53,
     "metadata": {},
     "output_type": "execute_result"
    }
   ],
   "source": [
    "# Spark Job - RUN THIS CELL AS IS\n",
    "result = data.map(lambda line: line.split('\\t')) \\\n",
    "             .flatMap(splitWords).collect() \\\n",
    "#              .reduceByKey(lambda x,y : x+y) \\\n",
    "#              .flatMap(makeCompositeKey) \\\n",
    "#              .reduceByKey(lambda x,y : x+y) \\\n",
    "#              .flatMap(jaccard) \\\n",
    "#              .takeOrdered(10, key=lambda x: -x[1])\n",
    "result"
   ]
  },
  {
   "cell_type": "code",
   "execution_count": 34,
   "metadata": {
    "application/vnd.databricks.v1+cell": {
     "inputWidgets": {},
     "nuid": "1a706f1c-bbb2-4f45-af1c-9ebee2fbea0c",
     "showTitle": false,
     "title": ""
    }
   },
   "outputs": [
    {
     "data": {
      "text/plain": [
       "[('bright', [('docA', 4), ('docB', 4), ('docC', 4)]),\n",
       " ('butterfly', [('docA', 4), ('docD', 4), ('docE', 3)]),\n",
       " ('best', [('docB', 4)]),\n",
       " ('sky', [('docB', 4), ('docC', 4), ('docD', 4)]),\n",
       " ('sun', [('docC', 4)]),\n",
       " ('blue', [('docA', 4), ('docC', 4), ('docE', 3)]),\n",
       " ('forget', [('docA', 4), ('docB', 4), ('docE', 3)]),\n",
       " ('under', [('docD', 4)]),\n",
       " ('hangs', [('docD', 4)])]"
      ]
     },
     "execution_count": 34,
     "metadata": {},
     "output_type": "execute_result"
    }
   ],
   "source": [
    "# Spark Job - RUN THIS CELL AS IS\n",
    "result = data.map(lambda line: line.split('\\t')) \\\n",
    "             .flatMap(splitWords) \\\n",
    "             .reduceByKey(lambda x,y : x+y).collect() \\\n",
    "#              .flatMap(makeCompositeKey) \\\n",
    "#              .reduceByKey(lambda x,y : x+y) \\\n",
    "#              .flatMap(jaccard) \\\n",
    "#              .takeOrdered(10, key=lambda x: -x[1])\n",
    "result"
   ]
  },
  {
   "cell_type": "code",
   "execution_count": 35,
   "metadata": {
    "application/vnd.databricks.v1+cell": {
     "inputWidgets": {},
     "nuid": "1a706f1c-bbb2-4f45-af1c-9ebee2fbea0c",
     "showTitle": false,
     "title": ""
    }
   },
   "outputs": [
    {
     "data": {
      "text/plain": [
       "[(\"(('docA', 4), ('docB', 4))\", 1),\n",
       " (\"(('docA', 4), ('docC', 4))\", 1),\n",
       " (\"(('docB', 4), ('docC', 4))\", 1),\n",
       " (\"(('docA', 4), ('docD', 4))\", 1),\n",
       " (\"(('docA', 4), ('docE', 3))\", 1),\n",
       " (\"(('docD', 4), ('docE', 3))\", 1),\n",
       " (\"(('docB', 4), ('docC', 4))\", 1),\n",
       " (\"(('docB', 4), ('docD', 4))\", 1),\n",
       " (\"(('docC', 4), ('docD', 4))\", 1),\n",
       " (\"(('docA', 4), ('docC', 4))\", 1),\n",
       " (\"(('docA', 4), ('docE', 3))\", 1),\n",
       " (\"(('docC', 4), ('docE', 3))\", 1),\n",
       " (\"(('docA', 4), ('docB', 4))\", 1),\n",
       " (\"(('docA', 4), ('docE', 3))\", 1),\n",
       " (\"(('docB', 4), ('docE', 3))\", 1)]"
      ]
     },
     "execution_count": 35,
     "metadata": {},
     "output_type": "execute_result"
    }
   ],
   "source": [
    "# Spark Job - RUN THIS CELL AS IS\n",
    "result = data.map(lambda line: line.split('\\t')) \\\n",
    "             .flatMap(splitWords) \\\n",
    "             .reduceByKey(lambda x,y : x+y) \\\n",
    "             .flatMap(makeCompositeKey).collect() \\\n",
    "#              .reduceByKey(lambda x,y : x+y) \\\n",
    "#              .flatMap(jaccard) \\\n",
    "#              .takeOrdered(10, key=lambda x: -x[1])\n",
    "result"
   ]
  },
  {
   "cell_type": "code",
   "execution_count": 36,
   "metadata": {
    "application/vnd.databricks.v1+cell": {
     "inputWidgets": {},
     "nuid": "1a706f1c-bbb2-4f45-af1c-9ebee2fbea0c",
     "showTitle": false,
     "title": ""
    }
   },
   "outputs": [
    {
     "data": {
      "text/plain": [
       "[(\"(('docA', 4), ('docB', 4))\", 2),\n",
       " (\"(('docA', 4), ('docC', 4))\", 2),\n",
       " (\"(('docB', 4), ('docC', 4))\", 2),\n",
       " (\"(('docD', 4), ('docE', 3))\", 1),\n",
       " (\"(('docC', 4), ('docD', 4))\", 1),\n",
       " (\"(('docA', 4), ('docD', 4))\", 1),\n",
       " (\"(('docA', 4), ('docE', 3))\", 3),\n",
       " (\"(('docB', 4), ('docD', 4))\", 1),\n",
       " (\"(('docC', 4), ('docE', 3))\", 1),\n",
       " (\"(('docB', 4), ('docE', 3))\", 1)]"
      ]
     },
     "execution_count": 36,
     "metadata": {},
     "output_type": "execute_result"
    }
   ],
   "source": [
    "# Spark Job - RUN THIS CELL AS IS\n",
    "result = data.map(lambda line: line.split('\\t')) \\\n",
    "             .flatMap(splitWords) \\\n",
    "             .reduceByKey(lambda x,y : x+y) \\\n",
    "             .flatMap(makeCompositeKey) \\\n",
    "             .reduceByKey(lambda x,y : x+y).collect() \\\n",
    "#              .flatMap(jaccard) \\\n",
    "#              .takeOrdered(10, key=lambda x: -x[1])\n",
    "result"
   ]
  },
  {
   "cell_type": "code",
   "execution_count": 54,
   "metadata": {
    "application/vnd.databricks.v1+cell": {
     "inputWidgets": {},
     "nuid": "1a706f1c-bbb2-4f45-af1c-9ebee2fbea0c",
     "showTitle": false,
     "title": ""
    }
   },
   "outputs": [
    {
     "data": {
      "text/plain": [
       "[('docA - docB', 0.3333333333333333),\n",
       " ('docA - docC', 0.3333333333333333),\n",
       " ('docB - docC', 0.3333333333333333),\n",
       " ('docD - docE', 0.16666666666666666),\n",
       " ('docC - docD', 0.14285714285714285),\n",
       " ('docA - docD', 0.14285714285714285),\n",
       " ('docA - docE', 0.75),\n",
       " ('docB - docD', 0.14285714285714285),\n",
       " ('docC - docE', 0.16666666666666666),\n",
       " ('docB - docE', 0.16666666666666666)]"
      ]
     },
     "execution_count": 54,
     "metadata": {},
     "output_type": "execute_result"
    }
   ],
   "source": [
    "# Spark Job - RUN THIS CELL AS IS\n",
    "result = data.map(lambda line: line.split('\\t')) \\\n",
    "             .flatMap(splitWords) \\\n",
    "             .reduceByKey(lambda x,y : x+y) \\\n",
    "             .flatMap(makeCompositeKey) \\\n",
    "             .reduceByKey(lambda x,y : x+y) \\\n",
    "             .flatMap(jaccard).collect() \\\n",
    "#              .takeOrdered(10, key=lambda x: -x[1])\n",
    "result"
   ]
  },
  {
   "cell_type": "code",
   "execution_count": 76,
   "metadata": {
    "application/vnd.databricks.v1+cell": {
     "inputWidgets": {},
     "nuid": "1a706f1c-bbb2-4f45-af1c-9ebee2fbea0c",
     "showTitle": false,
     "title": ""
    }
   },
   "outputs": [
    {
     "data": {
      "text/plain": [
       "[('docA - docE', 0.75),\n",
       " ('docA - docB', 0.3333333333333333),\n",
       " ('docA - docC', 0.3333333333333333),\n",
       " ('docB - docC', 0.3333333333333333),\n",
       " ('docD - docE', 0.16666666666666666),\n",
       " ('docC - docE', 0.16666666666666666),\n",
       " ('docB - docE', 0.16666666666666666),\n",
       " ('docC - docD', 0.14285714285714285),\n",
       " ('docA - docD', 0.14285714285714285),\n",
       " ('docB - docD', 0.14285714285714285)]"
      ]
     },
     "execution_count": 76,
     "metadata": {},
     "output_type": "execute_result"
    }
   ],
   "source": [
    "# Spark Job - RUN THIS CELL AS IS\n",
    "result = data.map(lambda line: line.split('\\t')) \\\n",
    "             .flatMap(splitWords) \\\n",
    "             .reduceByKey(lambda x,y : x+y) \\\n",
    "             .flatMap(makeCompositeKey) \\\n",
    "             .reduceByKey(lambda x,y : x+y) \\\n",
    "             .flatMap(jaccard) \\\n",
    "             .takeOrdered(10, key=lambda x: -x[1])\n",
    "result"
   ]
  },
  {
   "cell_type": "markdown",
   "metadata": {
    "application/vnd.databricks.v1+cell": {
     "inputWidgets": {},
     "nuid": "6a9f78ca-93fe-46ba-8d26-fa7a8adc6710",
     "showTitle": false,
     "title": ""
    }
   },
   "source": [
    "# About the Data\n",
    "Now that you are comfortable with similarity metrics we turn to the main task in this assignment: \"Synonym\" Detection. As you saw in Question 3 the ability of our algorithm to detect words with similar meanings is highly dependent on our input text. Specifically, we need a large enough corpus of natural language that we can expose our algorithm to a realistic range of contexts in which any given word might get used. Ideally, these 'contexts' would also provide enough signal to distinguish between words with similar semantic roles but different meaning. Finding such a corpus will be easier to accomplish for some words than others.\n",
    "\n",
    "For the main task in this portion of the homework you will use data from Google's n-gram corpus. This data is particularly convenient for our task because Google has already done the first step for us: they windowed over a large subset of the web and extracted all 5-grams. If you are interested in learning more about this dataset the original source is: http://books.google.com/ngrams/, and a large subset is available [here from AWS](https://aws.amazon.com/datasets/google-books-ngrams/). \n",
    "\n",
    "For this assignment we have provided a subset of the 5-grams data consisting of 191 files of approximately 10MB each. These files are available in the 'data' folder in 'Assignments/HW3/' github.  Please only use the provided data so that we can ensure consistent results from student to student.\n",
    "\n",
    "Each row in our dataset represents one of these 5 grams in the format:\n",
    "> `(ngram) \\t (count) \\t (pages_count) \\t (books_count)`\n",
    "\n",
    "__DISCLAIMER__: In real life, we would calculate the stripes cooccurrence data from the raw text by windowing over the raw text and not from the 5-gram preprocessed data.  Calculating pairs on this 5-gram is a little corrupt as we will be double counting cooccurences. Having said that this exercise can still pull out some similar terms."
   ]
  },
  {
   "cell_type": "code",
   "execution_count": 77,
   "metadata": {
    "application/vnd.databricks.v1+cell": {
     "inputWidgets": {},
     "nuid": "67ee798a-99fd-4ada-b8b1-4bfa6d032335",
     "showTitle": false,
     "title": ""
    }
   },
   "outputs": [],
   "source": [
    "# set global paths to full data folder and to the first file (which we'll use for testing)\n",
    "NGRAMS = '../../data'\n",
    "F1_PATH = '../../data/googlebooks-eng-all-5gram-20090715-0-filtered.txt'"
   ]
  },
  {
   "cell_type": "markdown",
   "metadata": {
    "application/vnd.databricks.v1+cell": {
     "inputWidgets": {},
     "nuid": "d36301d1-c5fd-46c7-91a5-4745bb175741",
     "showTitle": false,
     "title": ""
    }
   },
   "source": [
    "As you develop your code you should use the following file to systems test each of your solutions before running it on the Google data. (Note: these are the 5-grams extracted from our two line Dickens corpus in Question 3... you should find that your Spark job results match the calculations we did \"by hand\").\n",
    "\n",
    "Test file: __`systems_test.txt`__"
   ]
  },
  {
   "cell_type": "code",
   "execution_count": 78,
   "metadata": {
    "application/vnd.databricks.v1+cell": {
     "inputWidgets": {},
     "nuid": "ed5ebc27-0381-4fe6-901b-fe4fc4f5a10d",
     "showTitle": false,
     "title": ""
    }
   },
   "outputs": [
    {
     "name": "stdout",
     "output_type": "stream",
     "text": [
      "Overwriting systems_test.txt\n"
     ]
    }
   ],
   "source": [
    "%%writefile systems_test.txt\n",
    "it was the best of\t1\t1\t1\n",
    "age of wisdom it was\t1\t1\t1\n",
    "best of times it was\t1\t1\t1\n",
    "it was the age of\t2\t1\t1\n",
    "it was the worst of\t1\t1\t1\n",
    "of times it was the\t2\t1\t1\n",
    "of wisdom it was the\t1\t1\t1\n",
    "the age of wisdom it\t1\t1\t1\n",
    "the best of times it\t1\t1\t1\n",
    "the worst of times it\t1\t1\t1\n",
    "times it was the age\t1\t1\t1\n",
    "times it was the worst\t1\t1\t1\n",
    "was the age of wisdom\t1\t1\t1\n",
    "was the best of times\t1\t1\t1\n",
    "was the age of foolishness\t1\t1\t1\n",
    "was the worst of times\t1\t1\t1\n",
    "wisdom it was the age\t1\t1\t1\n",
    "worst of times it was\t1\t1\t1"
   ]
  },
  {
   "cell_type": "markdown",
   "metadata": {
    "application/vnd.databricks.v1+cell": {
     "inputWidgets": {},
     "nuid": "ac26da79-b410-4a8c-9d5d-6c074d48769d",
     "showTitle": false,
     "title": ""
    }
   },
   "source": [
    "Finally, we'll create a Spark RDD for each of these files so that they're easy to access throughout the rest of the assignment."
   ]
  },
  {
   "cell_type": "code",
   "execution_count": 79,
   "metadata": {
    "application/vnd.databricks.v1+cell": {
     "inputWidgets": {},
     "nuid": "4e162747-4cf6-4f36-89ca-a1214512f5c2",
     "showTitle": false,
     "title": ""
    }
   },
   "outputs": [],
   "source": [
    "# Spark RDDs for each dataset\n",
    "testRDD = sc.textFile(\"systems_test.txt\") \n",
    "f1RDD = sc.textFile(F1_PATH)\n",
    "dataRDD = sc.textFile(NGRAMS)"
   ]
  },
  {
   "cell_type": "markdown",
   "metadata": {
    "application/vnd.databricks.v1+cell": {
     "inputWidgets": {},
     "nuid": "70ae8e81-27de-4975-8b4c-22bbb82c6be5",
     "showTitle": false,
     "title": ""
    }
   },
   "source": [
    "Let's take a peek at what each of these RDDs looks like:"
   ]
  },
  {
   "cell_type": "code",
   "execution_count": 80,
   "metadata": {
    "application/vnd.databricks.v1+cell": {
     "inputWidgets": {},
     "nuid": "6382f9a6-0b3d-4cb5-be31-f4ac27814306",
     "showTitle": false,
     "title": ""
    }
   },
   "outputs": [
    {
     "data": {
      "text/plain": [
       "['it was the best of\\t1\\t1\\t1',\n",
       " 'age of wisdom it was\\t1\\t1\\t1',\n",
       " 'best of times it was\\t1\\t1\\t1',\n",
       " 'it was the age of\\t2\\t1\\t1',\n",
       " 'it was the worst of\\t1\\t1\\t1',\n",
       " 'of times it was the\\t2\\t1\\t1',\n",
       " 'of wisdom it was the\\t1\\t1\\t1',\n",
       " 'the age of wisdom it\\t1\\t1\\t1',\n",
       " 'the best of times it\\t1\\t1\\t1',\n",
       " 'the worst of times it\\t1\\t1\\t1']"
      ]
     },
     "execution_count": 80,
     "metadata": {},
     "output_type": "execute_result"
    }
   ],
   "source": [
    "testRDD.take(10)"
   ]
  },
  {
   "cell_type": "code",
   "execution_count": 81,
   "metadata": {
    "application/vnd.databricks.v1+cell": {
     "inputWidgets": {},
     "nuid": "7a94a009-6a28-4c71-9cfd-57fc3f0469e4",
     "showTitle": false,
     "title": ""
    }
   },
   "outputs": [
    {
     "data": {
      "text/plain": [
       "['A BILL FOR ESTABLISHING RELIGIOUS\\t59\\t59\\t54',\n",
       " 'A Biography of General George\\t92\\t90\\t74',\n",
       " 'A Case Study in Government\\t102\\t102\\t78',\n",
       " 'A Case Study of Female\\t447\\t447\\t327',\n",
       " 'A Case Study of Limited\\t55\\t55\\t43',\n",
       " \"A Child's Christmas in Wales\\t1099\\t1061\\t866\",\n",
       " 'A Circumstantial Narrative of the\\t62\\t62\\t50',\n",
       " 'A City by the Sea\\t62\\t60\\t49',\n",
       " 'A Collection of Fairy Tales\\t123\\t117\\t80',\n",
       " 'A Collection of Forms of\\t116\\t103\\t82']"
      ]
     },
     "execution_count": 81,
     "metadata": {},
     "output_type": "execute_result"
    }
   ],
   "source": [
    "f1RDD.take(10)"
   ]
  },
  {
   "cell_type": "code",
   "execution_count": 82,
   "metadata": {
    "application/vnd.databricks.v1+cell": {
     "inputWidgets": {},
     "nuid": "3821fa08-6fbd-46dd-9233-92ae8dad4e7b",
     "showTitle": false,
     "title": ""
    }
   },
   "outputs": [
    {
     "data": {
      "text/plain": [
       "['A Background Paper Prepared for\\t130\\t130\\t126',\n",
       " 'A Bicycle Built for Two\\t626\\t618\\t544',\n",
       " 'A Cabinet was formed with\\t41\\t41\\t41',\n",
       " 'A Case Study of State\\t219\\t218\\t159',\n",
       " 'A Catechism and Confession of\\t169\\t165\\t140',\n",
       " 'A Catholic could not be\\t64\\t56\\t56',\n",
       " 'A Certain Tendency in the\\t67\\t64\\t53',\n",
       " 'A Chronicle of One Hundred\\t127\\t127\\t87',\n",
       " 'A Chronicle of the Arctic\\t88\\t88\\t81',\n",
       " 'A Chronicle of the Pontiac\\t96\\t96\\t92']"
      ]
     },
     "execution_count": 82,
     "metadata": {},
     "output_type": "execute_result"
    }
   ],
   "source": [
    "dataRDD.take(10)"
   ]
  },
  {
   "cell_type": "markdown",
   "metadata": {
    "application/vnd.databricks.v1+cell": {
     "inputWidgets": {},
     "nuid": "2bec439f-08e0-45b9-a249-6e57064f627d",
     "showTitle": false,
     "title": ""
    }
   },
   "source": [
    "# Question 5: N-gram EDA part 1 (words)\n",
    "\n",
    "Before starting our synonym-detection, let's get a sense for this data. As you saw in questions 3 and 4 the size of the vocabulary will impact the amount of computation we have to do. Write a Spark job that will accomplish the three tasks below as efficiently as possible. (No credit will be awarded for jobs that sort or subset after calling `collect()`-- use the framework to get the minimum information requested). As you develop your code, systems test each job on the provided file with Dickens ngrams, then on a single file from the Ngram dataset before running the full analysis.\n",
    "\n",
    "\n",
    "### Q5 Tasks:\n",
    "* __a) code:__ Write a Spark application to retrieve:\n",
    "  * The number of unique words that appear in the data. (i.e. size of the vocabulary) \n",
    "  * A list of the top 10 words & their counts.\n",
    "  * A list of the bottom 10 words & their counts.  \n",
    "  \n",
    "  __`NOTE  1:`__ _don't forget to lower case the ngrams before extracting words._  \n",
    "  __`NOTE  2:`__ _don't forget to take in to account the number of occurances (count) of each ngram._  \n",
    "  __`NOTE  3:`__ _to make this code more reusable, the `EDA1` function code base uses a parameter 'n' to specify the number of top/bottom words to print (in this case we've requested 10)._\n",
    "\n",
    "\n",
    "* __b) short response:__ Given the vocab size you found in part a, how many potential synonym pairs could we form from this corpus? If each term's stripe were 1000 words long, how many tuples would we need to shuffle in order to form the inverted indices? Show and briefly explain your calculations for each part of this question. [__`HINT:`__ see your work from q4 for a review of these concepts.]\n",
    "\n",
    "* __c) short response:__ Looking at the most frequent words and their counts, how usefull will these top words be in synonym detection? Explain.\n",
    "\n",
    "* __d) short response:__ Looking at the least frequent words and their counts, how reliable should we expect the detected 'synonyms' for these words to be? Explain."
   ]
  },
  {
   "cell_type": "code",
   "execution_count": null,
   "metadata": {},
   "outputs": [],
   "source": []
  },
  {
   "cell_type": "markdown",
   "metadata": {
    "application/vnd.databricks.v1+cell": {
     "inputWidgets": {},
     "nuid": "551ea292-76ba-40de-920f-e3e528c52b31",
     "showTitle": false,
     "title": ""
    }
   },
   "source": [
    "### Q5 Student Answers:\n",
    "\n",
    "> __b)__ Given the size of the vocabulary is 269,339 the potential number of synonym pairs is 36,271,613,791 (36.3 billion).\n",
    "\n",
    "> Synonym Pairs:    \n",
    "> $C(n,r) = \\frac{n!}{r!(n-r)!} = \\frac{269,339!}{2!(269,339-2)!} = 36,271,613,791$\n",
    "\n",
    "> 1,000 Word Stripes:\n",
    "If each stipe were 1,000 words long, the total number of tuples shuffled across the network would be 36.3 trillion.  The example below illustrates my logic for this computation. The first code chunk is the result of a flatMap().  The second code chunk takes the first as input into a reduceByKey() invoking a shuffle of tuples resulting in a stripe.  \n",
    "\n",
    "```\n",
    "[('bright', [('docA', 4)]),\n",
    " ('blue', [('docA', 4)]),\n",
    " ('butterfly', [('docA', 4)]),\n",
    " ('forget', [('docA', 4)]),\n",
    " ('best', [('docB', 4)]),\n",
    " ('forget', [('docB', 4)]),\n",
    " ('bright', [('docB', 4)]),\n",
    " ('sky', [('docB', 4)]),\n",
    " ('blue', [('docC', 4)]),\n",
    " ('sky', [('docC', 4)]),\n",
    " ('bright', [('docC', 4)]),\n",
    " ('sun', [('docC', 4)]),\n",
    " ('under', [('docD', 4)]),\n",
    " ('butterfly', [('docD', 4)]),\n",
    " ('sky', [('docD', 4)]),\n",
    " ('hangs', [('docD', 4)]),\n",
    " ('forget', [('docE', 3)]),\n",
    " ('blue', [('docE', 3)]),\n",
    " ('butterfly', [('docE', 3)])]\n",
    " \n",
    " ```\n",
    ">              ||  \n",
    "             ||  \n",
    "             \\/  \n",
    "             \n",
    "```\n",
    "[('bright', [('docA', 4), ('docB', 4), ('docC', 4)]),\n",
    " ('butterfly', [('docA', 4), ('docD', 4), ('docE', 3)]),\n",
    " ('best', [('docB', 4)]),\n",
    " ('sky', [('docB', 4), ('docC', 4), ('docD', 4)]),\n",
    " ('sun', [('docC', 4)]),\n",
    " ('blue', [('docA', 4), ('docC', 4), ('docE', 3)]),\n",
    " ('forget', [('docA', 4), ('docB', 4), ('docE', 3)]),\n",
    " ('under', [('docD', 4)]),\n",
    " ('hangs', [('docD', 4)])]\n",
    "```\n",
    "\n",
    "> __c)__ The most frequent words in the corpus resulted in what is commonly referred to as stop words in synonym detection.  They are common in the English language and are of marginal importance in distinguishing words with similar semantics.  These words may add noise to the signal of true synonyms.\n",
    "\n",
    "> __d)__ The detected synonyms for the least frequent words will most likely be unreliable for two reasons.  One, several of them appear to be surnames that do not have synonyms.  Two, the small number of counts may indicate insufficient data to establish a reliable quality in synonym detection. "
   ]
  },
  {
   "cell_type": "code",
   "execution_count": 1178,
   "metadata": {
    "application/vnd.databricks.v1+cell": {
     "inputWidgets": {},
     "nuid": "091af7db-444d-4aa7-bbc3-691f728d2840",
     "showTitle": false,
     "title": ""
    }
   },
   "outputs": [],
   "source": [
    "# part a - write your spark job here \n",
    "def EDA1(rdd, n):\n",
    "    total, top_n, bottom_n = None, None, None\n",
    "    ############# YOUR CODE HERE ###############\n",
    "    \"\"\"\n",
    "    1. split on tab\n",
    "    2. lower and split ngram on white space, preserve remaining list\n",
    "    3. extract gram from ngram, pair with count\n",
    "    4. sum counts on key\n",
    "    \"\"\"\n",
    "    \n",
    "    # spark job\n",
    "    result = rdd.map(lambda line: line.split('\\t')) \\\n",
    "                 .map(lambda line: (line[0].lower().split(' '), line[1:])) \\\n",
    "                 .flatMap(lambda x: ((x[0][i], int(x[1][0])) for i in range(len(x[0])))) \\\n",
    "                 .reduceByKey(lambda a,b: a+b)\n",
    "    \n",
    "    total = result.count()\n",
    "    \n",
    "    top_n = result.takeOrdered(n, key = lambda x: -x[1])\n",
    "    \n",
    "    bottom_n = result.takeOrdered(n, key = lambda x: x[1])\n",
    "    \n",
    "    ############# (END) YOUR CODE ##############\n",
    "    return total, top_n, bottom_n"
   ]
  },
  {
   "cell_type": "code",
   "execution_count": 467,
   "metadata": {
    "application/vnd.databricks.v1+cell": {
     "inputWidgets": {},
     "nuid": "4babf25b-06f1-4d63-86d8-a2e853f13e2c",
     "showTitle": false,
     "title": ""
    },
    "tags": []
   },
   "outputs": [
    {
     "name": "stdout",
     "output_type": "stream",
     "text": [
      "Wall time: 0.30712175369262695 seconds\n"
     ]
    }
   ],
   "source": [
    "# part a - run the system test (RUN THIS CELL AS IS... use display cell below to see results)\n",
    "import time\n",
    "start = time.time()\n",
    "vocab_size, most_frequent, least_frequent = EDA1(testRDD, 10)\n",
    "print(\"Wall time: {} seconds\".format(time.time() - start))\n"
   ]
  },
  {
   "cell_type": "code",
   "execution_count": 468,
   "metadata": {
    "application/vnd.databricks.v1+cell": {
     "inputWidgets": {},
     "nuid": "615f0416-8170-4d20-9eb1-42c5abfbeb64",
     "showTitle": false,
     "title": ""
    }
   },
   "outputs": [
    {
     "name": "stdout",
     "output_type": "stream",
     "text": [
      "Vocabulary Size: 10\n",
      "|------ Top Words ------|--- Bottom Words ----|\n",
      "         was         17 |    foolishness   1\n",
      "          of         17 |           best   4\n",
      "         the         17 |          worst   5\n",
      "          it         16 |         wisdom   5\n",
      "       times         10 |            age   8\n",
      "         age          8 |          times  10\n",
      "       worst          5 |             it  16\n",
      "      wisdom          5 |            was  17\n",
      "        best          4 |             of  17\n",
      " foolishness          1 |            the  17\n"
     ]
    }
   ],
   "source": [
    "# part a - display results (feel free to modify the formatting code if needed)\n",
    "print(\"Vocabulary Size:\", vocab_size)\n",
    "print(\"|------ Top Words ------|--- Bottom Words ----|\")\n",
    "for (w1, c1), (w2, c2) in zip(most_frequent, least_frequent):\n",
    "    print(f\"{w1:>12} {c1:>10} |{w2:>15} {c2:>3}\")"
   ]
  },
  {
   "cell_type": "markdown",
   "metadata": {
    "application/vnd.databricks.v1+cell": {
     "inputWidgets": {},
     "nuid": "cf050ce9-3cc6-484c-8036-7d380d4ca0dc",
     "showTitle": false,
     "title": ""
    }
   },
   "source": [
    "Expected output for testRDD:\n",
    "<pre>\n",
    "    Vocabulary Size: 10\n",
    " ---- Top Words ----|--- Bottom Words ----\n",
    "     was         17 |    foolishness   1\n",
    "      of         17 |           best   4\n",
    "     the         17 |          worst   5\n",
    "      it         16 |         wisdom   5\n",
    "   times         10 |            age   8\n",
    "     age          8 |          times  10\n",
    "   worst          5 |             it  16\n",
    "  wisdom          5 |            was  17\n",
    "    best          4 |             of  17\n",
    "foolishness       1 |            the  17  \n",
    "</pre>"
   ]
  },
  {
   "cell_type": "code",
   "execution_count": 469,
   "metadata": {
    "application/vnd.databricks.v1+cell": {
     "inputWidgets": {},
     "nuid": "61d1bbae-7d1d-483e-b23a-a32fef6e2264",
     "showTitle": false,
     "title": ""
    }
   },
   "outputs": [
    {
     "name": "stderr",
     "output_type": "stream",
     "text": [
      "                                                                                \r"
     ]
    },
    {
     "name": "stdout",
     "output_type": "stream",
     "text": [
      "Wall time: 2.390817642211914 seconds\n"
     ]
    }
   ],
   "source": [
    "# part a - run a single file, ie., a small sample (RUN THIS CELL AS IS)\n",
    "start = time.time()\n",
    "vocab_size, most_frequent, least_frequent = EDA1(f1RDD, 10)\n",
    "print(\"Wall time: {} seconds\".format(time.time() - start))\n"
   ]
  },
  {
   "cell_type": "code",
   "execution_count": 470,
   "metadata": {
    "application/vnd.databricks.v1+cell": {
     "inputWidgets": {},
     "nuid": "79a6aa9a-4c42-483e-b859-9711a8bbff9f",
     "showTitle": false,
     "title": ""
    }
   },
   "outputs": [
    {
     "name": "stdout",
     "output_type": "stream",
     "text": [
      "Vocabulary Size: 36353\n",
      "|---- Top Words ----|--- Bottom Words ----|\n",
      "     the   27691943 |    stakeholder  40\n",
      "      of   18590950 |          kenny  40\n",
      "      to   11601757 |         barnes  40\n",
      "      in    7470912 |         arnall  40\n",
      "       a    6926743 |     buonaparte  40\n",
      "     and    6150529 |       puzzling  40\n",
      "    that    4077421 |             hd  40\n",
      "      is    4074864 |        corisca  40\n",
      "      be    3720812 |       cristina  40\n",
      "     was    2492074 |         durban  40\n"
     ]
    }
   ],
   "source": [
    "# part a - display results (feel free to modify the formatting code if needed)\n",
    "print(\"Vocabulary Size:\", vocab_size)\n",
    "print(\"|---- Top Words ----|--- Bottom Words ----|\")\n",
    "for (w1, c1), (w2, c2) in zip(most_frequent, least_frequent):\n",
    "    print(f\"{w1:>8} {c1:>10} |{w2:>15} {c2:>3}\")"
   ]
  },
  {
   "cell_type": "markdown",
   "metadata": {
    "application/vnd.databricks.v1+cell": {
     "inputWidgets": {},
     "nuid": "7e6bd030-552b-4cbb-aafb-955cc5f2575c",
     "showTitle": false,
     "title": ""
    }
   },
   "source": [
    "Expected output for f1RDD\n",
    "<pre>\n",
    "Vocabulary Size: 36353\n",
    " ---- Top Words ----|--- Bottom Words ----\n",
    "     the   27691943 |    stakeholder  40\n",
    "      of   18590950 |          kenny  40\n",
    "      to   11601757 |         barnes  40\n",
    "      in    7470912 |         arnall  40\n",
    "       a    6926743 |     buonaparte  40\n",
    "     and    6150529 |       puzzling  40\n",
    "    that    4077421 |             hd  40\n",
    "      is    4074864 |        corisca  40\n",
    "      be    3720812 |       cristina  40\n",
    "     was    2492074 |         durban  40\n",
    "</pre>"
   ]
  },
  {
   "cell_type": "code",
   "execution_count": 415,
   "metadata": {
    "application/vnd.databricks.v1+cell": {
     "inputWidgets": {},
     "nuid": "f82284a5-a9a1-49b4-b8fa-057d6ed6f368",
     "showTitle": false,
     "title": ""
    }
   },
   "outputs": [
    {
     "name": "stderr",
     "output_type": "stream",
     "text": [
      "[Stage 530:===================================================> (183 + 4) / 190]\r"
     ]
    },
    {
     "name": "stdout",
     "output_type": "stream",
     "text": [
      "Wall time: 257.61443614959717 seconds\n"
     ]
    },
    {
     "name": "stderr",
     "output_type": "stream",
     "text": [
      "                                                                                \r"
     ]
    }
   ],
   "source": [
    "# part a - run full analysis (RUN THIS CELL AS IS)\n",
    "start = time.time()\n",
    "vocab_size, most_frequent, least_frequent = EDA1(dataRDD, 10)\n",
    "print(\"Wall time: {} seconds\".format(time.time() - start))\n",
    "# Wall time: 369.26355481147766 seconds"
   ]
  },
  {
   "cell_type": "code",
   "execution_count": 416,
   "metadata": {
    "application/vnd.databricks.v1+cell": {
     "inputWidgets": {},
     "nuid": "47c705e3-8578-48ce-82ca-9cf3274ab801",
     "showTitle": false,
     "title": ""
    }
   },
   "outputs": [
    {
     "name": "stdout",
     "output_type": "stream",
     "text": [
      "Vocabulary Size: 269339\n",
      "|---- Top Words ----|--- Bottom Words ----|\n",
      "     the 5490815394 |      scholared  40\n",
      "      of 3698583299 |          porti  40\n",
      "      to 2227866570 |     foretastes  40\n",
      "      in 1421312776 |       parcival  40\n",
      "       a 1361123022 |           cras  40\n",
      "     and 1149577477 |   schwetzingen  40\n",
      "    that  802921147 |       jaworski  40\n",
      "      is  758328796 |         mildes  40\n",
      "      be  688707130 |    unmurmuring  40\n",
      "      as  492170314 |    viscerating  40\n"
     ]
    }
   ],
   "source": [
    "# part a - display results (feel free to modify the formatting code if needed)\n",
    "print(\"Vocabulary Size:\", vocab_size)\n",
    "print(\"|---- Top Words ----|--- Bottom Words ----|\")\n",
    "for (w1, c1), (w2, c2) in zip(most_frequent, least_frequent):\n",
    "    print(f\"{w1:>8} {c1:>10} |{w2:>15} {c2:>3}\")"
   ]
  },
  {
   "cell_type": "markdown",
   "metadata": {
    "application/vnd.databricks.v1+cell": {
     "inputWidgets": {},
     "nuid": "b9cd59be-634c-4cad-a6a8-209e0c777905",
     "showTitle": false,
     "title": ""
    }
   },
   "source": [
    "Expected output for dataRDD:\n",
    "(bottom words might vary a little due to ties)\n",
    "<pre>\n",
    "Vocabulary Size: 269339\n",
    " ---- Top Words ----|--- Bottom Words ----\n",
    "     the 5490815394 |   schwetzingen  40\n",
    "      of 3698583299 |           cras  40\n",
    "      to 2227866570 |       parcival  40\n",
    "      in 1421312776 |          porti  40\n",
    "       a 1361123022 |    scribbler's  40\n",
    "     and 1149577477 |      washermen  40\n",
    "    that  802921147 |    viscerating  40\n",
    "      is  758328796 |         mildes  40\n",
    "      be  688707130 |      scholared  40\n",
    "      as  492170314 |       jaworski  40\n",
    "</pre>"
   ]
  },
  {
   "cell_type": "markdown",
   "metadata": {
    "application/vnd.databricks.v1+cell": {
     "inputWidgets": {},
     "nuid": "81a856ad-4475-4912-9de7-fa14d6a73044",
     "showTitle": false,
     "title": ""
    }
   },
   "source": [
    "# Question 6: N-gram EDA part 2 (co-occurrences)\n",
    "\n",
    "The computational complexity of synonym analysis depends not only on the number of words, but also on the number of co-ocurrences each word has. In this question you'll take a closer look at that aspect of our data. As before, please test each job on small \"systems test\" (Dickens ngrams) file and on a single file from the Ngram dataset before running the full analysis.\n",
    "\n",
    "### Q6 Tasks:\n",
    "* __a) code:__ Write a spark job that computes:\n",
    "  * the number of unique neighbors (i.e. 5-gram co-occuring words) for each word in the vocabulary. \n",
    "  \n",
    " <pre>\n",
    "  HINT: consider all words within a five-gram to be co-occuring. In other words, a word in a single 5-gram will always have 4 neighbors\n",
    "  EXAMPLE:\n",
    "    the dog ate cat litter \n",
    "    the cat has clean litter \n",
    "    \n",
    "    Vocabulary:\n",
    "    the, dog, ate, litter, cat, has, clean\n",
    "    \n",
    "    Neighbors:\n",
    "    (the, dog) (the, ate) (the, cat) (the, littler), (dog, ate) (dog, cat) (dog, litter), (ate, cat) (ate, litter), (cat, litter)\n",
    "    (the, cat) (the, has) (the, clean) (the, litter), (cat, has) (cat, clean) (cat, litter), (has, clean) (has, litter) (clean, litter)\n",
    "    \n",
    "    Unique neighbors:\n",
    "    the 6\n",
    "    dog 4\n",
    "    ate 4\n",
    "    litter 6\n",
    "    cat 6\n",
    "    has 4\n",
    "    clean 4\n",
    " </pre>\n",
    "    \n",
    "    \n",
    "  * the top 10 words with the most \"neighbors\"\n",
    "  * the bottom 10 words with least \"neighbors\"\n",
    "  * a random sample of 1% of the words' neighbor counts     \n",
    "  __`NOTE:`__ for the last item, please return only the counts and not the words -- we'll go on to use these in a plotting function that expects a list of integers.\n",
    "\n",
    "\n",
    "* __b) short response:__ Use the provided code to plot a histogram of the sampled list from `a`. Comment on the distribution you observe. How will this distribution affect our synonym detection analysis?\n",
    "\n",
    "* __c) code + short response:__ Write a Spark Job to compare word frequencies to number of neighbors.\n",
    "    * Of the 1000 words with most neighbors, what percent are also in the list of 1000 most frequent words?\n",
    "    * Of the 1000 words with least neighbors, what percent are also in the list of 1000 least frequent words?   \n",
    "[__`NOTE:`__ _technically these lists are short enough to compare in memory on your local machine but please design your Spark job as if we were potentially comparing much larger lists._]"
   ]
  },
  {
   "cell_type": "markdown",
   "metadata": {
    "application/vnd.databricks.v1+cell": {
     "inputWidgets": {},
     "nuid": "5c9910e4-476d-4501-998d-08d7e85444af",
     "showTitle": false,
     "title": ""
    }
   },
   "source": [
    "### Q6 Student Answers:\n",
    "\n",
    "> __b)__ The distribution of the random 1% sample from total words with less than 6,000 co-words displays a positive skew.  After digging deeper into the data, it became apparent the sample contains over 55% of words with less than ten co-words.  The positive skew coupled with half the data having few co-words may prove that features with a certain threshold of co-words are more useful than others not in the specified threshold.  Filtering for specific words could reduce computation time while having a marginal effect on the synonym detection results if not a positive impact. \n",
    "\n",
    "> __c)__  \n",
    "> f1RRD  \n",
    "87.7% of the top 1,000 words with the most neighbors are also the top 1,000 most frequent words.  \n",
    "5.1% of the bottom 1,000 words with the least neighbors are also the bottom 1,000 least frequent words.   \n",
    "\n",
    ">dataRDD  \n",
    "88.0% of the top 1,000 words with the most neighbors are also the top 1,000 most frequent words.  \n",
    "1.9% of the bottom 1,000 words with the least neighbors are also the bottom 1,000 least frequent words. "
   ]
  },
  {
   "cell_type": "code",
   "execution_count": 1076,
   "metadata": {
    "application/vnd.databricks.v1+cell": {
     "inputWidgets": {},
     "nuid": "7965afbc-ba04-4482-91c6-369579a412ed",
     "showTitle": false,
     "title": ""
    },
    "tags": []
   },
   "outputs": [],
   "source": [
    "# part a - spark job\n",
    "def EDA2(rdd,n):\n",
    "    \n",
    "    top_n, bottom_n, sampled_counts = None, None, None\n",
    "    \n",
    "    ############# YOUR CODE HERE ###############\n",
    "    \"\"\"\n",
    "    1. split on tab\n",
    "    2. lower and split ngram on white space\n",
    "    3. pair combinations for words in ngrams\n",
    "    4. filter pairings - drop like grams - drop like pairings\n",
    "    5. add count to pair\n",
    "    6. extract first gram from pair, preserve count\n",
    "    7. sum counts on key\n",
    "    \"\"\"\n",
    "    # spark job\n",
    "    result = rdd.map(lambda line: line.split('\\t')) \\\n",
    "                .map(lambda line: line[0].lower().split(' ')) \\\n",
    "                .flatMap(lambda ngram:(itertools.permutations(ngram,2))) \\\n",
    "                .filter(lambda gram: gram[0] != gram[1]).distinct() \\\n",
    "                .map(lambda pair: (pair, 1)) \\\n",
    "                .map(lambda pair: (pair[0][0], pair[1])) \\\n",
    "                .reduceByKey(lambda a, b: a + b)\n",
    "    \n",
    "    # top 10 words with most neighbors\n",
    "    top_n = result.takeOrdered(n, key=lambda x: -x[1])\n",
    "    \n",
    "    # bottom 10 words with least neighbors\n",
    "    bottom_n = result.takeOrdered(n, key=lambda x: x[1])\n",
    "    \n",
    "    # random 1% sample of the words' neighbor count \n",
    "    sampled_counts = result.sample(False, 0.01, seed=1).map(lambda x: x[1]).collect()\n",
    "    \n",
    "    ############# (END) YOUR CODE ##############\n",
    "    return top_n, bottom_n, sampled_counts"
   ]
  },
  {
   "cell_type": "code",
   "execution_count": 1079,
   "metadata": {
    "application/vnd.databricks.v1+cell": {
     "inputWidgets": {},
     "nuid": "28365223-462e-4232-abd6-cfa2bc38af66",
     "showTitle": false,
     "title": ""
    }
   },
   "outputs": [
    {
     "name": "stdout",
     "output_type": "stream",
     "text": [
      "Wall time: 0.4472999572753906 seconds\n"
     ]
    }
   ],
   "source": [
    "# part a - systems test (RUN THIS CELL AS IS)\n",
    "start = time.time()\n",
    "most_nbrs, least_nbrs, sample_counts = EDA2(testRDD, 10)\n",
    "print(\"Wall time: {} seconds\".format(time.time() - start))\n",
    "# Wall time: 2.1621551513671875 seconds"
   ]
  },
  {
   "cell_type": "code",
   "execution_count": 1080,
   "metadata": {
    "application/vnd.databricks.v1+cell": {
     "inputWidgets": {},
     "nuid": "d387813d-7682-467e-b501-d3332ca207fb",
     "showTitle": false,
     "title": ""
    }
   },
   "outputs": [
    {
     "name": "stdout",
     "output_type": "stream",
     "text": [
      " --- Most Co-Words ---|--- Least Co-Words ----\n",
      "         was        9 |     foolishness    4\n",
      "          of        9 |            best    5\n",
      "         the        9 |           worst    5\n",
      "          it        8 |          wisdom    5\n",
      "         age        7 |             age    7\n",
      "       times        7 |           times    7\n",
      "        best        5 |              it    8\n",
      "       worst        5 |             was    9\n",
      "      wisdom        5 |              of    9\n",
      " foolishness        4 |             the    9\n"
     ]
    }
   ],
   "source": [
    "# part a - display results (feel free to modify the formatting code if needed)\n",
    "print(\" --- Most Co-Words ---|--- Least Co-Words ----\")\n",
    "for (w1, c1), (w2, c2) in zip(most_nbrs, least_nbrs):\n",
    "    print(f\"{w1:>12} {c1:>8} |{w2:>16} {c2:>4}\")"
   ]
  },
  {
   "cell_type": "markdown",
   "metadata": {
    "application/vnd.databricks.v1+cell": {
     "inputWidgets": {},
     "nuid": "a002829e-8e36-40ec-bde8-1d7d8a39d104",
     "showTitle": false,
     "title": ""
    }
   },
   "source": [
    "Expected output for testRDD:\n",
    "<pre>\n",
    " --- Most Co-Words ---|--- Least Co-Words ----\n",
    "         was        9 |     foolishness    4\n",
    "          of        9 |            best    5\n",
    "         the        9 |           worst    5\n",
    "          it        8 |          wisdom    5\n",
    "         age        7 |             age    7\n",
    "       times        7 |           times    7\n",
    "        best        5 |              it    8\n",
    "       worst        5 |             was    9\n",
    "      wisdom        5 |              of    9\n",
    " foolishness        4 |             the    9\n",
    " </pre>"
   ]
  },
  {
   "cell_type": "code",
   "execution_count": 1077,
   "metadata": {
    "application/vnd.databricks.v1+cell": {
     "inputWidgets": {},
     "nuid": "f23d9344-a019-4985-bb5b-f98a7bf03bb6",
     "showTitle": false,
     "title": ""
    }
   },
   "outputs": [
    {
     "name": "stderr",
     "output_type": "stream",
     "text": [
      "                                                                                \r"
     ]
    },
    {
     "name": "stdout",
     "output_type": "stream",
     "text": [
      "Wall time: 19.305120944976807 seconds\n"
     ]
    }
   ],
   "source": [
    "# part a - single file test (RUN THIS CELL AS IS)\n",
    "start = time.time()\n",
    "most_nbrs, least_nbrs, sample_counts = EDA2(f1RDD, 10)\n",
    "print(\"Wall time: {} seconds\".format(time.time() - start))\n",
    "# Wall time: 10.43604040145874 seconds"
   ]
  },
  {
   "cell_type": "code",
   "execution_count": 1078,
   "metadata": {
    "application/vnd.databricks.v1+cell": {
     "inputWidgets": {},
     "nuid": "9722b282-a935-48c6-8a10-54a72290f639",
     "showTitle": false,
     "title": ""
    }
   },
   "outputs": [
    {
     "name": "stdout",
     "output_type": "stream",
     "text": [
      " --- Most Co-Words ---|--- Least Co-Words ----\n",
      "         the    25548 |              vo    1\n",
      "          of    22496 |           pizza    2\n",
      "         and    16489 |        premiers    2\n",
      "          to    14249 |        enclaves    2\n",
      "          in    13891 |   selectiveness    2\n",
      "           a    13045 |           trill    2\n",
      "        that     8011 |      noncleaved    2\n",
      "          is     7947 |             gem    2\n",
      "        with     7552 |            hoot    2\n",
      "          by     7400 |     palpitation    2\n"
     ]
    }
   ],
   "source": [
    "# part a - display results (feel free to modify the formatting code if needed)\n",
    "print(\" --- Most Co-Words ---|--- Least Co-Words ----\")\n",
    "for (w1, c1), (w2, c2) in zip(most_nbrs, least_nbrs):\n",
    "    print(f\"{w1:>12} {c1:>8} |{w2:>16} {c2:>4}\")"
   ]
  },
  {
   "cell_type": "markdown",
   "metadata": {
    "application/vnd.databricks.v1+cell": {
     "inputWidgets": {},
     "nuid": "91305880-710d-4bea-8611-be8482ff1fb6",
     "showTitle": false,
     "title": ""
    }
   },
   "source": [
    "Expected output for f1RDD:\n",
    "<pre>\n",
    " --- Most Co-Words ---|--- Least Co-Words ----\n",
    "         the    25548 |              vo    1\n",
    "          of    22496 |      noncleaved    2\n",
    "         and    16489 |        premiers    2\n",
    "          to    14249 |        enclaves    2\n",
    "          in    13891 |   selectiveness    2\n",
    "           a    13045 |           trill    2\n",
    "        that     8011 |           pizza    2\n",
    "          is     7947 |            hoot    2\n",
    "        with     7552 |     palpitation    2\n",
    "          by     7400 |            twel    2\n",
    "</pre>"
   ]
  },
  {
   "cell_type": "code",
   "execution_count": 644,
   "metadata": {
    "application/vnd.databricks.v1+cell": {
     "inputWidgets": {},
     "nuid": "7c1d0769-3bbb-4c2f-886c-a6c286d1552c",
     "showTitle": false,
     "title": ""
    }
   },
   "outputs": [
    {
     "name": "stderr",
     "output_type": "stream",
     "text": [
      "[Stage 1065:=================================================>  (180 + 4) / 190]\r"
     ]
    },
    {
     "name": "stdout",
     "output_type": "stream",
     "text": [
      "Wall time: 2285.4985280036926 seconds\n"
     ]
    },
    {
     "name": "stderr",
     "output_type": "stream",
     "text": [
      "                                                                                \r"
     ]
    }
   ],
   "source": [
    "# part a - full data (RUN THIS CELL AS IS)\n",
    "start = time.time()\n",
    "most_nbrs, least_nbrs, sample_counts = EDA2(dataRDD, 10)\n",
    "print(\"Wall time: {} seconds\".format(time.time() - start))\n",
    "# Wall time: 1204.2034149169922 seconds"
   ]
  },
  {
   "cell_type": "code",
   "execution_count": 645,
   "metadata": {
    "application/vnd.databricks.v1+cell": {
     "inputWidgets": {},
     "nuid": "dd5932f9-e92a-4001-a11f-7fe9ef1441ad",
     "showTitle": false,
     "title": ""
    }
   },
   "outputs": [
    {
     "name": "stdout",
     "output_type": "stream",
     "text": [
      " --- Most Co-Words ---|--- Least Co-Words ----\n",
      "         the   164982 |          cococo    1\n",
      "          of   155708 |            inin    1\n",
      "         and   132814 |        charuhas    1\n",
      "          in   110615 |         ooooooo    1\n",
      "          to    94358 |           iiiii    1\n",
      "           a    89197 |          iiiiii    1\n",
      "          by    67266 |             cnj    1\n",
      "        with    65127 |            choh    1\n",
      "        that    61174 |             neg    1\n",
      "          as    60652 |      cococococo    1\n"
     ]
    }
   ],
   "source": [
    "# part a - display results (feel free to modify the formatting code if needed)\n",
    "print(\" --- Most Co-Words ---|--- Least Co-Words ----\")\n",
    "for (w1, c1), (w2, c2) in zip(most_nbrs, least_nbrs):\n",
    "    print(f\"{w1:>12} {c1:>8} |{w2:>16} {c2:>4}\")"
   ]
  },
  {
   "cell_type": "markdown",
   "metadata": {
    "application/vnd.databricks.v1+cell": {
     "inputWidgets": {},
     "nuid": "5d6764e4-62a4-4fce-9761-9aa5ee03d30e",
     "showTitle": false,
     "title": ""
    }
   },
   "source": [
    "Expected output for dataRDD: \n",
    "(bottom words might vary a little due to ties)\n",
    "<pre>\n",
    " --- Most Co-Words ---|--- Least Co-Words ----\n",
    "         the   164982 |          cococo    1\n",
    "          of   155708 |            inin    1\n",
    "         and   132814 |        charuhas    1\n",
    "          in   110615 |         ooooooo    1\n",
    "          to    94358 |           iiiii    1\n",
    "           a    89197 |          iiiiii    1\n",
    "          by    67266 |             cnj    1\n",
    "        with    65127 |            choh    1\n",
    "        that    61174 |             neg    1\n",
    "          as    60652 |      cococococo    1\n",
    "</pre>"
   ]
  },
  {
   "cell_type": "markdown",
   "metadata": {
    "application/vnd.databricks.v1+cell": {
     "inputWidgets": {},
     "nuid": "589e0ce5-0d5e-4d34-8948-1f907fb3d316",
     "showTitle": false,
     "title": ""
    }
   },
   "source": [
    "__`NOTE:`__ _before running the plotting code below, make sure that the variable_ `sample_counts` _points to the list generated in_ `part a`."
   ]
  },
  {
   "cell_type": "code",
   "execution_count": 646,
   "metadata": {
    "application/vnd.databricks.v1+cell": {
     "inputWidgets": {},
     "nuid": "41df9fd4-f75a-45f3-86f9-46d207136f18",
     "showTitle": false,
     "title": ""
    }
   },
   "outputs": [
    {
     "name": "stdout",
     "output_type": "stream",
     "text": [
      "NOTE: we'll exclude the 6 words with more than 6000 nbrs in this 2629 count sample.\n"
     ]
    },
    {
     "data": {
      "image/png": "[encoded data removed]",
      "text/plain": [
       "<Figure size 1080x360 with 2 Axes>"
      ]
     },
     "metadata": {
      "needs_background": "light"
     },
     "output_type": "display_data"
    }
   ],
   "source": [
    "# part b - plot histogram (RUN THIS CELL AS IS - feel free to modify format)\n",
    "\n",
    "# removing extreme upper tail for a better visual\n",
    "counts = np.array(sample_counts)[np.array(sample_counts) < 6000]\n",
    "t = sum(np.array(sample_counts) > 6000)\n",
    "n = len(counts)\n",
    "print(\"NOTE: we'll exclude the %s words with more than 6000 nbrs in this %s count sample.\" % (t,n))\n",
    "\n",
    "# set up figure\n",
    "fig, (ax1, ax2) = plt.subplots(1,2, figsize = (15,5))\n",
    "\n",
    "# plot regular hist\n",
    "ax1.hist(counts, bins=50)\n",
    "ax1.set_title('Freqency of Number of Co-Words', color='0.1')\n",
    "ax1.set_facecolor('0.9')\n",
    "ax1.tick_params(axis='both', colors='0.1')\n",
    "ax1.grid(True)\n",
    "\n",
    "# plot log scale hist\n",
    "ax2.hist(counts, bins=50)\n",
    "ax2.set_title('(log)Freqency of Number of Co-Words', color='0.1')\n",
    "ax2.set_facecolor('0.9')\n",
    "ax2.tick_params(axis='both', colors='0.1')\n",
    "ax2.grid(True)\n",
    "plt.yscale('log')\n"
   ]
  },
  {
   "cell_type": "code",
   "execution_count": 811,
   "metadata": {},
   "outputs": [
    {
     "data": {
      "text/plain": [
       "(55.76264739444656, 19.322936477748193)"
      ]
     },
     "execution_count": 811,
     "metadata": {},
     "output_type": "execute_result"
    }
   ],
   "source": [
    "(len(counts[counts<10])/len(counts))*100, (len(counts[counts>50])/len(counts))*100\n"
   ]
  },
  {
   "cell_type": "code",
   "execution_count": 753,
   "metadata": {
    "application/vnd.databricks.v1+cell": {
     "inputWidgets": {},
     "nuid": "15310f55-9345-4dd1-907b-a719f475e693",
     "showTitle": false,
     "title": ""
    }
   },
   "outputs": [],
   "source": [
    "# part c - spark job\n",
    "def compareRankings(rdd1, rdd2):\n",
    "    percent_overlap = None\n",
    "    ############# YOUR CODE HERE ###############\n",
    "    \n",
    "    # join like terms from neighbors and words\n",
    "    rddJoin = rdd1.join(rdd2)\n",
    "    \n",
    "    # intersection count\n",
    "    interCount = rddJoin.count()\n",
    "    \n",
    "    # total should be 1000\n",
    "    total = rdd1.count()\n",
    "    \n",
    "    # percent overlap\n",
    "    percent_overlap = (interCount/total)*100\n",
    "    \n",
    "    ############# (END) YOUR CODE ##############\n",
    "    return percent_overlap "
   ]
  },
  {
   "cell_type": "code",
   "execution_count": 730,
   "metadata": {
    "application/vnd.databricks.v1+cell": {
     "inputWidgets": {},
     "nuid": "daa4ad30-6c4d-4622-8bd6-1a5c6f94287e",
     "showTitle": false,
     "title": ""
    }
   },
   "outputs": [
    {
     "name": "stderr",
     "output_type": "stream",
     "text": [
      "                                                                                \r"
     ]
    },
    {
     "name": "stdout",
     "output_type": "stream",
     "text": [
      "Of the 1000 words with most neighbors, 87.7 percent are also in the list of 1000 most frequent words.\n",
      "Of the 1000 words with least neighbors, 5.1 percent are also in the list of 1000 least frequent words.\n"
     ]
    }
   ],
   "source": [
    "# part c - get lists for comparison (RUN THIS CELL AS IS...)\n",
    "# (... then change 'testRDD' to 'f1RDD'/'dataRDD' when ready)\n",
    "total, topWords, bottomWords = EDA1(f1RDD, 1000)\n",
    "topNbrs, bottomNbrs, sample_counts = EDA2(f1RDD, 1000)\n",
    "twRDD = sc.parallelize(topWords)\n",
    "bwRDD = sc.parallelize(bottomWords)\n",
    "tnRDD = sc.parallelize(topNbrs)\n",
    "bnRDD = sc.parallelize(bottomNbrs)\n",
    "top_overlap = compareRankings(tnRDD, twRDD)\n",
    "bottom_overlap = compareRankings(bnRDD,bwRDD)\n",
    "print(f\"Of the 1000 words with most neighbors, {top_overlap} percent are also in the list of 1000 most frequent words.\")\n",
    "print(f\"Of the 1000 words with least neighbors, {bottom_overlap} percent are also in the list of 1000 least frequent words.\")"
   ]
  },
  {
   "cell_type": "code",
   "execution_count": 731,
   "metadata": {
    "application/vnd.databricks.v1+cell": {
     "inputWidgets": {},
     "nuid": "daa4ad30-6c4d-4622-8bd6-1a5c6f94287e",
     "showTitle": false,
     "title": ""
    }
   },
   "outputs": [
    {
     "name": "stderr",
     "output_type": "stream",
     "text": [
      "                                                                                \r"
     ]
    },
    {
     "name": "stdout",
     "output_type": "stream",
     "text": [
      "Of the 1000 words with most neighbors, 88.0 percent are also in the list of 1000 most frequent words.\n",
      "Of the 1000 words with least neighbors, 1.9 percent are also in the list of 1000 least frequent words.\n"
     ]
    }
   ],
   "source": [
    "# part c - get lists for comparison (RUN THIS CELL AS IS...)\n",
    "# (... then change 'testRDD' to 'f1RDD'/'dataRDD' when ready)\n",
    "total, topWords, bottomWords = EDA1(dataRDD, 1000)\n",
    "topNbrs, bottomNbrs, sample_counts = EDA2(dataRDD, 1000)\n",
    "twRDD = sc.parallelize(topWords)\n",
    "bwRDD = sc.parallelize(bottomWords)\n",
    "tnRDD = sc.parallelize(topNbrs)\n",
    "bnRDD = sc.parallelize(bottomNbrs)\n",
    "top_overlap = compareRankings(tnRDD, twRDD)\n",
    "bottom_overlap = compareRankings(bnRDD,bwRDD)\n",
    "print(f\"Of the 1000 words with most neighbors, {top_overlap} percent are also in the list of 1000 most frequent words.\")\n",
    "print(f\"Of the 1000 words with least neighbors, {bottom_overlap} percent are also in the list of 1000 least frequent words.\")"
   ]
  },
  {
   "cell_type": "markdown",
   "metadata": {
    "application/vnd.databricks.v1+cell": {
     "inputWidgets": {},
     "nuid": "8bda2949-b3f0-4446-8010-4f3d53bfd605",
     "showTitle": false,
     "title": ""
    }
   },
   "source": [
    "# Question 7: Basis Vocabulary & Stripes\n",
    "\n",
    "Every word that appears in our data is a potential feature for our synonym detection analysis. However as we've discussed, some are likely to be more useful than others. In this question, you'll choose a judicious subset of these words to form our 'basis vocabulary'. Practically speaking, this means that when we build our stripes, we are only going to keep track of when a term co-occurs with one of these basis words. \n",
    "\n",
    "\n",
    "### Q7 Tasks:\n",
    "* __a) multiple choice:__ Suppose we were deciding between two different basis vocabularies: the 1000 most frequent words or the 1000 least frequent words. How would this choice impact the quality of the synonyms we are able to detect? How does this choice relate to the ideas of 'overfitting' or 'underfitting' a training set?\n",
    "<pre>  \n",
    "  MULTIPLE CHOICE:\n",
    "   A. 1000 most frequent words would overfit, while 1000 least frequent words would underfit\n",
    "   B. 1000 most frequent words would underfit, while 1000 least frequent words would overfit\n",
    "  \n",
    "  BONUS: Explain your answer \n",
    "</pre>\n",
    "* __b) short response:__ If we had a much larger dataset, computing the full ordered list of words would be extremely expensive. If we need to none-the-less get an estimate of word frequency in order to decide on a basis vocabulary, what alternative strategy could we take?\n",
    "\n",
    "* __c) multiple choice:__ Run the provided spark job that does the following:\n",
    "  * tokenizes, removes stopwords and computes a word count on the ngram data\n",
    "  * subsets the top 10,000 words (these are the terms we'll consider as potential synonyms)\n",
    "  * subsets words 9,000-9,999 (this will be our 1,000 word basis vocabulary)    \n",
    "  (to put it another way - of the top 10,000 words, the bottom 1,000 form the basis vocabulary)\n",
    "  * saves the full 10K word list and the 1K basis vocabulary to file for use in `d`.  \n",
    "<pre>\n",
    "  What is another way to describe the Basis Vocabulary in machine learning terms?\n",
    "  A. Stop-words\n",
    "  B. Features\n",
    "  C. Postings\n",
    "  D. 1000-grams\n",
    "</pre>\n",
    "\n",
    "* __d) code:__ Write a spark job that builds co-occurrence stripes for the top 10K words in the ngram data using the basis vocabulary you developed in `part c`. This job/function, unlike others so far, should return an RDD (which we will then use in q8)."
   ]
  },
  {
   "attachments": {
    "9777b34a-cad2-4fa4-bb34-90ff6d67bf7c.png": {
     "image/png": "[encoded data removed]"
    }
   },
   "cell_type": "markdown",
   "metadata": {
    "application/vnd.databricks.v1+cell": {
     "inputWidgets": {},
     "nuid": "7b533d39-a950-40cc-b529-05216c6872d8",
     "showTitle": false,
     "title": ""
    }
   },
   "source": [
    "### Q7 Student Answers:\n",
    "> __a)__ B. 1000 most frequent words would underfit, while 1000 least frequent words would overfit.   \n",
    "\n",
    "> __a-bonus)__ The 1,000 most frequent words would most likely reduce the quality of synonyms, while the 1,000 least frequent words would most like increase the quality.  As a side note and expanding on the results calculated in Question 6, the 1,000 most frequent words should produce more neighbors compared to the 1,000 least frequent words.  The choice between word frequencies relates to overfitting and underfitting because the 1,000 most frequent words may be unable to capture the relationship between the input examples and the target values, therefore, performing poorly by establishing relationships based on word frequency rather than semantics.  Moreover, the 1,000 least frequent words could overfit the training data resulting in good synonym detection performance among the training documents but poor performance on new documents.  Similar to other feature selection decisions I've encountered in the past, there is always a balance.  \n",
    "\n",
    "\n",
    "> ![Screen Shot 2021-10-03 at 2.20.44 PM.png](attachment:9777b34a-cad2-4fa4-bb34-90ff6d67bf7c.png)\n",
    "\n",
    "  \n",
    "> __b)__ Tallying up word counts from a randomly sampled subset of documents/data is an alternative strategy for generating a basis vocab compared to computing the full ordered list among all the data.  \n",
    "  \n",
    "> __c)__ The basis vocabulary can also be described as features because each word is a measurable characteristic contributing to the calculation of similarity metrics.  Two distinct feature sets/basis vocabulary will most likely result in two different similarity metric values."
   ]
  },
  {
   "cell_type": "code",
   "execution_count": 1099,
   "metadata": {
    "application/vnd.databricks.v1+cell": {
     "inputWidgets": {},
     "nuid": "b853bc36-399b-4f21-af49-697c2019f6a9",
     "showTitle": false,
     "title": ""
    }
   },
   "outputs": [],
   "source": [
    "# part c - provided stopwords (RUN THIS CELL AS IS)\n",
    "STOPWORDS =  ['i', 'me', 'my', 'myself', 'we', 'our', 'ours', \n",
    "              'ourselves', 'you', 'your', 'yours', 'yourself', \n",
    "              'yourselves', 'he', 'him', 'his', 'himself', 'she', \n",
    "              'her', 'hers', 'herself', 'it', 'its', 'itself', \n",
    "              'they', 'them', 'their', 'theirs', 'themselves', \n",
    "              'what', 'which', 'who', 'whom', 'this', 'that', \n",
    "              'these', 'those', 'am', 'is', 'are', 'was', 'were', \n",
    "              'be', 'been', 'being', 'have', 'has', 'had', 'having', \n",
    "              'do', 'does', 'did', 'doing', 'a', 'an', 'the', 'and', \n",
    "              'but', 'if', 'or', 'because', 'as', 'until', 'while', \n",
    "              'of', 'at', 'by', 'for', 'with', 'about', 'against', \n",
    "              'between', 'into', 'through', 'during', 'before', \n",
    "              'after', 'above', 'below', 'to', 'from', 'up', 'down', \n",
    "              'in', 'out', 'on', 'off', 'over', 'under', 'again', \n",
    "              'further', 'then', 'once', 'here', 'there', 'when', \n",
    "              'where', 'why', 'how', 'all', 'any', 'both', 'each', \n",
    "              'few', 'more', 'most', 'other', 'some', 'such', 'no', \n",
    "              'nor', 'not', 'only', 'own', 'same', 'so', 'than', \n",
    "              'too', 'very', 'should', 'can', 'now', 'will', 'just', \n",
    "              'would', 'could', 'may', 'must', 'one', 'much', \"it's\",\n",
    "              \"can't\", \"won't\", \"don't\", \"shouldn't\", \"hasn't\"]"
   ]
  },
  {
   "cell_type": "code",
   "execution_count": 813,
   "metadata": {
    "application/vnd.databricks.v1+cell": {
     "inputWidgets": {},
     "nuid": "6f3bad8f-3d76-401d-8687-e16db841de68",
     "showTitle": false,
     "title": ""
    }
   },
   "outputs": [],
   "source": [
    "# part c - get the vocabulary and basis (RUN THIS CELL AS IS)\n",
    "# \n",
    "def get_vocab(rdd, n_total, n_basis):\n",
    "    vocab, basis = None, None\n",
    "    ############# YOUR CODE HERE ###############\n",
    "    sw = sc.broadcast(set(STOPWORDS))\n",
    "    top_10k = rdd.map(lambda line: line.split('\\t')[0:2])\\\n",
    "                 .flatMap(lambda x: [(w, int(x[1])) for w in x[0].lower().split() \n",
    "                                     if w not in sw.value])\\\n",
    "                 .reduceByKey(lambda x,y: x+y)\\\n",
    "                 .takeOrdered(n_total, key=lambda x: -x[1])\n",
    "    vocab = [pair[0] for pair in top_10k]\n",
    "    basis = vocab[n_total - n_basis:]\n",
    "    ############# (END) YOUR CODE ##############\n",
    "    return vocab, basis"
   ]
  },
  {
   "cell_type": "code",
   "execution_count": 814,
   "metadata": {
    "application/vnd.databricks.v1+cell": {
     "inputWidgets": {},
     "nuid": "817d0400-d9a5-4f5f-9fc8-106fc2614c75",
     "showTitle": false,
     "title": ""
    }
   },
   "outputs": [
    {
     "name": "stderr",
     "output_type": "stream",
     "text": [
      "                                                                                \r"
     ]
    },
    {
     "name": "stdout",
     "output_type": "stream",
     "text": [
      "Wall time: 205.97088837623596 seconds\n"
     ]
    }
   ],
   "source": [
    "# part c - run your job (RUN THIS CELL AS IS)\n",
    "start = time.time()\n",
    "VOCAB, BASIS = get_vocab(dataRDD, 10000, 1000)\n",
    "print(\"Wall time: {} seconds\".format(time.time() - start))\n",
    "# Wall time: 268.0176115036011 seconds"
   ]
  },
  {
   "cell_type": "code",
   "execution_count": 815,
   "metadata": {
    "application/vnd.databricks.v1+cell": {
     "inputWidgets": {},
     "nuid": "320fa840-3dd9-40ce-9584-4e7861d5b8f2",
     "showTitle": false,
     "title": ""
    }
   },
   "outputs": [],
   "source": [
    "# part c - save to file (RUN THIS CELL AS IS)\n",
    "with open(\"vocabulary.txt\", \"w\") as file:\n",
    "    file.write(str(VOCAB))\n",
    "with open(\"basis.txt\", \"w\") as file:\n",
    "    file.write(str(BASIS))"
   ]
  },
  {
   "cell_type": "code",
   "execution_count": 1179,
   "metadata": {
    "application/vnd.databricks.v1+cell": {
     "inputWidgets": {},
     "nuid": "e26c9657-5646-4835-b065-489c874ad30b",
     "showTitle": false,
     "title": ""
    }
   },
   "outputs": [],
   "source": [
    "# part d - spark job\n",
    "def buildStripes(rdd, vocab, basis):\n",
    "    stripesRDD = None\n",
    "    ############# YOUR CODE HERE ###############\n",
    "    \"\"\"\n",
    "    1. split ngram in grams\n",
    "    2. generate co-word permutations\n",
    "    3. drop pairs with same word and co-word\n",
    "    4. filter pair for co-word in basis\n",
    "    5. filter pair for word in vocab\n",
    "    6. place co-word in a list\n",
    "    7. reduce co-words into a list by key\n",
    "    8. produce set from list of values \n",
    "    \"\"\"\n",
    "    \n",
    "    # create set from basis and vocab vocabularies\n",
    "    basis, vocab = sc.broadcast(set(basis)), sc.broadcast(set(vocab))\n",
    "    \n",
    "    # spark job\n",
    "    # added != operation after f1RDD returned unexpected results\n",
    "    stripesRDD = rdd.map(lambda line: line.split('\\t')[0].lower().strip().split()) \\\n",
    "                    .flatMap(lambda gram: itertools.permutations(gram,2)) \\\n",
    "                    .filter(lambda pair: pair[0] != pair[1]) \\\n",
    "                    .filter(lambda pair: pair[1] in basis.value) \\\n",
    "                    .filter(lambda pair: pair[0] in vocab.value) \\\n",
    "                    .map(lambda pair: (pair[0], [pair[1]])) \\\n",
    "                    .reduceByKey(lambda a,b: a + b) \\\n",
    "                    .map(lambda pairs: (pairs[0], set(pairs[1])))\n",
    "\n",
    "    ############# (END) YOUR CODE ##############\n",
    "    return stripesRDD"
   ]
  },
  {
   "cell_type": "code",
   "execution_count": 1119,
   "metadata": {
    "application/vnd.databricks.v1+cell": {
     "inputWidgets": {},
     "nuid": "2a70b273-fb86-4f86-8111-a3480ecf18a7",
     "showTitle": false,
     "title": ""
    }
   },
   "outputs": [
    {
     "name": "stdout",
     "output_type": "stream",
     "text": [
      "[('best', {'times'}), ('worst', {'times'}), ('foolishness', {'age'}), ('age', {'foolishness', 'wisdom', 'times'}), ('wisdom', {'age'}), ('times', {'age', 'best', 'worst'})]\n",
      "Wall time: 0.13530802726745605 seconds\n"
     ]
    },
    {
     "data": {
      "text/plain": [
       "\"\\n[('worst', {'times'}), ('best', {'times'}), ('foolishness', {'age'}), ('age', {'wisdom', 'foolishness', 'times'}), ('wisdom', {'age'}), ('times', {'age', 'best', 'worst'})]\\n\""
      ]
     },
     "execution_count": 1119,
     "metadata": {},
     "output_type": "execute_result"
    }
   ],
   "source": [
    "# part d - run your systems test (RUN THIS CELL AS IS)\n",
    "VOCAB, BASIS = get_vocab(testRDD, 10, 10)\n",
    "testStripesRDD = buildStripes(testRDD, VOCAB, BASIS)\n",
    "start = time.time()\n",
    "print(testStripesRDD.collect())\n",
    "print(\"Wall time: {} seconds\".format(time.time() - start))\n",
    "# Wall time: 0.1581110954284668 seconds\n",
    "# Expected results\n",
    "'''\n",
    "[('worst', {'times'}), ('best', {'times'}), ('foolishness', {'age'}), ('age', {'wisdom', 'foolishness', 'times'}), ('wisdom', {'age'}), ('times', {'age', 'best', 'worst'})]\n",
    "'''"
   ]
  },
  {
   "cell_type": "code",
   "execution_count": 1121,
   "metadata": {
    "application/vnd.databricks.v1+cell": {
     "inputWidgets": {},
     "nuid": "2d6a2071-70d0-482b-9290-4e91d9f543d9",
     "showTitle": false,
     "title": ""
    },
    "tags": []
   },
   "outputs": [
    {
     "name": "stderr",
     "output_type": "stream",
     "text": [
      "[Stage 2132:============================>                           (1 + 1) / 2]\r"
     ]
    },
    {
     "name": "stdout",
     "output_type": "stream",
     "text": [
      "[('zippor', {'balak'}), ('zedong', {'mao'}), ('zeal', {'infallibility'}), ('youth', {'constrained', 'mould'}), ('younger', {'careers'})]\n",
      "Wall time: 4.377715587615967 seconds\n"
     ]
    },
    {
     "name": "stderr",
     "output_type": "stream",
     "text": [
      "                                                                                \r"
     ]
    },
    {
     "data": {
      "text/plain": [
       "\"\\n[('zippor', {'balak'}), ('zedong', {'mao'}), ('zeal', {'infallibility'}), ('youth', {'mould', 'constrained'}), ('younger', {'careers'})]\\n\""
      ]
     },
     "execution_count": 1121,
     "metadata": {},
     "output_type": "execute_result"
    }
   ],
   "source": [
    "# part d - run your single file test (RUN THIS CELL AS IS)\n",
    "VOCAB, BASIS = get_vocab(f1RDD, 10000, 1000)\n",
    "f1StripesRDD= buildStripes(f1RDD, VOCAB, BASIS).cache()\n",
    "start = time.time()\n",
    "print(f1StripesRDD.top(5))\n",
    "print(\"Wall time: {} seconds\".format(time.time() - start))\n",
    "# Wall time: 1.55739426612854 seconds\n",
    "# Expected results\n",
    "'''\n",
    "[('zippor', {'balak'}), ('zedong', {'mao'}), ('zeal', {'infallibility'}), ('youth', {'mould', 'constrained'}), ('younger', {'careers'})]\n",
    "'''"
   ]
  },
  {
   "cell_type": "code",
   "execution_count": 1064,
   "metadata": {
    "application/vnd.databricks.v1+cell": {
     "inputWidgets": {},
     "nuid": "470096b5-c854-4a3a-b8b7-50e45cd23c72",
     "showTitle": false,
     "title": ""
    }
   },
   "outputs": [
    {
     "name": "stderr",
     "output_type": "stream",
     "text": [
      "[Stage 1856:=================================================>  (182 + 4) / 190]\r"
     ]
    },
    {
     "name": "stdout",
     "output_type": "stream",
     "text": [
      "zones\n",
      "['parks', 'warmer', 'saturation', 'gaza', 'environments', 'buffer', 'localities', 'remotest', 'adhesion', 'residential', 'subdivided', 'uppermost']\n",
      "-------\n",
      "zone\n",
      "['penis', 'articular', 'avoidance', 'ie', 'cracks', 'poorly', 'southeastern', 'accumulate', 'trigger', 'tribal', 'atlas', 'transitional', 'sandy', 'masculine', 'flexor', 'excitation', 'assisting', 'parked', 'uppermost', 'auxiliary', 'saturation', 'vomiting', 'cartilage', 'defines', 'traversed', 'intervening', 'illuminated', 'glowing', 'originate', 'guides', 'contamination', 'au', 'fibrous', 'alaska', 'diffuse', 'persia', 'buffer', 'officially', 'unusually', 'penetrating', 'turbulent', 'residential', 'narrower', 'subdivided', 'inorganic', 'americas']\n",
      "-------\n",
      "zinc\n",
      "['phosphorus', \"alzheimer's\", 'metallic', 'transcription', 'radioactive', 'wasting', 'ammonium', 'pancreas', 'coating', 'hydroxide', 'dipped', 'leukemia', 'dietary', 'insoluble', 'dysfunction', 'burns', 'diamond', 'weighing']\n",
      "-------\n",
      "Wall time: 364.4752621650696 seconds\n"
     ]
    },
    {
     "name": "stderr",
     "output_type": "stream",
     "text": [
      "                                                                                \r"
     ]
    },
    {
     "data": {
      "text/plain": [
       "'\\nzones\\n[\\'remotest\\', \\'adhesion\\', \\'residential\\', \\'subdivided\\', \\'environments\\', \\'gaza\\', \\'saturation\\', \\'localities\\', \\'uppermost\\', \\'warmer\\', \\'buffer\\', \\'parks\\']\\n-------\\nzone\\n[\\'tribal\\', \\'narrower\\', \\'fibrous\\', \\'saturation\\', \\'originate\\', \\'auxiliary\\', \\'ie\\', \\'buffer\\', \\'transitional\\', \\'turbulent\\', \\'vomiting\\', \\'americas\\', \\'articular\\', \\'poorly\\', \\'intervening\\', \\'officially\\', \\'accumulate\\', \\'assisting\\', \\'flexor\\', \\'traversed\\', \\'unusually\\', \\'uppermost\\', \\'cartilage\\', \\'inorganic\\', \\'illuminated\\', \\'glowing\\', \\'contamination\\', \\'trigger\\', \\'masculine\\', \\'defines\\', \\'avoidance\\', \\'residential\\', \\'southeastern\\', \\'penis\\', \\'cracks\\', \\'atlas\\', \\'excitation\\', \\'persia\\', \\'diffuse\\', \\'subdivided\\', \\'alaska\\', \\'guides\\', \\'au\\', \\'sandy\\', \\'penetrating\\', \\'parked\\']\\n-------\\nzinc\\n[\\'ammonium\\', \\'coating\\', \\'pancreas\\', \\'insoluble\\', \"alzheimer\\'s\", \\'diamond\\', \\'radioactive\\', \\'metallic\\', \\'weighing\\', \\'dysfunction\\', \\'wasting\\', \\'phosphorus\\', \\'transcription\\', \\'dipped\\', \\'hydroxide\\', \\'burns\\', \\'leukemia\\', \\'dietary\\']\\n-------\\n'"
      ]
     },
     "execution_count": 1064,
     "metadata": {},
     "output_type": "execute_result"
    }
   ],
   "source": [
    "# part d - run the full analysis and take a look at a few stripes (RUN THIS CELL AS IS)\n",
    "VOCAB = ast.literal_eval(open(\"vocabulary.txt\", \"r\").read())\n",
    "BASIS = ast.literal_eval(open(\"basis.txt\", \"r\").read())\n",
    "stripesRDD = buildStripes(dataRDD, VOCAB, BASIS).cache()\n",
    "\n",
    "start = time.time()\n",
    "for wrd, stripe in stripesRDD.top(3):\n",
    "    print(wrd)\n",
    "    print(list(stripe))\n",
    "    print('-------')\n",
    "print(\"Wall time: {} seconds\".format(time.time() - start))\n",
    "# Wall time: 214.13801431655884 seconds\n",
    "# Expected results:\n",
    "'''\n",
    "zones\n",
    "['remotest', 'adhesion', 'residential', 'subdivided', 'environments', 'gaza', 'saturation', 'localities', 'uppermost', 'warmer', 'buffer', 'parks']\n",
    "-------\n",
    "zone\n",
    "['tribal', 'narrower', 'fibrous', 'saturation', 'originate', 'auxiliary', 'ie', 'buffer', 'transitional', 'turbulent', 'vomiting', 'americas', 'articular', 'poorly', 'intervening', 'officially', 'accumulate', 'assisting', 'flexor', 'traversed', 'unusually', 'uppermost', 'cartilage', 'inorganic', 'illuminated', 'glowing', 'contamination', 'trigger', 'masculine', 'defines', 'avoidance', 'residential', 'southeastern', 'penis', 'cracks', 'atlas', 'excitation', 'persia', 'diffuse', 'subdivided', 'alaska', 'guides', 'au', 'sandy', 'penetrating', 'parked']\n",
    "-------\n",
    "zinc\n",
    "['ammonium', 'coating', 'pancreas', 'insoluble', \"alzheimer's\", 'diamond', 'radioactive', 'metallic', 'weighing', 'dysfunction', 'wasting', 'phosphorus', 'transcription', 'dipped', 'hydroxide', 'burns', 'leukemia', 'dietary']\n",
    "-------\n",
    "'''"
   ]
  },
  {
   "cell_type": "code",
   "execution_count": 1065,
   "metadata": {
    "application/vnd.databricks.v1+cell": {
     "inputWidgets": {},
     "nuid": "4c83537a-cc0c-4629-9aa1-eaefeb9bfa46",
     "showTitle": false,
     "title": ""
    }
   },
   "outputs": [
    {
     "name": "stderr",
     "output_type": "stream",
     "text": [
      "                                                                                \r"
     ]
    }
   ],
   "source": [
    "# part d - save your full stripes to file for ease of retrival later... (OPTIONAL)\n",
    "stripesRDD.saveAsTextFile(PWD + '/stripes')"
   ]
  },
  {
   "cell_type": "code",
   "execution_count": 1128,
   "metadata": {},
   "outputs": [
    {
     "name": "stderr",
     "output_type": "stream",
     "text": [
      "                                                                                \r"
     ]
    },
    {
     "data": {
      "text/plain": [
       "9993"
      ]
     },
     "execution_count": 1128,
     "metadata": {},
     "output_type": "execute_result"
    }
   ],
   "source": [
    "stripesRDD.count()"
   ]
  },
  {
   "cell_type": "markdown",
   "metadata": {
    "application/vnd.databricks.v1+cell": {
     "inputWidgets": {},
     "nuid": "755130f1-1af3-472e-bd74-3435b7e2939f",
     "showTitle": false,
     "title": ""
    }
   },
   "source": [
    "# Question 8: Synonym Detection\n",
    "\n",
    "We're now ready to perform the main synonym detection analysis. In the tasks below you will compute cosine, jaccard, dice and overlap similarity measurements for each pair of words in our vocabulary and then sort your results to find the most similar pairs of words in this dataset. __`IMPORTANT:`__ When you get to the sorting step please __sort on cosine similarity__ only, so that we can ensure consistent results from student to student. \n",
    "\n",
    "Remember to test each step of your work with the small files before running your code on the full dataset. This is a computationally intense task: well designed code can be the difference between a 20min job and a 2hr job. __`NOTE:`__ _as you are designing your code you may want to review questions 3 and 4 where we modeled some of the key pieces of this analysis._\n",
    "\n",
    "### Q8 Tasks:\n",
    "* __a) short response:__ In question 7 you wrote a function that would create word stripes for each `term` in our vocabulary. These word stripes are essentially an 'embedded representation' of the `term`'s meaning. What is the 'feature space' for this representation? (i.e. what are the features of our 1-hot encoded vectors?). What is the maximum length of a stripe?\n",
    "\n",
    "* __b) short response:__ Remember that we are going to treat these stripes as 'documents' and perform similarity analysis on them. The first step is to emit postings which then get collected to form an 'inverted index.' How many rows will there be in our inverted index? Explain.\n",
    "\n",
    "* __c) short response:__ In the demo from question 2, we were able to compute the cosine similarity directly from the stripes (we did this using their vector form, but could have used the list instead). So why do we need the inverted index?\n",
    "\n",
    "* __d) code:__ Write a spark job that does the following:\n",
    "  * loops over the stripes from Q7 and emits postings for the `term` _(key:term, value:posting)_   \n",
    "  * aggregates the postings to create an inverted index _(key:term, value:list of postings)_\n",
    "  * loops over all pairs of `term`s that appear in the same postings list and emits co-occurrence counts\n",
    "  * aggregates co-occurrences _(key:word pair, value:count + other payload)_\n",
    "  * uses the counts (along with the accompanying information) to compute the cosine, jacard, dice and overlap similarity metrics for each pair of words in the vocabulary \n",
    "  * retrieve the top 20 and bottom 20 most/least similar pairs of words\n",
    "  * also return the cached sorted RDD for use in the next question  \n",
    "  __`NOTE 1`:__ _Don't forget to include the stripe length when you are creating the postings & co-occurrence pairs. A composite key is the way to go here._  \n",
    "  __`NOTE 2`:__ _Please make sure that your final results are sorted according to cosine similarity otherwise your results may not match the expected result & you will be marked wrong._\n",
    "  \n",
    "* __e) code:__ Comment on the quality of the \"synonyms\" your analysis comes up with. Do you notice anything odd about these pairs of words? Discuss at least one idea for how you might go about improving on the analysis."
   ]
  },
  {
   "cell_type": "markdown",
   "metadata": {
    "application/vnd.databricks.v1+cell": {
     "inputWidgets": {},
     "nuid": "c04f1c10-c494-46fa-9c84-7eefb4036894",
     "showTitle": false,
     "title": ""
    }
   },
   "source": [
    "### Q8 Student Answers:\n",
    "> __a)__ The stripes' feature space consists of the vocab vocabulary keys and the basis vocabulary values.  The maximum length of the stripe is determined by the number of features in the basis vocabulary plus the key term.\n",
    "\n",
    "> __b)__ The number of rows in the inverted index are constrained to the number of terms in the vocab vocabulary.  If the vocab vocabulary contains 10,000 words, then the max number of rows in the inverted index is 10,000.  The inverted index output from Question 7, which used a 10,000 term vocabulary, contains 9,993 rows.  Recall an inverted index is a table of terms paired with postings.  In this case, the terms from the vocab vocabulary are paired with words from the basis vocabulary.\n",
    "\n",
    "> __c)__ Creating an inverted index within the Spark framework allows similarity metrics to be processed efficiently using the stripe method and in parallel across a cluster.  As we looked at previously, the list approach is synonymous with one-hot encoding, the use of an inverted index generated by stripes is a favorable approach. \n",
    "\n",
    "> __e)__ The quality of the synonyms is quite poor considering the top 50 highest similarity rankings are not synonyms.  The word pair closest to being synonyms in the top 50 list is \"first-two\".  One thing I notice is the words from the word pairs seem likely to appear in the same sentence; examples are \"hong - kong\", \"states - united\", and \"new - part\".  My intuition for improving the analysis is as follows: I typically write two synonyms in a sentence that is composed of many words in which the synonyms are not next to one another.  For this reason, I think increasing the number of n-grams/window across words will improve the analysis.  Another tactic to improve the analysis is adding more stop words.  This could lead to the biggest elimination of word pairs that typically appear in the same sentence but are not synonyms.  "
   ]
  },
  {
   "cell_type": "code",
   "execution_count": 1085,
   "metadata": {
    "application/vnd.databricks.v1+cell": {
     "inputWidgets": {},
     "nuid": "b56bac93-522f-4c29-8895-3b4844720edb",
     "showTitle": false,
     "title": ""
    }
   },
   "outputs": [],
   "source": [
    "# helper function for pretty printing (RUN THIS CELL AS IS)\n",
    "def displayOutput(lines):\n",
    "    template = \"{:25}|{:6}, {:7}, {:7}, {:5}\"\n",
    "    print(template.format(\"Pair\", \"Cosine\", \"Jaccard\", \"Overlap\", \"Dice\"))\n",
    "    for pair, scores in lines:\n",
    "        scores = [round(s,4) for s in scores]\n",
    "        print(template.format(pair, *scores))"
   ]
  },
  {
   "cell_type": "markdown",
   "metadata": {
    "application/vnd.databricks.v1+cell": {
     "inputWidgets": {},
     "nuid": "97a29461-b203-49cb-8bc1-16127644446c",
     "showTitle": false,
     "title": ""
    }
   },
   "source": [
    "__`TIP:`__ Feel free to define helper functions within the main function to help you organize your code. Readability is important! Eg:\n",
    "```\n",
    "def similarityAnlysis(stripesRDD):\n",
    "    \"\"\"main docstring\"\"\"\n",
    "    \n",
    "    simScoresRDD, top_n, bottom_n = None, None, None\n",
    "    \n",
    "    ############ YOUR CODE HERE ###########\n",
    "    def helper1():\n",
    "        \"\"\"helper docstring\"\"\"\n",
    "        return x\n",
    "        \n",
    "    def helper2():\n",
    "        \"\"\"helper docstring\"\"\"\n",
    "        return x\n",
    "        \n",
    "    # main spark job starts here\n",
    "    \n",
    "        ...etc\n",
    "    ############ (END) YOUR CODE ###########\n",
    "    return simScoresRDD, top_n, bottom_n\n",
    "```"
   ]
  },
  {
   "cell_type": "code",
   "execution_count": 1108,
   "metadata": {
    "application/vnd.databricks.v1+cell": {
     "inputWidgets": {},
     "nuid": "c654dc13-824b-4905-920f-d11443f3d074",
     "showTitle": false,
     "title": ""
    }
   },
   "outputs": [],
   "source": [
    "# part d - write your spark job in the space provided\n",
    "def similarityAnalysis(stripesRDD, n):\n",
    "    \"\"\"\n",
    "    This function defines a Spark DAG to compute cosine, jaccard, \n",
    "    overlap and dice scores for each pair of words in the stripes\n",
    "    provided. \n",
    "    \n",
    "    Output: an RDD, a list of top n, a list of bottom n\n",
    "    \"\"\"\n",
    "    simScoresRDD, top_n, bottom_n = None, None, None\n",
    "    \n",
    "    ############### YOUR CODE HERE ################\n",
    "   \n",
    "    def splitWords(pair):\n",
    "        \"\"\"Mapper 2: tokenize each document and emit postings.\"\"\"\n",
    "        doc, text = pair\n",
    "        words = text.split(\" \")\n",
    "        for w in words:\n",
    "            yield (w, [(doc,len(words))])\n",
    "            \n",
    "    def makeCompositeKey(inverted_index):\n",
    "        \"\"\"Mapper 3: loop over postings and yield pairs.\"\"\"\n",
    "        word, postings = inverted_index\n",
    "        # taking advantage of symmetry, output only (a,b), but not (b,a)\n",
    "        for subset in itertools.combinations(sorted(postings), 2):\n",
    "            yield (str(subset), 1)\n",
    "            \n",
    "    def similarity(line):\n",
    "        \"\"\"Mapper 4: compute similarity scores\"\"\"\n",
    "        (doc1, n1), (doc2, n2) = ast.literal_eval(line[0])\n",
    "        # a instersect b, set a, set b\n",
    "        total, n1, n2 = int(line[1]), int(n1), int(n2)\n",
    "        \n",
    "        \n",
    "        cosine = total / float(((n1)**0.5) * (n2)**0.5)\n",
    "        \n",
    "        # a intersect b / a union b (a + b - a intersect b)\n",
    "        jaccard = total / float(n1 + n2 - total)\n",
    "        \n",
    "        # 2 * (a intersect b) / (set size a + set size b)\n",
    "        dice = (2 * total) / float(n1 + n2)\n",
    "        \n",
    "        # a intersect b / min size between a and b\n",
    "        overlap = total / float(min(n1, n2))  \n",
    "        \n",
    "        similarities = [cosine, jaccard, overlap, dice]\n",
    "        yield doc1+\" - \"+doc2, similarities\n",
    "    \n",
    "    # spark Job\n",
    "    result = stripesRDD.map(lambda pair: (pair[0], ' '.join(pair[1]))) \\\n",
    "                 .flatMap(splitWords) \\\n",
    "                 .reduceByKey(lambda a,b : a + b) \\\n",
    "                 .flatMap(makeCompositeKey) \\\n",
    "                 .reduceByKey(lambda a,b : a + b) \\\n",
    "                 .flatMap(similarity)\n",
    "    \n",
    "    result = result.sortBy(lambda x: -x[1][0]).cache()\n",
    "\n",
    "    top_n = result.takeOrdered(n, key=lambda x: -x[1][0])\n",
    "    \n",
    "    bottom_n = result.takeOrdered(n, key=lambda x: x[1][0])\n",
    "\n",
    "    ############### (END) YOUR CODE ##############\n",
    "    return result, top_n, bottom_n"
   ]
  },
  {
   "cell_type": "code",
   "execution_count": 1109,
   "metadata": {
    "application/vnd.databricks.v1+cell": {
     "inputWidgets": {},
     "nuid": "d0eb2822-463a-462a-b71f-f5f84b340b45",
     "showTitle": false,
     "title": ""
    }
   },
   "outputs": [
    {
     "name": "stdout",
     "output_type": "stream",
     "text": [
      "Wall time: 0.6770732402801514 seconds\n"
     ]
    }
   ],
   "source": [
    "# part d - run the system test (RUN THIS CELL AS IS... use display cell below to see results)\n",
    "start = time.time()\n",
    "testResult, top_n, bottom_n= similarityAnalysis(testStripesRDD, 10)\n",
    "print(\"Wall time: {} seconds\".format(time.time() - start))\n",
    "# Wall time: 1.4768586158752441 seconds"
   ]
  },
  {
   "cell_type": "code",
   "execution_count": 1131,
   "metadata": {
    "application/vnd.databricks.v1+cell": {
     "inputWidgets": {},
     "nuid": "89790631-03c5-4fad-a582-ae8102ef6f9b",
     "showTitle": false,
     "title": ""
    }
   },
   "outputs": [
    {
     "name": "stdout",
     "output_type": "stream",
     "text": [
      "Wall time: 2.1683499813079834 seconds\n"
     ]
    }
   ],
   "source": [
    "# part d - run the system test (RUN THIS CELL AS IS... use display cell below to see results)\n",
    "start = time.time()\n",
    "f1Result, top_n, bottom_n = similarityAnalysis(f1StripesRDD, 10)\n",
    "print(\"Wall time: {} seconds\".format(time.time() - start))\n",
    "# Wall time: 1.9845571517944336 seconds"
   ]
  },
  {
   "cell_type": "code",
   "execution_count": 1111,
   "metadata": {
    "application/vnd.databricks.v1+cell": {
     "inputWidgets": {},
     "nuid": "a770823e-2656-4db3-acf3-cdfc5901de42",
     "showTitle": false,
     "title": ""
    }
   },
   "outputs": [
    {
     "name": "stdout",
     "output_type": "stream",
     "text": [
      "38972\n",
      "Pair                     |Cosine, Jaccard, Overlap, Dice \n",
      "commentary - lady        |   1.0,     1.0,     1.0,   1.0\n",
      "commentary - learn       |   1.0,     1.0,     1.0,   1.0\n",
      "commentary - owe         |   1.0,     1.0,     1.0,   1.0\n",
      "commentary - really      |   1.0,     1.0,     1.0,   1.0\n",
      "commentary - tone        |   1.0,     1.0,     1.0,   1.0\n",
      "curious - lady           |   1.0,     1.0,     1.0,   1.0\n",
      "curious - owe            |   1.0,     1.0,     1.0,   1.0\n",
      "curious - reply          |   1.0,     1.0,     1.0,   1.0\n",
      "curious - tone           |   1.0,     1.0,     1.0,   1.0\n",
      "lady - owe               |   1.0,     1.0,     1.0,   1.0\n"
     ]
    }
   ],
   "source": [
    "print(count)\n",
    "displayOutput(top_n)"
   ]
  },
  {
   "cell_type": "code",
   "execution_count": 1094,
   "metadata": {
    "application/vnd.databricks.v1+cell": {
     "inputWidgets": {},
     "nuid": "d7c73eab-154b-49db-9e52-83c6c6a8a8ae",
     "showTitle": false,
     "title": ""
    }
   },
   "outputs": [
    {
     "name": "stdout",
     "output_type": "stream",
     "text": [
      "Pair                     |Cosine, Jaccard, Overlap, Dice \n",
      "part - time              |0.0294,  0.0149,  0.0303, 0.0294\n",
      "time - upon              |0.0314,  0.0159,  0.0345, 0.0312\n",
      "time - two               |0.0314,  0.0159,  0.0345, 0.0312\n",
      "made - time              |0.0325,  0.0164,   0.037, 0.0323\n",
      "first - time             |0.0338,  0.0169,    0.04, 0.0333\n",
      "new - time               |0.0352,  0.0175,  0.0435, 0.0345\n",
      "part - us                |0.0355,  0.0179,  0.0417, 0.0351\n",
      "little - part            |0.0355,  0.0179,  0.0417, 0.0351\n",
      "made - upon              |0.0357,  0.0182,   0.037, 0.0357\n",
      "made - two               |0.0357,  0.0182,   0.037, 0.0357\n"
     ]
    }
   ],
   "source": [
    "displayOutput(bottom_n)"
   ]
  },
  {
   "cell_type": "code",
   "execution_count": 1095,
   "metadata": {
    "application/vnd.databricks.v1+cell": {
     "inputWidgets": {},
     "nuid": "98d0be65-e606-44ab-ac0b-2df0cd9dce3b",
     "showTitle": false,
     "title": ""
    },
    "collapsed": true,
    "jupyter": {
     "outputs_hidden": true
    },
    "tags": []
   },
   "outputs": [
    {
     "name": "stderr",
     "output_type": "stream",
     "text": [
      "21/10/03 19:01:41 WARN MemoryStore: Failed to reserve initial memory threshold of 1024.0 KiB for computing block rdd_3182_177 in memory.\n",
      "21/10/03 19:01:41 WARN MemoryStore: Failed to reserve initial memory threshold of 1024.0 KiB for computing block rdd_3182_179 in memory.\n",
      "21/10/03 19:01:42 WARN MemoryStore: Not enough space to cache rdd_3182_177 in memory! (computed 0.0 B so far)\n",
      "21/10/03 19:01:42 WARN BlockManager: Block rdd_3182_177 could not be removed as it was not found on disk or in memory\n",
      "21/10/03 19:01:42 WARN BlockManager: Putting block rdd_3182_177 failed\n",
      "21/10/03 19:01:42 WARN MemoryStore: Not enough space to cache rdd_3182_179 in memory! (computed 0.0 B so far)\n",
      "21/10/03 19:01:42 WARN BlockManager: Block rdd_3182_179 could not be removed as it was not found on disk or in memory\n",
      "21/10/03 19:01:42 WARN BlockManager: Putting block rdd_3182_179 failed\n",
      "21/10/03 19:01:42 WARN MemoryStore: Not enough space to cache rdd_3182_178 in memory! (computed 1126.7 KiB so far)\n",
      "21/10/03 19:01:42 WARN BlockManager: Block rdd_3182_178 could not be removed as it was not found on disk or in memory\n",
      "21/10/03 19:01:42 WARN BlockManager: Putting block rdd_3182_178 failed\n",
      "21/10/03 19:01:42 WARN MemoryStore: Not enough space to cache rdd_3182_176 in memory! (computed 2047.7 KiB so far)\n",
      "21/10/03 19:01:42 WARN BlockManager: Block rdd_3182_176 could not be removed as it was not found on disk or in memory\n",
      "21/10/03 19:01:42 WARN BlockManager: Putting block rdd_3182_176 failed\n",
      "21/10/03 19:01:43 WARN MemoryStore: Failed to reserve initial memory threshold of 1024.0 KiB for computing block rdd_3182_182 in memory.\n",
      "21/10/03 19:01:43 WARN MemoryStore: Failed to reserve initial memory threshold of 1024.0 KiB for computing block rdd_3182_183 in memory.\n",
      "21/10/03 19:01:43 WARN MemoryStore: Not enough space to cache rdd_3182_182 in memory! (computed 0.0 B so far)\n",
      "21/10/03 19:01:43 WARN BlockManager: Block rdd_3182_182 could not be removed as it was not found on disk or in memory\n",
      "21/10/03 19:01:43 WARN BlockManager: Putting block rdd_3182_182 failed\n",
      "21/10/03 19:01:43 WARN MemoryStore: Failed to reserve initial memory threshold of 1024.0 KiB for computing block rdd_3182_184 in memory.\n",
      "21/10/03 19:01:44 WARN MemoryStore: Not enough space to cache rdd_3182_183 in memory! (computed 0.0 B so far)\n",
      "21/10/03 19:01:44 WARN BlockManager: Block rdd_3182_183 could not be removed as it was not found on disk or in memory\n",
      "21/10/03 19:01:44 WARN BlockManager: Putting block rdd_3182_183 failed\n",
      "21/10/03 19:01:44 WARN MemoryStore: Not enough space to cache rdd_3182_180 in memory! (computed 2030.8 KiB so far)\n",
      "21/10/03 19:01:44 WARN BlockManager: Block rdd_3182_180 could not be removed as it was not found on disk or in memory\n",
      "21/10/03 19:01:44 WARN BlockManager: Putting block rdd_3182_180 failed\n",
      "21/10/03 19:01:44 WARN MemoryStore: Not enough space to cache rdd_3182_181 in memory! (computed 1101.9 KiB so far)\n",
      "21/10/03 19:01:44 WARN BlockManager: Block rdd_3182_181 could not be removed as it was not found on disk or in memory\n",
      "21/10/03 19:01:44 WARN BlockManager: Putting block rdd_3182_181 failed\n",
      "21/10/03 19:01:44 WARN MemoryStore: Not enough space to cache rdd_3182_184 in memory! (computed 0.0 B so far)\n",
      "21/10/03 19:01:44 WARN BlockManager: Block rdd_3182_184 could not be removed as it was not found on disk or in memory\n",
      "21/10/03 19:01:44 WARN BlockManager: Putting block rdd_3182_184 failed\n",
      "21/10/03 19:01:44 WARN MemoryStore: Failed to reserve initial memory threshold of 1024.0 KiB for computing block rdd_3182_187 in memory.\n",
      "21/10/03 19:01:45 WARN MemoryStore: Not enough space to cache rdd_3182_187 in memory! (computed 0.0 B so far)\n",
      "21/10/03 19:01:45 WARN BlockManager: Block rdd_3182_187 could not be removed as it was not found on disk or in memory\n",
      "21/10/03 19:01:45 WARN BlockManager: Putting block rdd_3182_187 failed\n",
      "21/10/03 19:01:45 WARN MemoryStore: Failed to reserve initial memory threshold of 1024.0 KiB for computing block rdd_3182_188 in memory.\n",
      "21/10/03 19:01:45 WARN MemoryStore: Failed to reserve initial memory threshold of 1024.0 KiB for computing block rdd_3182_189 in memory.\n",
      "21/10/03 19:01:46 WARN MemoryStore: Not enough space to cache rdd_3182_188 in memory! (computed 0.0 B so far)\n",
      "21/10/03 19:01:46 WARN BlockManager: Block rdd_3182_188 could not be removed as it was not found on disk or in memory\n",
      "21/10/03 19:01:46 WARN BlockManager: Putting block rdd_3182_188 failed\n",
      "21/10/03 19:01:46 WARN MemoryStore: Not enough space to cache rdd_3182_186 in memory! (computed 1118.3 KiB so far)\n",
      "21/10/03 19:01:46 WARN BlockManager: Block rdd_3182_186 could not be removed as it was not found on disk or in memory\n",
      "21/10/03 19:01:46 WARN BlockManager: Putting block rdd_3182_186 failed\n",
      "21/10/03 19:01:46 WARN MemoryStore: Not enough space to cache rdd_3182_189 in memory! (computed 0.0 B so far)\n",
      "21/10/03 19:01:46 WARN BlockManager: Block rdd_3182_189 could not be removed as it was not found on disk or in memory\n",
      "21/10/03 19:01:46 WARN BlockManager: Putting block rdd_3182_189 failed\n",
      "21/10/03 19:01:58 WARN MemoryStore: Failed to reserve initial memory threshold of 1024.0 KiB for computing block rdd_3182_177 in memory.\n",
      "21/10/03 19:01:58 WARN MemoryStore: Failed to reserve initial memory threshold of 1024.0 KiB for computing block rdd_3182_178 in memory.\n",
      "21/10/03 19:01:58 WARN MemoryStore: Failed to reserve initial memory threshold of 1024.0 KiB for computing block rdd_3182_179 in memory.\n",
      "21/10/03 19:01:59 WARN MemoryStore: Not enough space to cache rdd_3182_179 in memory! (computed 0.0 B so far)\n",
      "21/10/03 19:01:59 WARN BlockManager: Block rdd_3182_179 could not be removed as it was not found on disk or in memory\n",
      "21/10/03 19:01:59 WARN BlockManager: Putting block rdd_3182_179 failed\n",
      "21/10/03 19:01:59 WARN MemoryStore: Not enough space to cache rdd_3182_178 in memory! (computed 0.0 B so far)\n",
      "21/10/03 19:01:59 WARN BlockManager: Block rdd_3182_178 could not be removed as it was not found on disk or in memory\n",
      "21/10/03 19:01:59 WARN BlockManager: Putting block rdd_3182_178 failed\n",
      "21/10/03 19:01:59 WARN MemoryStore: Failed to reserve initial memory threshold of 1024.0 KiB for computing block rdd_3182_180 in memory.\n",
      "21/10/03 19:02:00 WARN MemoryStore: Not enough space to cache rdd_3182_176 in memory! (computed 1135.4 KiB so far)\n",
      "21/10/03 19:02:00 WARN BlockManager: Block rdd_3182_176 could not be removed as it was not found on disk or in memory\n",
      "21/10/03 19:02:00 WARN BlockManager: Putting block rdd_3182_176 failed\n",
      "21/10/03 19:02:00 WARN MemoryStore: Not enough space to cache rdd_3182_177 in memory! (computed 0.0 B so far)\n",
      "21/10/03 19:02:00 WARN BlockManager: Block rdd_3182_177 could not be removed as it was not found on disk or in memory\n",
      "21/10/03 19:02:00 WARN BlockManager: Putting block rdd_3182_177 failed\n",
      "21/10/03 19:02:00 WARN MemoryStore: Failed to reserve initial memory threshold of 1024.0 KiB for computing block rdd_3182_182 in memory.\n",
      "21/10/03 19:02:00 WARN MemoryStore: Not enough space to cache rdd_3182_182 in memory! (computed 0.0 B so far)\n",
      "21/10/03 19:02:00 WARN BlockManager: Block rdd_3182_182 could not be removed as it was not found on disk or in memory\n",
      "21/10/03 19:02:00 WARN BlockManager: Putting block rdd_3182_182 failed\n",
      "21/10/03 19:02:00 WARN MemoryStore: Failed to reserve initial memory threshold of 1024.0 KiB for computing block rdd_3182_183 in memory.\n",
      "21/10/03 19:02:01 WARN MemoryStore: Failed to reserve initial memory threshold of 1024.0 KiB for computing block rdd_3182_184 in memory.\n",
      "21/10/03 19:02:01 WARN MemoryStore: Not enough space to cache rdd_3182_180 in memory! (computed 0.0 B so far)\n",
      "21/10/03 19:02:01 WARN BlockManager: Block rdd_3182_180 could not be removed as it was not found on disk or in memory\n",
      "21/10/03 19:02:01 WARN BlockManager: Putting block rdd_3182_180 failed\n",
      "21/10/03 19:02:01 WARN MemoryStore: Not enough space to cache rdd_3182_181 in memory! (computed 1101.9 KiB so far)\n",
      "21/10/03 19:02:01 WARN BlockManager: Block rdd_3182_181 could not be removed as it was not found on disk or in memory\n",
      "21/10/03 19:02:01 WARN BlockManager: Putting block rdd_3182_181 failed\n",
      "21/10/03 19:02:01 WARN MemoryStore: Not enough space to cache rdd_3182_183 in memory! (computed 0.0 B so far)\n",
      "21/10/03 19:02:01 WARN MemoryStore: Not enough space to cache rdd_3182_184 in memory! (computed 0.0 B so far)\n",
      "21/10/03 19:02:02 WARN BlockManager: Block rdd_3182_184 could not be removed as it was not found on disk or in memory\n",
      "21/10/03 19:02:02 WARN BlockManager: Putting block rdd_3182_184 failed\n",
      "21/10/03 19:02:02 WARN BlockManager: Block rdd_3182_183 could not be removed as it was not found on disk or in memory\n",
      "21/10/03 19:02:02 WARN BlockManager: Putting block rdd_3182_183 failed\n",
      "21/10/03 19:02:02 WARN MemoryStore: Failed to reserve initial memory threshold of 1024.0 KiB for computing block rdd_3182_187 in memory.\n",
      "21/10/03 19:02:02 WARN MemoryStore: Failed to reserve initial memory threshold of 1024.0 KiB for computing block rdd_3182_188 in memory.\n",
      "21/10/03 19:02:02 WARN MemoryStore: Not enough space to cache rdd_3182_187 in memory! (computed 0.0 B so far)\n",
      "21/10/03 19:02:02 WARN BlockManager: Block rdd_3182_187 could not be removed as it was not found on disk or in memory\n",
      "21/10/03 19:02:02 WARN BlockManager: Putting block rdd_3182_187 failed\n",
      "21/10/03 19:02:02 WARN MemoryStore: Failed to reserve initial memory threshold of 1024.0 KiB for computing block rdd_3182_189 in memory.\n",
      "21/10/03 19:02:03 WARN MemoryStore: Not enough space to cache rdd_3182_188 in memory! (computed 0.0 B so far)\n",
      "21/10/03 19:02:03 WARN BlockManager: Block rdd_3182_188 could not be removed as it was not found on disk or in memory\n",
      "21/10/03 19:02:03 WARN BlockManager: Putting block rdd_3182_188 failed\n",
      "21/10/03 19:02:03 WARN MemoryStore: Not enough space to cache rdd_3182_189 in memory! (computed 0.0 B so far)\n",
      "21/10/03 19:02:03 WARN BlockManager: Block rdd_3182_189 could not be removed as it was not found on disk or in memory\n",
      "21/10/03 19:02:03 WARN BlockManager: Putting block rdd_3182_189 failed\n",
      "21/10/03 19:02:03 WARN MemoryStore: Not enough space to cache rdd_3182_186 in memory! (computed 1118.3 KiB so far)\n",
      "21/10/03 19:02:03 WARN BlockManager: Block rdd_3182_186 could not be removed as it was not found on disk or in memory\n",
      "21/10/03 19:02:03 WARN BlockManager: Putting block rdd_3182_186 failed\n",
      "[Stage 1949:===================================================>(189 + 1) / 190]\r"
     ]
    },
    {
     "name": "stdout",
     "output_type": "stream",
     "text": [
      "Wall time: 1413.3118302822113 seconds\n"
     ]
    },
    {
     "name": "stderr",
     "output_type": "stream",
     "text": [
      "                                                                                \r"
     ]
    }
   ],
   "source": [
    "# part d - run the system test (RUN THIS CELL AS IS... use display cell below to see results)\n",
    "start = time.time()\n",
    "result, top_n, bottom_n = similarityAnalysis(stripesRDD, 20)\n",
    "print(\"Wall time: {} seconds\".format(time.time() - start))\n",
    "# Wall time: 1851.9786894321442 seconds"
   ]
  },
  {
   "cell_type": "code",
   "execution_count": 1096,
   "metadata": {
    "application/vnd.databricks.v1+cell": {
     "inputWidgets": {},
     "nuid": "1e276d49-96f1-4f6a-8858-00d804989777",
     "showTitle": false,
     "title": ""
    }
   },
   "outputs": [
    {
     "name": "stdout",
     "output_type": "stream",
     "text": [
      "Pair                     |Cosine, Jaccard, Overlap, Dice \n",
      "first - time             |  0.89,  0.8012,  0.9149, 0.8897\n",
      "time - well              |0.8895,   0.801,   0.892, 0.8895\n",
      "great - time             | 0.875,  0.7757,   0.925, 0.8737\n",
      "part - well              | 0.874,  0.7755,  0.9018, 0.8735\n",
      "first - well             |0.8717,  0.7722,  0.8936, 0.8715\n",
      "part - time              |0.8715,  0.7715,  0.9018, 0.871\n",
      "time - upon              |0.8668,   0.763,  0.9152, 0.8656\n",
      "made - time              | 0.866,  0.7619,  0.9109, 0.8649\n",
      "made - well              |0.8601,  0.7531,  0.9022, 0.8592\n",
      "time - way               |0.8587,  0.7487,  0.9259, 0.8563\n",
      "great - well             |0.8526,  0.7412,  0.8988, 0.8514\n",
      "time - two               |0.8517,  0.7389,  0.9094, 0.8498\n",
      "first - great            |0.8497,  0.7381,  0.8738, 0.8493\n",
      "first - part             |0.8471,  0.7348,  0.8527, 0.8471\n",
      "great - upon             |0.8464,  0.7338,  0.8475, 0.8464\n",
      "upon - well              |0.8444,   0.729,   0.889, 0.8433\n",
      "new - time               |0.8426,   0.724,  0.9133, 0.8399\n",
      "first - two              |0.8411,  0.7249,  0.8737, 0.8405\n",
      "way - well               |0.8357,  0.7146,  0.8986, 0.8335\n",
      "time - us                |0.8357,  0.7105,  0.9318, 0.8308\n"
     ]
    }
   ],
   "source": [
    "displayOutput(top_n)"
   ]
  },
  {
   "cell_type": "code",
   "execution_count": 1097,
   "metadata": {
    "application/vnd.databricks.v1+cell": {
     "inputWidgets": {},
     "nuid": "c0d9efbd-b518-4bda-98a2-5bb5f1117f2b",
     "showTitle": false,
     "title": ""
    }
   },
   "outputs": [
    {
     "name": "stdout",
     "output_type": "stream",
     "text": [
      "Pair                     |Cosine, Jaccard, Overlap, Dice \n",
      "region - write           |0.0067,  0.0032,  0.0085, 0.0065\n",
      "relation - snow          |0.0067,  0.0026,  0.0141, 0.0052\n",
      "cardiac - took           |0.0074,  0.0023,  0.0217, 0.0045\n",
      "ever - tumor             |0.0076,   0.002,  0.0263, 0.004\n",
      "came - tumor             |0.0076,   0.002,  0.0263, 0.004\n",
      "let - therapy            |0.0076,   0.003,  0.0161, 0.0059\n",
      "related - stay           |0.0078,  0.0036,  0.0116, 0.0072\n",
      "factors - hear           |0.0078,  0.0039,  0.0094, 0.0077\n",
      "implications - round     |0.0078,  0.0033,  0.0145, 0.0066\n",
      "came - proteins          |0.0079,   0.002,  0.0286, 0.0041\n",
      "population - window      |0.0079,  0.0039,    0.01, 0.0077\n",
      "love - proportional      | 0.008,  0.0029,  0.0185, 0.0058\n",
      "got - multiple           | 0.008,  0.0034,  0.0149, 0.0067\n",
      "changes - fort           |0.0081,  0.0032,  0.0161, 0.0065\n",
      "layer - wife             |0.0081,  0.0038,  0.0119, 0.0075\n",
      "five - sympathy          |0.0081,  0.0034,  0.0149, 0.0068\n",
      "arrival - essential      |0.0081,   0.004,  0.0093, 0.008\n",
      "desert - function        |0.0081,  0.0031,  0.0175, 0.0062\n",
      "fundamental - stood      |0.0081,  0.0038,  0.0115, 0.0077\n",
      "patients - plain         |0.0081,   0.004,  0.0103, 0.0079\n"
     ]
    }
   ],
   "source": [
    "displayOutput(bottom_n)"
   ]
  },
  {
   "cell_type": "markdown",
   "metadata": {
    "application/vnd.databricks.v1+cell": {
     "inputWidgets": {},
     "nuid": "09c78c64-6d5e-4ae0-b098-b7ac7d02830a",
     "showTitle": false,
     "title": ""
    }
   },
   "source": [
    "__Expected output f1RDD:__  \n",
    "<table>\n",
    "<th>MOST SIMILAR:</th>\n",
    "<th>LEAST SIMILAR:</th>\n",
    "<tr><td><pre>\n",
    "Pair                     |Cosine, Jaccard, Overlap, Dice \n",
    "commentary - lady        |   1.0,     1.0,     1.0,   1.0\n",
    "commentary - toes        |   1.0,     1.0,     1.0,   1.0\n",
    "commentary - reply       |   1.0,     1.0,     1.0,   1.0\n",
    "curious - tone           |   1.0,     1.0,     1.0,   1.0\n",
    "curious - lady           |   1.0,     1.0,     1.0,   1.0\n",
    "curious - owe            |   1.0,     1.0,     1.0,   1.0\n",
    "lady - tone              |   1.0,     1.0,     1.0,   1.0\n",
    "reply - tone             |   1.0,     1.0,     1.0,   1.0\n",
    "lady - toes              |   1.0,     1.0,     1.0,   1.0\n",
    "lady - reply             |   1.0,     1.0,     1.0,   1.0\n",
    "</pre></td>\n",
    "<td><pre>\n",
    "\n",
    "Pair                     |Cosine, Jaccard, Overlap, Dice \n",
    "part - time              |0.0294,  0.0149,  0.0303, 0.0294\n",
    "time - upon              |0.0314,  0.0159,  0.0345, 0.0312\n",
    "time - two               |0.0314,  0.0159,  0.0345, 0.0312\n",
    "made - time              |0.0325,  0.0164,   0.037, 0.0323\n",
    "first - time             |0.0338,  0.0169,    0.04, 0.0333\n",
    "new - time               |0.0352,  0.0175,  0.0435, 0.0345\n",
    "part - us                |0.0355,  0.0179,  0.0417, 0.0351\n",
    "little - part            |0.0355,  0.0179,  0.0417, 0.0351\n",
    "made - two               |0.0357,  0.0182,   0.037, 0.0357\n",
    "made - upon              |0.0357,  0.0182,   0.037, 0.0357\n",
    "</pre></td></tr>\n",
    "</table>\n",
    "\n",
    "__Expected output dataRDD:__  \n",
    "<table>\n",
    "<th>Most Similar</th>\n",
    "<th>Least Similar</th>\n",
    "<tr><td><pre>\n",
    "Pair                     |Cosine, Jaccard, Overlap, Dice \n",
    "first - time             |  0.89,  0.8012,  0.9149, 0.8897\n",
    "time - well              |0.8895,   0.801,   0.892, 0.8895\n",
    "great - time             | 0.875,  0.7757,   0.925, 0.8737\n",
    "part - well              | 0.874,  0.7755,  0.9018, 0.8735\n",
    "first - well             |0.8717,  0.7722,  0.8936, 0.8715\n",
    "part - time              |0.8715,  0.7715,  0.9018, 0.871\n",
    "time - upon              |0.8668,   0.763,  0.9152, 0.8656\n",
    "made - time              | 0.866,  0.7619,  0.9109, 0.8649\n",
    "made - well              |0.8601,  0.7531,  0.9022, 0.8592\n",
    "time - way               |0.8587,  0.7487,  0.9259, 0.8563\n",
    "great - well             |0.8526,  0.7412,  0.8988, 0.8514\n",
    "time - two               |0.8517,  0.7389,  0.9094, 0.8498\n",
    "first - great            |0.8497,  0.7381,  0.8738, 0.8493\n",
    "first - part             |0.8471,  0.7348,  0.8527, 0.8471\n",
    "great - upon             |0.8464,  0.7338,  0.8475, 0.8464\n",
    "upon - well              |0.8444,   0.729,   0.889, 0.8433\n",
    "new - time               |0.8426,   0.724,  0.9133, 0.8399\n",
    "first - two              |0.8411,  0.7249,  0.8737, 0.8405\n",
    "way - well               |0.8357,  0.7146,  0.8986, 0.8335\n",
    "time - us                |0.8357,  0.7105,  0.9318, 0.8308\n",
    "\n",
    "</pre></td>\n",
    "<td><pre>\n",
    "Pair                     |Cosine, Jaccard, Overlap, Dice \n",
    "region - write           |0.0067,  0.0032,  0.0085, 0.0065\n",
    "relation - snow          |0.0067,  0.0026,  0.0141, 0.0052\n",
    "cardiac - took           |0.0074,  0.0023,  0.0217, 0.0045\n",
    "ever - tumor             |0.0076,   0.002,  0.0263, 0.004\n",
    "came - tumor             |0.0076,   0.002,  0.0263, 0.004\n",
    "let - therapy            |0.0076,   0.003,  0.0161, 0.0059\n",
    "related - stay           |0.0078,  0.0036,  0.0116, 0.0072\n",
    "factors - hear           |0.0078,  0.0039,  0.0094, 0.0077\n",
    "implications - round     |0.0078,  0.0033,  0.0145, 0.0066\n",
    "came - proteins          |0.0079,   0.002,  0.0286, 0.0041\n",
    "population - window      |0.0079,  0.0039,    0.01, 0.0077\n",
    "love - proportional      | 0.008,  0.0029,  0.0185, 0.0058\n",
    "got - multiple           | 0.008,  0.0034,  0.0149, 0.0067\n",
    "changes - fort           |0.0081,  0.0032,  0.0161, 0.0065\n",
    "layer - wife             |0.0081,  0.0038,  0.0119, 0.0075\n",
    "five - sympathy          |0.0081,  0.0034,  0.0149, 0.0068\n",
    "arrival - essential      |0.0081,   0.004,  0.0093, 0.008\n",
    "desert - function        |0.0081,  0.0031,  0.0175, 0.0062\n",
    "fundamental - stood      |0.0081,  0.0038,  0.0115, 0.0077\n",
    "patients - plain         |0.0081,   0.004,  0.0103, 0.0079\n",
    "</pre></td></tr>\n",
    "</table>"
   ]
  },
  {
   "cell_type": "markdown",
   "metadata": {
    "application/vnd.databricks.v1+cell": {
     "inputWidgets": {},
     "nuid": "63c40693-e756-4efd-985a-7db35c58af83",
     "showTitle": false,
     "title": ""
    }
   },
   "source": [
    "### Congratulations, you have completed HW3! Please refer to the readme for submission instructions.\n",
    "\n",
    "If you would like to provide feedback regarding this homework, please use the survey at: https://docs.google.com/forms/d/e/1FAIpQLSce9feiQeSkdP43A0ZYui1tMGIBfLfzb0rmgToQeZD9bXXX8Q/viewform"
   ]
  },
  {
   "cell_type": "code",
   "execution_count": 1140,
   "metadata": {
    "tags": []
   },
   "outputs": [
    {
     "name": "stderr",
     "output_type": "stream",
     "text": [
      "21/10/03 23:30:57 WARN MemoryStore: Not enough space to cache rdd_3182_4 in memory! (computed 3.9 MiB so far)\n",
      "21/10/03 23:30:57 WARN BlockManager: Block rdd_3182_4 could not be removed as it was not found on disk or in memory\n",
      "21/10/03 23:30:57 WARN BlockManager: Putting block rdd_3182_4 failed\n",
      "21/10/03 23:31:06 WARN MemoryStore: Not enough space to cache rdd_3182_1 in memory! (computed 1819.5 KiB so far)\n",
      "21/10/03 23:31:06 WARN BlockManager: Block rdd_3182_1 could not be removed as it was not found on disk or in memory\n",
      "21/10/03 23:31:06 WARN BlockManager: Putting block rdd_3182_1 failed\n",
      "21/10/03 23:31:07 WARN MemoryStore: Not enough space to cache rdd_3182_177 in memory! (computed 1100.1 KiB so far)\n",
      "21/10/03 23:31:07 WARN BlockManager: Block rdd_3182_177 could not be removed as it was not found on disk or in memory\n",
      "21/10/03 23:31:07 WARN BlockManager: Putting block rdd_3182_177 failed\n",
      "21/10/03 23:31:07 WARN MemoryStore: Not enough space to cache rdd_3182_3 in memory! (computed 2.4 MiB so far)\n",
      "21/10/03 23:31:07 WARN BlockManager: Block rdd_3182_3 could not be removed as it was not found on disk or in memory\n",
      "21/10/03 23:31:07 WARN BlockManager: Putting block rdd_3182_3 failed\n",
      "21/10/03 23:31:07 WARN MemoryStore: Failed to reserve initial memory threshold of 1024.0 KiB for computing block rdd_3182_187 in memory.\n",
      "21/10/03 23:31:08 WARN MemoryStore: Not enough space to cache rdd_3182_187 in memory! (computed 0.0 B so far)\n",
      "21/10/03 23:31:08 WARN BlockManager: Block rdd_3182_187 could not be removed as it was not found on disk or in memory\n",
      "21/10/03 23:31:08 WARN BlockManager: Putting block rdd_3182_187 failed\n",
      "21/10/03 23:31:08 WARN MemoryStore: Not enough space to cache rdd_3182_180 in memory! (computed 1117.9 KiB so far)\n",
      "21/10/03 23:31:08 WARN BlockManager: Block rdd_3182_180 could not be removed as it was not found on disk or in memory\n",
      "21/10/03 23:31:08 WARN BlockManager: Putting block rdd_3182_180 failed\n",
      "21/10/03 23:31:08 WARN MemoryStore: Not enough space to cache rdd_3182_183 in memory! (computed 1095.5 KiB so far)\n",
      "21/10/03 23:31:08 WARN BlockManager: Block rdd_3182_183 could not be removed as it was not found on disk or in memory\n",
      "21/10/03 23:31:08 WARN BlockManager: Putting block rdd_3182_183 failed\n",
      "21/10/03 23:31:09 WARN MemoryStore: Not enough space to cache rdd_3182_186 in memory! (computed 1118.3 KiB so far)\n",
      "21/10/03 23:31:09 WARN BlockManager: Block rdd_3182_186 could not be removed as it was not found on disk or in memory\n",
      "21/10/03 23:31:09 WARN BlockManager: Putting block rdd_3182_186 failed\n",
      "[Stage 2196:===================================================>(189 + 1) / 190]\r"
     ]
    },
    {
     "name": "stdout",
     "output_type": "stream",
     "text": [
      "The number of pairs from the corpus is: 28757658\n"
     ]
    },
    {
     "name": "stderr",
     "output_type": "stream",
     "text": [
      "                                                                                \r"
     ]
    }
   ],
   "source": [
    "pairsCount = result.count()\n",
    "print(\"The number of pairs from the corpus is:\", pairsCount)"
   ]
  },
  {
   "cell_type": "code",
   "execution_count": 1154,
   "metadata": {
    "tags": []
   },
   "outputs": [
    {
     "name": "stderr",
     "output_type": "stream",
     "text": [
      "21/10/03 23:38:22 WARN MemoryStore: Failed to reserve initial memory threshold of 1024.0 KiB for computing block rdd_3182_3 in memory.\n",
      "21/10/03 23:38:22 WARN MemoryStore: Failed to reserve initial memory threshold of 1024.0 KiB for computing block rdd_3182_4 in memory.\n",
      "21/10/03 23:38:22 WARN MemoryStore: Failed to reserve initial memory threshold of 1024.0 KiB for computing block rdd_3182_177 in memory.\n",
      "21/10/03 23:38:23 WARN MemoryStore: Not enough space to cache rdd_3182_177 in memory! (computed 0.0 B so far)\n",
      "21/10/03 23:38:23 WARN MemoryStore: Not enough space to cache rdd_3182_3 in memory! (computed 0.0 B so far)\n",
      "21/10/03 23:38:23 WARN BlockManager: Block rdd_3182_3 could not be removed as it was not found on disk or in memory\n",
      "21/10/03 23:38:23 WARN BlockManager: Putting block rdd_3182_3 failed\n",
      "21/10/03 23:38:23 WARN BlockManager: Block rdd_3182_177 could not be removed as it was not found on disk or in memory\n",
      "21/10/03 23:38:23 WARN BlockManager: Putting block rdd_3182_177 failed\n",
      "21/10/03 23:38:23 WARN MemoryStore: Not enough space to cache rdd_3182_4 in memory! (computed 0.0 B so far)\n",
      "21/10/03 23:38:23 WARN BlockManager: Block rdd_3182_4 could not be removed as it was not found on disk or in memory\n",
      "21/10/03 23:38:23 WARN BlockManager: Putting block rdd_3182_4 failed\n",
      "21/10/03 23:38:24 WARN MemoryStore: Not enough space to cache rdd_3182_1 in memory! (computed 1819.5 KiB so far)\n",
      "21/10/03 23:38:24 WARN BlockManager: Block rdd_3182_1 could not be removed as it was not found on disk or in memory\n",
      "21/10/03 23:38:24 WARN BlockManager: Putting block rdd_3182_1 failed\n",
      "21/10/03 23:38:24 WARN MemoryStore: Failed to reserve initial memory threshold of 1024.0 KiB for computing block rdd_3182_183 in memory.\n",
      "21/10/03 23:38:24 WARN MemoryStore: Failed to reserve initial memory threshold of 1024.0 KiB for computing block rdd_3182_186 in memory.\n",
      "21/10/03 23:38:24 WARN MemoryStore: Failed to reserve initial memory threshold of 1024.0 KiB for computing block rdd_3182_187 in memory.\n",
      "21/10/03 23:38:25 WARN MemoryStore: Not enough space to cache rdd_3182_183 in memory! (computed 0.0 B so far)\n",
      "21/10/03 23:38:25 WARN BlockManager: Block rdd_3182_183 could not be removed as it was not found on disk or in memory\n",
      "21/10/03 23:38:25 WARN BlockManager: Putting block rdd_3182_183 failed\n",
      "21/10/03 23:38:25 WARN MemoryStore: Not enough space to cache rdd_3182_187 in memory! (computed 0.0 B so far)\n",
      "21/10/03 23:38:25 WARN BlockManager: Block rdd_3182_187 could not be removed as it was not found on disk or in memory\n",
      "21/10/03 23:38:25 WARN BlockManager: Putting block rdd_3182_187 failed\n",
      "21/10/03 23:38:25 WARN MemoryStore: Not enough space to cache rdd_3182_186 in memory! (computed 0.0 B so far)\n",
      "21/10/03 23:38:25 WARN BlockManager: Block rdd_3182_186 could not be removed as it was not found on disk or in memory\n",
      "21/10/03 23:38:25 WARN BlockManager: Putting block rdd_3182_186 failed\n",
      "21/10/03 23:38:25 WARN MemoryStore: Not enough space to cache rdd_3182_180 in memory! (computed 1117.9 KiB so far)\n",
      "21/10/03 23:38:25 WARN BlockManager: Block rdd_3182_180 could not be removed as it was not found on disk or in memory\n",
      "21/10/03 23:38:25 WARN BlockManager: Putting block rdd_3182_180 failed\n",
      "                                                                                \r"
     ]
    },
    {
     "ename": "AttributeError",
     "evalue": "'list' object has no attribute 'top'",
     "output_type": "error",
     "traceback": [
      "\u001b[0;31m---------------------------------------------------------------------------\u001b[0m",
      "\u001b[0;31mAttributeError\u001b[0m                            Traceback (most recent call last)",
      "\u001b[0;32m/tmp/ipykernel_181/1145240445.py\u001b[0m in \u001b[0;36m<module>\u001b[0;34m\u001b[0m\n\u001b[1;32m      1\u001b[0m \u001b[0mtop_50\u001b[0m \u001b[0;34m=\u001b[0m \u001b[0mresult\u001b[0m\u001b[0;34m.\u001b[0m\u001b[0mtakeOrdered\u001b[0m\u001b[0;34m(\u001b[0m\u001b[0;36m50\u001b[0m\u001b[0;34m,\u001b[0m \u001b[0mkey\u001b[0m\u001b[0;34m=\u001b[0m\u001b[0;32mlambda\u001b[0m \u001b[0mx\u001b[0m\u001b[0;34m:\u001b[0m \u001b[0;34m-\u001b[0m\u001b[0mx\u001b[0m\u001b[0;34m[\u001b[0m\u001b[0;36m1\u001b[0m\u001b[0;34m]\u001b[0m\u001b[0;34m[\u001b[0m\u001b[0;36m0\u001b[0m\u001b[0;34m]\u001b[0m\u001b[0;34m)\u001b[0m\u001b[0;34m\u001b[0m\u001b[0;34m\u001b[0m\u001b[0m\n\u001b[0;32m----> 2\u001b[0;31m \u001b[0mtop_50\u001b[0m\u001b[0;34m.\u001b[0m\u001b[0mtop\u001b[0m\u001b[0;34m(\u001b[0m\u001b[0;36m50\u001b[0m\u001b[0;34m)\u001b[0m\u001b[0;34m\u001b[0m\u001b[0;34m\u001b[0m\u001b[0m\n\u001b[0m",
      "\u001b[0;31mAttributeError\u001b[0m: 'list' object has no attribute 'top'"
     ]
    }
   ],
   "source": [
    "top_50 = result.takeOrdered(50, key=lambda x: -x[1][0])"
   ]
  },
  {
   "cell_type": "code",
   "execution_count": 1158,
   "metadata": {},
   "outputs": [
    {
     "name": "stdout",
     "output_type": "stream",
     "text": [
      "('first - time', [0.8899938790067196, 0.8012422360248447, 0.9148936170212766, 0.8896551724137931])\n",
      "('time - well', [0.889515555860911, 0.8010101010101011, 0.8920134983127109, 0.8895120583286595])\n",
      "('great - time', [0.8750199742047439, 0.7756813417190775, 0.925, 0.8736717827626919])\n",
      "('part - well', [0.8739787191842415, 0.7754891864057673, 0.9017964071856287, 0.8735498839907193])\n",
      "('first - well', [0.8717375096954464, 0.7722165474974464, 0.8936170212765957, 0.8714697406340057])\n",
      "('part - time', [0.8715312802735642, 0.7715163934426229, 0.9017964071856287, 0.8710237131289763])\n",
      "('time - upon', [0.8668423411061288, 0.762993762993763, 0.9152119700748129, 0.8655660377358491])\n",
      "('made - time', [0.8659710520967363, 0.7619047619047619, 0.9108910891089109, 0.8648648648648649])\n",
      "('made - well', [0.8601436102534457, 0.753099173553719, 0.9022277227722773, 0.8591632292280496])\n",
      "('time - way', [0.8587130526621549, 0.7486855941114616, 0.9258777633289987, 0.8562838244137102])\n",
      "('great - well', [0.8525758297986199, 0.7412371134020619, 0.89875, 0.8513913558318532])\n",
      "('time - two', [0.8516531147689896, 0.738860103626943, 0.9094387755102041, 0.8498212157330155])\n",
      "('first - great', [0.8496635754752357, 0.7381203801478353, 0.87375, 0.8493317132442284])\n",
      "('first - part', [0.8471329500591671, 0.7347781217750258, 0.8526946107784431, 0.8471148126115408])\n",
      "('great - upon', [0.8464426071989732, 0.7337662337662337, 0.8475, 0.846441947565543])\n",
      "('upon - well', [0.8444063007100567, 0.7290388548057259, 0.8890274314214464, 0.8432879952690716])\n",
      "('new - time', [0.8426043886803956, 0.7239583333333334, 0.9132720105124835, 0.8398791540785498])\n",
      "('first - two', [0.8410994686753256, 0.7248677248677249, 0.8737244897959183, 0.8404907975460123])\n",
      "('way - well', [0.8357261605209715, 0.7145811789038262, 0.8985695708712613, 0.8335343787696019])\n",
      "('time - us', [0.8356830587881752, 0.7104984093319194, 0.9318497913769124, 0.8307501549907006])\n",
      "('two - well', [0.8348796325377852, 0.7141393442622951, 0.889030612244898, 0.8332337118947998])\n",
      "('first - made', [0.8345612749178964, 0.7157676348547718, 0.8539603960396039, 0.8343409915356711])\n",
      "('great - part', [0.8344419771162359, 0.7156348373557188, 0.8525, 0.8342507645259939])\n",
      "('first - upon', [0.8340351831233119, 0.7148803329864725, 0.8566084788029925, 0.8337378640776699])\n",
      "('new - well', [0.8340285296776385, 0.7116182572614108, 0.9014454664914586, 0.8315151515151515])\n",
      "('also - time', [0.8334531292676132, 0.7104446742502585, 0.9039473684210526, 0.8307134220072552])\n",
      "('made - upon', [0.8323039163313574, 0.7127659574468085, 0.8354114713216958, 0.8322981366459627])\n",
      "('also - well', [0.8321438830333017, 0.7088082901554404, 0.9, 0.8295936931473621])\n",
      "('made - part', [0.8315182501568241, 0.7114583333333333, 0.8452970297029703, 0.8314059646987219])\n",
      "('first - new', [0.8312818991605966, 0.7095744680851064, 0.8764783180026281, 0.8301182327317984])\n",
      "('great - made', [0.8296122573375785, 0.7088204038257173, 0.83375, 0.8296019900497512])\n",
      "('hong - kong', [0.8275159265510557, 0.7, 0.9130434782608695, 0.8235294117647058])\n",
      "('many - well', [0.8260965966014737, 0.6969376979936642, 0.9192200557103064, 0.8214063472308649])\n",
      "('part - upon', [0.8260689037839015, 0.7034339229968782, 0.8428927680798005, 0.8259010384850336])\n",
      "('great - new', [0.8253697455201358, 0.7022900763358778, 0.8462549277266754, 0.8251121076233184])\n",
      "('part - way', [0.8248881254758217, 0.7009544008483564, 0.8595578673602081, 0.8241895261845387])\n",
      "('first - way', [0.8232272313983153, 0.6982124079915878, 0.8634590377113134, 0.8222910216718267])\n",
      "('great - us', [0.8174896272623292, 0.6896551724137931, 0.8623087621696801, 0.8163265306122449])\n",
      "('states - united', [0.8172555056551057, 0.6895368782161235, 0.8589743589743589, 0.8162436548223351])\n",
      "('first - us', [0.8167512458791478, 0.6864224137931034, 0.885952712100139, 0.8140575079872204])\n",
      "('many - time', [0.816294305405888, 0.6826722338204593, 0.9108635097493036, 0.8114143920595533])\n",
      "('made - way', [0.8144532821221113, 0.6866310160427808, 0.834850455136541, 0.8142041851616995])\n",
      "('great - way', [0.8134156339154353, 0.6852846401718582, 0.8296488946684005, 0.8132568514977693])\n",
      "('part - two', [0.8120150909202334, 0.682952182952183, 0.8380102040816326, 0.8116121062384187])\n",
      "('also - first', [0.8118747055512925, 0.6816753926701571, 0.8565789473684211, 0.8107098381070984])\n",
      "('new - part', [0.8116498533916031, 0.6817702845100105, 0.8501971090670171, 0.8107769423558897])\n",
      "('order - time', [0.8115401066760078, 0.6730158730158731, 0.925764192139738, 0.8045540796963947])\n",
      "('time - without', [0.8109131701957265, 0.6705756929637526, 0.9346210995542348, 0.8028079132099554])\n",
      "('upon - way', [0.8098540559849684, 0.6802139037433155, 0.8270481144343304, 0.8096753660089115])\n",
      "('first - many', [0.8096213564471805, 0.6763129689174705, 0.8788300835654597, 0.8069053708439897])\n"
     ]
    }
   ],
   "source": [
    "for i in range(len(top_50)):\n",
    "    print(top_50[i])"
   ]
  },
  {
   "cell_type": "code",
   "execution_count": 1176,
   "metadata": {},
   "outputs": [
    {
     "name": "stdout",
     "output_type": "stream",
     "text": [
      "The history saving thread hit an unexpected error (OperationalError('attempt to write a readonly database')).History will not be written to the database.\n"
     ]
    }
   ],
   "source": [
    "top_50f1 = f1Result.takeOrdered(100, key=lambda x: -x[1][0])"
   ]
  },
  {
   "cell_type": "code",
   "execution_count": 1177,
   "metadata": {},
   "outputs": [
    {
     "name": "stdout",
     "output_type": "stream",
     "text": [
      "('commentary - lady', [1.0, 1.0, 1.0, 1.0])\n",
      "('commentary - learn', [1.0, 1.0, 1.0, 1.0])\n",
      "('commentary - owe', [1.0, 1.0, 1.0, 1.0])\n",
      "('commentary - really', [1.0, 1.0, 1.0, 1.0])\n",
      "('commentary - tone', [1.0, 1.0, 1.0, 1.0])\n",
      "('curious - lady', [1.0, 1.0, 1.0, 1.0])\n",
      "('curious - owe', [1.0, 1.0, 1.0, 1.0])\n",
      "('curious - reply', [1.0, 1.0, 1.0, 1.0])\n",
      "('curious - tone', [1.0, 1.0, 1.0, 1.0])\n",
      "('lady - owe', [1.0, 1.0, 1.0, 1.0])\n",
      "('lady - toes', [1.0, 1.0, 1.0, 1.0])\n",
      "('lady - tone', [1.0, 1.0, 1.0, 1.0])\n",
      "('learn - really', [1.0, 1.0, 1.0, 1.0])\n",
      "('learn - reply', [1.0, 1.0, 1.0, 1.0])\n",
      "('learn - toes', [1.0, 1.0, 1.0, 1.0])\n",
      "('learn - tone', [1.0, 1.0, 1.0, 1.0])\n",
      "('owe - really', [1.0, 1.0, 1.0, 1.0])\n",
      "('owe - reply', [1.0, 1.0, 1.0, 1.0])\n",
      "('really - reply', [1.0, 1.0, 1.0, 1.0])\n",
      "('really - tone', [1.0, 1.0, 1.0, 1.0])\n",
      "('employment - partly', [1.0, 1.0, 1.0, 1.0])\n",
      "('employment - relatively', [1.0, 1.0, 1.0, 1.0])\n",
      "('employment - skilled', [1.0, 1.0, 1.0, 1.0])\n",
      "('occupations - ordinary', [1.0, 1.0, 1.0, 1.0])\n",
      "('occupations - partly', [1.0, 1.0, 1.0, 1.0])\n",
      "('occupations - skilled', [1.0, 1.0, 1.0, 1.0])\n",
      "('occupations - unemployment', [1.0, 1.0, 1.0, 1.0])\n",
      "('ordinary - partly', [1.0, 1.0, 1.0, 1.0])\n",
      "('ordinary - relatively', [1.0, 1.0, 1.0, 1.0])\n",
      "('ordinary - unemployment', [1.0, 1.0, 1.0, 1.0])\n",
      "('ordinary - v', [1.0, 1.0, 1.0, 1.0])\n",
      "('partly - relatively', [1.0, 1.0, 1.0, 1.0])\n",
      "('partly - skilled', [1.0, 1.0, 1.0, 1.0])\n",
      "('partly - v', [1.0, 1.0, 1.0, 1.0])\n",
      "('relatively - unemployment', [1.0, 1.0, 1.0, 1.0])\n",
      "('relatively - v', [1.0, 1.0, 1.0, 1.0])\n",
      "('unemployment - v', [1.0, 1.0, 1.0, 1.0])\n",
      "('marrow - needle', [1.0, 1.0, 1.0, 1.0])\n",
      "('patriotic - reward', [1.0, 1.0, 1.0, 1.0])\n",
      "('patriotic - splendour', [1.0, 1.0, 1.0, 1.0])\n",
      "('reward - splendour', [1.0, 1.0, 1.0, 1.0])\n",
      "('curiosity - settled', [1.0, 1.0, 1.0, 1.0])\n",
      "('seated - settled', [1.0, 1.0, 1.0, 1.0])\n",
      "('resort - securing', [1.0, 1.0, 1.0, 1.0])\n",
      "('resort - thousands', [1.0, 1.0, 1.0, 1.0])\n",
      "('scheme - securing', [1.0, 1.0, 1.0, 1.0])\n",
      "('scheme - thousands', [1.0, 1.0, 1.0, 1.0])\n",
      "('consciousness - overcome', [1.0, 1.0, 1.0, 1.0])\n",
      "('legality - overcome', [1.0, 1.0, 1.0, 1.0])\n",
      "('legality - persist', [1.0, 1.0, 1.0, 1.0])\n",
      "('overcome - veracity', [1.0, 1.0, 1.0, 1.0])\n",
      "('persist - veracity', [1.0, 1.0, 1.0, 1.0])\n",
      "('barn - file', [1.0, 1.0, 1.0, 1.0])\n",
      "('barn - protocol', [1.0, 1.0, 1.0, 1.0])\n",
      "('farewell - papers', [1.0, 1.0, 1.0, 1.0])\n",
      "('papers - protocol', [1.0, 1.0, 1.0, 1.0])\n",
      "('papers - removed', [1.0, 1.0, 1.0, 1.0])\n",
      "('protocol - removed', [1.0, 1.0, 1.0, 1.0])\n",
      "('harbor - sells', [1.0, 1.0, 1.0, 1.0])\n",
      "('harbor - wealth', [1.0, 1.0, 1.0, 1.0])\n",
      "('sells - wealth', [1.0, 1.0, 1.0, 1.0])\n",
      "('remained - storms', [1.0, 1.0, 1.0, 1.0])\n",
      "('dictated - suggests', [1.0, 1.0, 1.0, 1.0])\n",
      "('interested - suggests', [1.0, 1.0, 1.0, 1.0])\n",
      "('catholic - neighboring', [1.0, 1.0, 1.0, 1.0])\n",
      "('consistent - observations', [1.0, 1.0, 1.0, 1.0])\n",
      "('contrast - observations', [1.0, 1.0, 1.0, 1.0])\n",
      "('alone - mercy', [1.0, 1.0, 1.0, 1.0])\n",
      "('mercy - wounds', [1.0, 1.0, 1.0, 1.0])\n",
      "('quickly - wounds', [1.0, 1.0, 1.0, 1.0])\n",
      "('intensity - realization', [1.0, 1.0, 1.0, 1.0])\n",
      "('explain - usage', [1.0, 1.0, 1.0, 1.0])\n",
      "('groups - support', [1.0, 1.0, 1.0, 1.0])\n",
      "('judge - outward', [1.0, 1.0, 1.0, 1.0])\n",
      "('forces - incidence', [1.0, 1.0, 1.0, 1.0])\n",
      "('marketing - societies', [1.0, 1.0, 1.0, 1.0])\n",
      "('program - societies', [1.0, 1.0, 1.0, 1.0])\n",
      "('friendship - intimate', [1.0, 1.0, 1.0, 1.0])\n",
      "('friendship - lifted', [1.0, 1.0, 1.0, 1.0])\n",
      "('friendship - wrote', [1.0, 1.0, 1.0, 1.0])\n",
      "('graduate - intimate', [1.0, 1.0, 1.0, 1.0])\n",
      "('graduate - organized', [1.0, 1.0, 1.0, 1.0])\n",
      "('intimate - organized', [1.0, 1.0, 1.0, 1.0])\n",
      "('lifted - organized', [1.0, 1.0, 1.0, 1.0])\n",
      "('federation - player', [1.0, 1.0, 1.0, 1.0])\n",
      "('federation - playing', [1.0, 1.0, 1.0, 1.0])\n",
      "('player - playing', [1.0, 1.0, 1.0, 1.0])\n",
      "('player - team', [1.0, 1.0, 1.0, 1.0])\n",
      "('playing - team', [1.0, 1.0, 1.0, 1.0])\n",
      "('histories - studying', [1.0, 1.0, 1.0, 1.0])\n",
      "('centuries - methods', [1.0, 1.0, 1.0, 1.0])\n",
      "('excessive - sign', [1.0, 1.0, 1.0, 1.0])\n",
      "('excessive - viii', [1.0, 1.0, 1.0, 1.0])\n",
      "('sign - viii', [1.0, 1.0, 1.0, 1.0])\n",
      "('acute - infectious', [1.0, 1.0, 1.0, 1.0])\n",
      "('gesture - simpler', [1.0, 1.0, 1.0, 1.0])\n",
      "('simple - simpler', [1.0, 1.0, 1.0, 1.0])\n",
      "('ample - luck', [1.0, 1.0, 1.0, 1.0])\n",
      "('ample - stoop', [1.0, 1.0, 1.0, 1.0])\n",
      "('covering - makes', [1.0, 1.0, 1.0, 1.0])\n"
     ]
    }
   ],
   "source": [
    "for i in range(len(top_50f1)):\n",
    "    print(top_50f1[i])"
   ]
  },
  {
   "cell_type": "code",
   "execution_count": null,
   "metadata": {},
   "outputs": [],
   "source": []
  }
 ],
 "metadata": {
  "application/vnd.databricks.v1+notebook": {
   "dashboards": [],
   "language": "python",
   "notebookName": "hw3_Workbook_revF20",
   "notebookOrigID": 2162291293013809,
   "widgets": {}
  },
  "kernelspec": {
   "display_name": "Python 3 (ipykernel)",
   "language": "python",
   "name": "python3"
  },
  "language_info": {
   "codemirror_mode": {
    "name": "ipython",
    "version": 3
   },
   "file_extension": ".py",
   "mimetype": "text/x-python",
   "name": "python",
   "nbconvert_exporter": "python",
   "pygments_lexer": "ipython3",
   "version": "3.9.6"
  }
 },
 "nbformat": 4,
 "nbformat_minor": 4
}
