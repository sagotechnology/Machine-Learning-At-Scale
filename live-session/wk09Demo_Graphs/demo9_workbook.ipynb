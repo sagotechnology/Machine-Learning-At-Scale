{
 "cells": [
  {
   "cell_type": "markdown",
   "metadata": {},
   "source": [
    "# Unit 9 - Graph Algorithms at Scale\n",
    "__`MIDS w261: Machine Learning at Scale | UC Berkeley School of Information | Spring 2019`__"
   ]
  },
  {
   "cell_type": "markdown",
   "metadata": {},
   "source": [
    "In this week's async you were introduced to a range of real life datasets whose underlying structure is best described as a graph. In class today we'll review common types of analysis to perform on graphs and key considerations for parallelizing these algorithms. We'll particularly focus on the 'Single Source Shortest Path' task using some toy graphs and a network derived from the `nltk` synonym database. By the end of the next two sessions, you will be able to:  \n",
    "\n",
    "* ... __identify__ whether a dataset in row/column form can be interpreted as a graph.\n",
    "* ... __choose__ a data structure to efficiently represent graphs for the purpose of parallel computaion.\n",
    "* ... __recognize__ whether a problem lends itself to a path planning solution.  \n",
    "* ... __describe__ the difference between BFS and DFS in terms of time and space complexity.\n",
    "* ... __explain__ why dijkstra's algorithm is not embarassingly paralellizable.  \n",
    "* ... __interpret__ the meaning of graph centrality metrics in the context of a specific problem or datset. (e.g. _the connection between eigenvector centrality and PageRank; bipartite graphs & recommender systems_.)"
   ]
  },
  {
   "cell_type": "markdown",
   "metadata": {},
   "source": [
    "### Notebook Set-Up"
   ]
  },
  {
   "cell_type": "code",
   "execution_count": null,
   "metadata": {},
   "outputs": [],
   "source": [
    "# imports\n",
    "import re\n",
    "import heapq\n",
    "import itertools\n",
    "import numpy as np\n",
    "import networkx as nx\n",
    "from collections import defaultdict, deque\n",
    "import matplotlib.pyplot as plt\n",
    "%matplotlib inline"
   ]
  },
  {
   "cell_type": "code",
   "execution_count": null,
   "metadata": {},
   "outputs": [],
   "source": [
    "# store path to notebook\n",
    "PWD = !pwd\n",
    "PWD = PWD[0]"
   ]
  },
  {
   "cell_type": "code",
   "execution_count": null,
   "metadata": {},
   "outputs": [],
   "source": [
    "# make data directory if it doesn't already exist\n",
    "!mkdir data"
   ]
  },
  {
   "cell_type": "markdown",
   "metadata": {},
   "source": [
    "# Exercise 1. Graphs Overview\n",
    "\n",
    "As you know from this week's async, graphs are ubiquitous in modern society and comprise an increasing proportion of big data problems. Your reading from chapter 5 of Lin & Dyer mentioned examples of graphs encountered by almost everyone on a daily basis include: the hyperlink structure of the web (simply known as the web graph), social networks (manifest in the flow of email, phone call patterns, connections on social networking sites, etc.), transportation networks (roads, bus routes, flights, etc.) and metabolic and regulatory network, which can be characterized as a large, complex graph involving interactions between genes, proteins, and other cellular products. \n",
    "\n",
    "Depending on the nature of the nodes and edges, there are different kinds of questions we might want to ask. Here's a list of six of the most common types of graph analyses (_we'll be focusing on the first three over the course of the next few weeks_):\n",
    "\n",
    "__Graph Search & Path Planning:__ Search algorithms on graphs are invoked millions of times a day, whenever anyone searches for travel directions on the web. Similar algorithms are also involved in friend recommendations and expert-finding in social networks. Path planning problems involving everything from network packets to delivery trucks represent another large class of graph search problems.   \n",
    ">`Additional Reference`: Dong C. Liu, Jorge Nocedal, Dong C. Liu, and Jorge Nocedal. On the limited memory BFGS method for large scale optimization. Mathematical Programming B, 45(3):503{528, 1989.  \n",
    "  "
   ]
  },
  {
   "cell_type": "markdown",
   "metadata": {},
   "source": [
    "__Identifying Special Nodes (Centrality):__ There are many ways to define what 'special' means, including metrics based on node in-degree, average distance to other nodes, and relationship to cluster structure. These special nodes are important to investigators attempting to break up terrorist cells, epidemiologists modeling the spread of diseases, advertisers trying to promote products, and many others. For example, eigenvector centrality is used to find popular webpages using the PageRank algorithm, which in turn has been extended to Text summarization, Keyword extraction/Concept extraction using TextRank.\n",
    "> `Additional Reference`: An Overview of Graph-Based Keyword Extraction Methods and Approaches Slobodan Beliga, Ana Meštrović, Sanda Martinčić-Ipšić. Journal of Information and Organizational Sciences; Vol 39, No 1 (2015)"
   ]
  },
  {
   "cell_type": "markdown",
   "metadata": {},
   "source": [
    "- A) Betweenness centrality \n",
    "- B) Closeness centrality \n",
    "- C) Eigenvector centrality \n",
    "- D) Degree centrality \n",
    "- E) Harmonic Centrality \n",
    "- F) Katz centrality of the same graph"
   ]
  },
  {
   "cell_type": "code",
   "execution_count": null,
   "metadata": {},
   "outputs": [],
   "source": [
    "# Graph Algorithms, Practical Examples in Apache Spark and Neo4j by Mark Needham and Amy E. Hodler\n",
    "from IPython.display import Image\n",
    "Image(filename=\"centrality-fig5.1.png\")"
   ]
  },
  {
   "cell_type": "markdown",
   "metadata": {},
   "source": [
    "__Bipartite graph matching (Recommender systems):__ A bipartite graph is one whose vertices can be divided into two disjoint sets. Matching problems on such graphs can be used to model job seekers looking for employment or singles looking for dates.  \n",
    "> `Additional Reference`: Computability, Complexity, and Algorithms; Charles Brubaker and Lance Fortnow https://s3.amazonaws.com/content.udacity-data.com/courses/gt-cs6505/bipartitematching.html  \n",
    "> `Additional Reference`: Chapter 9 - Bipartite Graph Analysis Fouss, F., Saerens, M., & Shimbo, M. (2016). Bipartite Graph Analysis. In Algorithms and Models for Network Data and Link Analysis (pp. 390-436). Cambridge: Cambridge University Press. doi:10.1017/CBO9781316418321.010 https://www.cambridge.org/core/books/algorithms-and-models-for-network-data-and-link-analysis/bipartite-graph-analysis/270C999701532CEE15D5FE20412A2449"
   ]
  },
  {
   "cell_type": "code",
   "execution_count": null,
   "metadata": {},
   "outputs": [],
   "source": [
    "Image(filename=\"CompleteBipartiteGraph_1000.gif\")"
   ]
  },
  {
   "cell_type": "markdown",
   "metadata": {},
   "source": [
    "__Graph clustering:__ Can a large graph be divided into components that are relatively disjoint (for example, as measured by inter-component links? Among other applications, this task is useful for identifying communities in social networks (of interest to sociologists who wish to understand how human relationships form and evolve) and for partitioning large graphs (of interest to computer scientists who seek to better parallelize graph processing).    \n",
    "> `For a survery, see`: Rui Xu and Donald Wunsch II. Survey of clustering algorithms. IEEE Transactions\n",
    "on Neural Networks, 16(3):645{678, 2005."
   ]
  },
  {
   "cell_type": "code",
   "execution_count": null,
   "metadata": {},
   "outputs": [],
   "source": [
    "Image(filename=\"facebook-network.png\")"
   ]
  },
  {
   "cell_type": "markdown",
   "metadata": {},
   "source": [
    "__Minimum spanning trees:__ A minimum spanning tree for a graph G with weighted edges is a tree that contains all vertices of the graph and a subset of edges that minimizes the sum of edge weights. A real-world example of this problem is a telecommunications company that wishes to lay optical ber to span a number of destinations at the lowest possible cost (where weights denote costs). This approach has also been applied to wide variety of problems, including social networks and the migration of Polynesian islanders."
   ]
  },
  {
   "cell_type": "code",
   "execution_count": null,
   "metadata": {},
   "outputs": [],
   "source": [
    "# http://www.martinbroadhurst.com/prims-minimum-spanning-tree-mst-algorithm-in-c.html\n",
    "Image(filename=\"mst.png\")"
   ]
  },
  {
   "cell_type": "markdown",
   "metadata": {},
   "source": [
    "__Maximum Flow:__ In a weighted directed graph with two special nodes called the source and the sink, the max flow problem involves computing the amount of \"traffic\" that can be sent from source to sink given various flow capacities defined by edge weights. Transportation companies (airlines, shipping, etc.) and network operators grapple with complex versions of these problems on a daily basis."
   ]
  },
  {
   "cell_type": "code",
   "execution_count": null,
   "metadata": {},
   "outputs": [],
   "source": [
    "# https://www.geeksforgeeks.org/ford-fulkerson-algorithm-for-maximum-flow-problem/\n",
    "Image(filename=\"ford_fulkerson2.png\")"
   ]
  },
  {
   "cell_type": "markdown",
   "metadata": {},
   "source": [
    "# Warm-up questions:"
   ]
  },
  {
   "cell_type": "markdown",
   "metadata": {},
   "source": [
    "> __DISCUSSION QUESTION:__ Brainstorm a few other examples of data with an underlying graph structure. \n",
    "For one of the examples you come up with...   \n",
    "__a)__ _what are the nodes & edges?_   \n",
    "__b)__ _is the graph __weighted/unweighted__? __directed/undirected__? __acyclic__? __connected__?_   \n",
    "__c)__ _what is a problem/question that could be addressed by one of the 6 types of analysis above?_"
   ]
  },
  {
   "cell_type": "markdown",
   "metadata": {},
   "source": [
    "# Exercise 2. Data Structures Review.\n",
    "\n",
    "This lecture is focused on working with graphs in the context of MapReduce style design. One of the main challenges to \"dividing and conquering\" computations involving graphs is that the fundamental units of analysis (nodes and edges) carry information about each other so it often takes some careful planning to making sure that the appropriate information is co-located for the calculations we need to perform. Let's briefly review a few key data structures that will be of help. Note that these data structures are not unique to graph algorithms, though they will be particularly helpful for SSSP and PageRank.\n",
    "\n",
    "__LIFO vs FIFO vs Priority queues__  \n",
    "A queue is a data structure like a list with the added property of an expected order in which elements are added or removed. In most applications that ordering will be 'last in first out' (LIFO) or 'first in first out' (FIFO). The python double ended queue type `deque` ([docs](https://docs.python.org/3/library/collections.html), [pymotw tutorial](https://pymotw.com/3/collections/deque.html)) is a convenient way to implement either a FIFO or LIFO queue. In contrast, a priority queue maintains a sorted order based on the values of the contents of the sequence so that removing an element will always retrieve the highest/lowest. We usually implement a priority queue in python using `heapq` ([docs](https://docs.python.org/3.0/library/heapq.html), [pymotw tutorial](https://pymotw.com/2/heapq/)).\n",
    "\n",
    "__Adjacency Matrix vs Adjacency List__  \n",
    "Adjacency Matrices and Lists are the most common ways to encode a graph. In each, the rows represent nodes and the contents represent edges. In fact, you are already familiar with these data structures from HW3... the co-occurance matrix was a type of adjacency matrix (where we used `1`s and `0`s to encode a connection between two words); similarly the stripes were a form of adjacency list (where instead of storing`0`s for pairs of words that didn't have the connection of being neighbors we just listed the neighbors for each node). Here's a toy graph and its adjacency list representation to refresh your memory:"
   ]
  },
  {
   "cell_type": "code",
   "execution_count": null,
   "metadata": {},
   "outputs": [],
   "source": [
    "# a graph is a list of nodes and edges\n",
    "nodes = ['A', 'B', 'C', 'D', 'E']\n",
    "edges = [('A', 'B', 1), \n",
    "         ('A', 'E', 5), \n",
    "         ('B', 'A', 2),\n",
    "         ('B', 'C', 4),\n",
    "         ('B', 'D', 2),\n",
    "         ('B', 'E', 6),\n",
    "         ('C', 'B', 5),\n",
    "         ('C', 'D', 2),\n",
    "         ('D', 'B', 7),\n",
    "         ('D', 'C', 3),\n",
    "         ('D', 'E', 3),\n",
    "         ('E', 'A', 4),\n",
    "         ('E', 'B', 1),\n",
    "         ('E', 'D', 5),]\n",
    "TOY_GRAPH = {'nodes' : nodes, 'edges' : edges}"
   ]
  },
  {
   "cell_type": "code",
   "execution_count": null,
   "metadata": {},
   "outputs": [],
   "source": [
    "# retrieving the adjacency list, \n",
    "# NOTE that we are discarding edge weights in the process of encoding\n",
    "ADJ_GRAPH = {}\n",
    "for node in TOY_GRAPH['nodes']:\n",
    "    if node not in ADJ_GRAPH:\n",
    "        ADJ_GRAPH[node] = []\n",
    "        \n",
    "    for edge in TOY_GRAPH['edges']:\n",
    "        if edge[0] == node:\n",
    "            ADJ_GRAPH[node].append(edge[1])\n",
    "            \n",
    "print(\"Graph as adjecency list\")        \n",
    "print(ADJ_GRAPH)"
   ]
  },
  {
   "cell_type": "markdown",
   "metadata": {},
   "source": [
    "> __DISCUSSION QUESTION:__ In the context of a MapReduce framework, would adjacency matrices or adjacency lists be a better way to represent a graph? Why?"
   ]
  },
  {
   "cell_type": "markdown",
   "metadata": {},
   "source": [
    "# Exercise 3. Graph Traversal.\n",
    "\n",
    "For many of the common graph problems introduced in exercise 1 we'll need to systematically visit the nodes in a graph in some kind of order. The idea of \"ordering\" the nodes in a graph is a little different than \"ordering\" data in a traditional row/column format. Sometimes a node might be associated with a particular label or value, in which case we might use a sorting strategy just like regular data. However often we'll want to instead use the graph's underlying structure to sequentially examine nodes based on their location. There are two basic ways to do this: breadth-first (BFS) and depth-first (DFS)."
   ]
  },
  {
   "cell_type": "markdown",
   "metadata": {},
   "source": [
    "## Depth-First Search\n",
    "__An analogy__   \n",
    "An analogy you might think about in relation to depth-first search is a maze. The\n",
    "maze—perhaps one of the people-size ones made of hedges, popular in England—\n",
    "consists of narrow passages (think of edges) and intersections where passages meet\n",
    "(vertices).\n",
    "Suppose that someone is lost in the maze. She knows there’s an exit and plans to\n",
    "traverse the maze systematically to find it. Fortunately, she has a ball of string and a\n",
    "marker pen. She starts at some intersection and goes down a randomly chosen\n",
    "passage, unreeling the string. At the next intersection, she goes down another\n",
    "randomly chosen passage, and so on, until finally she reaches a dead end.\n",
    "At the dead end she retraces her path, reeling in the string, until she reaches the\n",
    "previous intersection. Here she marks the path she’s been down so she won’t take it\n",
    "again, and tries another path. When she’s marked all the paths leading from that\n",
    "intersection, she returns to the previous intersection and repeats the process.\n",
    "The string represents the stack: It “remembers” the path taken to reach a certain\n",
    "point.\n",
    "\n",
    "__Depth-First Search and Game Simulations__   \n",
    "Depth-first searches are often used in simulations of games (and game-like situations\n",
    "in the real world). In a typical game you can choose one of several possible actions.\n",
    "Each choice leads to further choices, each of which leads to further choices, and so\n",
    "on into an ever-expanding tree-shaped graph of possibilities. A choice point corresponds\n",
    "to a vertex, and the specific choice taken corresponds to an edge, which leads\n",
    "to another choice-point vertex.\n",
    "\n",
    "## Breadth-First Search\n",
    "As we saw in the depth-first search, the algorithm acts as though it wants to get as\n",
    "far away from the starting point as quickly as possible. In the breadth-first search, on\n",
    "the other hand, the algorithm likes to stay as close as possible to the starting point.\n",
    "It visits all the vertices adjacent to the starting vertex, and only then goes further\n",
    "afield. This kind of search is implemented using a queue instead of a stack.\n",
    "\n",
    "The breadth-first search has an interesting property: It first finds all the vertices that\n",
    "are one edge away from the starting point, then all the vertices that are two edges\n",
    "away, and so on. This is useful if you’re trying to find the shortest path from the\n",
    "starting vertex to a given vertex. You start a BFS, and when you find the specified\n",
    "vertex, you know the path you’ve traced so far is the shortest path to the node. If\n",
    "there were a shorter path, the BFS would have found it already.\n",
    "\n",
    "\n",
    "__Data Structures & Algorithms in Java__\n",
    "*Second Edition* by Robert Lafore\n",
    "\n",
    "http://web.fi.uba.ar/~jvillca/hd/public/books/Data_Structures_and_Algorithms_in_Java_2nd_Edition.pdf\n",
    "\n",
    "## Other great algorithm books:\n",
    "\n",
    "__The Algorithm Design manual__ by Steven S. Skiena\n",
    "\n",
    "__Introduction to Algorithms__ by Thomas H. Cormen, Charles F. Leiserson, Ronald L. Rivest, & Clifford Stein (you may see it referred to as as the CLRS book)"
   ]
  },
  {
   "cell_type": "code",
   "execution_count": null,
   "metadata": {},
   "outputs": [],
   "source": [
    "Image(filename=\"BFS-animation.gif\")"
   ]
  },
  {
   "cell_type": "code",
   "execution_count": null,
   "metadata": {},
   "outputs": [],
   "source": [
    "Image(filename=\"DFS-animation.gif\")"
   ]
  },
  {
   "cell_type": "markdown",
   "metadata": {},
   "source": [
    "> __DISCUSSION QUESTIONS:__\n",
    "* Explain the difference between BFS and DFS.\n",
    "* How will these two methods impose different constraints on a distributed algorithm?\n",
    "* What is the Big O runtime of BFS? (__`Hint:`__ _how many times does BFS examine each node and edge?_)"
   ]
  },
  {
   "cell_type": "code",
   "execution_count": null,
   "metadata": {},
   "outputs": [],
   "source": [
    "# take a look\n",
    "G=nx.Graph()\n",
    "\n",
    "for node in TOY_GRAPH['nodes']:\n",
    "    G.add_node(node)\n",
    "for edge in TOY_GRAPH['edges']:\n",
    "    G.add_edge(edge[0],edge[1],weight=edge[2])\n",
    "\n",
    "esmall=[(u,v) for (u,v,d) in G.edges(data=True)]\n",
    "\n",
    "#pos=nx.spring_layout(G) # positions for all nodes\n",
    "# use the same layout for all graphs for clarity\n",
    "pos = {  'A': [-1.0,  0.2],\n",
    "         'B': [ 0.0,  0.2],\n",
    "         'C': [ 1.0,  0.4],\n",
    "         'D': [ 0.5, -0.3],\n",
    "         'E': [-0.4, -0.4]}\n",
    "\n",
    "pos2 = { 'A': [-1.0,  0.33],\n",
    "         'B': [ 0.0,  0.33],\n",
    "         'C': [ 1.0,  0.25],\n",
    "         'D': [ 0.5, -0.45],\n",
    "         'E': [-0.6, -0.4]}\n",
    "\n",
    "\n",
    "# nodes\n",
    "nx.draw_networkx_nodes(G,pos,node_size=1200,node_color=\"#cccccc\")\n",
    "nx.draw_networkx_edges(G,pos,edgelist=esmall,width=1,alpha=0.5,edge_color='b')\n",
    "\n",
    "# labels\n",
    "labels = {'A':1, 'B':2, 'E':3, 'C':4, 'D':5}\n",
    "nx.draw_networkx_labels(G,pos,font_size=12,font_family='sans-serif')\n",
    "nx.draw_networkx_labels(G,pos2,font_size=12,font_color='#ff0055',font_family='sans-serif', labels=labels)\n",
    "\n",
    "# Do not draw edge weigths for unweighted graph\n",
    "# edgelabels = nx.get_edge_attributes(G,'weight')\n",
    "# nx.draw_networkx_edge_labels(G,pos,edge_labels=edgelabels)\n",
    "\n",
    "plt.axis('off')\n",
    "plt.show() # display\n"
   ]
  },
  {
   "cell_type": "code",
   "execution_count": null,
   "metadata": {},
   "outputs": [],
   "source": [
    "# https://pythoninwonderland.wordpress.com/2017/03/18/how-to-implement-breadth-first-search-in-python/\n",
    "# visits all the nodes of a graph (connected component) using BFS (FIFO)\n",
    "\n",
    "def bfs(graph, start):\n",
    "    # keep track of all visited nodes\n",
    "    explored = []\n",
    "    # keep track of nodes to be checked\n",
    "    queue = deque()\n",
    "    queue.append(start)\n",
    "    \n",
    "    # keep looping until there are nodes still to be checked\n",
    "    while queue:\n",
    "        # pop shallowest node (first node) from queue\n",
    "        node = queue.popleft()\n",
    "        if node not in explored:\n",
    "            # add node to list of checked nodes\n",
    "            explored.append(node)\n",
    "            neighbours = graph[node]\n",
    "            \n",
    "            # add neighbours of node to queue\n",
    "            for neighbour in neighbours:\n",
    "                queue.append(neighbour)\n",
    "    return explored\n",
    "\n",
    "print(\"BFS Traversal:\")\n",
    "bfs(ADJ_GRAPH,'A') "
   ]
  },
  {
   "cell_type": "markdown",
   "metadata": {},
   "source": [
    "# Exercise 4. SSSP for unweighted graphs.\n",
    "\n",
    "The \"Single Source Shortest Path\" (SSSP) problem is a particular kind of analysis for which we will need to traverse a graph. As implied by the name, when performing SSSP we assume that you have a particular 'starting node' in mind, and want to end up with a number that represents the 'length' of the most efficient route you could take to arrive at a destination (possibly also the path itself which would be a list of connected nodes). Note that in some cases we'll want to calculate this distance ___for all other nodes in the graph___, in others we'll have a ___particular destination node in mind___. Depending on which outcome we're seeking we'd make different design choices.\n",
    "\n",
    "For an unweighted undirected graph, the 'length' of a path is just the number of edges that are part of that path. We can measure these distances easily by traversing the graph and incrementing counters each time we 'travel' an edge. While doing this traversal, we'll also keep track of which nodes have already been visited so that we can store their shortest distances and so that we know when we've fully traversed the graph. Note that in many graphs there will be more than one path from the source to a given node, in such cases we'll want a way to ensure that we're keeping track of the _shortest_ path not just the path that we happened to find first. BFS guarantees that the first path we find _will_ be the shortest (_can you explain why?_). Here's what it would look like:"
   ]
  },
  {
   "cell_type": "code",
   "execution_count": null,
   "metadata": {},
   "outputs": [],
   "source": [
    "# finds shortest path between 2 nodes of a graph using BFS\n",
    "# Does not consider edge weights\n",
    "\n",
    "def bfs_shortest_path(graph, start, goal):\n",
    "    # keep track of explored nodes\n",
    "    explored = []\n",
    "    # keep track of all the paths to be checked\n",
    "    queue = deque()\n",
    "    queue.append([start])\n",
    "\n",
    "    distance = 0\n",
    "    # return path if start is goal\n",
    "    if start == goal:\n",
    "        return \"That was easy! Start = goal\"\n",
    "\n",
    "    # keeps looping until all possible paths have been checked\n",
    "    while queue:\n",
    "        # pop the first path from the queue\n",
    "        path = queue.popleft()\n",
    "        # get the last node from the path\n",
    "        node = path[-1]\n",
    "        if node not in explored:\n",
    "            neighbours = graph[node]\n",
    "            # go through all neighbour nodes, construct a new path and\n",
    "            # push it into the queue\n",
    "            for neighbour in neighbours:\n",
    "                new_path = list(path)\n",
    "                new_path.append(neighbour)\n",
    "                queue.append(new_path)\n",
    "                # return path if neighbour is goal\n",
    "                if neighbour == goal:\n",
    "                    distance = len(new_path)-1 # for an unweighted graph, distance is just the number of hops\n",
    "                    return new_path, distance\n",
    "\n",
    "            # mark node as explored\n",
    "            explored.append(node)\n",
    "\n",
    "    # in case there's no path between the 2 nodes\n",
    "    return \"So sorry, but a connecting path doesn't exist :(\"\n",
    "\n",
    "print(\"BFS Shortest paths\")\n",
    "print(bfs_shortest_path(ADJ_GRAPH, 'A', 'D') )"
   ]
  },
  {
   "cell_type": "markdown",
   "metadata": {},
   "source": [
    "> __DISCUSSION QUESTIONS:__ What would go wrong with this approach if the graph were weighted?"
   ]
  },
  {
   "cell_type": "markdown",
   "metadata": {},
   "source": [
    "# Exercise 5: Dijkstra's algorithm (SSSP for weighted graphs)\n",
    "\n",
    "Dijkstra's algorithm uses a modified BFS with weights and a priority queue to solve this problem.\n",
    "\n",
    "1. new path an improvement over a possible previous one.   \n",
    "Check whether the path just discovered to the vertex v' is an improvement on the previously discovered path (which had length d)\n",
    "\n",
    "2. The queue q should not be a FIFO queue.    \n",
    "Instead, it should be a priority queue where the priorities of the vertices in the queue are their distances recorded in visited. \n",
    "\n",
    "pop(q) should be a priority queue extract_min operation that removes the vertex with the smallest distance.\n",
    "\n",
    "The priority queue must also increase_priority(q,v)    \n",
    "Increases the priority of an element v already in the queue q. \n",
    "\n",
    "A nice intuitive explanation can be found in this 10 minute video: https://www.youtube.com/watch?v=pVfj6mxhdMw\n",
    "\n",
    "See also __A*__ algorithm: https://youtu.be/eSOJ3ARN5FM\n",
    "\n",
    "__Assumptions:__\n",
    "- Dijkstra is a __greedy algorithm__: We assume that we have made the best choice possible in every step of the algorithm. \n",
    "- The Graph has __no negative edges__: If edges are negative a greedy algorithm will not suffice.\n",
    "\n",
    "The __Bellman–Ford__ algorithm can be used on graphs with negative edge weights, as long as the graph contains no negative cycle reachable from the source vertexs. \n",
    "\n",
    "With negative cycles the total weight becomes lower each time the cycle is traversed. \n",
    "__Johnson's algorithm__ combines Dijkstra's algorithm with Bellman-Ford to handle negative weight edges by removing negative edges and detecting negative cycles.\n",
    "\n",
    "#### What about longest pahs?\n",
    "Finding the longest simple path between two vertices is NP-Complete, In fact, it is NP-Complete even if all edge weights are 1   \n",
    "https://sarielhp.org/misc/funny/longestpath.mp3"
   ]
  },
  {
   "cell_type": "code",
   "execution_count": null,
   "metadata": {},
   "outputs": [],
   "source": [
    "# take a look\n",
    "G=nx.Graph()\n",
    "\n",
    "for node in TOY_GRAPH['nodes']:\n",
    "    G.add_node(node)\n",
    "for edge in TOY_GRAPH['edges']:\n",
    "    G.add_edge(edge[0],edge[1],weight=edge[2])\n",
    "\n",
    "esmall=[(u,v) for (u,v,d) in G.edges(data=True)]\n",
    "\n",
    "#pos=nx.spring_layout(G) # positions for all nodes\n",
    "# use the same layout for all graphs for clarity\n",
    "pos = {  'A': [-1.0,  0.2],\n",
    "         'B': [ 0.0,  0.2],\n",
    "         'C': [ 1.0,  0.4],\n",
    "         'D': [ 0.5, -0.3],\n",
    "         'E': [-0.4, -0.4]}\n",
    "\n",
    "pos2 = { 'A': [-1.0,  0.33],\n",
    "         'B': [ 0.0,  0.33],\n",
    "         'C': [ 1.0,  0.25],\n",
    "         'D': [ 0.5, -0.45],\n",
    "         'E': [-0.6, -0.4]}\n",
    "\n",
    "\n",
    "# nodes\n",
    "nx.draw_networkx_nodes(G,pos,node_size=1200,node_color=\"#cccccc\")\n",
    "nx.draw_networkx_edges(G,pos,edgelist=esmall,width=1,alpha=0.5,edge_color='b')\n",
    "\n",
    "# labels\n",
    "labels = {'A':1, 'B':2, 'E':3, 'C':4, 'D':5}\n",
    "nx.draw_networkx_labels(G,pos,font_size=12,font_family='sans-serif')\n",
    "nx.draw_networkx_labels(G,pos2,font_size=12,font_color='#ff0055',font_family='sans-serif', labels=labels)\n",
    "\n",
    "# Do not draw edge weigths for unweighted graph\n",
    "edgelabels = nx.get_edge_attributes(G,'weight')\n",
    "nx.draw_networkx_edge_labels(G,pos,edge_labels=edgelabels)\n",
    "\n",
    "plt.axis('off')\n",
    "plt.show() # display"
   ]
  },
  {
   "cell_type": "code",
   "execution_count": null,
   "metadata": {},
   "outputs": [],
   "source": [
    "# helper class for representing graphs\n",
    "class Graph:\n",
    "    def __init__(self):\n",
    "        self.nodes = set()\n",
    "        self.edges = defaultdict(list)\n",
    "        self.distances = {}\n",
    " \n",
    "    def add_node(self, value):\n",
    "        self.nodes.add(value)\n",
    " \n",
    "    def add_edge(self, node1, node2, distance = 1,direct = False):\n",
    "        self.edges[node1].append(node2)\n",
    "        self.distances[(node1, node2)] = distance\n",
    "        if not direct:\n",
    "            self.edges[node2].append(node1)\n",
    "            self.distances[(node2, node1)] = distance"
   ]
  },
  {
   "cell_type": "code",
   "execution_count": null,
   "metadata": {},
   "outputs": [],
   "source": [
    "# Single thread Dijskra's implementation\n",
    "def dijkstra(graph, initial):\n",
    "    visited = {initial: 0}\n",
    "    heap = [(0, initial)] # our priority queue\n",
    "    path = {}\n",
    "\n",
    "    nodes = set(graph.nodes)\n",
    "\n",
    "    while nodes and heap:\n",
    "        \n",
    "        current_weight, min_node = heapq.heappop(heap)\n",
    "        try:\n",
    "            while min_node not in nodes:\n",
    "                current_weight, min_node = heapq.heappop(heap)\n",
    "        except IndexError:\n",
    "            break\n",
    "\n",
    "        nodes.remove(min_node)\n",
    "        \n",
    "        for v in graph.edges[min_node]:\n",
    "            weight = current_weight + graph.distances[min_node, v]\n",
    "            if v not in visited or weight < visited[v]:\n",
    "                visited[v] = weight\n",
    "                heapq.heappush(heap, (weight, v))\n",
    "                path[v] = min_node\n",
    "    return visited"
   ]
  },
  {
   "cell_type": "code",
   "execution_count": null,
   "metadata": {},
   "outputs": [],
   "source": [
    "# take a look\n",
    "g = Graph()\n",
    "\n",
    "for node in nodes:\n",
    "    g.add_node(node)\n",
    "for edge in edges:\n",
    "    g.add_edge(*edge)\n",
    "    \n",
    "print(\"Shortest distances from node A to all other nodes\" )   \n",
    "print(\"lengths\", dijkstra(g, 'A'))\n",
    "print(\"=\"*50)"
   ]
  },
  {
   "cell_type": "code",
   "execution_count": null,
   "metadata": {},
   "outputs": [],
   "source": [
    "####### networkx ########\n",
    "\n",
    "G=nx.Graph()\n",
    "\n",
    "for node in nodes:\n",
    "  G.add_node(node)\n",
    "for edge in edges:\n",
    "  G.add_edge(edge[0],edge[1],weight=edge[2])\n",
    "\n",
    "esmall=[(u,v) for (u,v,d) in G.edges(data=True)]\n",
    "\n",
    "# nodes\n",
    "nx.draw_networkx_nodes(G,pos,node_size=1200,node_color=\"#cccccc\")\n",
    "# edges\n",
    "edgeWidths = []\n",
    "edgeColors = []\n",
    "for edge in G.edges:\n",
    "    if edge in [('A', 'B'),('B', 'E'),('E', 'D')]:\n",
    "        edgeWidths.append(4)\n",
    "        edgeColors.append(\"#ff0055\")\n",
    "    else:\n",
    "        edgeWidths.append(1)\n",
    "        edgeColors.append(\"#cccccc\")\n",
    "\n",
    "nx.draw_networkx_edges(G,pos,edgelist=esmall,width=edgeWidths,alpha=0.5,edge_color=edgeColors)\n",
    "\n",
    "# labels\n",
    "nx.draw_networkx_labels(G,pos,font_size=12,font_family='sans-serif')\n",
    "labels = nx.get_edge_attributes(G,'weight')\n",
    "nx.draw_networkx_edge_labels(G,pos,edge_labels=labels)\n",
    "plt.axis('off')\n",
    "plt.show() \n",
    "\n",
    "print(\"=\"*50)\n",
    "print(\"sanity check using networkx\")\n",
    "print(\"lenghts\",nx.single_source_dijkstra_path_length(G,\"A\") )\n",
    "print(\"paths\",nx.single_source_dijkstra_path(G,\"A\") )"
   ]
  },
  {
   "cell_type": "markdown",
   "metadata": {},
   "source": [
    "> __DISCUSSION QUESTION:__ Why won't this approach scale?"
   ]
  },
  {
   "cell_type": "markdown",
   "metadata": {},
   "source": [
    "# Exercise 6. Distributed SSSP"
   ]
  },
  {
   "cell_type": "markdown",
   "metadata": {},
   "source": [
    "#### Graph algorithms typically involve:\n",
    "- Performing computation at each node\n",
    "- Processing node-specific data, edge-specific data, and  link structure\n",
    "- Traversing the graph in some manner\n",
    "\n",
    "#### Key questions:\n",
    "- How do you represent graph data in MapReduce?\n",
    "- How do you process a graph in stateless MapReduce?\n",
    "\n",
    "*For maximum parallelism, you need the Maps and Reduces to be stateless, i.e. to not depend on any data generated in the same MapReduce job. You cannot control the order in which the maps run, or the reductions.*\n"
   ]
  },
  {
   "cell_type": "markdown",
   "metadata": {},
   "source": [
    "### Distributed SSSP Algorithm"
   ]
  },
  {
   "cell_type": "markdown",
   "metadata": {},
   "source": [
    "#### Node STATES\n",
    "- Visited\n",
    "- Queue\n",
    "- Unvisited\n",
    "\n",
    "#### Phase 1 - Initialize graph\n",
    "- Start with Source node (node 1)\n",
    "- Mark node 1 with distance=0 and tag Q “frontier queue.”\n",
    "- Mark all other nodes in the unvisited state U, and distance inf\n"
   ]
  },
  {
   "cell_type": "markdown",
   "metadata": {},
   "source": [
    "|Key|Value|.|.|\n",
    "|----|---------|--------|-----|\n",
    "|Node|Out_nodes|distance|state|\n",
    "|A|B,E|0|Q|\n",
    "|B|A,C,D,E|inf|U|\n",
    "|C|B,D|inf|U|  \n",
    "|D|B,C,E|inf|U|\n",
    "|E|A,B,D|inf|U|"
   ]
  },
  {
   "cell_type": "code",
   "execution_count": null,
   "metadata": {},
   "outputs": [],
   "source": [
    "# nodes\n",
    "color_map = []\n",
    "for node in G:\n",
    "    if node == \"A\":\n",
    "        color_map.append('#ff0055')\n",
    "    else: color_map.append(\"#cccccc\")\n",
    "nx.draw_networkx_nodes(G,pos,node_size=1200,node_color=color_map)\n",
    "nx.draw_networkx_edges(G,pos,edgelist=esmall,\n",
    "                    width=1,alpha=0.5,edge_color='b')\n",
    "\n",
    "# labels\n",
    "nx.draw_networkx_labels(G,pos,font_size=12,font_family='sans-serif')\n",
    "plt.axis('off')\n",
    "plt.show() # display"
   ]
  },
  {
   "cell_type": "markdown",
   "metadata": {},
   "source": [
    "### Mappers: Expand the “frontier”\n",
    "\n",
    "#### For each frontier node, expand(): \n",
    "\n",
    "- Emit list of new frontier nodes tagged with `Q`, and `distance = distance + 1`. \n",
    "- Mappers dont know down stream edges from new frontier nodes: tag them as `Null`\n",
    "- Old frontier updated to visited `V` (once a node has been expanded, we're done with it). \n",
    "- Emit all “unvisited nodes” `U`, with no change. "
   ]
  },
  {
   "cell_type": "markdown",
   "metadata": {},
   "source": [
    "#### Mapper output:\n",
    "\n",
    "\n",
    "|Key|:|Value|.|.|\n",
    "|----|-|---------|--------|-----|\n",
    "|__Node__|:|__Out_nodes__|__distance__|__state__|\n",
    "|A|:|B,E|0|V|\n",
    "|B|:|*Null*|1|Q|\n",
    "|E|:|*Null*|1|Q|\n",
    "|B|:|A,C,D,E|inf|U|\n",
    "|C|:|B,D|inf|U|  \n",
    "|D|:|B,C,E|inf|U|\n",
    "|E|:|A,B,D|inf|U|\n"
   ]
  },
  {
   "cell_type": "code",
   "execution_count": null,
   "metadata": {},
   "outputs": [],
   "source": [
    "# nodes\n",
    "color_map = []\n",
    "for node in G:\n",
    "    if node == \"A\":\n",
    "        color_map.append(\"#666666\")\n",
    "    elif node == \"B\" or node == \"E\":\n",
    "        color_map.append('#ff0055')\n",
    "    else: color_map.append(\"#cccccc\")\n",
    "nx.draw_networkx_nodes(G,pos,node_size=1200,node_color=color_map)\n",
    "nx.draw_networkx_edges(G,pos,edgelist=esmall,\n",
    "                    width=1,alpha=0.5,edge_color='b')\n",
    "\n",
    "# labels\n",
    "nx.draw_networkx_labels(G,pos,font_size=12,font_family='sans-serif')\n",
    "plt.axis('off')\n",
    "plt.show() # display"
   ]
  },
  {
   "cell_type": "markdown",
   "metadata": {},
   "source": [
    "### Reducers: Merge candidate paths"
   ]
  },
  {
   "cell_type": "markdown",
   "metadata": {},
   "source": [
    "- The SSSP reducers receive all data for a given key \n",
    "- They receive the Null \"copies\" from newly expanded frontier nodes\n",
    "- They also recieve info on down stream nodes for that key\n",
    "- The reducers combine as new key-value pair for next cycle\n",
    "    - Out_nodes: Union all values\n",
    "    - Distance: Take the min\n",
    "    - State: \n",
    "        - UNweighted Graph: \n",
    "            - `if Q,V:    new_state = V`  \n",
    "            - `if Q,U:    new_state = Q` "
   ]
  },
  {
   "cell_type": "markdown",
   "metadata": {},
   "source": [
    "#### Reducer input:\n",
    "\n",
    "|Key|:|Value|.|.|\n",
    "|----|-|---------|--------|-----|\n",
    "|__Node__|:|__Out_nodes__|__distance__|__state__|\n",
    "|B|:|Null|1|Q|\n",
    "|B|:|A,C,D,E|inf|U|\n",
    "\n",
    "#### Reducer output:\n",
    "\n",
    "|Key|:|Value|.|.|\n",
    "|----|-|---------|--------|-----|\n",
    "|__Node__|:|__Out_nodes__|__distance__|__state__|\n",
    "|B|:|A,C,D,E|1|Q|\n"
   ]
  },
  {
   "cell_type": "markdown",
   "metadata": {},
   "source": [
    "### When Does The Algorithm Terminate?\n",
    "Eventually, all nodes will pass through Q and then V states\n",
    "(in a connected graph)\n",
    "\n",
    "#### Stopping conditions:\n",
    "When there are no output nodes that are frontier (i.e., in Q state). \n"
   ]
  },
  {
   "cell_type": "markdown",
   "metadata": {},
   "source": [
    "### Distributed SSSP from node '1' to each other node:"
   ]
  },
  {
   "cell_type": "markdown",
   "metadata": {},
   "source": [
    "#### After Initilization phase:\n",
    "\n",
    "|Key|:|Value|.|.|\n",
    "|----|-|---------|--------|-----|\n",
    "|__Node__|:|__Out_nodes__|__distance__|__state__|\n",
    "|A|:|B,E|0|Q|\n",
    "|B|:|A,C,D,E|inf|U|\n",
    "|C|:|B,D|inf|U|  \n",
    "|D|:|B,C,E|inf|U|\n",
    "|E|:|A,B,D|inf|U|"
   ]
  },
  {
   "cell_type": "code",
   "execution_count": null,
   "metadata": {},
   "outputs": [],
   "source": [
    "color_map = []\n",
    "for node in G:\n",
    "    if node == \"A\": color_map.append(\"#ff0055\")\n",
    "    else: color_map.append(\"#cccccc\")\n",
    "\n",
    "nx.draw_networkx_nodes(G,pos,node_size=1200,node_color=color_map)\n",
    "nx.draw_networkx_edges(G,pos,edgelist=esmall,width=1,alpha=0.5,edge_color=\"#cccccc\")\n",
    "nx.draw_networkx_labels(G,pos,font_size=12,font_family='sans-serif')\n",
    "plt.axis('off')\n",
    "plt.show()"
   ]
  },
  {
   "cell_type": "markdown",
   "metadata": {},
   "source": [
    "#### After First Iteration:\n",
    "\n",
    "|Key|:|Value|.|.|\n",
    "|----|-|---------|--------|-----|\n",
    "|__Node__|:|__Out_nodes__|__distance__|__state__|\n",
    "|A|:|B,E|0|V|\n",
    "|B|:|A,C,D,E|1|Q|\n",
    "|C|:|B,D|inf|U|  \n",
    "|D|:|B,C,E|inf|U|\n",
    "|E|:|A,B,D|1|Q|"
   ]
  },
  {
   "cell_type": "code",
   "execution_count": null,
   "metadata": {},
   "outputs": [],
   "source": [
    "color_map = []\n",
    "for node in G:\n",
    "    if node == \"A\":\n",
    "        color_map.append(\"#666666\")\n",
    "    elif node in [\"B\",\"E\"]:\n",
    "        color_map.append('#ff0055')\n",
    "    else: color_map.append(\"#cccccc\")\n",
    "\n",
    "nx.draw_networkx_nodes(G,pos,node_size=1200,node_color=color_map)\n",
    "nx.draw_networkx_edges(G,pos,edgelist=esmall,width=1,alpha=0.5,edge_color=\"#cccccc\")\n",
    "nx.draw_networkx_labels(G,pos,font_size=12,font_family='sans-serif')\n",
    "plt.axis('off')\n",
    "plt.show()"
   ]
  },
  {
   "cell_type": "markdown",
   "metadata": {},
   "source": [
    "#### After Second Iteration:\n",
    "\n",
    "|Key|:|Value|.|.|\n",
    "|----|-|---------|--------|-----|\n",
    "|__Node__|:|__Out_nodes__|__distance__|__state__|\n",
    "|A|:|B,E|0|V|\n",
    "|B|:|A,C,D,E|1|V|\n",
    "|C|:|B,D|2|Q|  \n",
    "|D|:|B,C,E|2|Q|\n",
    "|E|:|A,B,D|1|V|"
   ]
  },
  {
   "cell_type": "code",
   "execution_count": null,
   "metadata": {},
   "outputs": [],
   "source": [
    "color_map = []\n",
    "for node in G:\n",
    "    if node in [\"A\",\"B\",\"E\"]:\n",
    "        color_map.append(\"#666666\")\n",
    "    elif node in [\"D\",\"C\"]:\n",
    "        color_map.append('#ff0055')\n",
    "    else: color_map.append(\"#cccccc\")\n",
    "\n",
    "nx.draw_networkx_nodes(G,pos,node_size=1200,node_color=color_map)\n",
    "nx.draw_networkx_edges(G,pos,edgelist=esmall,width=1,alpha=0.5,edge_color=\"#cccccc\")\n",
    "nx.draw_networkx_labels(G,pos,font_size=12,font_family='sans-serif')\n",
    "plt.axis('off')\n",
    "plt.show()"
   ]
  },
  {
   "cell_type": "markdown",
   "metadata": {},
   "source": [
    "#### After Third Iteration:\n",
    "\n",
    "|Key|:|Value|.|.|\n",
    "|----|-|---------|--------|-----|\n",
    "|__Node__|:|__Out_nodes__|__distance__|__state__|\n",
    "|A|:|B,E|0|V|\n",
    "|B|:|A,C,D,E|1|V|\n",
    "|C|:|B,D|2|V|  \n",
    "|D|:|B,C,E|2|V|\n",
    "|E|:|A,B,D|1|V|"
   ]
  },
  {
   "cell_type": "code",
   "execution_count": null,
   "metadata": {},
   "outputs": [],
   "source": [
    "color_map = []\n",
    "for node in G:\n",
    "    if node in [\"A\",\"B\",\"E\",\"D\",\"C\"]:\n",
    "        color_map.append(\"#666666\")\n",
    "    else: color_map.append(\"#cccccc\")\n",
    "\n",
    "nx.draw_networkx_nodes(G,pos,node_size=1200,node_color=color_map)\n",
    "nx.draw_networkx_edges(G,pos,edgelist=esmall,width=1,alpha=0.5,edge_color=\"#cccccc\")\n",
    "nx.draw_networkx_labels(G,pos,font_size=12,font_family='sans-serif')\n",
    "plt.axis('off')\n",
    "plt.show()"
   ]
  },
  {
   "cell_type": "markdown",
   "metadata": {},
   "source": [
    "### Will this code work for weighted graphs?\n"
   ]
  },
  {
   "cell_type": "code",
   "execution_count": null,
   "metadata": {},
   "outputs": [],
   "source": [
    "color_map = []\n",
    "for node in G:\n",
    "    if node == \"A\":\n",
    "        color_map.append(\"#666666\")\n",
    "    elif node in [\"B\",\"E\",\"D\"]:\n",
    "        color_map.append('#ff0055')\n",
    "    else: color_map.append(\"#cccccc\")\n",
    "\n",
    "nx.draw_networkx_nodes(G,pos,node_size=1200,node_color=color_map)\n",
    "\n",
    "# edges\n",
    "edgeWidths = []\n",
    "edgeColors = []\n",
    "for edge in G.edges:\n",
    "    if edge in [('A', 'B'),('B', 'E'),('E', 'D')]:\n",
    "        edgeWidths.append(4)\n",
    "        edgeColors.append(\"#ff0055\")\n",
    "    else:\n",
    "        edgeWidths.append(1)\n",
    "        edgeColors.append(\"#cccccc\")\n",
    "\n",
    "nx.draw_networkx_edges(G,pos,edgelist=esmall,width=edgeWidths,alpha=0.5,edge_color=edgeColors)\n",
    "\n",
    "# labels\n",
    "nx.draw_networkx_labels(G,pos,font_size=12,font_family='sans-serif')\n",
    "labels = nx.get_edge_attributes(G,'weight')\n",
    "nx.draw_networkx_edge_labels(G,pos,edge_labels=labels)\n",
    "\n",
    "plt.axis('off')\n",
    "plt.show()"
   ]
  },
  {
   "cell_type": "markdown",
   "metadata": {},
   "source": [
    "Modify MapReduce Iteration Job for unweighted graphs as follows to get the weighted version:\n",
    "- If distance to a visited node is shorter then reset status to frontier Q\n",
    "\n",
    "\n",
    "__The mapper__ \n",
    "- same as above.\n",
    "\n",
    "__The reducer__\n",
    "- The SSSP reducers receive all data for a given key \n",
    "- They receive the Null \"copies\" from newly expanded frontier nodes\n",
    "- They also recieve info on down stream nodes for that key\n",
    "- The reducers combine as new key-value pair for next cycle\n",
    "    - Out_nodes: Union all values\n",
    "    - Distance: Take the min\n",
    "    - State: \n",
    "        - UNweighted Graph: \n",
    "            - `if Q,V:    new_state = V`  \n",
    "            - `if Q,U:    new_state = Q` \n",
    "        - Weighted Graph: \n",
    "            - `if Q,V and distance(Q) < distance(V):    new_state = Q`\n",
    "                - `else:    new_state = V` \n",
    "            - `if Q,U:    new_state = Q` "
   ]
  },
  {
   "cell_type": "markdown",
   "metadata": {},
   "source": [
    "# SSSP Quiz"
   ]
  },
  {
   "cell_type": "code",
   "execution_count": null,
   "metadata": {},
   "outputs": [],
   "source": [
    "from IPython.display import Image\n",
    "Image('sssp_quiz.png')"
   ]
  },
  {
   "cell_type": "code",
   "execution_count": null,
   "metadata": {},
   "outputs": [],
   "source": []
  }
 ],
 "metadata": {
  "kernelspec": {
   "display_name": "Python 3",
   "language": "python",
   "name": "python3"
  },
  "language_info": {
   "codemirror_mode": {
    "name": "ipython",
    "version": 3
   },
   "file_extension": ".py",
   "mimetype": "text/x-python",
   "name": "python",
   "nbconvert_exporter": "python",
   "pygments_lexer": "ipython3",
   "version": "3.7.5"
  }
 },
 "nbformat": 4,
 "nbformat_minor": 4
}
