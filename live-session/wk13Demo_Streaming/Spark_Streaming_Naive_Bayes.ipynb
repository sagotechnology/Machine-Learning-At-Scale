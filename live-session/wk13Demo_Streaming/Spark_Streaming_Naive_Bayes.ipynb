{
 "cells": [
  {
   "cell_type": "markdown",
   "metadata": {},
   "source": [
    "# wk12 Demo - Streaming in Spark - Online Learning\n",
    "**MIDS w261: Machine Learning at Scale | UC Berkeley School of Information | Summer 2018**\n",
    "\n",
    "Throughout the course we've focused on batch learning. Where we take data in a batch and process it in order to train a model and provide predictions. Online learning instead focuses on streaming data in and training a model as we get more data. There are trade-offs between batch and online model training such as the amount of effort required to maintain state in Spark. Databricks and the general Spark community have spent a large amount of effort to bring Structured Streaming to Spark in a clean API.\n",
    "\n",
    "This class will have less theory and we'll focus on online learning for two algorithms we've covered so far. Naive Bayes and K-means.\n",
    "\n",
    "By the end of today's demo you should be able to:\n",
    "\n",
    "- ... **describe** a situation where you would want to leverage online learning\n",
    "- ... **implement** a simple streaming pipeline.\n",
    "- ... **explain** the complexities that come along with streaming processes\n",
    "\n",
    "**NOTE** None\n",
    "\n",
    "**Additional Resources:** This notebook was based on the following references:\n",
    "\n",
    "- [Real-Time End-to-End Integration with Apache Kafka in Apache Spark’s Structured Streaming](https://databricks.com/blog/2017/04/04/real-time-end-to-end-integration-with-apache-kafka-in-apache-sparks-structured-streaming.html)\n",
    "- [Introducing Stream-Stream Joins in Apache Spark 2.3](https://databricks.com/blog/2018/03/13/introducing-stream-stream-joins-in-apache-spark-2-3.html)\n",
    "- [Streaming K-means Example](https://github.com/apache/spark/blob/master/examples/src/main/python/mllib/streaming_k_means_example.py)\n",
    "- https://www.kaggle.com/c/avazu-ctr-prediction/data\n",
    "- https://community.cloudera.com/t5/Data-Ingestion-Integration/No-brokers-found-in-ZK/td-p/40952\n",
    "- https://github.com/dpkp/kafka-python\n",
    "\n",
    "\n",
    "**Spark summit 2019** - PySpark streaming video tutorial:\n",
    "- https://databricks.com/session/writing-continuous-applications-with-structured-streaming-pyspark-api"
   ]
  },
  {
   "cell_type": "markdown",
   "metadata": {},
   "source": [
    "## Topics in Streaming\n",
    "\n",
    "- continuous vs minibatch\n",
    "- latency vs throughput\n",
    "    - real-time\n",
    "    - near real-time\n",
    "    - some-time\n",
    "    \n",
    "\n",
    "- processing time vs event time\n",
    "    - triggers\n",
    "    - watermarks\n",
    "    \n",
    "\n",
    "- windows\n",
    "    - fixed\n",
    "    - sliding\n",
    "    - sessions\n",
    "    \n",
    "\n",
    "- joins\n",
    "    - stream-stream joins\n",
    "    - stream-static joins"
   ]
  },
  {
   "cell_type": "markdown",
   "metadata": {},
   "source": [
    "## Notebook Setup"
   ]
  },
  {
   "cell_type": "code",
   "execution_count": 1,
   "metadata": {},
   "outputs": [],
   "source": [
    "from pyspark.streaming import StreamingContext\n",
    "from pyspark.streaming.kafka import KafkaUtils\n",
    "from pyspark.sql.functions import *\n",
    "from pyspark.sql.types import *\n",
    "from pyspark.mllib.linalg import Vectors\n",
    "from pyspark.mllib.regression import LabeledPoint\n",
    "from pyspark.mllib.clustering import StreamingKMeans\n",
    "import time\n",
    "import os\n",
    "import pandas as pd\n",
    "import numpy as np\n",
    "import matplotlib.pylab as plt\n",
    "%matplotlib inline"
   ]
  },
  {
   "cell_type": "raw",
   "metadata": {},
   "source": [
    "This version causes problems: org.apache.spark:spark-sql-kafka-0-10_2.12:2.4.4\n",
    "This does not appear to  be needed org.apache.kafka:kafka-clients:0.10.1.0\n",
    "This does the trick: org.apache.spark:spark-sql-kafka-0-10_2.11:2.4.4"
   ]
  },
  {
   "cell_type": "code",
   "execution_count": 2,
   "metadata": {},
   "outputs": [
    {
     "name": "stdout",
     "output_type": "stream",
     "text": [
      "--packages org.apache.spark:spark-sql-kafka-0-10_2.11:2.4.4 pyspark-shell\n"
     ]
    }
   ],
   "source": [
    "PACKAGES = ['org.apache.spark:spark-sql-kafka-0-10_2.11:2.4.4']\n",
    "os.environ['PYSPARK_SUBMIT_ARGS'] = f\"--packages {','.join(PACKAGES)} pyspark-shell\"\n",
    "print(os.environ['PYSPARK_SUBMIT_ARGS'])"
   ]
  },
  {
   "cell_type": "code",
   "execution_count": 3,
   "metadata": {},
   "outputs": [
    {
     "name": "stdout",
     "output_type": "stream",
     "text": [
      "Starting Kafka Server (kafka-server):\u001b[60G[\u001b[0;32m  OK  \u001b[0;39m]\n",
      "Kafka Server is running\u001b[60G[\u001b[0;32m  OK  \u001b[0;39m]\n"
     ]
    }
   ],
   "source": [
    "!sudo service kafka-server start"
   ]
  },
  {
   "cell_type": "code",
   "execution_count": 6,
   "metadata": {},
   "outputs": [
    {
     "name": "stdout",
     "output_type": "stream",
     "text": [
      "root     26741 26678 44 18:48 ?        00:00:19 /usr/java/jdk1.8.0_131/bin/java -cp /opt/spark/conf/:/opt/spark/jars/* -Xmx1g org.apache.spark.deploy.SparkSubmit --conf spark.master=local[*] --conf spark.app.name=wk13_demo --packages org.apache.spark:spark-sql-kafka-0-10_2.11:2.4.4 pyspark-shell\n",
      "root     26847 26678  0 18:49 pts/1    00:00:00 /bin/sh -c ps -ef|grep spark-sql-kafka\n",
      "root     26849 26847  0 18:49 pts/1    00:00:00 grep spark-sql-kafka\n"
     ]
    }
   ],
   "source": [
    "!ps -ef|grep spark-sql-kafka"
   ]
  },
  {
   "cell_type": "code",
   "execution_count": 4,
   "metadata": {},
   "outputs": [],
   "source": [
    "from pyspark.sql import SparkSession\n",
    "app_name = \"wk13_demo\"\n",
    "master = \"local[*]\"\n",
    "spark = SparkSession\\\n",
    "        .builder\\\n",
    "        .appName(app_name)\\\n",
    "        .master(master)\\\n",
    "        .getOrCreate()\n",
    "sc = spark.sparkContext"
   ]
  },
  {
   "cell_type": "code",
   "execution_count": 7,
   "metadata": {},
   "outputs": [
    {
     "data": {
      "text/html": [
       "\n",
       "            <div>\n",
       "                <p><b>SparkSession - in-memory</b></p>\n",
       "                \n",
       "        <div>\n",
       "            <p><b>SparkContext</b></p>\n",
       "\n",
       "            <p><a href=\"http://docker.w261:4041\">Spark UI</a></p>\n",
       "\n",
       "            <dl>\n",
       "              <dt>Version</dt>\n",
       "                <dd><code>v2.4.4</code></dd>\n",
       "              <dt>Master</dt>\n",
       "                <dd><code>local[*]</code></dd>\n",
       "              <dt>AppName</dt>\n",
       "                <dd><code>wk13_demo</code></dd>\n",
       "            </dl>\n",
       "        </div>\n",
       "        \n",
       "            </div>\n",
       "        "
      ],
      "text/plain": [
       "<pyspark.sql.session.SparkSession at 0x7fdcf5c27e10>"
      ]
     },
     "execution_count": 7,
     "metadata": {},
     "output_type": "execute_result"
    }
   ],
   "source": [
    "spark"
   ]
  },
  {
   "cell_type": "code",
   "execution_count": 32,
   "metadata": {},
   "outputs": [],
   "source": [
    "spark.stop()"
   ]
  },
  {
   "cell_type": "markdown",
   "metadata": {},
   "source": [
    "## Message Brokers and the Pub/Sub model(Kafka)\n",
    "\n",
    "Message brokers break apart dependencies between applications by creating an asynchronous queue between potions of the application. This can be powerful for breaking machine learning functionality away from the core components of an application.\n",
    "\n",
    "In this model your application sends event messages to a message broker over some protocol such as TCP or UDP. In most cases you want to use TCP so you have acknowledgement of receipt.\n",
    "\n",
    "By breaking away the model from the application you can offload the compute associated with predictions and many other possibilites in case you don't need predictions right away.\n",
    "\n",
    "Here the application is your publisher while your model code acts as a subscriber waiting for new data, thus the name Pub/Sub.\n",
    "\n",
    "One of the most popular frameworks for implemeneting Pub/Sub capabilities is Kafka. It is part of the Apache Software Foundation and integrates well with the rest of the Apache projects such as Spark.\n",
    "\n",
    "Some of the managed cloud alternatives would be Kinesis (AWS), Pub/Sub (Google), and Event Hub (Azure)."
   ]
  },
  {
   "cell_type": "markdown",
   "metadata": {},
   "source": [
    "## Online Advertising\n",
    "Stream-Stream joins were introduced in Spark 2.3 and have enabled Spark to be used for classes of problems involving two streams. A common example is Online advertising where you have ad impressions and ad clicks.\n",
    "\n",
    "Both clicks and impressions can have delays in sending messages to the broker system such as if a person is sitting on a page and then clicks an ad, or if a user has intermittent connectivity issues. This means we need to store messages for some reasonable period of time from each stream to wait for the corresponding streams message. This is called watermarking and is outlined below.\n",
    "\n",
    "What we would like to do is given a site and an ad exchange that we send ads through, predict the likelihood of our ad being clicked, aka potentially generating revenue. In the example below we'll seed a click with a given probability and if Naive Bayes does a good job we should end up with the same probability at the end of our training. "
   ]
  },
  {
   "cell_type": "markdown",
   "metadata": {},
   "source": [
    "**Watermarks**: Watermarking in Structured Streaming is a way to limit state in all stateful streaming operations by specifying how much late data to consider. Specifically, a watermark is a moving threshold in event-time that trails behind the maximum event-time seen by the query in the processed data. The trailing gap (aka watermark delay) defines how long should the engine wait for late data to arrive and is specified in the query using withWatermark. Read about it in more detail in our previous blog post on streaming aggregations. For our stream-stream inner joins, you can optionally specify the watermark delay but you must specify to limit all state on both streams."
   ]
  },
  {
   "cell_type": "markdown",
   "metadata": {},
   "source": [
    "### Click Through Rate Prediction\n",
    "* For each impression, we will have a site name, an exchange name and whether a user clicked or not\n",
    "    * For instance, \"Yahoo.com, AdX, 1\"\n",
    "* Bayes' law says that $P(\\text{click} | \\text{site}, \\text{exchange}) = \\frac{P(\\text{site}, \\text{exchange} | \\text{click}) P(\\text{click})}{P(\\text{site}, \\text{exchange})}$\n",
    "* Naive Bayes says that we can assume conditional independence, meaning that $P(\\text{site}|\\text{click}) * P(\\text{exchange}|\\text{click}) = P(\\text{site}, \\text{exchange}|\\text{click})$\n",
    "    * Recall that we don't need to keep track of the denominator\n",
    "* In order to build a NB model, we need to keep track of the following:\n",
    "    * $P(\\text{site}|\\text{click})$\n",
    "    * $P(\\text{exchange}|\\text{click})$\n",
    "    * $P(\\text{click})$\n",
    "* At inference time, we will be predicting \n",
    "    * $\\text{argmax}_{\\text{click} \\in {0, 1}} P(\\text{site} | \\text{click}) * P(\\text{exchange} | \\text{click}) *  P(\\text{click})$"
   ]
  },
  {
   "cell_type": "markdown",
   "metadata": {},
   "source": [
    "### Setup Data Stream"
   ]
  },
  {
   "cell_type": "code",
   "execution_count": 36,
   "metadata": {},
   "outputs": [
    {
     "name": "stdout",
     "output_type": "stream",
     "text": [
      "SLF4J: Class path contains multiple SLF4J bindings.\n",
      "SLF4J: Found binding in [jar:file:/usr/lib/kafka/libs/slf4j-log4j12-1.7.21.jar!/org/slf4j/impl/StaticLoggerBinder.class]\n",
      "SLF4J: Found binding in [jar:file:/usr/lib/kafka/libs/slf4j-log4j12-1.7.5.jar!/org/slf4j/impl/StaticLoggerBinder.class]\n",
      "SLF4J: See http://www.slf4j.org/codes.html#multiple_bindings for an explanation.\n",
      "SLF4J: Actual binding is of type [org.slf4j.impl.Log4jLoggerFactory]\n",
      "Topic impressions is marked for deletion.\n",
      "Note: This will have no impact if delete.topic.enable is not set to true.\n",
      "SLF4J: Class path contains multiple SLF4J bindings.\n",
      "SLF4J: Found binding in [jar:file:/usr/lib/kafka/libs/slf4j-log4j12-1.7.21.jar!/org/slf4j/impl/StaticLoggerBinder.class]\n",
      "SLF4J: Found binding in [jar:file:/usr/lib/kafka/libs/slf4j-log4j12-1.7.5.jar!/org/slf4j/impl/StaticLoggerBinder.class]\n",
      "SLF4J: See http://www.slf4j.org/codes.html#multiple_bindings for an explanation.\n",
      "SLF4J: Actual binding is of type [org.slf4j.impl.Log4jLoggerFactory]\n",
      "Topic clicks is marked for deletion.\n",
      "Note: This will have no impact if delete.topic.enable is not set to true.\n"
     ]
    }
   ],
   "source": [
    "!kafka-topics --zookeeper localhost:2181 --delete --topic impressions\n",
    "!kafka-topics --zookeeper localhost:2181 --delete --topic clicks"
   ]
  },
  {
   "cell_type": "code",
   "execution_count": 37,
   "metadata": {},
   "outputs": [],
   "source": [
    "impressions = spark.readStream.format(\"kafka\").option(\"kafka.bootstrap.servers\", \"localhost:9092\").\\\n",
    "    option(\"subscribe\", \"impressions\").load()   \n",
    "clicks = spark.readStream.format(\"kafka\").option(\"kafka.bootstrap.servers\", \"localhost:9092\").\\\n",
    "    option(\"subscribe\", \"clicks\").load()   "
   ]
  },
  {
   "cell_type": "markdown",
   "metadata": {},
   "source": [
    "### CTR to sample by exchange and site. \n",
    "If NB preforms well our predictions will be close to these values."
   ]
  },
  {
   "cell_type": "code",
   "execution_count": 10,
   "metadata": {},
   "outputs": [
    {
     "name": "stdout",
     "output_type": "stream",
     "text": [
      "{\n",
      "\t\"site_exchange_ctr\": {\n",
      "\t\t\"yahoo.com+AdX\": 0.4,\n",
      "\t\t\"yahoo.com+SpotX\": 0.2,\n",
      "\t\t\"cnn.com+AdX\": 0.6,\n",
      "\t\t\"cnn.com+SpotX\": 0.3\n",
      "\t}\n",
      "}"
     ]
    }
   ],
   "source": [
    "!cat click_through_rate_config.json"
   ]
  },
  {
   "cell_type": "markdown",
   "metadata": {},
   "source": [
    "### Watermarking and left outer join to keep non-clicked Ads"
   ]
  },
  {
   "cell_type": "code",
   "execution_count": 38,
   "metadata": {},
   "outputs": [],
   "source": [
    "impressionsWithWatermark = impressions \\\n",
    "    .selectExpr(\"split(value,',')[0] as impressionAdId\", \\\n",
    "                \"split(value,',')[1] as site\", \\\n",
    "                \"split(value,',')[2] as exchange\",\n",
    "                \"timestamp as impressionTime\") \\\n",
    "    .withWatermark(\"impressionTime\", \"5 second\") \n",
    "\n",
    "clicksWithWatermark = clicks \\\n",
    "    .selectExpr(\"split(value,',')[0] AS clickAdId\", \\\n",
    "                \"timestamp as clickTime\") \\\n",
    "    .withWatermark(\"clickTime\", \"5 second\")\n",
    "\n",
    "statsLog = impressionsWithWatermark\\\n",
    "    .join(clicksWithWatermark,\n",
    "            expr(\"\"\"\n",
    "                clickAdId = impressionAdId AND\n",
    "                clickTime >= impressionTime AND\n",
    "                clickTime <= impressionTime + interval 5 second\n",
    "                \"\"\"),\n",
    "            \"leftOuter\"\n",
    "         )\n",
    "\n",
    "statsLog.createOrReplaceTempView(\"statsLog\")"
   ]
  },
  {
   "cell_type": "markdown",
   "metadata": {},
   "source": [
    "### Generate Data"
   ]
  },
  {
   "cell_type": "code",
   "execution_count": 52,
   "metadata": {},
   "outputs": [
    {
     "data": {
      "text/plain": [
       "0"
      ]
     },
     "execution_count": 52,
     "metadata": {},
     "output_type": "execute_result"
    }
   ],
   "source": [
    "os.system(\"python kafka_impression_stream.py &\")\n",
    "os.system(\"python kafka_click_stream.py &\")"
   ]
  },
  {
   "cell_type": "code",
   "execution_count": 53,
   "metadata": {},
   "outputs": [],
   "source": [
    "priorsData = spark.sql(\"\"\"\n",
    "          select \n",
    "              site, \n",
    "              exchange, \n",
    "              if(clickAdId is not null, 1, 0) as is_click,\n",
    "              count(1) as count\n",
    "          from statslog\n",
    "          group by \n",
    "              site, \n",
    "              exchange,\n",
    "              if(clickAdId is not null, 1, 0)\n",
    "          \"\"\") \n",
    "\n",
    "## write to console\n",
    "query = priorsData\\\n",
    "    .writeStream \\\n",
    "    .format(\"console\")\\\n",
    "    .outputMode(\"complete\")\\\n",
    "    .option(\"truncate\",\"false\")\\\n",
    "    .trigger(processingTime='15 seconds')\\\n",
    "    .start()\n",
    "\n",
    "## write to mem\n",
    "queryMem = priorsData \\\n",
    "    .writeStream \\\n",
    "    .queryName(\"priorsData\") \\\n",
    "    .outputMode(\"complete\") \\\n",
    "    .format(\"memory\") \\\n",
    "    .trigger(processingTime='15 seconds') \\\n",
    "    .start()"
   ]
  },
  {
   "cell_type": "code",
   "execution_count": 54,
   "metadata": {},
   "outputs": [],
   "source": [
    "time.sleep(160 + 15) ## stops when close to done "
   ]
  },
  {
   "cell_type": "code",
   "execution_count": 55,
   "metadata": {},
   "outputs": [],
   "source": [
    "query.stop()\n",
    "queryMem.stop()"
   ]
  },
  {
   "cell_type": "markdown",
   "metadata": {},
   "source": [
    "#### Output from Command Line\n",
    "\n",
    "```\n",
    "-------------------------------------------\n",
    "quickstart.cloudera_1  | Batch: 0\n",
    "quickstart.cloudera_1  | -------------------------------------------\n",
    "quickstart.cloudera_1  | +----+--------+--------+-----+\n",
    "quickstart.cloudera_1  | |site|exchange|is_click|count|\n",
    "quickstart.cloudera_1  | +----+--------+--------+-----+\n",
    "quickstart.cloudera_1  | +----+--------+--------+-----+\n",
    "quickstart.cloudera_1  |\n",
    "19/12/02 19:11:24 WARN ProcessingTimeExecutor: Current batch is falling behind. The trigger interval is 15000 milliseconds, but spent 21668 milliseconds\n",
    "-------------------------------------------\n",
    "quickstart.cloudera_1  | Batch: 1\n",
    "quickstart.cloudera_1  | -------------------------------------------\n",
    "quickstart.cloudera_1  | +---------+--------+--------+-----+\n",
    "quickstart.cloudera_1  | |site     |exchange|is_click|count|\n",
    "quickstart.cloudera_1  | +---------+--------+--------+-----+\n",
    "quickstart.cloudera_1  | |yahoo.com|SpotX   |1       |3    |\n",
    "quickstart.cloudera_1  | |cnn.com  |SpotX   |1       |10   |\n",
    "quickstart.cloudera_1  | |yahoo.com|AdX     |1       |16   |\n",
    "quickstart.cloudera_1  | |cnn.com  |AdX     |1       |24   |\n",
    "quickstart.cloudera_1  | +---------+--------+--------+-----+\n",
    "quickstart.cloudera_1  |\n",
    "quickstart.cloudera_1  | 19/12/02 19:11:33 WARN ProcessingTimeExecutor: Current batch is falling behind. The trigger interval is 15000 milliseconds, but spent 18021 milliseconds\n",
    "19/12/02 19:11:42 WARN ProcessingTimeExecutor: Current batch is falling behind. The trigger interval is 15000 milliseconds, but spent 17970 milliseconds\n",
    "-------------------------------------------\n",
    "quickstart.cloudera_1  | Batch: 2\n",
    "quickstart.cloudera_1  | -------------------------------------------\n",
    "quickstart.cloudera_1  | +---------+--------+--------+-----+\n",
    "quickstart.cloudera_1  | |site     |exchange|is_click|count|\n",
    "quickstart.cloudera_1  | +---------+--------+--------+-----+\n",
    "quickstart.cloudera_1  | |yahoo.com|SpotX   |1       |4    |\n",
    "quickstart.cloudera_1  | |cnn.com  |SpotX   |1       |13   |\n",
    "quickstart.cloudera_1  | |yahoo.com|AdX     |1       |17   |\n",
    "quickstart.cloudera_1  | |cnn.com  |AdX     |1       |28   |\n",
    "quickstart.cloudera_1  | +---------+--------+--------+-----+\n",
    "quickstart.cloudera_1  |\n",
    "quickstart.cloudera_1  | 19/12/02 19:11:51 WARN ProcessingTimeExecutor: Current batch is falling behind. The trigger interval is 15000 milliseconds, but spent 18183 milliseconds\n",
    "19/12/02 19:11:59 WARN ProcessingTimeExecutor: Current batch is falling behind. The trigger interval is 15000 milliseconds, but spent 16589 milliseconds\n",
    "[Stage 88:>(79 + 6) / 200][Stage 90:>   (0 + 0) / 1][Stage 91:>   (0 + 0) / 1][I 19:12:01.592 LabApp] Saving file at /LiveSessionMaterials/wk13Demo_Streaming/Spark_Streaming_Naive_Bayes.ipynb\n",
    "quickstart.cloudera_1  | [W 19:12:01.594 LabApp] Notebook LiveSessionMaterials/wk13Demo_Streaming/Spark_Streaming_Naive_Bayes.ipynb is not trusted\n",
    "-------------------------------------------\n",
    "quickstart.cloudera_1  | Batch: 3\n",
    "quickstart.cloudera_1  | -------------------------------------------\n",
    "quickstart.cloudera_1  | +---------+--------+--------+-----+\n",
    "quickstart.cloudera_1  | |site     |exchange|is_click|count|\n",
    "quickstart.cloudera_1  | +---------+--------+--------+-----+\n",
    "quickstart.cloudera_1  | |yahoo.com|SpotX   |1       |4    |\n",
    "quickstart.cloudera_1  | |cnn.com  |SpotX   |1       |13   |\n",
    "quickstart.cloudera_1  | |yahoo.com|AdX     |1       |17   |\n",
    "quickstart.cloudera_1  | |cnn.com  |SpotX   |0       |47   |\n",
    "quickstart.cloudera_1  | |yahoo.com|AdX     |0       |49   |\n",
    "quickstart.cloudera_1  | |yahoo.com|SpotX   |0       |53   |\n",
    "quickstart.cloudera_1  | |cnn.com  |AdX     |1       |28   |\n",
    "quickstart.cloudera_1  | |cnn.com  |AdX     |0       |40   |\n",
    "quickstart.cloudera_1  | +---------+--------+--------+-----+\n",
    "```"
   ]
  },
  {
   "cell_type": "markdown",
   "metadata": {},
   "source": [
    "### Show Data after streaming for a bit\n",
    "We would predict on an interval and bring in data from the stream to calculate each update. Here we'll walk through it in 1 step."
   ]
  },
  {
   "cell_type": "code",
   "execution_count": 56,
   "metadata": {},
   "outputs": [],
   "source": [
    "data = spark.sql(\"select * from priorsData\")"
   ]
  },
  {
   "cell_type": "code",
   "execution_count": 57,
   "metadata": {},
   "outputs": [
    {
     "name": "stdout",
     "output_type": "stream",
     "text": [
      "+---------+--------+--------+-----+\n",
      "|     site|exchange|is_click|count|\n",
      "+---------+--------+--------+-----+\n",
      "|yahoo.com|   SpotX|       1|    4|\n",
      "|  cnn.com|   SpotX|       1|   13|\n",
      "|yahoo.com|     AdX|       1|   17|\n",
      "|  cnn.com|   SpotX|       0|   47|\n",
      "|yahoo.com|     AdX|       0|   41|\n",
      "|yahoo.com|   SpotX|       0|   53|\n",
      "|  cnn.com|     AdX|       1|   28|\n",
      "|  cnn.com|     AdX|       0|   32|\n",
      "+---------+--------+--------+-----+\n",
      "\n"
     ]
    }
   ],
   "source": [
    "data.show()"
   ]
  },
  {
   "cell_type": "code",
   "execution_count": 58,
   "metadata": {},
   "outputs": [],
   "source": [
    "df = data.toPandas()"
   ]
  },
  {
   "cell_type": "code",
   "execution_count": 59,
   "metadata": {},
   "outputs": [
    {
     "data": {
      "text/html": [
       "<div>\n",
       "<style scoped>\n",
       "    .dataframe tbody tr th:only-of-type {\n",
       "        vertical-align: middle;\n",
       "    }\n",
       "\n",
       "    .dataframe tbody tr th {\n",
       "        vertical-align: top;\n",
       "    }\n",
       "\n",
       "    .dataframe thead th {\n",
       "        text-align: right;\n",
       "    }\n",
       "</style>\n",
       "<table border=\"1\" class=\"dataframe\">\n",
       "  <thead>\n",
       "    <tr style=\"text-align: right;\">\n",
       "      <th></th>\n",
       "      <th>count</th>\n",
       "    </tr>\n",
       "    <tr>\n",
       "      <th>is_click</th>\n",
       "      <th></th>\n",
       "    </tr>\n",
       "  </thead>\n",
       "  <tbody>\n",
       "    <tr>\n",
       "      <th>0</th>\n",
       "      <td>173</td>\n",
       "    </tr>\n",
       "    <tr>\n",
       "      <th>1</th>\n",
       "      <td>62</td>\n",
       "    </tr>\n",
       "  </tbody>\n",
       "</table>\n",
       "</div>"
      ],
      "text/plain": [
       "          count\n",
       "is_click       \n",
       "0           173\n",
       "1            62"
      ]
     },
     "execution_count": 59,
     "metadata": {},
     "output_type": "execute_result"
    }
   ],
   "source": [
    "## P(click)\n",
    "p_click = df.groupby(['is_click']).sum()\n",
    "p_click"
   ]
  },
  {
   "cell_type": "code",
   "execution_count": 60,
   "metadata": {},
   "outputs": [
    {
     "data": {
      "text/html": [
       "<div>\n",
       "<style scoped>\n",
       "    .dataframe tbody tr th:only-of-type {\n",
       "        vertical-align: middle;\n",
       "    }\n",
       "\n",
       "    .dataframe tbody tr th {\n",
       "        vertical-align: top;\n",
       "    }\n",
       "\n",
       "    .dataframe thead th {\n",
       "        text-align: right;\n",
       "    }\n",
       "</style>\n",
       "<table border=\"1\" class=\"dataframe\">\n",
       "  <thead>\n",
       "    <tr style=\"text-align: right;\">\n",
       "      <th></th>\n",
       "      <th></th>\n",
       "      <th>count</th>\n",
       "    </tr>\n",
       "    <tr>\n",
       "      <th>site</th>\n",
       "      <th>is_click</th>\n",
       "      <th></th>\n",
       "    </tr>\n",
       "  </thead>\n",
       "  <tbody>\n",
       "    <tr>\n",
       "      <th rowspan=\"2\" valign=\"top\">cnn.com</th>\n",
       "      <th>0</th>\n",
       "      <td>79</td>\n",
       "    </tr>\n",
       "    <tr>\n",
       "      <th>1</th>\n",
       "      <td>41</td>\n",
       "    </tr>\n",
       "    <tr>\n",
       "      <th rowspan=\"2\" valign=\"top\">yahoo.com</th>\n",
       "      <th>0</th>\n",
       "      <td>94</td>\n",
       "    </tr>\n",
       "    <tr>\n",
       "      <th>1</th>\n",
       "      <td>21</td>\n",
       "    </tr>\n",
       "  </tbody>\n",
       "</table>\n",
       "</div>"
      ],
      "text/plain": [
       "                    count\n",
       "site      is_click       \n",
       "cnn.com   0            79\n",
       "          1            41\n",
       "yahoo.com 0            94\n",
       "          1            21"
      ]
     },
     "execution_count": 60,
     "metadata": {},
     "output_type": "execute_result"
    }
   ],
   "source": [
    "## P(site | click)\n",
    "p_site_click = df.groupby(['site', 'is_click']).sum()\n",
    "p_site_click"
   ]
  },
  {
   "cell_type": "code",
   "execution_count": 61,
   "metadata": {},
   "outputs": [
    {
     "data": {
      "text/html": [
       "<div>\n",
       "<style scoped>\n",
       "    .dataframe tbody tr th:only-of-type {\n",
       "        vertical-align: middle;\n",
       "    }\n",
       "\n",
       "    .dataframe tbody tr th {\n",
       "        vertical-align: top;\n",
       "    }\n",
       "\n",
       "    .dataframe thead th {\n",
       "        text-align: right;\n",
       "    }\n",
       "</style>\n",
       "<table border=\"1\" class=\"dataframe\">\n",
       "  <thead>\n",
       "    <tr style=\"text-align: right;\">\n",
       "      <th></th>\n",
       "      <th></th>\n",
       "      <th>count</th>\n",
       "    </tr>\n",
       "    <tr>\n",
       "      <th>exchange</th>\n",
       "      <th>is_click</th>\n",
       "      <th></th>\n",
       "    </tr>\n",
       "  </thead>\n",
       "  <tbody>\n",
       "    <tr>\n",
       "      <th rowspan=\"2\" valign=\"top\">AdX</th>\n",
       "      <th>0</th>\n",
       "      <td>73</td>\n",
       "    </tr>\n",
       "    <tr>\n",
       "      <th>1</th>\n",
       "      <td>45</td>\n",
       "    </tr>\n",
       "    <tr>\n",
       "      <th rowspan=\"2\" valign=\"top\">SpotX</th>\n",
       "      <th>0</th>\n",
       "      <td>100</td>\n",
       "    </tr>\n",
       "    <tr>\n",
       "      <th>1</th>\n",
       "      <td>17</td>\n",
       "    </tr>\n",
       "  </tbody>\n",
       "</table>\n",
       "</div>"
      ],
      "text/plain": [
       "                   count\n",
       "exchange is_click       \n",
       "AdX      0            73\n",
       "         1            45\n",
       "SpotX    0           100\n",
       "         1            17"
      ]
     },
     "execution_count": 61,
     "metadata": {},
     "output_type": "execute_result"
    }
   ],
   "source": [
    "## P(exchange | click)\n",
    "p_exchange_click = df.groupby(['exchange', 'is_click']).sum()\n",
    "p_exchange_click"
   ]
  },
  {
   "cell_type": "markdown",
   "metadata": {},
   "source": [
    "### Let's build our NB model"
   ]
  },
  {
   "cell_type": "code",
   "execution_count": 62,
   "metadata": {},
   "outputs": [],
   "source": [
    "class NB:\n",
    "    def __init__(self, p_click, p_site_click, p_exchange_click):\n",
    "        self.p_click = p_click.astype(np.float)\n",
    "        self.p_site_click = p_site_click.astype(np.float)\n",
    "        self.p_exchange_click = p_exchange_click.astype(np.float)\n",
    "    \n",
    "    def classify(self, site, exchange):\n",
    "        p_numerator_click = (self.p_site_click.loc[site].loc[1] / self.p_click.loc[1])\\\n",
    "            * (self.p_exchange_click.loc[exchange].loc[1] / self.p_click.loc[1])\\\n",
    "            * (self.p_click.loc[1] / np.sum(self.p_click))\n",
    "        p_numerator_nonclick = (self.p_site_click.loc[site].loc[0] / self.p_click.loc[0])\\\n",
    "            * (self.p_exchange_click.loc[exchange].loc[0] / self.p_click.loc[0])\\\n",
    "            * (self.p_click.loc[0] / np.sum(self.p_click))\n",
    "        print(\"estimate of clicks to non-clicks: (%.3f):(%.3f)\" % (p_numerator_click, p_numerator_nonclick))\n",
    "        return float(p_numerator_click / (p_numerator_click + p_numerator_nonclick))"
   ]
  },
  {
   "cell_type": "code",
   "execution_count": 63,
   "metadata": {},
   "outputs": [
    {
     "name": "stdout",
     "output_type": "stream",
     "text": [
      "{\n",
      "\t\"site_exchange_ctr\": {\n",
      "\t\t\"yahoo.com+AdX\": 0.4,\n",
      "\t\t\"yahoo.com+SpotX\": 0.2,\n",
      "\t\t\"cnn.com+AdX\": 0.6,\n",
      "\t\t\"cnn.com+SpotX\": 0.3\n",
      "\t}\n",
      "}"
     ]
    }
   ],
   "source": [
    "!cat click_through_rate_config.json"
   ]
  },
  {
   "cell_type": "code",
   "execution_count": 65,
   "metadata": {},
   "outputs": [
    {
     "name": "stdout",
     "output_type": "stream",
     "text": [
      "estimate of clicks to non-clicks: (0.065):(0.169)\n",
      "yahoo.com+AdX 0.277597129704939\n",
      "estimate of clicks to non-clicks: (0.025):(0.231)\n",
      "yahoo.com+SpotX 0.0958187045136147\n",
      "estimate of clicks to non-clicks: (0.127):(0.142)\n",
      "cnn.com+AdX 0.4716515525187701\n",
      "estimate of clicks to non-clicks: (0.048):(0.194)\n",
      "cnn.com+SpotX 0.1975503824660335\n"
     ]
    }
   ],
   "source": [
    "nb = NB(p_click, p_site_click, p_exchange_click)\n",
    "\n",
    "print(\"yahoo.com+AdX\",nb.classify(site=\"yahoo.com\", exchange=\"AdX\"))\n",
    "print(\"yahoo.com+SpotX\",nb.classify(site=\"yahoo.com\", exchange=\"SpotX\"))\n",
    "print(\"cnn.com+AdX\",nb.classify(site=\"cnn.com\", exchange=\"AdX\"))\n",
    "print(\"cnn.com+SpotX\",nb.classify(site=\"cnn.com\", exchange=\"SpotX\"))"
   ]
  },
  {
   "cell_type": "markdown",
   "metadata": {},
   "source": [
    "**Note**: NB's conditional independence assumption made the estimation inaccurate; however they're roughly within 10% of the known click through rate."
   ]
  },
  {
   "cell_type": "markdown",
   "metadata": {},
   "source": [
    "## K-means Streaming\n",
    "\n",
    "Since K-means is unsupervised and each point can be added into the model additivly it is a great example of an online model.\n",
    "\n",
    "In this simple example we're going to take some sample data in 2 clusters and bring in new data and let the cluster centers evolve based on the new data."
   ]
  },
  {
   "cell_type": "code",
   "execution_count": 27,
   "metadata": {},
   "outputs": [
    {
     "name": "stdout",
     "output_type": "stream",
     "text": [
      "Overwriting kmeans_data\n"
     ]
    }
   ],
   "source": [
    "%%writefile kmeans_data\n",
    "-3.0 -5.0\n",
    "-5.1 -4.1\n",
    "-3.9 -5.2\n",
    "-5.2 -4.5\n",
    "-3.3 -5.1\n",
    "4.0 2.0\n",
    "3.1 5.1\n",
    "5.2 5.2\n",
    "4.1 3.5\n",
    "4.5 4.5"
   ]
  },
  {
   "cell_type": "code",
   "execution_count": 28,
   "metadata": {},
   "outputs": [],
   "source": [
    "train_data = np.loadtxt(\"kmeans_data\")"
   ]
  },
  {
   "cell_type": "code",
   "execution_count": 29,
   "metadata": {},
   "outputs": [
    {
     "data": {
      "text/plain": [
       "<matplotlib.collections.PathCollection at 0x7f2d1403df60>"
      ]
     },
     "execution_count": 29,
     "metadata": {},
     "output_type": "execute_result"
    },
    {
     "data": {
      "image/png": "[encoded data removed]",
      "text/plain": [
       "<Figure size 432x288 with 1 Axes>"
      ]
     },
     "metadata": {},
     "output_type": "display_data"
    }
   ],
   "source": [
    "plt.scatter(train_data[:,0], train_data[:,1])"
   ]
  },
  {
   "cell_type": "code",
   "execution_count": 30,
   "metadata": {},
   "outputs": [
    {
     "name": "stdout",
     "output_type": "stream",
     "text": [
      "Overwriting kmeans_data_sample\n"
     ]
    }
   ],
   "source": [
    "%%writefile kmeans_data_sample\n",
    "(1.0), [1.7, 0.4]\n",
    "(2.0), [2.2, 1.8]"
   ]
  },
  {
   "cell_type": "code",
   "execution_count": 33,
   "metadata": {},
   "outputs": [],
   "source": [
    "# For plotting new points we will stream in\n",
    "!cat kmeans_data > full_data\n",
    "!printf \"\\n1.7 0.4\" >> full_data\n",
    "!printf \"\\n2.2 1.8\" >> full_data"
   ]
  },
  {
   "cell_type": "code",
   "execution_count": 35,
   "metadata": {},
   "outputs": [],
   "source": [
    "ssc = StreamingContext(sc, 1)"
   ]
  },
  {
   "cell_type": "code",
   "execution_count": 36,
   "metadata": {},
   "outputs": [],
   "source": [
    "def parse(lp):\n",
    "    label = float(lp[lp.find('(') + 1: lp.find(')')])\n",
    "    vec = Vectors.dense(lp[lp.find('[') + 1: lp.find(']')].split(','))\n",
    "\n",
    "    return LabeledPoint(label, vec)\n",
    "\n",
    "trainingData = sc.textFile(\"kmeans_data\")\\\n",
    "    .map(lambda line: Vectors.dense([float(x) for x in line.strip().split(' ')]))\n",
    "\n",
    "testingData = sc.textFile(\"kmeans_data_sample\").map(parse)"
   ]
  },
  {
   "cell_type": "code",
   "execution_count": 37,
   "metadata": {},
   "outputs": [],
   "source": [
    "trainingQueue = [trainingData]\n",
    "testingQueue = [testingData]\n",
    "\n",
    "trainingStream = ssc.queueStream(trainingQueue)\n",
    "testingStream = ssc.queueStream(testingQueue)"
   ]
  },
  {
   "cell_type": "code",
   "execution_count": 38,
   "metadata": {},
   "outputs": [],
   "source": [
    "model = StreamingKMeans(k=2, decayFactor=1.0).setRandomCenters(dim=2, weight=1.0, seed=0)\n",
    "model.trainOn(trainingStream)"
   ]
  },
  {
   "cell_type": "code",
   "execution_count": 39,
   "metadata": {},
   "outputs": [],
   "source": [
    "result = model.predictOnValues(testingStream.map(lambda lp: (lp.label, lp.features)))\n",
    "result.pprint() ## will print out values"
   ]
  },
  {
   "cell_type": "code",
   "execution_count": 40,
   "metadata": {},
   "outputs": [
    {
     "name": "stdout",
     "output_type": "stream",
     "text": [
      "[[1.76405235 0.40015721]\n",
      " [0.97873798 2.2408932 ]]\n"
     ]
    }
   ],
   "source": [
    "original_model_centers = model._model.centers\n",
    "print(original_model_centers)"
   ]
  },
  {
   "cell_type": "code",
   "execution_count": 41,
   "metadata": {},
   "outputs": [
    {
     "name": "stdout",
     "output_type": "stream",
     "text": [
      "-------------------------------------------\n",
      "Time: 2018-08-01 18:43:25\n",
      "-------------------------------------------\n",
      "(1.0, 0)\n",
      "(2.0, 1)\n",
      "\n",
      "-------------------------------------------\n",
      "Time: 2018-08-01 18:43:26\n",
      "-------------------------------------------\n",
      "\n",
      "-------------------------------------------\n",
      "Time: 2018-08-01 18:43:27\n",
      "-------------------------------------------\n",
      "\n",
      "-------------------------------------------\n",
      "Time: 2018-08-01 18:43:28\n",
      "-------------------------------------------\n",
      "\n",
      "-------------------------------------------\n",
      "Time: 2018-08-01 18:43:29\n",
      "-------------------------------------------\n",
      "\n"
     ]
    }
   ],
   "source": [
    "ssc.start()\n",
    "time.sleep(5)\n",
    "ssc.stop(stopSparkContext=False)"
   ]
  },
  {
   "cell_type": "code",
   "execution_count": 42,
   "metadata": {},
   "outputs": [
    {
     "name": "stdout",
     "output_type": "stream",
     "text": [
      "Original cluster centers\n",
      "[[1.76405235 0.40015721]\n",
      " [0.97873798 2.2408932 ]]\n",
      "Updated cluster centers\n",
      "[[-2.10513538 -3.07140611]\n",
      " [ 3.5757476   4.10817864]]\n"
     ]
    }
   ],
   "source": [
    "print(\"Original cluster centers\")\n",
    "print(original_model_centers)\n",
    "print(\"Updated cluster centers\")\n",
    "print(model._model.centers)"
   ]
  },
  {
   "cell_type": "code",
   "execution_count": 56,
   "metadata": {},
   "outputs": [
    {
     "data": {
      "text/plain": [
       "<matplotlib.collections.PathCollection at 0x7f2cffdd7470>"
      ]
     },
     "execution_count": 56,
     "metadata": {},
     "output_type": "execute_result"
    },
    {
     "data": {
      "image/png": "[encoded data removed]",
      "text/plain": [
       "<Figure size 432x288 with 1 Axes>"
      ]
     },
     "metadata": {},
     "output_type": "display_data"
    }
   ],
   "source": [
    "plt.scatter(train_data[:,0], train_data[:,1])\n",
    "plt.scatter(original_model_centers.transpose()[0], original_model_centers.transpose()[1])"
   ]
  },
  {
   "cell_type": "code",
   "execution_count": 57,
   "metadata": {},
   "outputs": [
    {
     "data": {
      "text/plain": [
       "<matplotlib.collections.PathCollection at 0x7f2cffda2c88>"
      ]
     },
     "execution_count": 57,
     "metadata": {},
     "output_type": "execute_result"
    },
    {
     "data": {
      "image/png": "[encoded data removed]",
      "text/plain": [
       "<Figure size 432x288 with 1 Axes>"
      ]
     },
     "metadata": {},
     "output_type": "display_data"
    }
   ],
   "source": [
    "plt.scatter(full_data[:,0], full_data[:,1])\n",
    "plt.scatter(model._model.centers.transpose()[0], model._model.centers.transpose()[1])"
   ]
  },
  {
   "cell_type": "markdown",
   "metadata": {},
   "source": [
    "## Discussion\n",
    "\n",
    "What else could be done to make the Naive Bayes more effective in a real world system?\n",
    "- How could we checkpoint?\n",
    "- How can we rollback?\n",
    "- Other ideas?\n",
    "\n",
    "What are some examples of systems you would like to apply this to?\n",
    "- Email Spam (Data trumps complex models, see [The Unreasonable\n",
    "Effectiveness of Data](https://static.googleusercontent.com/media/research.google.com/en//pubs/archive/35179.pdf))\n",
    "- ..."
   ]
  },
  {
   "cell_type": "markdown",
   "metadata": {},
   "source": []
  }
 ],
 "metadata": {
  "kernelspec": {
   "display_name": "Python 3",
   "language": "python",
   "name": "python3"
  },
  "language_info": {
   "codemirror_mode": {
    "name": "ipython",
    "version": 3
   },
   "file_extension": ".py",
   "mimetype": "text/x-python",
   "name": "python",
   "nbconvert_exporter": "python",
   "pygments_lexer": "ipython3",
   "version": "3.7.5"
  }
 },
 "nbformat": 4,
 "nbformat_minor": 4
}
