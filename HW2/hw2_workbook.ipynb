{
 "cells": [
  {
   "cell_type": "markdown",
   "metadata": {},
   "source": [
    "# HW 2 - Naive Bayes in Hadoop MR\n",
    "__`MIDS w261: Machine Learning at Scale | UC Berkeley School of Information | Fall 2018`__\n",
    "\n",
    "In the live sessions for week 2 and week 3 you got some practice designing and debugging Hadoop Streaming jobs. In this homework we'll use Hadoop MapReduce to implement your first parallelized machine learning algorithm: Naive Bayes. As you develop your implementation you'll test it on a small dataset that matches the 'Chinese Example' in the _Manning, Raghavan and Shutze_ reading for Week 2. For the main task in this assignment you'll be working with a small subset of the Enron Spam/Ham Corpus. By the end of this assignment you should be able to:\n",
    "* __... describe__ the Naive Bayes algorithm including both training and inference.\n",
    "* __... perform__ EDA on a corpus using Hadoop MR.\n",
    "* __... implement__ parallelized Naive Bayes.\n",
    "* __... constrast__ partial, unordered and total order sort and their implementations in Hadoop Streaming.\n",
    "* __... explain__ how smoothing affects the bias and variance of a Multinomial Naive Bayes model.\n",
    "\n",
    "As always, your work will be graded both on the correctness of your output and on the clarity and design of your code. __Please refer to the `README` for homework submission instructions.__ "
   ]
  },
  {
   "cell_type": "markdown",
   "metadata": {},
   "source": [
    "## Notebook Setup\n",
    "Before starting, run the following cells to confirm your setup."
   ]
  },
  {
   "cell_type": "code",
   "execution_count": 1,
   "metadata": {},
   "outputs": [],
   "source": [
    "# imports\n",
    "import numpy as np\n",
    "import matplotlib.pyplot as plt\n",
    "%matplotlib inline\n",
    "%reload_ext autoreload\n",
    "%autoreload 2"
   ]
  },
  {
   "cell_type": "code",
   "execution_count": 2,
   "metadata": {},
   "outputs": [
    {
     "name": "stdout",
     "output_type": "stream",
     "text": [
      "/media/notebooks\n"
     ]
    }
   ],
   "source": [
    "!pwd"
   ]
  },
  {
   "cell_type": "code",
   "execution_count": 3,
   "metadata": {},
   "outputs": [],
   "source": [
    "# global vars (paths) - ADJUST AS NEEDED\n",
    "JAR_FILE = \"/usr/lib/hadoop-mapreduce/hadoop-streaming.jar\"\n",
    "HDFS_DIR = \"/user/root/HW2\"\n",
    "HOME_DIR = \"/media/notebooks\" # FILL IN HERE eg. /media/notebooks/Assignments/HW2"
   ]
  },
  {
   "cell_type": "code",
   "execution_count": 4,
   "metadata": {},
   "outputs": [],
   "source": [
    "# save path for use in Hadoop jobs (-cmdenv PATH={PATH})\n",
    "from os import environ\n",
    "PATH  = environ['PATH']"
   ]
  },
  {
   "cell_type": "code",
   "execution_count": 5,
   "metadata": {},
   "outputs": [],
   "source": [
    "# data path\n",
    "ENRON = \"data/enronemail_1h.txt\""
   ]
  },
  {
   "cell_type": "code",
   "execution_count": 22,
   "metadata": {},
   "outputs": [
    {
     "name": "stdout",
     "output_type": "stream",
     "text": [
      "Found 1 items\n",
      "drwxr-xr-x   - root supergroup          0 2021-09-21 16:09 HW2\n",
      "mkdir: `/user/root/HW2': File exists\n"
     ]
    }
   ],
   "source": [
    "# make the HDFS directory if it doesn't already exist\n",
    "!hdfs dfs -ls \n",
    "!hdfs dfs -mkdir {HDFS_DIR}"
   ]
  },
  {
   "cell_type": "code",
   "execution_count": 23,
   "metadata": {},
   "outputs": [
    {
     "name": "stdout",
     "output_type": "stream",
     "text": [
      "Found 19 items\n",
      "-rw-r--r--   1 root supergroup        303 2021-09-21 16:02 /user/root/HW2/NBmodel.txt\n",
      "drwxr-xr-x   - root supergroup          0 2021-09-18 05:39 /user/root/HW2/chinese-output\n",
      "-rw-r--r--   1 root supergroup        119 2021-09-18 03:05 /user/root/HW2/chineseTest.txt\n",
      "-rw-r--r--   1 root supergroup        107 2021-09-18 03:05 /user/root/HW2/chineseTrain.txt\n",
      "drwxr-xr-x   - root supergroup          0 2021-09-18 03:01 /user/root/HW2/eda-output\n",
      "drwxr-xr-x   - root supergroup          0 2021-09-19 02:46 /user/root/HW2/eda-sort-output\n",
      "drwxr-xr-x   - root supergroup          0 2021-09-19 00:58 /user/root/HW2/enron-model\n",
      "-rw-r--r--   1 root supergroup     204559 2021-09-15 05:10 /user/root/HW2/enron.txt\n",
      "-rw-r--r--   1 root supergroup      41493 2021-09-19 00:56 /user/root/HW2/enron_test.txt\n",
      "-rw-r--r--   1 root supergroup     163066 2021-09-19 00:56 /user/root/HW2/enron_train.txt\n",
      "drwxr-xr-x   - root supergroup          0 2021-09-18 20:51 /user/root/HW2/nb-smoothed-chinese-output\n",
      "drwxr-xr-x   - root supergroup          0 2021-09-18 20:08 /user/root/HW2/nb-unsmoothed-chinese-output\n",
      "drwxr-xr-x   - root supergroup          0 2021-09-19 01:11 /user/root/HW2/smooth-model\n",
      "drwxr-xr-x   - root supergroup          0 2021-09-19 01:08 /user/root/HW2/smooth-model-preprocess\n",
      "drwxr-xr-x   - root supergroup          0 2021-09-20 01:08 /user/root/HW2/smooth-sort\n",
      "drwxr-xr-x   - root supergroup          0 2021-09-19 01:35 /user/root/HW2/smoothed-evaluation\n",
      "drwxr-xr-x   - root supergroup          0 2021-09-21 16:09 /user/root/HW2/smoothed-sort\n",
      "drwxr-xr-x   - root supergroup          0 2021-09-19 01:31 /user/root/HW2/unsmooth-evaluation\n",
      "drwxr-xr-x   - root supergroup          0 2021-09-19 01:35 /user/root/HW2/unsmoothed-evaluation\n"
     ]
    }
   ],
   "source": [
    "!hdfs dfs -ls {HDFS_DIR}"
   ]
  },
  {
   "cell_type": "code",
   "execution_count": 18,
   "metadata": {},
   "outputs": [],
   "source": [
    "# !hdfs dfs -mkdir {HDFS_DIR}/test"
   ]
  },
  {
   "cell_type": "code",
   "execution_count": 48,
   "metadata": {},
   "outputs": [
    {
     "name": "stdout",
     "output_type": "stream",
     "text": [
      "Deleted /user/root/HW2/smooth-model-part1\n"
     ]
    }
   ],
   "source": [
    "# !hdfs dfs -rm -r {HDFS_DIR}"
   ]
  },
  {
   "cell_type": "markdown",
   "metadata": {},
   "source": [
    "# Question 1: Hadoop MapReduce Key Takeaways.  \n",
    "\n",
    "This assignment will be the only one in which you use Hadoop Streaming to implement a distributed algorithm. The key reason we continue to teach Hadoop streaming is because of the way it forces the programmer to think carefully about what is happening under the hood when you parallelize a calculation. This question will briefly highlight some of the most important concepts that you need to understand about Hadoop Streaming and MapReduce before we move on to Spark next week.   \n",
    "\n",
    "### Q1 Tasks:\n",
    "\n",
    "* __a) short response:__ What \"programming paradigm\" is Hadoop MapReduce based on? What are the main ideas of this programming paradigm and how does MapReduce exemplify these ideas?\n",
    "\n",
    "* __b) short response:__ What is the Hadoop Shuffle? When does it happen? Why is it potentially costly? Describe one specific thing we can we do to mitigate the cost associated with this stage of our Hadoop Streaming jobs.\n",
    "\n",
    "* __c) short response:__ In Hadoop Streaming why do the input and output record format of a combiner script have to be the same? [__`HINT`__ _what level of combining does the framework guarantee? what is the relationship between the record format your mapper emits and the format your reducer expects to receive?_]\n",
    "\n",
    "* __d) short response:__ To what extent can you control the level of parallelization of your Hadoop Streaming jobs? Please be specific.\n",
    "\n",
    "* __e) short response:__ What change in the kind of computing resources available prompted the creation of parallel computation frameworks like Hadoop? "
   ]
  },
  {
   "cell_type": "markdown",
   "metadata": {},
   "source": [
    "### Q1 Student Answers:\n",
    "\n",
    "> __a)__ Hadoop MapReduce programming model has its roots in functional programming.  It is a declarative programming paradigm, meaning it uses expressions.  In functional code, the output value of a function depends only on the input arguments due to the higher-order function concept (functions that can accept other functions as arguments).  Map and reduce--aka fold, accumulate, compress, or inject--are examples of a higher-order function.  This programming style avoids state change, mutable objects and takes advantage of the embarrassing parallel framework--all critical features.\n",
    "\n",
    "> __b)__ In many ways, the shuffle is the heart of MapReduce and is where the \"magic\" happens. The shuffle is the process by which the system performs the sort and transfers the map outputs to the reducers. It is the synchronization process between the Map and Reduce phases. The shuffle is a network hot spot since it occurs after all mappers are complete then transfers the data as key-value pairs to the reducers.  Hadoop identifies which data pair gets allocated to each data node based on the key, at which point the data must be transferred.  Adding a combiner is one way to cut down on network traffic during the shuffle. A combiner will locally aggregate similar keys, therefore reducing the cost associated with the shuffle stage.\n",
    "\n",
    "> __c)__ A combiner is an aggregation script specified by the programmer.  It combines mapper output records with the same key, turning multiple key-value pairs with the same key into one.  This typically results in a faster shuffle because fewer records need transferring.  It is important to note that Hadoop uses combiners strategically.  Sometimes records are combined before leaving the mapper node or after arriving at a reducer node.  The fact that Hadoop does not guarantee using a combiner on any or all records limits the output of a combiner to having the same format as an input into a reducer.  In other words, the input and output format of a combiner must be the same.  In summary, Hadoop makes smart choices about when to hold data in memory, combine, or spill to disk.  These ultimately improve the shuffle \n",
    "efficiency.\n",
    "\n",
    "> __d)__ The level of parallelization in Hadoop is the culmination of a two-step Map and Reduce process.  The user can indirectly specify the number of map tasks for a given job using the mapred.min.split.size parameter in mapred-site.xml.  This parameter adjusts the input split size, which drives the number of mappers.  Keep in mind the size of the input split should typically match the block size for peak performance.  The user can specify the number of reducers using the -numReduceTasks parameter when invoking a Hadoop job.\n",
    "\n",
    "> __e)__ The divide and conquer technique of parallel computing became readily available when standard/commodity and affordable architectures such as cloud computing emerged.  Clusters of commodity Linux nodes with CPU, memory, and disk along with gigabit ethernet interconnection prompted the adoption of parallel computation frameworks like Hadoop.  Increasing data size, availability, and the demand to leverage data served as the catalyst for the rapid growth of the data revolution."
   ]
  },
  {
   "cell_type": "markdown",
   "metadata": {},
   "source": [
    "# Question 2: MapReduce Design Patterns.  \n",
    "\n",
    "In the last two live sessions and in your readings from Lin & Dyer you encountered a number of techniques for manipulating the logistics of a MapReduce implementation to ensure that the right information is available at the right time and location. In this question we'll review a few of the key techniques you learned.   \n",
    "\n",
    "### Q2 Tasks:\n",
    "\n",
    "* __a) short response:__ What are counters (in the context of Hadoop Streaming)? How are they useful? What kinds of counters does Hadoop provide for you? How do you create your own custom counter?\n",
    "\n",
    "* __b) short response:__ What are composite keys? How are they useful? How are they related to the idea of custom partitioning?\n",
    "\n",
    "* __c) short response:__ What is the order inversion pattern? What problem does it help solve? How do we implement it? "
   ]
  },
  {
   "cell_type": "markdown",
   "metadata": {},
   "source": [
    "### Q2 Student Answers:\n",
    "\n",
    "> __a)__ There are two types of Hadoop counters, built-in and custom.  Built-in counters provide a way to measure the progress or number of operations during a MapReduce job.  Counters in Hadoop gather statistics about a job.  They are also helpful in diagnosing implementation issues.  There are five types of built-in counters: Task Counters, FileSystem Counters, FileInputFormat counters, FileOutputFormat Counters, and MapReduce Job Counters.  Specific examples include the following: Task Counters collect specific task information like the number of records read and written during execution.  FileSystemCounters track the number of bytes read and written by the file system.  A Custom Counter is a user-defined counter configurable using Java enum.  It allows users to define custom counting techniques that the mapper or reducer can increment.  \n",
    "\n",
    "> __b)__ A composite key contains multiple values used for sorting.  It is the combination of a key and a value or several values.  A technique called secondary sorting uses composite keys for sorting multiple fields rather than just one.\n",
    "\n",
    "> Suppose we have input data containing the highest daily temperature for fifty years in the following format: yyyy ttt.  Our goal is to sort the data into a list of descending years and temperatures.  Secondary sorting using a composite key must be applied to meet this objective.  First, create the composite key of year and temp.  Using custom partitioning based on year only ensures records of the same year get sent to the same reduce task.  Once the grouped years are together, the reducer can use the composite key to sort by year and temp.  To summarize, composite keys allow the ability to sort by more than one value.\n",
    "\n",
    "> Custom partitioning and composite key techniques are used in tandem to achieve total ordered sort. The composite key allows the programmer to sort based on more than one value.  Custom partitioning assigns keys to partitions with guidance from the programmer, thereby ordering the values across multiple partitions. \n",
    "\n",
    "> __c)__ The order inversion pattern allows the user to access the result of a computation in the reducer before processing the data needed for that computation.  This capability makes calculating relative frequencies possible.  Implementation relies on the user creating a new key prefixed by a character guaranteeing it to be the first result the reducer encounters after the sort.\n"
   ]
  },
  {
   "cell_type": "markdown",
   "metadata": {},
   "source": [
    "# Question 3: Understanding Total Order Sort\n",
    "\n",
    "The key challenge in distributed computing is to break a problem into a set of sub-problems that can be performed without communicating with each other. Ideally, we should be able to define an arbirtary number of splits and still get the right result, but that is not always possible. Parallelization becomes particularly challenging when we need to make comparisons between records, for example when sorting. Total Order Sort allows us to order large datasets in a way that enables efficient retrieval of results. Before beginning this assignment, make sure you have read and understand the [Total Order Sort Notebook](https://github.com/UCB-w261/main/tree/master/HelpfulResources/TotalSortGuide/_total-sort-guide-spark2.01-JAN27-2017.ipynb). You can skip the first two MRJob sections, but the rest of section III and all of section IV are **very** important (and apply to Hadoop Streaming) so make sure to read them closely. Feel free to read the Spark sections as well but you won't be responsible for that material until later in the course. To verify your understanding, answer the following questions.\n",
    "\n",
    "### Q3 Tasks:\n",
    "\n",
    "* __a) short response:__ What is the difference between a partial sort, an unordered total sort, and a total order sort? From the programmer's perspective, what does total order sort allow us to do that we can't with unordered total? Why is this important with large datasets?\n",
    "\n",
    "* __b) short response:__ Which phase of a MapReduce job is leveraged to implement Total Order Sort? Which default behaviors must be changed. Why must they be changed?\n",
    "\n",
    "* __c) short response:__ Describe in words how to configure a Hadoop Streaming job for the custom sorting and partitioning that is required for Total Order Sort.  \n",
    "\n",
    "* __d) short response:__ Explain why we need to use an inverse hash code function.\n",
    "\n",
    "* __e) short response:__ Where does this function need to be located so that a Total Order Sort can be performed?"
   ]
  },
  {
   "cell_type": "markdown",
   "metadata": {},
   "source": [
    "### Q3 Student Answers:\n",
    "\n",
    "> __a)__ **Partial Sort:** A partial sort outputs several partition files sorted by key-value pairs.  Note that these files are sorted within each file, not ordered across all partitions files.  \n",
    "> **Unordered Total Sort:** Total unordered sort refers to ordering all key-value pairs based upon a specified key.  This sorting encompasses all partition files, unlike partial sort.  However, there is still some post-processing needed to handle the partition files.  \n",
    "> **Total Ordered Sort:**  Total order sort not only orders the key-value pairs but assigns them to partitions such that the sequence of records amongst all partitions are ordered. \n",
    "\n",
    "> __b)__ Hadoop's architecture only guarantees partial sort in its shuffling and sorting phases.  Additional steps must be incorporated to aid Hadoop's framework during the shuffle and sort phase to achieve total sort.  Three default behaviors must be changed. First, a partition file or function needs to exist inside the mappers. This is where a partition key is generated to instruct Hadoop on how to partition records. Second, internal partition keys inside the reducer need to be dropped. This is where the key used for partitioning is dropped, and the reducer recovers the original (key, value) pairs. Finally, there is a post-processing step to order the partitions. While the partitions are ordered, the partitions keys may not be.\n",
    "\n",
    "> __c)__ To perform a total order sort, the default shuffle behavior must be changed by providing a custom partitioner, a custom sort specification, and a combiner. \n",
    "\n",
    "> __d)__ An inverse hash function is used to preserve partition key ordering.  Its input receives the desired partition index and the total number of partitions, then returns a partition key. This key will hash to the correct partition index when supplied to the Hadoop framework. \n",
    "\n",
    "> __e)__ The inverse hash function must be located in the mapper to perform the total ordered sort."
   ]
  },
  {
   "cell_type": "markdown",
   "metadata": {},
   "source": [
    "# About the Data\n",
    "For the main task in this portion of the homework you will train a classifier to determine whether an email represents spam or not. You will train your Naive Bayes model on a 100 record subset of the Enron Spam/Ham corpus available in the HW2 data directory (__`HW2/data/enronemail_1h.txt`__).\n",
    "\n",
    "__Source:__   \n",
    "The original data included about 93,000 emails which were made public after the company's collapse. There have been a number raw and preprocessed versions of this corpus (including those available [here](http://www.aueb.gr/users/ion/data/enron-spam/index.html) and [here](http://www.aueb.gr/users/ion/publications.html)). The subset we will use is limited to emails from 6 Enron employees and a number of spam sources. It is part of [this data set](http://www.aueb.gr/users/ion/data/enron-spam/) which was created by researchers working on personlized Bayesian spam filters. Their original publication is [available here](http://www.aueb.gr/users/ion/docs/ceas2006_paper.pdf). __`IMPORTANT!`__ _For this homework please limit your analysis to the 100 email subset which we provide. No need to download or run your analysis on any of the original datasets, those links are merely provided as context._\n",
    "\n",
    "__Preprocessing:__  \n",
    "For their work, Metsis et al. (the authors) appeared to have pre-processed the data, not only collapsing all text to lower-case, but additionally separating \"words\" by spaces, where \"words\" unfortunately include punctuation. As a concrete example, the sentence:  \n",
    ">  `Hey Jon, I hope you don't get lost out there this weekend!`  \n",
    "\n",
    "... would have been reduced by Metsis et al. to the form:  \n",
    "> `hey jon , i hope you don ' t get lost out there this weekend !` \n",
    "\n",
    "... so we have reverted the data back toward its original state, removing spaces so that our sample sentence would now look like:\n",
    "> `hey jon, i hope you don't get lost out there this weekend!`  \n",
    "\n",
    "Thus we have at least preserved contractions and other higher-order lexical forms. However, one must be aware that this reversion is not complete, and that some object (specifically web sites) will be ill-formatted, and that all text is still lower-cased.\n",
    "\n",
    "\n",
    "__Format:__   \n",
    "All messages are collated to a tab-delimited format:  \n",
    "\n",
    ">    `ID \\t SPAM \\t SUBJECT \\t CONTENT \\n`  \n",
    "\n",
    "where:  \n",
    ">    `ID = string; unique message identifier`  \n",
    "    `SPAM = binary; with 1 indicating a spam message`  \n",
    "    `SUBJECT = string; title of the message`  \n",
    "    `CONTENT = string; content of the message`   \n",
    "    \n",
    "Note that either of `SUBJECT` or `CONTENT` may be \"NA\", and that all tab (\\t) and newline (\\n) characters have been removed from both of the `SUBJECT` and `CONTENT` columns.  "
   ]
  },
  {
   "cell_type": "code",
   "execution_count": 26,
   "metadata": {},
   "outputs": [
    {
     "name": "stdout",
     "output_type": "stream",
     "text": [
      "/media/notebooks\n"
     ]
    }
   ],
   "source": [
    "!pwd"
   ]
  },
  {
   "cell_type": "code",
   "execution_count": 27,
   "metadata": {},
   "outputs": [
    {
     "name": "stdout",
     "output_type": "stream",
     "text": [
      "0001.1999-12-10.farmer\t0\t christmas tree farm pictures\tNA\n",
      "0001.1999-12-10.kaminski\t0\t re: rankings\t thank you.\n",
      "0001.2000-01-17.beck\t0\t leadership development pilot\t\" sally:  what timing, ask and you shall receiv\n",
      "0001.2000-06-06.lokay\t0\t\" key dates and impact of upcoming sap implementation over the next few week\n",
      "0001.2001-02-07.kitchen\t0\t key hr issues going forward\t a) year end reviews-report needs generating \n"
     ]
    }
   ],
   "source": [
    "# take a look at the first 100 characters of the first 5 records (RUN THIS CELL AS IS)\n",
    "!head -n 5 /media/notebooks/{ENRON} | cut -c-100"
   ]
  },
  {
   "cell_type": "code",
   "execution_count": 32,
   "metadata": {},
   "outputs": [
    {
     "name": "stdout",
     "output_type": "stream",
     "text": [
      "100 /media/notebooks/data/enronemail_1h.txt\n"
     ]
    }
   ],
   "source": [
    "# see how many messages/lines are in the file \n",
    "# this number may be off by 1 if the last line doesn't end with a newline\n",
    "!wc -l {HOME_DIR}/{ENRON}"
   ]
  },
  {
   "cell_type": "code",
   "execution_count": 30,
   "metadata": {},
   "outputs": [
    {
     "name": "stdout",
     "output_type": "stream",
     "text": [
      "mkdir: `/user/root/HW2': File exists\n"
     ]
    }
   ],
   "source": [
    "# make the HDFS directory if it doesn't already exist\n",
    "!hdfs dfs -mkdir {HDFS_DIR}"
   ]
  },
  {
   "cell_type": "code",
   "execution_count": 33,
   "metadata": {},
   "outputs": [],
   "source": [
    "# load the data into HDFS (RUN THIS CELL AS IS)\n",
    "!hdfs dfs -copyFromLocal {HOME_DIR}/{ENRON} {HDFS_DIR}/enron.txt"
   ]
  },
  {
   "cell_type": "code",
   "execution_count": 41,
   "metadata": {},
   "outputs": [
    {
     "name": "stdout",
     "output_type": "stream",
     "text": [
      "Found 1 items\n",
      "-rw-r--r--   1 root supergroup     204559 2021-09-15 05:10 /user/root/HW2/enron.txt\n"
     ]
    }
   ],
   "source": [
    "# view file structure\n",
    "!hdfs dfs -ls {HDFS_DIR}"
   ]
  },
  {
   "cell_type": "code",
   "execution_count": 15,
   "metadata": {},
   "outputs": [
    {
     "name": "stdout",
     "output_type": "stream",
     "text": [
      "0001.1999-12-10.farmer\t0\t christmas tree farm pictures\tNA\n",
      "0001.1999-12-10.kaminski\t0\t re: rankings\t thank you.\n",
      "cat: Unable to write to output stream.\n"
     ]
    }
   ],
   "source": [
    "# output two lines from enron.txt stored in hdfs\n",
    "!hdfs dfs -cat {HDFS_DIR}/enron.txt | head -2"
   ]
  },
  {
   "cell_type": "markdown",
   "metadata": {},
   "source": [
    "# Question 4:  Enron Ham/Spam EDA.\n",
    "Before building our classifier, lets get aquainted with our data. In particular, we're interested in which words occur more in spam emails than in legitimate (\"ham\") emails. In this question you'll implement two Hadoop MapReduce jobs to count and sort word occurrences by document class. You'll also learn about two new Hadoop streaming parameters that will allow you to control how the records output from your mappers are partitioned for reducing on separate nodes. \n",
    "\n",
    "__`IMPORTANT NOTE:`__ For this question and all subsequent items, you should include both the subject and the body of the email in your analysis (i.e. concatetate them to get the 'text' of the document).\n",
    "\n",
    "### Q4 Tasks:\n",
    "* __a) code:__ Complete the missing components of the code in __`EnronEDA/mapper.py`__ and __`EnronEDA/reducer.py`__ to create a Hadoop  MapReduce job that counts how many times each word in the corpus occurs in an email for each class. Pay close attention to the data format specified in the docstrings of these scripts _-- there are a number of ways to accomplish this task, we've chosen this format to help illustrate a technique in `part e`_. Run the provided unit tests to confirm that your code works as expected, then run the provided Hadoop Streaming command to apply your analysis to the Enron data.\n",
    "\n",
    "\n",
    "* __b) code + short response:__ How many times does the word \"__assistance__\" occur in each class? (`HINT:` Use a `grep` command to read from the results file you generated in '`a`' and then report the answer in the space provided.)\n",
    "\n",
    "\n",
    "* __c) short response:__ Would it have been possible to add some sorting parameters to the Hadoop streaming command that would cause our `part a` results to be sorted by count? Explain why or why not. (`HINT:` This question demands an understanding of the sequence of the phases of MapReduce.)\n",
    "\n",
    "\n",
    "* __d) code + short response:__ Write a second Hadoop MapReduce job to sort the output of `part a` first by class and then by count. Run your job and save the results to a local file. Then describe in words how you would go about printing the top 10 words in each class given this sorted output. (`HINT 1:` _remember that you can simply pass the `part a` output directory to the input field of this job; `HINT 2:` since this task is just reodering the records from `part a` we don't need to write a mapper or reducer, just use `/bin/cat` for both_)\n",
    "\n",
    "\n",
    "* __e) code:__ A more efficient alternative to '`grep`-ing' for the top 10 words in each class would be to use the Hadoop framework to separate records from each class into its own partition so that we can just read the top lines in each. Rewrite your job from ` part d` to specify 2 reduce tasks and to tell Hadoop to partition based on the second field (which indicates spam/ham in our data). Your code should maintain the secondary sort -- that is each partition should list words from most to least frequent."
   ]
  },
  {
   "cell_type": "markdown",
   "metadata": {},
   "source": [
    "### Q4 Student Answers:\n",
    "> __b)__ The word assistance appears twice in the ham class and eight times in the spam class.  See output below:\n",
    "\n",
    "|word| class | count |\n",
    "|---|:---:|:---:|\n",
    "| assistance | 0 | 2\n",
    "| assistance | 1 | 8\n",
    "\n",
    "> __c)__ Yes, a composite key and custom partitioning (if using more than one reducer) must be added to the Hadoop command to produce an output sorted by count.\n",
    "\n",
    "> __d)__ A head -10 command prints the top ten words of class 0.  To print the top ten words of class 1, use the head command piped into a grep command with a parameter for class 1.  This sequence will display the top ten words of each class from the results_sorted.txt file.  "
   ]
  },
  {
   "cell_type": "code",
   "execution_count": 40,
   "metadata": {},
   "outputs": [],
   "source": [
    "# part a - do your work in the provided scripts then RUN THIS CELL AS IS\n",
    "!chmod a+x EnronEDA/mapper.py\n",
    "!chmod a+x EnronEDA/reducer.py"
   ]
  },
  {
   "cell_type": "code",
   "execution_count": 4,
   "metadata": {},
   "outputs": [
    {
     "name": "stdout",
     "output_type": "stream",
     "text": [
      "title\t1\t1\n",
      "body\t1\t1\n",
      "title\t0\t1\n",
      "body\t0\t1\n"
     ]
    }
   ],
   "source": [
    "# part a - unit test EnronEDA/mapper.py (RUN THIS CELL AS IS)\n",
    "!echo -e \"d1\t1\ttitle\tbody\\nd2\t0\ttitle\tbody\" | EnronEDA/mapper.py"
   ]
  },
  {
   "cell_type": "code",
   "execution_count": 5,
   "metadata": {},
   "outputs": [
    {
     "name": "stdout",
     "output_type": "stream",
     "text": [
      "one\t0\t2\n",
      "one\t1\t1\n",
      "two\t0\t1\n"
     ]
    }
   ],
   "source": [
    "# part a - unit test EnronEDA/reducer.py (RUN THIS CELL AS IS)\n",
    "!echo -e \"one\t1\t1\\none\t0\t1\\none\t0\t1\\ntwo\t0\t1\" | EnronEDA/reducer.py"
   ]
  },
  {
   "cell_type": "code",
   "execution_count": 48,
   "metadata": {},
   "outputs": [
    {
     "name": "stdout",
     "output_type": "stream",
     "text": [
      "Deleted /user/root/HW2/eda-output\n"
     ]
    }
   ],
   "source": [
    "# part a - clear output directory in HDFS (RUN THIS CELL AS IS)\n",
    "!hdfs dfs -rm -r {HDFS_DIR}/eda-output"
   ]
  },
  {
   "cell_type": "code",
   "execution_count": 49,
   "metadata": {},
   "outputs": [
    {
     "name": "stdout",
     "output_type": "stream",
     "text": [
      "packageJobJar: [] [/usr/lib/hadoop-mapreduce/hadoop-streaming-2.6.0-cdh5.16.2.jar] /tmp/streamjob4188820668399500647.jar tmpDir=null\n",
      "21/09/22 04:02:32 INFO client.RMProxy: Connecting to ResourceManager at /0.0.0.0:8032\n",
      "21/09/22 04:02:32 INFO client.RMProxy: Connecting to ResourceManager at /0.0.0.0:8032\n",
      "21/09/22 04:02:32 INFO mapred.FileInputFormat: Total input paths to process : 1\n",
      "21/09/22 04:02:32 INFO mapreduce.JobSubmitter: number of splits:2\n",
      "21/09/22 04:02:33 INFO mapreduce.JobSubmitter: Submitting tokens for job: job_1632276588378_0008\n",
      "21/09/22 04:02:33 INFO impl.YarnClientImpl: Submitted application application_1632276588378_0008\n",
      "21/09/22 04:02:33 INFO mapreduce.Job: The url to track the job: http://docker.w261:8088/proxy/application_1632276588378_0008/\n",
      "21/09/22 04:02:33 INFO mapreduce.Job: Running job: job_1632276588378_0008\n",
      "21/09/22 04:02:40 INFO mapreduce.Job: Job job_1632276588378_0008 running in uber mode : false\n",
      "21/09/22 04:02:40 INFO mapreduce.Job:  map 0% reduce 0%\n",
      "21/09/22 04:02:47 INFO mapreduce.Job:  map 100% reduce 0%\n",
      "21/09/22 04:02:54 INFO mapreduce.Job:  map 100% reduce 50%\n",
      "21/09/22 04:02:55 INFO mapreduce.Job:  map 100% reduce 100%\n",
      "21/09/22 04:02:55 INFO mapreduce.Job: Job job_1632276588378_0008 completed successfully\n",
      "21/09/22 04:02:55 INFO mapreduce.Job: Counters: 50\n",
      "\tFile System Counters\n",
      "\t\tFILE: Number of bytes read=369010\n",
      "\t\tFILE: Number of bytes written=1335498\n",
      "\t\tFILE: Number of read operations=0\n",
      "\t\tFILE: Number of large read operations=0\n",
      "\t\tFILE: Number of write operations=0\n",
      "\t\tHDFS: Number of bytes read=217061\n",
      "\t\tHDFS: Number of bytes written=70551\n",
      "\t\tHDFS: Number of read operations=12\n",
      "\t\tHDFS: Number of large read operations=0\n",
      "\t\tHDFS: Number of write operations=4\n",
      "\tJob Counters \n",
      "\t\tKilled reduce tasks=1\n",
      "\t\tLaunched map tasks=2\n",
      "\t\tLaunched reduce tasks=2\n",
      "\t\tData-local map tasks=2\n",
      "\t\tTotal time spent by all maps in occupied slots (ms)=7628\n",
      "\t\tTotal time spent by all reduces in occupied slots (ms)=8152\n",
      "\t\tTotal time spent by all map tasks (ms)=7628\n",
      "\t\tTotal time spent by all reduce tasks (ms)=8152\n",
      "\t\tTotal vcore-milliseconds taken by all map tasks=7628\n",
      "\t\tTotal vcore-milliseconds taken by all reduce tasks=8152\n",
      "\t\tTotal megabyte-milliseconds taken by all map tasks=7811072\n",
      "\t\tTotal megabyte-milliseconds taken by all reduce tasks=8347648\n",
      "\tMap-Reduce Framework\n",
      "\t\tMap input records=100\n",
      "\t\tMap output records=31490\n",
      "\t\tMap output bytes=306018\n",
      "\t\tMap output materialized bytes=369022\n",
      "\t\tInput split bytes=214\n",
      "\t\tCombine input records=0\n",
      "\t\tCombine output records=0\n",
      "\t\tReduce input groups=5065\n",
      "\t\tReduce shuffle bytes=369022\n",
      "\t\tReduce input records=31490\n",
      "\t\tReduce output records=6060\n",
      "\t\tSpilled Records=62980\n",
      "\t\tShuffled Maps =4\n",
      "\t\tFailed Shuffles=0\n",
      "\t\tMerged Map outputs=4\n",
      "\t\tGC time elapsed (ms)=179\n",
      "\t\tCPU time spent (ms)=6370\n",
      "\t\tPhysical memory (bytes) snapshot=1125466112\n",
      "\t\tVirtual memory (bytes) snapshot=5504765952\n",
      "\t\tTotal committed heap usage (bytes)=1206910976\n",
      "\tShuffle Errors\n",
      "\t\tBAD_ID=0\n",
      "\t\tCONNECTION=0\n",
      "\t\tIO_ERROR=0\n",
      "\t\tWRONG_LENGTH=0\n",
      "\t\tWRONG_MAP=0\n",
      "\t\tWRONG_REDUCE=0\n",
      "\tFile Input Format Counters \n",
      "\t\tBytes Read=216847\n",
      "\tFile Output Format Counters \n",
      "\t\tBytes Written=70551\n",
      "21/09/22 04:02:55 INFO streaming.StreamJob: Output directory: /user/root/HW2/eda-output\n"
     ]
    }
   ],
   "source": [
    "# part a - Hadoop streaming job (RUN THIS CELL AS IS)\n",
    "!hadoop jar {JAR_FILE} \\\n",
    "  -files EnronEDA/reducer.py,EnronEDA/mapper.py \\\n",
    "  -mapper mapper.py \\\n",
    "  -reducer reducer.py \\\n",
    "  -input {HDFS_DIR}/enron.txt \\\n",
    "  -output {HDFS_DIR}/eda-output \\\n",
    "  -numReduceTasks 2 \\\n",
    "  -cmdenv PATH={PATH}"
   ]
  },
  {
   "cell_type": "code",
   "execution_count": 15,
   "metadata": {},
   "outputs": [],
   "source": [
    "# part a - retrieve results from HDFS & copy them into a local file (RUN THIS CELL AS IS)\n",
    "!hdfs dfs -cat {HDFS_DIR}/eda-output/part-0000* > EnronEDA/results.txt"
   ]
  },
  {
   "cell_type": "code",
   "execution_count": 123,
   "metadata": {},
   "outputs": [
    {
     "name": "stdout",
     "output_type": "stream",
     "text": [
      "assistance\t0\t2\n",
      "assistance\t1\t8\n"
     ]
    }
   ],
   "source": [
    "# part b - write your grep command here\n",
    "!grep \"assistance\" EnronEDA/results.txt"
   ]
  },
  {
   "cell_type": "code",
   "execution_count": 128,
   "metadata": {},
   "outputs": [
    {
     "name": "stdout",
     "output_type": "stream",
     "text": [
      "to\t0\t267\t\n",
      "and\t0\t213\t\n",
      "the\t0\t201\t\n",
      "a\t0\t131\t\n",
      "in\t0\t127\t\n",
      "enron\t0\t98\t\n",
      "on\t0\t97\t\n",
      "of\t0\t79\t\n",
      "be\t0\t76\t\n",
      "com\t0\t74\t\n"
     ]
    }
   ],
   "source": [
    "!head -10 EnronEDA/results_sort.txt"
   ]
  },
  {
   "cell_type": "code",
   "execution_count": 54,
   "metadata": {},
   "outputs": [
    {
     "name": "stdout",
     "output_type": "stream",
     "text": [
      "Deleted /user/root/HW2/eda-sort-output\n"
     ]
    }
   ],
   "source": [
    "# part d - clear the output directory in HDFS (RUN THIS CELL AS IS)\n",
    "!hdfs dfs -rm -r {HDFS_DIR}/eda-sort-output"
   ]
  },
  {
   "cell_type": "code",
   "execution_count": 55,
   "metadata": {},
   "outputs": [
    {
     "name": "stdout",
     "output_type": "stream",
     "text": [
      "packageJobJar: [] [/usr/lib/hadoop-mapreduce/hadoop-streaming-2.6.0-cdh5.16.2.jar] /tmp/streamjob4755914085112699868.jar tmpDir=null\n",
      "21/09/22 04:07:28 INFO client.RMProxy: Connecting to ResourceManager at /0.0.0.0:8032\n",
      "21/09/22 04:07:28 INFO client.RMProxy: Connecting to ResourceManager at /0.0.0.0:8032\n",
      "21/09/22 04:07:29 INFO mapred.FileInputFormat: Total input paths to process : 2\n",
      "21/09/22 04:07:29 INFO mapreduce.JobSubmitter: number of splits:2\n",
      "21/09/22 04:07:30 INFO mapreduce.JobSubmitter: Submitting tokens for job: job_1632276588378_0010\n",
      "21/09/22 04:07:30 INFO impl.YarnClientImpl: Submitted application application_1632276588378_0010\n",
      "21/09/22 04:07:30 INFO mapreduce.Job: The url to track the job: http://docker.w261:8088/proxy/application_1632276588378_0010/\n",
      "21/09/22 04:07:30 INFO mapreduce.Job: Running job: job_1632276588378_0010\n",
      "21/09/22 04:07:36 INFO mapreduce.Job: Job job_1632276588378_0010 running in uber mode : false\n",
      "21/09/22 04:07:36 INFO mapreduce.Job:  map 0% reduce 0%\n",
      "21/09/22 04:07:43 INFO mapreduce.Job:  map 100% reduce 0%\n",
      "21/09/22 04:07:49 INFO mapreduce.Job:  map 100% reduce 100%\n",
      "21/09/22 04:07:49 INFO mapreduce.Job: Job job_1632276588378_0010 completed successfully\n",
      "21/09/22 04:07:49 INFO mapreduce.Job: Counters: 49\n",
      "\tFile System Counters\n",
      "\t\tFILE: Number of bytes read=88737\n",
      "\t\tFILE: Number of bytes written=622703\n",
      "\t\tFILE: Number of read operations=0\n",
      "\t\tFILE: Number of large read operations=0\n",
      "\t\tFILE: Number of write operations=0\n",
      "\t\tHDFS: Number of bytes read=70789\n",
      "\t\tHDFS: Number of bytes written=76611\n",
      "\t\tHDFS: Number of read operations=9\n",
      "\t\tHDFS: Number of large read operations=0\n",
      "\t\tHDFS: Number of write operations=2\n",
      "\tJob Counters \n",
      "\t\tLaunched map tasks=2\n",
      "\t\tLaunched reduce tasks=1\n",
      "\t\tData-local map tasks=2\n",
      "\t\tTotal time spent by all maps in occupied slots (ms)=7069\n",
      "\t\tTotal time spent by all reduces in occupied slots (ms)=3674\n",
      "\t\tTotal time spent by all map tasks (ms)=7069\n",
      "\t\tTotal time spent by all reduce tasks (ms)=3674\n",
      "\t\tTotal vcore-milliseconds taken by all map tasks=7069\n",
      "\t\tTotal vcore-milliseconds taken by all reduce tasks=3674\n",
      "\t\tTotal megabyte-milliseconds taken by all map tasks=7238656\n",
      "\t\tTotal megabyte-milliseconds taken by all reduce tasks=3762176\n",
      "\tMap-Reduce Framework\n",
      "\t\tMap input records=6060\n",
      "\t\tMap output records=6060\n",
      "\t\tMap output bytes=76611\n",
      "\t\tMap output materialized bytes=88743\n",
      "\t\tInput split bytes=238\n",
      "\t\tCombine input records=0\n",
      "\t\tCombine output records=0\n",
      "\t\tReduce input groups=6060\n",
      "\t\tReduce shuffle bytes=88743\n",
      "\t\tReduce input records=6060\n",
      "\t\tReduce output records=6060\n",
      "\t\tSpilled Records=12120\n",
      "\t\tShuffled Maps =2\n",
      "\t\tFailed Shuffles=0\n",
      "\t\tMerged Map outputs=2\n",
      "\t\tGC time elapsed (ms)=85\n",
      "\t\tCPU time spent (ms)=3920\n",
      "\t\tPhysical memory (bytes) snapshot=870621184\n",
      "\t\tVirtual memory (bytes) snapshot=4152717312\n",
      "\t\tTotal committed heap usage (bytes)=888668160\n",
      "\tShuffle Errors\n",
      "\t\tBAD_ID=0\n",
      "\t\tCONNECTION=0\n",
      "\t\tIO_ERROR=0\n",
      "\t\tWRONG_LENGTH=0\n",
      "\t\tWRONG_MAP=0\n",
      "\t\tWRONG_REDUCE=0\n",
      "\tFile Input Format Counters \n",
      "\t\tBytes Read=70551\n",
      "\tFile Output Format Counters \n",
      "\t\tBytes Written=76611\n",
      "21/09/22 04:07:49 INFO streaming.StreamJob: Output directory: /user/root/HW2/eda-sort-output\n"
     ]
    }
   ],
   "source": [
    "# part d - write your Hadoop streaming job here\n",
    "!hadoop jar {JAR_FILE} \\\n",
    "  -D stream.num.map.output.key.fields=3 \\\n",
    "  -D mapreduce.job.output.key.comparator.class=org.apache.hadoop.mapred.lib.KeyFieldBasedComparator \\\n",
    "  -D mapreduce.partition.keycomparator.options=\"-k2n,2nr -k3nr\" \\\n",
    "  -mapper /bin/cat \\\n",
    "  -reducer /bin/cat \\\n",
    "  -input {HDFS_DIR}/eda-output \\\n",
    "  -output {HDFS_DIR}/eda-sort-output \\\n",
    "  -numReduceTasks 1 \\\n",
    "  -cmdenv PATH={PATH}"
   ]
  },
  {
   "cell_type": "code",
   "execution_count": 56,
   "metadata": {},
   "outputs": [],
   "source": [
    "# output results into a text file\n",
    "!hdfs dfs -cat {HDFS_DIR}/eda-sort-output/part-0000* > EnronEDA/results_sorted.txt"
   ]
  },
  {
   "cell_type": "code",
   "execution_count": 66,
   "metadata": {},
   "outputs": [
    {
     "name": "stdout",
     "output_type": "stream",
     "text": [
      "Class 0 Top Ten\n",
      "the\t0\t549\t\n",
      "to\t0\t398\t\n",
      "ect\t0\t382\t\n",
      "and\t0\t278\t\n",
      "of\t0\t230\t\n",
      "hou\t0\t206\t\n",
      "a\t0\t196\t\n",
      "in\t0\t182\t\n",
      "for\t0\t170\t\n",
      "on\t0\t135\t\n",
      "Class 1 Top Ten\n",
      "the\t1\t698\t\n",
      "to\t1\t566\t\n",
      "and\t1\t392\t\n",
      "your\t1\t357\t\n",
      "a\t1\t347\t\n",
      "you\t1\t345\t\n",
      "of\t1\t336\t\n",
      "in\t1\t236\t\n",
      "for\t1\t204\t\n",
      "com\t1\t153\t\n"
     ]
    }
   ],
   "source": [
    "print(\"Class 0 Top Ten\")\n",
    "!awk '$2==0' < EnronEDA/results_sorted.txt | head -10\n",
    "print(\"Class 1 Top Ten\")\n",
    "!awk '$2==1' < EnronEDA/results_sorted.txt | head -10"
   ]
  },
  {
   "cell_type": "code",
   "execution_count": 44,
   "metadata": {},
   "outputs": [
    {
     "name": "stdout",
     "output_type": "stream",
     "text": [
      "Deleted /user/root/HW2/eda-sort-output\n"
     ]
    }
   ],
   "source": [
    "# part e - clear the output directory in HDFS (RUN THIS CELL AS IS)\n",
    "!hdfs dfs -rm -r {HDFS_DIR}/eda-sort-output"
   ]
  },
  {
   "cell_type": "code",
   "execution_count": 50,
   "metadata": {},
   "outputs": [
    {
     "name": "stdout",
     "output_type": "stream",
     "text": [
      "Deleted /user/root/HW2/eda-sort-output\n",
      "packageJobJar: [] [/usr/lib/hadoop-mapreduce/hadoop-streaming-2.6.0-cdh5.16.2.jar] /tmp/streamjob1232426668069957632.jar tmpDir=null\n",
      "21/09/22 04:03:06 INFO client.RMProxy: Connecting to ResourceManager at /0.0.0.0:8032\n",
      "21/09/22 04:03:06 INFO client.RMProxy: Connecting to ResourceManager at /0.0.0.0:8032\n",
      "21/09/22 04:03:06 INFO mapred.FileInputFormat: Total input paths to process : 2\n",
      "21/09/22 04:03:06 INFO mapreduce.JobSubmitter: number of splits:2\n",
      "21/09/22 04:03:07 INFO mapreduce.JobSubmitter: Submitting tokens for job: job_1632276588378_0009\n",
      "21/09/22 04:03:07 INFO impl.YarnClientImpl: Submitted application application_1632276588378_0009\n",
      "21/09/22 04:03:07 INFO mapreduce.Job: The url to track the job: http://docker.w261:8088/proxy/application_1632276588378_0009/\n",
      "21/09/22 04:03:07 INFO mapreduce.Job: Running job: job_1632276588378_0009\n",
      "21/09/22 04:03:13 INFO mapreduce.Job: Job job_1632276588378_0009 running in uber mode : false\n",
      "21/09/22 04:03:13 INFO mapreduce.Job:  map 0% reduce 0%\n",
      "21/09/22 04:03:19 INFO mapreduce.Job:  map 50% reduce 0%\n",
      "21/09/22 04:03:20 INFO mapreduce.Job:  map 100% reduce 0%\n",
      "21/09/22 04:03:24 INFO mapreduce.Job:  map 100% reduce 50%\n",
      "21/09/22 04:03:25 INFO mapreduce.Job:  map 100% reduce 100%\n",
      "21/09/22 04:03:25 INFO mapreduce.Job: Job job_1632276588378_0009 completed successfully\n",
      "21/09/22 04:03:25 INFO mapreduce.Job: Counters: 50\n",
      "\tFile System Counters\n",
      "\t\tFILE: Number of bytes read=88743\n",
      "\t\tFILE: Number of bytes written=772672\n",
      "\t\tFILE: Number of read operations=0\n",
      "\t\tFILE: Number of large read operations=0\n",
      "\t\tFILE: Number of write operations=0\n",
      "\t\tHDFS: Number of bytes read=70789\n",
      "\t\tHDFS: Number of bytes written=76611\n",
      "\t\tHDFS: Number of read operations=12\n",
      "\t\tHDFS: Number of large read operations=0\n",
      "\t\tHDFS: Number of write operations=4\n",
      "\tJob Counters \n",
      "\t\tKilled reduce tasks=1\n",
      "\t\tLaunched map tasks=2\n",
      "\t\tLaunched reduce tasks=2\n",
      "\t\tData-local map tasks=2\n",
      "\t\tTotal time spent by all maps in occupied slots (ms)=7451\n",
      "\t\tTotal time spent by all reduces in occupied slots (ms)=7785\n",
      "\t\tTotal time spent by all map tasks (ms)=7451\n",
      "\t\tTotal time spent by all reduce tasks (ms)=7785\n",
      "\t\tTotal vcore-milliseconds taken by all map tasks=7451\n",
      "\t\tTotal vcore-milliseconds taken by all reduce tasks=7785\n",
      "\t\tTotal megabyte-milliseconds taken by all map tasks=7629824\n",
      "\t\tTotal megabyte-milliseconds taken by all reduce tasks=7971840\n",
      "\tMap-Reduce Framework\n",
      "\t\tMap input records=6060\n",
      "\t\tMap output records=6060\n",
      "\t\tMap output bytes=76611\n",
      "\t\tMap output materialized bytes=88755\n",
      "\t\tInput split bytes=238\n",
      "\t\tCombine input records=0\n",
      "\t\tCombine output records=0\n",
      "\t\tReduce input groups=6060\n",
      "\t\tReduce shuffle bytes=88755\n",
      "\t\tReduce input records=6060\n",
      "\t\tReduce output records=6060\n",
      "\t\tSpilled Records=12120\n",
      "\t\tShuffled Maps =4\n",
      "\t\tFailed Shuffles=0\n",
      "\t\tMerged Map outputs=4\n",
      "\t\tGC time elapsed (ms)=110\n",
      "\t\tCPU time spent (ms)=5190\n",
      "\t\tPhysical memory (bytes) snapshot=1128894464\n",
      "\t\tVirtual memory (bytes) snapshot=5531660288\n",
      "\t\tTotal committed heap usage (bytes)=1206910976\n",
      "\tShuffle Errors\n",
      "\t\tBAD_ID=0\n",
      "\t\tCONNECTION=0\n",
      "\t\tIO_ERROR=0\n",
      "\t\tWRONG_LENGTH=0\n",
      "\t\tWRONG_MAP=0\n",
      "\t\tWRONG_REDUCE=0\n",
      "\tFile Input Format Counters \n",
      "\t\tBytes Read=70551\n",
      "\tFile Output Format Counters \n",
      "\t\tBytes Written=76611\n",
      "21/09/22 04:03:25 INFO streaming.StreamJob: Output directory: /user/root/HW2/eda-sort-output\n"
     ]
    }
   ],
   "source": [
    "# part e - clear the output directory in HDFS (RUN THIS CELL AS IS)\n",
    "!hdfs dfs -rm -r {HDFS_DIR}/eda-sort-output\n",
    "# part e - write your Hadoop streaming job here\n",
    "!hadoop jar {JAR_FILE} \\\n",
    "  -D stream.num.map.output.key.fields=3 \\\n",
    "  -D mapreduce.job.output.key.comparator.class=org.apache.hadoop.mapred.lib.KeyFieldBasedComparator \\\n",
    "  -D mapreduce.partition.keycomparator.options=\"-k2n,2nr -k3nr\" \\\n",
    "  -D mapreduce.partition.keypartitioner.options=\"-k2,2n\" \\\n",
    "  -mapper /bin/cat \\\n",
    "  -reducer /bin/cat \\\n",
    "  -input {HDFS_DIR}/eda-output \\\n",
    "  -output {HDFS_DIR}/eda-sort-output \\\n",
    "  -numReduceTasks 2 \\\n",
    "  -partitioner org.apache.hadoop.mapred.lib.KeyFieldBasedPartitioner \\\n",
    "  -cmdenv PATH={PATH}"
   ]
  },
  {
   "cell_type": "code",
   "execution_count": 51,
   "metadata": {},
   "outputs": [
    {
     "name": "stdout",
     "output_type": "stream",
     "text": [
      "\n",
      "===== part-00000=====\n",
      "\n",
      "the\t0\t549\t\n",
      "to\t0\t398\t\n",
      "ect\t0\t382\t\n",
      "and\t0\t278\t\n",
      "of\t0\t230\t\n",
      "hou\t0\t206\t\n",
      "a\t0\t196\t\n",
      "in\t0\t182\t\n",
      "for\t0\t170\t\n",
      "on\t0\t135\t\n",
      "cat: Unable to write to output stream.\n",
      "\n",
      "===== part-00001=====\n",
      "\n",
      "the\t1\t698\t\n",
      "to\t1\t566\t\n",
      "and\t1\t392\t\n",
      "your\t1\t357\t\n",
      "a\t1\t347\t\n",
      "you\t1\t345\t\n",
      "of\t1\t336\t\n",
      "in\t1\t236\t\n",
      "for\t1\t204\t\n",
      "com\t1\t153\t\n",
      "cat: Unable to write to output stream.\n"
     ]
    }
   ],
   "source": [
    "# part e - view the top 10 records from each partition (RUN THIS CELL AS IS)\n",
    "for idx in range(2):\n",
    "    print(f\"\\n===== part-0000{idx}=====\\n\")\n",
    "    !hdfs dfs -cat {HDFS_DIR}/eda-sort-output/part-0000{idx} | head"
   ]
  },
  {
   "cell_type": "markdown",
   "metadata": {},
   "source": [
    "__Expected output:__\n",
    "<table>\n",
    "<th>part-00000:</th>\n",
    "<th>part-00001:</th>\n",
    "<tr><td><pre>\n",
    "the\t0\t549\t\n",
    "to\t0\t398\t\n",
    "ect\t0\t382\t\n",
    "and\t0\t278\t\n",
    "of\t0\t230\t\n",
    "hou\t0\t206\t\n",
    "a\t0\t196\t\n",
    "in\t0\t182\t\n",
    "for\t0\t170\t\n",
    "on\t0\t135\n",
    "</pre></td>\n",
    "<td><pre>\n",
    "the\t1\t698\t\n",
    "to\t1\t566\t\n",
    "and\t1\t392\t\n",
    "your\t1\t357\t\n",
    "a\t1\t347\t\n",
    "you\t1\t345\t\n",
    "of\t1\t336\t\n",
    "in\t1\t236\t\n",
    "for\t1\t204\t\n",
    "com\t1\t153\n",
    "</pre></td></tr>\n",
    "</table>"
   ]
  },
  {
   "cell_type": "markdown",
   "metadata": {},
   "source": [
    "# Question 5: Counters and Combiners.\n",
    "Tuning the number of mappers & reducers is helpful to optimize very large distributed computations. Doing so successfully requires a thorough understanding of the data size at each stage of the job. As you learned in the week3 live session, counters are an invaluable resource for understanding this kind of detail. In this question, we will take the EDA performed in Question 4 as an opportunity to illustrate some related concepts.\n",
    "\n",
    "### Q5 Tasks:\n",
    "* __a) short response:__ Read the Hadoop output from your job in Question 4a to report how many records are emitted by the mappers and how many records are received be the reducers. In the context of word counting what does this number represent practically?\n",
    "\n",
    "* __b) code:__ Note that we wrote the reducer in question 4a such that the input and output record format is identical. This makes it easy to use the same reducer script as a combiner. In the space provided below, write the Hadoop Streaming command to re-run your job from question 4a with this combining added.\n",
    "\n",
    "* __c) short response__: Report the number of records emitted by your mappers in part b and the number of records received by your reducers. Compare your results here to what you saw in part a. Explain.\n",
    "\n",
    "* __d) short response__: Describe a scenario where using a combiner would _NOT_ improve the efficiency of the shuffle stage. Explain. [__`BONUS:`__ how does increasing the number of mappers affect the usefulness of a combiner?]"
   ]
  },
  {
   "cell_type": "markdown",
   "metadata": {},
   "source": [
    "### Q5 Student Answers:\n",
    "> __a)__ The mapper emits 31,490 records.  The reducer receives 31,490 records.  This number represents the number of words in the corpus.     \n",
    "```\n",
    "4a MapReduce Output\n",
    "    .....\n",
    "    Map output records=31490  \n",
    "    .....  \n",
    "    Reduce input records=31490   \n",
    "    .....  \n",
    "    Total committed heap usage (bytes)=1206910976  \n",
    "```\n",
    "\n",
    "> __c)__ The mapper emits 31,490 records.  The reducer receives 7,648 records.  The combiner summed records with similar keys, transferring fewer data (records) from the mapper to the reducer.  As we learned, this results in communication cost reduction during the shuffle.  \n",
    "\n",
    "```\n",
    "5b MapReduce Output\n",
    "    .....\n",
    "    Map output records=31490  \n",
    "    .....  \n",
    "    Reduce input records=7648 \n",
    "    .....  \n",
    "    Total committed heap usage (bytes)=1206910976  \n",
    "```\n",
    "\n",
    "> __d)__ If a corpus contained every word in the English dictionary only once, a combiner would not improve the efficiency during the shuffle stage.  Increasing the number of mappers decreases the benefits of combiners; it results in less aggregation, which results in more records shuffled from mappers to reducers."
   ]
  },
  {
   "cell_type": "code",
   "execution_count": 24,
   "metadata": {},
   "outputs": [],
   "source": [
    "!chmod a+x EnronEDA/combiner.py"
   ]
  },
  {
   "cell_type": "code",
   "execution_count": 25,
   "metadata": {},
   "outputs": [
    {
     "name": "stdout",
     "output_type": "stream",
     "text": [
      "packageJobJar: [] [/usr/lib/hadoop-mapreduce/hadoop-streaming-2.6.0-cdh5.16.2.jar] /tmp/streamjob5210001868591146956.jar tmpDir=null\n",
      "21/09/18 03:01:30 INFO client.RMProxy: Connecting to ResourceManager at /0.0.0.0:8032\n",
      "21/09/18 03:01:30 INFO client.RMProxy: Connecting to ResourceManager at /0.0.0.0:8032\n",
      "21/09/18 03:01:31 INFO mapred.FileInputFormat: Total input paths to process : 1\n",
      "21/09/18 03:01:31 INFO mapreduce.JobSubmitter: number of splits:2\n",
      "21/09/18 03:01:31 INFO mapreduce.JobSubmitter: Submitting tokens for job: job_1631927043264_0003\n",
      "21/09/18 03:01:31 INFO impl.YarnClientImpl: Submitted application application_1631927043264_0003\n",
      "21/09/18 03:01:31 INFO mapreduce.Job: The url to track the job: http://docker.w261:8088/proxy/application_1631927043264_0003/\n",
      "21/09/18 03:01:31 INFO mapreduce.Job: Running job: job_1631927043264_0003\n",
      "21/09/18 03:01:37 INFO mapreduce.Job: Job job_1631927043264_0003 running in uber mode : false\n",
      "21/09/18 03:01:37 INFO mapreduce.Job:  map 0% reduce 0%\n",
      "21/09/18 03:01:43 INFO mapreduce.Job:  map 50% reduce 0%\n",
      "21/09/18 03:01:44 INFO mapreduce.Job:  map 100% reduce 0%\n",
      "21/09/18 03:01:49 INFO mapreduce.Job:  map 100% reduce 100%\n",
      "21/09/18 03:01:49 INFO mapreduce.Job: Job job_1631927043264_0003 completed successfully\n",
      "21/09/18 03:01:49 INFO mapreduce.Job: Counters: 50\n",
      "\tFile System Counters\n",
      "\t\tFILE: Number of bytes read=102827\n",
      "\t\tFILE: Number of bytes written=655758\n",
      "\t\tFILE: Number of read operations=0\n",
      "\t\tFILE: Number of large read operations=0\n",
      "\t\tFILE: Number of write operations=0\n",
      "\t\tHDFS: Number of bytes read=217061\n",
      "\t\tHDFS: Number of bytes written=70379\n",
      "\t\tHDFS: Number of read operations=9\n",
      "\t\tHDFS: Number of large read operations=0\n",
      "\t\tHDFS: Number of write operations=2\n",
      "\tJob Counters \n",
      "\t\tKilled map tasks=1\n",
      "\t\tLaunched map tasks=2\n",
      "\t\tLaunched reduce tasks=1\n",
      "\t\tData-local map tasks=2\n",
      "\t\tTotal time spent by all maps in occupied slots (ms)=7873\n",
      "\t\tTotal time spent by all reduces in occupied slots (ms)=3329\n",
      "\t\tTotal time spent by all map tasks (ms)=7873\n",
      "\t\tTotal time spent by all reduce tasks (ms)=3329\n",
      "\t\tTotal vcore-milliseconds taken by all map tasks=7873\n",
      "\t\tTotal vcore-milliseconds taken by all reduce tasks=3329\n",
      "\t\tTotal megabyte-milliseconds taken by all map tasks=8061952\n",
      "\t\tTotal megabyte-milliseconds taken by all reduce tasks=3408896\n",
      "\tMap-Reduce Framework\n",
      "\t\tMap input records=100\n",
      "\t\tMap output records=31490\n",
      "\t\tMap output bytes=306018\n",
      "\t\tMap output materialized bytes=102833\n",
      "\t\tInput split bytes=214\n",
      "\t\tCombine input records=31490\n",
      "\t\tCombine output records=7648\n",
      "\t\tReduce input groups=5065\n",
      "\t\tReduce shuffle bytes=102833\n",
      "\t\tReduce input records=7648\n",
      "\t\tReduce output records=6061\n",
      "\t\tSpilled Records=15296\n",
      "\t\tShuffled Maps =2\n",
      "\t\tFailed Shuffles=0\n",
      "\t\tMerged Map outputs=2\n",
      "\t\tGC time elapsed (ms)=92\n",
      "\t\tCPU time spent (ms)=4780\n",
      "\t\tPhysical memory (bytes) snapshot=799707136\n",
      "\t\tVirtual memory (bytes) snapshot=4129280000\n",
      "\t\tTotal committed heap usage (bytes)=822607872\n",
      "\tShuffle Errors\n",
      "\t\tBAD_ID=0\n",
      "\t\tCONNECTION=0\n",
      "\t\tIO_ERROR=0\n",
      "\t\tWRONG_LENGTH=0\n",
      "\t\tWRONG_MAP=0\n",
      "\t\tWRONG_REDUCE=0\n",
      "\tFile Input Format Counters \n",
      "\t\tBytes Read=216847\n",
      "\tFile Output Format Counters \n",
      "\t\tBytes Written=70379\n",
      "21/09/18 03:01:49 INFO streaming.StreamJob: Output directory: /user/root/HW2//eda-output\n"
     ]
    }
   ],
   "source": [
    "# part b - clear output directory in HDFS (RUN THIS CELL AS IS)\n",
    "!hdfs dfs -rm -r {HDFS_DIR}/eda-output\n",
    "# part b - write your Hadoop streaming job here\n",
    "!hadoop jar {JAR_FILE} \\\n",
    "  -files EnronEDA/reducer.py,EnronEDA/mapper.py,EnronEDA/combiner.py \\\n",
    "  -mapper mapper.py \\\n",
    "  -combiner combiner.py \\\n",
    "  -reducer reducer.py \\\n",
    "  -input {HDFS_DIR}/enron.txt \\\n",
    "  -output {HDFS_DIR}/eda-output \\\n",
    "  -numReduceTasks 1 \\\n",
    "  -cmdenv PATH={PATH}"
   ]
  },
  {
   "cell_type": "markdown",
   "metadata": {},
   "source": [
    "# Question 6: Document Classification Task Overview.\n",
    "The week 2 assigned reading from Chapter 13 of _Introduction to Information Retrieval_ by Manning, Raghavan and Schutze provides a thorough introduction to the document classification task and the math behind Naive Bayes. In this question we'll use the example from Table 13.1 (reproduced below) to 'train' an unsmoothed Multinomial Naive Bayes model and classify a test document by hand.\n",
    "\n",
    "<table>\n",
    "<th>DocID</th>\n",
    "<th>Class</th>\n",
    "<th>Subject</th>\n",
    "<th>Body</th>\n",
    "<tr><td>Doc1</td><td>1</td><td></td><td>Chinese Beijing Chinese</td></tr>\n",
    "<tr><td>Doc2</td><td>1</td><td></td><td>Chinese Chinese Shanghai</td></tr>\n",
    "<tr><td>Doc3</td><td>1</td><td></td><td>Chinese Macao</td></tr>\n",
    "<tr><td>Doc4</td><td>0</td><td></td><td>Tokyo Japan Chinese</td></tr>\n",
    "</table>\n",
    "\n",
    "### Q6 Tasks:\n",
    "* __a) short response:__ Equation 13.3 in Manning, Raghavan and Shutze shows how a Multinomial Naive Bayes model classifies a document. It predicts the class, $c$, for which the estimated conditional probability of the class given the document's contents,  $\\hat{P}(c|d)$, is greatest. In this equation what two pieces of information are required to calculate  $\\hat{P}(c|d)$? Your answer should include both mathematical notatation and verbal explanation.\n",
    "\n",
    "\n",
    "* __b) short response:__ The Enron data includes two classes of documents: `spam` and `ham` (they're actually labeled `1` and `0`). In plain English, explain what  $\\hat{P}(c)$ and   $\\hat{P}(t_{k} | c)$ mean in the context of this data. How will we would estimate these values from a training corpus? How many passes over the data would we need to make to retrieve this information for all classes and all words?\n",
    "\n",
    "\n",
    "* __c) hand calculations:__ Above we've reproduced the document classification example from the textbook (we added an empty subject field to mimic the Enron data format). Remember that the classes in this \"Chinese Example\" are `1` (about China) and `0` (not about China). Calculate the class priors and the conditional probabilities for an __unsmoothed__ Multinomial Naive Bayes model trained on this data. Show the calculations that lead to your result using markdown and $\\LaTeX$ in the space provided or by embedding an image of your hand written work. [`NOTE:` _Your results should NOT match those in the text -- they are training a model with +1 smoothing you are training a model without smoothing_]\n",
    "\n",
    "\n",
    "* __d) hand calculations:__ Use the model you trained to classify the following test document: `Chinese Chinese Chinese Tokyo Japan`. Show the calculations that lead to your result using markdown and   $\\LaTeX$ in the space provided or by embedding an image of your hand written work.\n",
    "\n",
    "\n",
    "* __e) short response:__ Compare the classification you get from this unsmoothed model in `d`/`e` to the results in the textbook's \"Example 1\" which reflects a model with Laplace plus 1 smoothing. How does smoothing affect our inference?"
   ]
  },
  {
   "cell_type": "markdown",
   "metadata": {},
   "source": [
    "### Q6 Student Answers:\n",
    "> __a)__ The two pieces of information needed to calculate $\\hat{P}(c|d)$ \n",
    "are the $\\hat{P}(t_k|c)$ and $\\hat{P}(c)$.  $\\hat{P}(t_k|c)$ is the conditional probability of term $t_k$ occurring in a document of class c.  $\\hat{P}(c)$ is the prior probability of a document occurring in class c.\n",
    "\n",
    "> __b)__ The prior probability $\\hat{P}(c)$, as it relates to the Enron data, is the probability that a document will be spam or ham.  This probability is called the prior probability because it is derived from present data, although it is continuously updated as more data becomes available.  The conditional probability $\\hat{P}(t_k|c)$ is the probability of a term k occurring in a document given the document is either spam or ham. \n",
    "\n",
    "> To calculate both terms I will use the maximum likelihood estimate, which is the relative frequency corresponding to the most likely value of each parameter given the training data.  \n",
    "\n",
    ">For prior probability $\\hat{P}(c)$, I will use the fromula  \n",
    "$\\hat{P}(c)$ = $\\frac{N_c}{N}$  \n",
    "    \n",
    "> where Nc is the number of documents in class spam or ham, and N is the total number of documents.\n",
    "\n",
    "> For conditional probability $\\hat{P}(tk|c)$, I will use the formula  \n",
    "$\\hat{P}(t_k|c)$ = $\\frac{T_{ct}}{\\sum_{t'\\in{V}}T_{ct'}}$   \n",
    "    \n",
    "> where $T_{ct}$ is the number of occurrences of term $t$ in training documents from class $c$, including multiple occurrences of a term in a document. Recall that Naive Bayes assumes independence.  \n",
    "\n",
    "> This information can be calculated in one pass using one reducer and order inversion, which allows the programmer to calculate the total number of documents and terms then make the necessary calculations.  However, this framework is not scalable. I prefer two passes over the data—one to calculate vocabulary size and the other to compute conditional probabilities using multiple reducers.  \n",
    "\n",
    "> __c)__ Calculations\n",
    "\n"
   ]
  },
  {
   "cell_type": "markdown",
   "metadata": {},
   "source": [
    "> Prior Probabilities  \n",
    "\n",
    "> $\\hat{P}(c)$ = $\\frac{3}{4}$ &nbsp; &nbsp; &nbsp; $\\hat{P}(c)$ = $\\frac{1}{4}$  \n"
   ]
  },
  {
   "cell_type": "markdown",
   "metadata": {},
   "source": [
    "> Likelihoods  \n",
    "    \n",
    "> $\\hat{P}(chinese|c)$ = $\\frac{5}{8}$ &nbsp; &nbsp; &nbsp; $\\hat{P}(chinese|\\bar{c})$ = $\\frac{1}{3}$ &nbsp; &nbsp; &nbsp; $\\hat{P}(beijing|c)$ = $\\frac{1}{8}$ &nbsp; &nbsp; &nbsp; $\\hat{P}(beijing|\\bar{c})$ = $0$ &nbsp; &nbsp; &nbsp; $\\hat{P}(shanghai|c)$ = $\\frac{1}{8}$ &nbsp; &nbsp; &nbsp; $\\hat{P}(shanghai|\\bar{c})$ = $0$  \n",
    "    \n",
    "> $\\hat{P}(macao|c)$ = $\\frac{1}{8}$ &nbsp; &nbsp; &nbsp; $\\hat{P}(macao|\\bar{c})$ = $0$ &nbsp; &nbsp; &nbsp; $\\hat{P}(japan|c)$ = $0$ &nbsp; &nbsp; &nbsp; $\\hat{P}(japan|\\bar{c})$ = $\\frac{1}{3}$ &nbsp; &nbsp; &nbsp; $\\hat{P}(tokyo|c)$ = $0$ &nbsp; &nbsp; &nbsp; $\\hat{P}(tokyo|\\bar{c})$ = $\\frac{1}{3}$"
   ]
  },
  {
   "cell_type": "markdown",
   "metadata": {},
   "source": [
    " > __d)__ This document is categorized as not chinese when using an unsmoothed Naive Bayes classifier.  The result reveals the unfavorable outcome of an unsmoothed Naive Bayes model introduced to words not present in the training corpus.  \n",
    "Calculations:"
   ]
  },
  {
   "cell_type": "markdown",
   "metadata": {},
   "source": [
    "> $\\hat{P}(c|doc)$ = $\\hat{P}(c) \\prod \\hat{P}(t_k|c)$ = $\\frac{3}{4} \\times (\\frac{5}{8} \\times \\frac{5}{8} \\times \\frac{5}{8} \\times 0 \\times 0) = 0$   \n",
    "\n",
    "> $\\hat{P}(\\bar{c}|doc)$ = $\\hat{P}(\\bar{c}) \\prod \\hat{P}(t_k|\\bar{c})$ = $\\frac{1}{4} \\times (\\frac{1}{3} \\times \\frac{1}{3} \\times \\frac{1}{3} \\times \\frac{1}{3} \\times \\frac{1}{3}) = \\frac{1}{972} $"
   ]
  },
  {
   "cell_type": "markdown",
   "metadata": {},
   "source": [
    "> __e)__ The Laplace smoothing changes the classification of the document from not China to China.  The result exemplifies the benefits of using a smoothed Naive Bayes model vs. an unsmoothed one.  Again, the unsmoothed model does not perform well when presented with words not found in the training data."
   ]
  },
  {
   "cell_type": "code",
   "execution_count": 68,
   "metadata": {},
   "outputs": [],
   "source": [
    "# part d/e - if you didn't write out your calcuations above, embed a picture of them here:\n",
    "from IPython.display import Image\n",
    "# Image(filename=\"path-to-hand-calulations-image.png\")"
   ]
  },
  {
   "cell_type": "markdown",
   "metadata": {},
   "source": [
    "# Question 7: Naive Bayes Inference.\n",
    "In the next two questions you'll write code to parallelize the Naive Bayes calculations that you performed above. We'll do this in two phases: one MapReduce job to perform training and a second MapReduce to perform inference. While in practice we'd need to train a model before we can use it to classify documents, for learning purposes we're going to develop our code in the opposite order. By first focusing on the pieces of information/format we need to perform the classification (inference) task you should find it easier to develop a solid implementation for training phase when you get to question 8 below. In both of these questions we'll continue to use the Chinese example corpus from the textbook to help us test our MapReduce code as we develop it. Below we've reproduced the corpus, test set and model in text format that matches the Enron data.\n",
    "\n",
    "### Q7 Tasks:\n",
    "* __a) short response:__ run the provided cells to create the example files and load them in to HDFS. Then take a closer look at __`NBmodel.txt`__. This text file represents a Naive Bayes model trained (with Laplace +1 smoothing) on the example corpus. What are the 'keys' and 'values' in this file? Which record means something slightly different than the rest? The value field of each record includes two numbers which will be helpful for debugging but which we don't actually need to perform inference -- what are they? [`HINT`: _This file represents the model from Example 13.1 in the textbook, if you're having trouble getting oriented try comparing our file to the numbers in that example._]\n",
    "\n",
    "\n",
    "* __b) short response:__ When performing Naive Bayes in practice instead of multiplying the probabilities (as in equation 13.3) we add their logs (as in equation 13.4). Why do we choose to work with log probabilities? If we had an unsmoothed model, what potential error could arise from this transformation?\n",
    "\n",
    "\n",
    "* __c) short response:__ Documents 6 and 8 in the test set include a word that did not appear in the training corpus (and as a result does not appear in the model). What should we do at inference time when we need a class conditional probability for this word?\n",
    "\n",
    "\n",
    "* __d) short response:__ The goal of our MapReduce job is to stream over the test set and classify each document by peforming the calculation from equation 13.4. To do this we'll load the model file (which contains the probabilities for equation 13.4) into memory on the nodes where we do our mapping. This is called an in-memory join. Does loading a model 'state' like this depart from the functional programming principles? Explain why or why not. From a scability perspective when would this kind of memory use be justified? when would it be unwise?\n",
    "\n",
    "\n",
    "* __e) code:__ Complete the code in __`NaiveBayes/classify_mapper.py`__. Read the docstring carefully to understand how this script should work and the format it should return. Run the provided unit tests to confirm that your script works as expected then write a Hadoop streaming job to classify the Chinese example test set. [`HINT 1:` _you shouldn't need a reducer for this one._ `HINT 2:` _Don't forget to add the model file to the_ `-files` _parameter in your Hadoop streaming job so that it gets shipped to the mapper nodes where it will be accessed by your script._]\n",
    "\n",
    "\n",
    "* __f) short response:__ In our test example and in the Enron data set we have fairly short documents. Since these fit fine in memory on a mapper node we didn't need a reducer and could just do all of our calculations in the mapper. However with much longer documents (eg. books) we might want a higher level of parallelization -- for example we might want to process parts of a document on different nodes. In this hypothetical scenario how would our algorithm design change? What could the mappers still do? What key-value structure would they emit? What would the reducers have to do as a last step?"
   ]
  },
  {
   "cell_type": "markdown",
   "metadata": {},
   "source": [
    "### Q7 Student Answers:\n",
    "> __a)__ This file contains two categories of keys: words and ClassPriors.  The word category keys have four values.  The first two values correspond to the number of times the word is present in the corpus with document classification $\\bar{c}$ and $c$.  The following two values are the Laplace smoothed conditional probabilities of the particular word for each class.    \n",
    "\n",
    "> The 'ClassPriors' key has different corresponding values than the rest of the records.  The first two values are the number of times a document was classified $\\bar{c}$ and $c$.  The following two values are the class priors, the probability a document is $\\bar{c}$ and $c$.  \n",
    "\n",
    "> The values not needed for inference are the counts.  Recall that the prior probability and conditional probabilities are the only required values to classify a document.\n",
    "\n",
    "> __b)__ Adding logarithms, opposed to multiplying probabilities, is an arithmetic method used to prevent a floating point underflow error when computing probabilities.  A floating point underflow error occurs when a calculation result is of a smaller absolute value than a computer can represent in memory.  \n",
    "\n",
    "> One issue with this approach when using an unsmoothed model is log(0) yields an error. \n",
    "\n",
    "> __c)__ If a document did not occur in the corpus at training time, I would set the conditional probability to one.  Doing so would effectively disregard the word, but it would not render the other training calculation useless during classification. \n",
    "\n",
    "> __d)__ Loading the model state does not depart from functional programming.  If anything, it leverages functional programming by allowing the user to load different models to perform calculations on other corpora.  In regards to scalability, this action is justified given sufficient memory is available--it speeds up computation.  It's unwise to use this approach on a large corpus; resource availability is always a constraint and should be considered.  \n",
    "\n",
    "> __e)__ Complete the coding portion of this question before answering 'f'.\n",
    "\n",
    "> __f)__ The algorithm design approach for larger documents should utilize custom partitioning to distribute keys evenly across reducers.  Moreover, rather than loading a model, the mappers should calculate the total words for each class in a document and emit them as word - class0WordCount, class1WordCount key-value pairs along with class0 and class1 document counts.  These records should then feed into a reducer which calculates the priors and conditional probabilities. \n"
   ]
  },
  {
   "cell_type": "markdown",
   "metadata": {},
   "source": [
    "Run these cells to create the example corpus and model."
   ]
  },
  {
   "cell_type": "code",
   "execution_count": 33,
   "metadata": {},
   "outputs": [
    {
     "name": "stdout",
     "output_type": "stream",
     "text": [
      "Writing NaiveBayes/chineseTrain.txt\n"
     ]
    }
   ],
   "source": [
    "%%writefile NaiveBayes/chineseTrain.txt\n",
    "D1\t1\t\tChinese Beijing Chinese\n",
    "D2\t1\t\tChinese Chinese Shanghai\n",
    "D3\t1\t\tChinese Macao\n",
    "D4\t0\t\tTokyo Japan Chinese"
   ]
  },
  {
   "cell_type": "code",
   "execution_count": 34,
   "metadata": {},
   "outputs": [
    {
     "name": "stdout",
     "output_type": "stream",
     "text": [
      "Writing NaiveBayes/chineseTest.txt\n"
     ]
    }
   ],
   "source": [
    "%%writefile NaiveBayes/chineseTest.txt\n",
    "D5\t1\t\tChinese Chinese Chinese Tokyo Japan\n",
    "D6\t1\t\tBeijing Shanghai Trade\n",
    "D7\t0\t\tJapan Macao Tokyo\n",
    "D8\t0\t\tTokyo Japan Trade"
   ]
  },
  {
   "cell_type": "code",
   "execution_count": 35,
   "metadata": {},
   "outputs": [
    {
     "name": "stdout",
     "output_type": "stream",
     "text": [
      "Writing NBmodel.txt\n"
     ]
    }
   ],
   "source": [
    "%%writefile NBmodel.txt\n",
    "beijing\t0.0,1.0,0.111111111111,0.142857142857\n",
    "chinese\t1.0,5.0,0.222222222222,0.428571428571\n",
    "tokyo\t1.0,0.0,0.222222222222,0.0714285714286\n",
    "shanghai\t0.0,1.0,0.111111111111,0.142857142857\n",
    "ClassPriors\t1.0,3.0,0.25,0.75\n",
    "japan\t1.0,0.0,0.222222222222,0.0714285714286\n",
    "macao\t0.0,1.0,0.111111111111,0.142857142857"
   ]
  },
  {
   "cell_type": "code",
   "execution_count": 40,
   "metadata": {},
   "outputs": [
    {
     "name": "stdout",
     "output_type": "stream",
     "text": [
      "copyFromLocal: `/user/root/HW2/chineseTrain.txt': File exists\n",
      "copyFromLocal: `/user/root/HW2/chineseTest.txt': File exists\n"
     ]
    }
   ],
   "source": [
    "# load the data files into HDFS\n",
    "!hdfs dfs -copyFromLocal NaiveBayes/chineseTrain.txt {HDFS_DIR}\n",
    "!hdfs dfs -copyFromLocal NaiveBayes/chineseTest.txt {HDFS_DIR}"
   ]
  },
  {
   "cell_type": "markdown",
   "metadata": {},
   "source": [
    "Your work for `part e` starts here:"
   ]
  },
  {
   "cell_type": "code",
   "execution_count": 41,
   "metadata": {},
   "outputs": [],
   "source": [
    "# part e - do your work in NaiveBayes/classify_mapper.py first, then run this cell.\n",
    "!chmod a+x NaiveBayes/classify_mapper.py"
   ]
  },
  {
   "cell_type": "code",
   "execution_count": 72,
   "metadata": {},
   "outputs": [
    {
     "name": "stdout",
     "output_type": "stream",
     "text": [
      "#!/usr/bin/env python\n",
      "\"\"\"\n",
      "Mapper for Naive Bayes Inference.\n",
      "INPUT:\n",
      "    ID \\t true_class \\t subject \\t body \\n\n",
      "OUTPUT:\n",
      "    ID \\t true_class \\t logP(ham|doc) \\t logP(spam|doc) \\t predicted_class\n",
      "SUPPLEMENTAL FILE: \n",
      "    This script requires a trained Naive Bayes model stored \n",
      "    as NBmodel.txt in the current directory. The model should \n",
      "    be a tab separated file whose records look like:\n",
      "        WORD \\t ham_count,spam_count,P(word|ham),P(word|spam)\n",
      "        \n",
      "Instructions:\n",
      "    We have loaded the supplemental file and taken the log of \n",
      "    each conditional probability in the model. We also provide\n",
      "    the code to tokenize the input lines for you. Keep in mind \n",
      "    that each 'line' of this file represents a unique document \n",
      "    that we wish to classify. Fill in the missing code to get\n",
      "    the probability of each class given the words in the document.\n",
      "    Remember that you will need to handle the case where you\n",
      "    encounter a word that is not represented in the model.\n",
      "\"\"\"\n",
      "import os\n",
      "import re\n",
      "import sys\n",
      "import numpy as np\n",
      "\n",
      "# confirm that we have access to the model file\n",
      "assert 'NBmodel.txt' in os.listdir('.'), \"ERROR: can't find NBmodel.txt\"\n",
      "\n",
      "# load the model into a dictionary for easy access\n",
      "MODEL = {}\n",
      "for record in open('NBmodel.txt', 'r').readlines():\n",
      "    word, payload = record.split('\\t')\n",
      "    # extract conditional probabilities\n",
      "    ham_cProb, spam_cProb = payload.split(',')[2:]\n",
      "    # save their logs as a tuple in our model dictionary\n",
      "    take_log = lambda x: np.log(x) if x != 0 else float(\"-inf\")\n",
      "    MODEL[word] = (take_log(float(ham_cProb)),\n",
      "                   take_log(float(spam_cProb)))\n",
      "\n",
      "# read from standard input\n",
      "for line in sys.stdin:\n",
      "    # parse input and tokenize\n",
      "    docID, _class, subject, body = line.lower().split('\\t')\n",
      "    words = re.findall(r'[a-z]+', subject + ' ' + body)\n",
      "    \n",
      "    # initialize variables that student code should overwrite\n",
      "    logpHam, logpSpam, pred_class = None, None, None\n",
      "    \n",
      "    ################# YOUR CODE HERE ################\n",
      "    # TIP: try using MODEL.get(word, (0,0)) to access the tuple \n",
      "    # of log probabilities without throwing a KeyError!\n",
      "\n",
      "    if logpSpam == None:\n",
      "            logpSpam = 0\n",
      "    if logpHam == None:\n",
      "            logpHam = 0\n",
      "    \n",
      "    for word in words:\n",
      "        if MODEL.get(word):\n",
      "            logpHam += MODEL[word][0]\n",
      "            logpSpam += MODEL[word][1]\n",
      "        else:\n",
      "            pass\n",
      "    \n",
      "    # Add PriorClass\n",
      "    logpHam += MODEL['ClassPriors'][0]\n",
      "    logpSpam += MODEL['ClassPriors'][1]\n",
      "    \n",
      "    if logpHam >= logpSpam:\n",
      "        pred_class = 0\n",
      "    else:\n",
      "        pred_class = 1\n",
      "\n",
      "\n",
      "\n",
      "\n",
      "    ################# (END) YOUR CODE ##############\n",
      "    \n",
      "    print(f\"{docID}\\t{_class}\\t{logpHam}\\t{logpSpam}\\t{pred_class}\")"
     ]
    }
   ],
   "source": [
    "!cat NaiveBayes/classify_mapper.py"
   ]
  },
  {
   "cell_type": "code",
   "execution_count": 45,
   "metadata": {},
   "outputs": [
    {
     "name": "stdout",
     "output_type": "stream",
     "text": [
      "d5  1  -8.90668134500626   -8.10769031284611   1\n",
      "d6  1  -5.780743515794329  -4.179502370564408  1\n",
      "d7  0  -6.591673732011658  -7.511706880737811  0\n",
      "d8  0  -4.394449154674438  -5.565796731681498  0\n"
     ]
    }
   ],
   "source": [
    "# part e - unit test NaiveBayes/classify_mapper.py (RUN THIS CELL AS IS)\n",
    "!cat NaiveBayes/chineseTest.txt | NaiveBayes/classify_mapper.py | column -t"
   ]
  },
  {
   "cell_type": "code",
   "execution_count": 46,
   "metadata": {},
   "outputs": [
    {
     "name": "stdout",
     "output_type": "stream",
     "text": [
      "packageJobJar: [] [/usr/lib/hadoop-mapreduce/hadoop-streaming-2.6.0-cdh5.16.2.jar] /tmp/streamjob2776376637524329372.jar tmpDir=null\n",
      "21/09/18 05:38:59 INFO client.RMProxy: Connecting to ResourceManager at /0.0.0.0:8032\n",
      "21/09/18 05:38:59 INFO client.RMProxy: Connecting to ResourceManager at /0.0.0.0:8032\n",
      "21/09/18 05:39:00 INFO mapred.FileInputFormat: Total input paths to process : 1\n",
      "21/09/18 05:39:00 INFO mapreduce.JobSubmitter: number of splits:2\n",
      "21/09/18 05:39:00 INFO mapreduce.JobSubmitter: Submitting tokens for job: job_1631927043264_0004\n",
      "21/09/18 05:39:00 INFO impl.YarnClientImpl: Submitted application application_1631927043264_0004\n",
      "21/09/18 05:39:00 INFO mapreduce.Job: The url to track the job: http://docker.w261:8088/proxy/application_1631927043264_0004/\n",
      "21/09/18 05:39:00 INFO mapreduce.Job: Running job: job_1631927043264_0004\n",
      "21/09/18 05:39:06 INFO mapreduce.Job: Job job_1631927043264_0004 running in uber mode : false\n",
      "21/09/18 05:39:06 INFO mapreduce.Job:  map 0% reduce 0%\n",
      "21/09/18 05:39:12 INFO mapreduce.Job:  map 50% reduce 0%\n",
      "21/09/18 05:39:13 INFO mapreduce.Job:  map 100% reduce 0%\n",
      "21/09/18 05:39:18 INFO mapreduce.Job:  map 100% reduce 100%\n",
      "21/09/18 05:39:18 INFO mapreduce.Job: Job job_1631927043264_0004 completed successfully\n",
      "21/09/18 05:39:18 INFO mapreduce.Job: Counters: 49\n",
      "\tFile System Counters\n",
      "\t\tFILE: Number of bytes read=192\n",
      "\t\tFILE: Number of bytes written=446492\n",
      "\t\tFILE: Number of read operations=0\n",
      "\t\tFILE: Number of large read operations=0\n",
      "\t\tFILE: Number of write operations=0\n",
      "\t\tHDFS: Number of bytes read=405\n",
      "\t\tHDFS: Number of bytes written=178\n",
      "\t\tHDFS: Number of read operations=9\n",
      "\t\tHDFS: Number of large read operations=0\n",
      "\t\tHDFS: Number of write operations=2\n",
      "\tJob Counters \n",
      "\t\tLaunched map tasks=2\n",
      "\t\tLaunched reduce tasks=1\n",
      "\t\tData-local map tasks=2\n",
      "\t\tTotal time spent by all maps in occupied slots (ms)=6704\n",
      "\t\tTotal time spent by all reduces in occupied slots (ms)=2799\n",
      "\t\tTotal time spent by all map tasks (ms)=6704\n",
      "\t\tTotal time spent by all reduce tasks (ms)=2799\n",
      "\t\tTotal vcore-milliseconds taken by all map tasks=6704\n",
      "\t\tTotal vcore-milliseconds taken by all reduce tasks=2799\n",
      "\t\tTotal megabyte-milliseconds taken by all map tasks=6864896\n",
      "\t\tTotal megabyte-milliseconds taken by all reduce tasks=2866176\n",
      "\tMap-Reduce Framework\n",
      "\t\tMap input records=4\n",
      "\t\tMap output records=4\n",
      "\t\tMap output bytes=178\n",
      "\t\tMap output materialized bytes=198\n",
      "\t\tInput split bytes=226\n",
      "\t\tCombine input records=0\n",
      "\t\tCombine output records=0\n",
      "\t\tReduce input groups=4\n",
      "\t\tReduce shuffle bytes=198\n",
      "\t\tReduce input records=4\n",
      "\t\tReduce output records=4\n",
      "\t\tSpilled Records=8\n",
      "\t\tShuffled Maps =2\n",
      "\t\tFailed Shuffles=0\n",
      "\t\tMerged Map outputs=2\n",
      "\t\tGC time elapsed (ms)=82\n",
      "\t\tCPU time spent (ms)=2070\n",
      "\t\tPhysical memory (bytes) snapshot=810725376\n",
      "\t\tVirtual memory (bytes) snapshot=4131696640\n",
      "\t\tTotal committed heap usage (bytes)=822607872\n",
      "\tShuffle Errors\n",
      "\t\tBAD_ID=0\n",
      "\t\tCONNECTION=0\n",
      "\t\tIO_ERROR=0\n",
      "\t\tWRONG_LENGTH=0\n",
      "\t\tWRONG_MAP=0\n",
      "\t\tWRONG_REDUCE=0\n",
      "\tFile Input Format Counters \n",
      "\t\tBytes Read=179\n",
      "\tFile Output Format Counters \n",
      "\t\tBytes Written=178\n",
      "21/09/18 05:39:18 INFO streaming.StreamJob: Output directory: /user/root/HW2//chinese-output\n"
     ]
    }
   ],
   "source": [
    "# part e - clear the output directory in HDFS (RUN THIS CELL AS IS)\n",
    "!hdfs dfs -rm -r {HDFS_DIR}/chinese-output\n",
    "# part e - write your Hadooop streaming job here\n",
    "!hadoop jar {JAR_FILE} \\\n",
    "  -files NaiveBayes/classify_mapper.py,NBmodel.txt \\\n",
    "  -mapper classify_mapper.py \\\n",
    "  -input {HDFS_DIR}/chineseTest.txt \\\n",
    "  -output {HDFS_DIR}/chinese-output \\\n",
    "  -cmdenv PATH={PATH}"
   ]
  },
  {
   "cell_type": "code",
   "execution_count": 47,
   "metadata": {},
   "outputs": [],
   "source": [
    "# part e - retrieve test set results from HDFS (RUN THIS CELL AS IS)\n",
    "!hdfs dfs -cat {HDFS_DIR}/chinese-output/part-000* > NaiveBayes/chineseResults.txt"
   ]
  },
  {
   "cell_type": "code",
   "execution_count": 48,
   "metadata": {},
   "outputs": [
    {
     "name": "stdout",
     "output_type": "stream",
     "text": [
      "d5  1  -8.90668134500626   -8.10769031284611   1\n",
      "d6  1  -5.780743515794329  -4.179502370564408  1\n",
      "d7  0  -6.591673732011658  -7.511706880737811  0\n",
      "d8  0  -4.394449154674438  -5.565796731681498  0\n"
     ]
    }
   ],
   "source": [
    "# part e - take a look (RUN THIS CELL AS IS)\n",
    "!cat NaiveBayes/chineseResults.txt | column -t"
   ]
  },
  {
   "cell_type": "markdown",
   "metadata": {},
   "source": [
    "<table>\n",
    "<th> Expected output for the test set:</th>\n",
    "<tr align=Left><td><pre>\n",
    "d5\t1\t-8.90668134\t-8.10769031\t1\n",
    "d6\t1\t-5.78074351\t-4.17950237\t1\n",
    "d7\t0\t-6.59167373\t-7.51170688\t0\n",
    "d8\t0\t-4.39444915\t-5.56579673\t0\n",
    "</pre></td><tr>\n",
    "</table>"
   ]
  },
  {
   "cell_type": "markdown",
   "metadata": {},
   "source": [
    "# Question 8: Naive Bayes Training.\n",
    "In Question 7 we used a model that we had trained by hand. Next we'll develop the code to do that same training in parallel, making it suitable for use with larger corpora (like the Enron emails). The end result of the MapReduce job you write in this question should be a model text file that looks just like the example (`NBmodel.txt`) that we created by hand above.\n",
    "\n",
    "To refresh your memory about the training process take a look at  `6a` and `6b` where you described the pieces of information you'll need to collect in order to encode a Multinomial Naive Bayes model. We now want to retrieve those pieces of information while streaming over a corpus. The bulk of the task will be very similar to the word counting excercises you've already done but you may want to consider a slightly different key-value record structure to efficiently tally counts for each class. \n",
    "\n",
    "The most challenging (interesting?) design question will be how to retrieve the totals (# of documents and # of words in documents for each class). Of course, counting these numbers is easy. The hard part is the timing: you'll need to make sure you have the counts totalled up _before_ you start estimating the class conditional probabilities for each word. It would be best (i.e. most scalable) if we could find a way to do this tallying without storing the whole vocabulary in memory... Use an appropriate MapReduce design pattern to implement this efficiently! \n",
    "\n",
    "\n",
    "### Q8 Tasks:\n",
    "* __a) make a plan:__  Fill in the docstrings for __`NaiveBayes/train_mapper.py`__ and __`NaiveBayes/train_reducer.py`__ to appropriately reflect the format that each script will input/output. [`HINT:` _the input files_ (`enronemail_1h.txt` & `chineseTrain.txt`) _have a prespecified format and your output file should match_ `NBmodel.txt` _so you really only have to decide on an internal format for Hadoop_].\n",
    "\n",
    "\n",
    "* __b) implement it:__ Complete the code in __`NaiveBayes/train_mapper.py`__ and __`NaiveBayes/train_reducer.py`__ so that together they train a Multinomial Naive Bayes model __with no smoothing__. Make sure your end result is formatted correctly (see note above). Test your scripts independently and together (using `chineseTrain.txt` or test input of your own devising). When you are satisfied with your Python code design and run a Hadoop streaming command to run your job in parallel on the __chineseTrain.txt__. Confirm that your trained model matches your hand calculations from Question 6.\n",
    "\n",
    "\n",
    "* __c) short response:__ We saw in Question 6 that adding Laplace smoothing (where the smoothing parameter $k=1$) makes our classifications less sensitve to rare words. However implementing this technique requires access to one additional piece of information that we had not previously used in our Naive Bayes training. What is that extra piece of information? [`HINT:` see equation 13.7 in Manning, Raghavan and Schutze].\n",
    "\n",
    "\n",
    "* __d) short response:__ There are a couple of approaches that we could take to handle the extra piece of information you identified in `c`: 1) if we knew this extra information beforehand, we could provide it to our reducer as a configurable parameter for the vocab size dynamically (_where would we get it in the first place?_). Or 2) we could compute it in the reducer without storing any bulky information in memory but then we'd need some postprocessing or a second MapReduce job to complete the calculation (_why?_). Breifly explain what is non-ideal about each of these options. \n",
    "\n",
    "\n",
    "* __e) code + short response:__ Choose one of the 2 options above. State your choice & reasoning in the space below then use that strategy to complete the code in __`NaiveBayes/train_reducer_smooth.py`__. Test this alternate reducer then write and run a Hadoop streaming job to train an MNB model with smoothing on the Chinese example. Your results should match the model that we provided for you above (and the calculations in the textbook example). __IMPORTANT NOTE:__ For full credit on this question, your code must work with multiple reducers. \n",
    "\n",
    "    - [`HINT:` You will need to implement custom partitioning - [Total Order Sort Notebook](https://github.com/UCB-w261/main/tree/master/HelpfulResources/TotalSortGuide/_total-sort-guide-spark2.01-JAN27-2017.ipynb)] \n",
    "\n",
    "    - [`HINT:` Don't start from scratch with this one -- you can just copy over your reducer code from part `b` and make the needed modifications]. \n"
   ]
  },
  {
   "cell_type": "markdown",
   "metadata": {},
   "source": [
    "\n",
    "__IMPORTANT NOTE:__ For full credit on this question, your code must work with multiple reducers. [`HINT:`_You will need to implement custom partitioning - [Total Order Sort Notebook](https://github.com/UCB-w261/main/tree/master/HelpfulResources/TotalSortGuide/_total-sort-guide-spark2.01-JAN27-2017.ipynb)]\n"
   ]
  },
  {
   "cell_type": "markdown",
   "metadata": {},
   "source": [
    "### Q8 Student Answers:\n",
    "> __c)__ The extra information need when using Laplace smoothing is the variable  $B'$, which is the number of terms in the vocabulary.\n",
    "\n",
    "> __d)__ The first option is not scalable because it does not lend itself to parallel computation.  Although it only requires one pass, it utilizes only one reducer, which is a bottleneck limiting this approach to small datasets.  \n",
    "\n",
    "> The second option is not ideal in the sense that it requires two MapReduce jobs.  However, it is the method I recommend because it is scalable--it takes advantage of a parallel computation framework.\n",
    "\n",
    "> __e)__ I am going with the second option.  Even though it's necessary to run two MapReduce jobs, it is far more scalable--the purpose of the Hadoop framework.\n"
   ]
  },
  {
   "cell_type": "code",
   "execution_count": 40,
   "metadata": {},
   "outputs": [
    {
     "name": "stdout",
     "output_type": "stream",
     "text": [
      "=========== MAPPER DOCSTRING ============\n",
      "Mapper reads in text documents and emits word counts by class.\n",
      "INPUT:                                                    \n",
      "    DocID \\t true_class \\t subject \\t body                \n",
      "OUTPUT:                                                   \n",
      "    partitionKey \\t word \\t class0_partialCount,class1_partialCount       \n",
      "    \n",
      "=========== REDUCER DOCSTRING ============\n",
      "Reducer aggregates word counts by class and emits frequencies.\n",
      "\n",
      "INPUT:\n",
      "    partitionKey \\t word \\t class0_partialCount,class1_partialCount \n",
      "OUTPUT:\n",
      "    ID \\t word \\t class0_count,class1count,P(word|class0),P(word|class1)\n"
     ]
    }
   ],
   "source": [
    "# part a - do your work in train_mapper.py and train_reducer.py then RUN THIS CELL AS IS\n",
    "!chmod a+x NaiveBayes/train_mapper.py\n",
    "!chmod a+x NaiveBayes/train_reducer.py\n",
    "!echo \"=========== MAPPER DOCSTRING ============\"\n",
    "!head -n 8 NaiveBayes/train_mapper.py | tail -n 6\n",
    "!echo \"=========== REDUCER DOCSTRING ============\"\n",
    "!head -n 8 NaiveBayes/train_reducer.py | tail -n 6"
   ]
  },
  {
   "cell_type": "code",
   "execution_count": 73,
   "metadata": {},
   "outputs": [
    {
     "name": "stdout",
     "output_type": "stream",
     "text": [
      "#!/usr/bin/env python\n",
      "\"\"\"\n",
      "Mapper reads in text documents and emits word counts by class.\n",
      "INPUT:                                                    \n",
      "    DocID \\t true_class \\t subject \\t body                \n",
      "OUTPUT:                                                   \n",
      "    partitionKey \\t word \\t class0_partialCount,class1_partialCount       \n",
      "    \n",
      "\n",
      "Instructions:\n",
      "    You know what this script should do, go for it!\n",
      "    (As a favor to the graders, please comment your code clearly!)\n",
      "    \n",
      "    A few reminders:\n",
      "    1) To make sure your results match ours please be sure\n",
      "       to use the same tokenizing that we have provided in\n",
      "       all the other jobs:\n",
      "         words = re.findall(r'[a-z]+', text-to-tokenize.lower())\n",
      "         \n",
      "    2) Don't forget to handle the various \"totals\" that you need\n",
      "       for your conditional probabilities and class priors.\n",
      "       \n",
      "Partitioning:\n",
      "    In order to send the totals to each reducer, we need to implement\n",
      "    a custom partitioning strategy.\n",
      "    \n",
      "    We will generate a list of keys based on the number of reduce tasks \n",
      "    that we read in from the environment configuration of our job.\n",
      "    \n",
      "    We'll prepend the partition key by hashing the word and selecting the\n",
      "    appropriate key from our list. This will end up partitioning our data\n",
      "    as if we'd used the word as the partition key - that's how it worked\n",
      "    for the single reducer implementation. This is not necessarily \"good\",\n",
      "    as our data could be very skewed. However, in practice, for this\n",
      "    exercise it works well. The next step would be to generate a file of\n",
      "    partition split points based on the distribution as we've seen in \n",
      "    previous exercises.\n",
      "    \n",
      "    Now that we have a list of partition keys, we can send the totals to \n",
      "    each reducer by prepending each of the keys to each total.\n",
      "       \n",
      "\"\"\"\n",
      "\n",
      "import re                                                   \n",
      "import sys                                                  \n",
      "import numpy as np      \n",
      "\n",
      "from operator import itemgetter\n",
      "import os\n",
      "\n",
      "\n",
      "\n",
      "#################### YOUR CODE HERE ###################\n",
      "def getPartitionKey(word):\n",
      "    \"Helper function to assign partition key alphabetically.\"\n",
      "    if word[0] < 'g':\n",
      "        return 'A'\n",
      "    elif word[0] < 'n':\n",
      "        return 'B'\n",
      "    elif word[0] <'t':\n",
      "        return 'C'\n",
      "    else:                                          \n",
      "        return 'D' \n",
      "\n",
      "# initialize variables\n",
      "current_word = None\n",
      "class0_partialCount, class1_partialCount = 0, 0\n",
      "class0_totalWords, class1_totalWords = 0, 0\n",
      "class0_docCount, class1_docCount = 0, 0\n",
      "\n",
      "# read from standard input\n",
      "for line in sys.stdin:\n",
      "    \n",
      "    # parse input and tokenize\n",
      "    docID, _class, subject, body = line.lower().split('\\t')\n",
      "    words = re.findall(r'[a-z]+', subject + ' ' + body)\n",
      "    if int(_class) == 0:\n",
      "        class0_docCount += 1\n",
      "    else:\n",
      "        class1_docCount += 1\n",
      "    # emit words and count \n",
      "    for word in words:\n",
      "        class0_partialCount, class1_partialCount = 0, 0\n",
      "        partitionKey = getPartitionKey(word)\n",
      "        \n",
      "        if int(_class) == 0:\n",
      "            class0_partialCount = 1\n",
      "            class0_totalWords += 1\n",
      "\n",
      "        else:\n",
      "            class1_partialCount = 1\n",
      "            class1_totalWords += 1\n",
      "\n",
      "        print(f\"{partitionKey}\\t{word}\\t{class0_partialCount},{class1_partialCount}\")\n",
      "\n",
      "\n",
      "# emit total count to each partition\n",
      "for pkey in ['A','B','C', 'D']: \n",
      "        print(f'{pkey}\\t!totalWordCount\\t{class0_totalWords},{class1_totalWords}')     \n",
      "        print(f'{pkey}\\t!totalDocClassCount\\t{class0_docCount},{class1_docCount}')\n",
      "\n",
      "\n",
      "#################### (END) YOUR CODE ###################"
     ]
    }
   ],
   "source": [
    "!cat NaiveBayes/train_mapper.py"
   ]
  },
  {
   "cell_type": "code",
   "execution_count": 70,
   "metadata": {
    "scrolled": true
   },
   "outputs": [
    {
     "name": "stdout",
     "output_type": "stream",
     "text": [
      "#!/usr/bin/env python\n",
      "\"\"\"\n",
      "Reducer aggregates word counts by class and emits frequencies.\n",
      "\n",
      "INPUT:\n",
      "    partitionKey \\t word \\t class0_partialCount,class1_partialCount \n",
      "OUTPUT:\n",
      "    ID \\t word \\t class0_count,class1count,P(word|class0),P(word|class1)\n",
      "    \n",
      "Instructions:\n",
      "    Again, you are free to design a solution however you see \n",
      "    fit as long as your final model meets our required format\n",
      "    for the inference job we designed in Question 8. Please\n",
      "    comment your code clearly and concisely.\n",
      "    \n",
      "    A few reminders: \n",
      "    1) Don't forget to emit Class Priors (with the right key).\n",
      "    2) In python2: 3/4 = 0 and 3/float(4) = 0.75\n",
      "\"\"\"\n",
      "##################### YOUR CODE HERE ####################\n",
      "\n",
      "\n",
      "import re                                                   \n",
      "import sys                                                  \n",
      "import numpy as np      \n",
      "\n",
      "from operator import itemgetter\n",
      "import os\n",
      "\n",
      "# initialize variables\n",
      "cur_word = None\n",
      "class0_count, class0_totalWords, class0_totalDocs = 0, 0, 0\n",
      "class1_count, class1_totalWords, class1_totalDocs = 0, 0, 0\n",
      "totalDocs, totalWords = 0, 0\n",
      "\n",
      "# read input key-value pairs from standard input\n",
      "for line in sys.stdin:\n",
      "    \n",
      "    line.rstrip('\\n')\n",
      "    pKey, word, value = line.split('\\t',2)\n",
      "    value_tuple = tuple(value.split (\",\"))\n",
      "    valueTemp0 = int(value_tuple[0])\n",
      "    valueTemp1 = int(value_tuple[1])\n",
      "\n",
      "    # tally counts from current key\n",
      "    if word == cur_word:     \n",
      "        class0_count += valueTemp0\n",
      "        class1_count += valueTemp1\n",
      "    else:\n",
      "        # total words / class type word total\n",
      "        if cur_word == \"!totalWordCount\":\n",
      "            totalWords = class0_count + class1_count\n",
      "            class0_totalWords = class0_count\n",
      "            class1_totalWords = class1_count\n",
      "        \n",
      "        # total docs / class type doc total\n",
      "        if cur_word == \"!totalDocClassCount\":\n",
      "            totalDocs = class0_count + class1_count\n",
      "            class0_totalDocs = class0_count\n",
      "            class1_totalDocs = class1_count\n",
      "            \n",
      "        if (cur_word and cur_word != \"!totalWordCount\" and cur_word != \"!totalDocClassCount\"):\n",
      "            print(f'{cur_word}\\t{float(class0_count)}, {float(class1_count)}, \\\n",
      "                 {float(class0_count/class0_totalWords)}, {float(class1_count/class1_totalWords)}')\n",
      "        cur_word, class0_count, class1_count = word, int(value_tuple[0]), int(value_tuple[1])\n",
      "\n",
      "print(f'{cur_word}\\t{float(class0_count)}, {float(class1_count)}, \\\n",
      "     {float(class0_count/class0_totalWords)}, {float(class1_count/class1_totalWords)}')\n",
      "\n",
      "print(f'ClassPriors\\t{float(class0_totalDocs)}, {float(class1_totalDocs)}, \\\n",
      "     {float(class0_totalDocs/totalDocs)}, {float(class1_totalDocs/totalDocs)}')\n",
      "\n",
      "##################### (END) CODE HERE ####################"
     ]
    }
   ],
   "source": [
    "!cat NaiveBayes/train_reducer.py"
   ]
  },
  {
   "cell_type": "code",
   "execution_count": 71,
   "metadata": {},
   "outputs": [
    {
     "name": "stdout",
     "output_type": "stream",
     "text": [
      "#!/usr/bin/env python\n",
      "\n",
      "import os\n",
      "import sys                                                  \n",
      "import numpy as np  \n",
      "\n",
      "#################### YOUR CODE HERE ###################\n",
      "\n",
      "# initialize variables\n",
      "cur_word = None\n",
      "class0_count, class0_totalDocs, class0_totalTerms, class0_totalWords = 0, 0, 0, 0\n",
      "class1_count, class1_totalDocs, class1_totalTerms, class1_totalWords = 0, 0, 0, 0\n",
      "totalTerms, totalWords, valueTemp0, valueTemp1 = 1, 0, None, None\n",
      "\n",
      "# read input key-value pairs from standard input\n",
      "for line in sys.stdin:\n",
      "    \n",
      "    line.rstrip('\\n')\n",
      "    pKey, word, value = line.split('\\t',2)\n",
      "    value_tuple = tuple(value.split (\",\"))\n",
      "    valueTemp0 = int(value_tuple[0])\n",
      "    valueTemp1 = int(value_tuple[1])\n",
      "\n",
      "    # tally counts from current key\n",
      "    if word == cur_word:     \n",
      "        class0_count += valueTemp0\n",
      "        class1_count += valueTemp1\n",
      "    else:\n",
      "        # total words / class type word total\n",
      "        if cur_word == \"!totalWordCount\":\n",
      "            totalWords = class0_count + class1_count\n",
      "            class0_totalWords = class0_count\n",
      "            class1_totalWords = class1_count\n",
      "        # total docs / class type doc total            \n",
      "        if cur_word == \"!totalDocClassCount\":\n",
      "            totalDocs = class0_count + class1_count\n",
      "            class0_totalDocs = class0_count\n",
      "            class1_totalDocs = class1_count\n",
      "            \n",
      "        if (cur_word and cur_word != \"!totalWordCount\" and cur_word != \"!totalDocClassCount\"):\n",
      "            print(f'{cur_word}\\t{float(class0_count)}, {float(class1_count)}, \\\n",
      "                 {float(class0_count/class0_totalWords)}, {float(class1_count/class1_totalWords)}')\n",
      "            totalTerms += 1\n",
      "            class0_totalTerms += class0_count\n",
      "            class1_totalTerms += class1_count\n",
      "        cur_word, class0_count, class1_count = word, int(value_tuple[0]), int(value_tuple[1])\n",
      "\n",
      "class0_totalTerms += class0_count\n",
      "class1_totalTerms += class1_count\n",
      "\n",
      "print(f'{cur_word}\\t{float(class0_count)}, {float(class1_count)}, \\\n",
      "     {float(class0_count/class0_totalWords)}, {float(class1_count/class1_totalWords)}')\n",
      "     \n",
      "print(f'ClassPriors\\t{float(class0_totalDocs)}, {float(class1_totalDocs)}, \\\n",
      "     {float(class0_totalDocs/totalDocs)}, {float(class1_totalDocs/totalDocs)}')\n",
      "     \n",
      "print(f'!TotalTerms\\t{float(totalTerms)}, {float(totalTerms)}, \\\n",
      "     {float(class0_totalTerms)}, {float(class1_totalTerms)}')\n",
      "\n",
      "#################### (END) YOUR CODE ###################"
     ]
    }
   ],
   "source": [
    "!cat NaiveBayes/train_reducer_smooth.py"
   ]
  },
  {
   "cell_type": "markdown",
   "metadata": {},
   "source": [
    "__`part b starts here`:__ MNB _without_ Smoothing (training on Chinese Example Corpus)."
   ]
  },
  {
   "cell_type": "code",
   "execution_count": 38,
   "metadata": {},
   "outputs": [
    {
     "name": "stdout",
     "output_type": "stream",
     "text": [
      "A  chinese              0,1\n",
      "A  beijing              0,1\n",
      "A  chinese              0,1\n",
      "A  chinese              0,1\n",
      "A  chinese              0,1\n",
      "C  shanghai             0,1\n",
      "A  chinese              0,1\n",
      "B  macao                0,1\n",
      "D  tokyo                1,0\n",
      "B  japan                1,0\n",
      "A  chinese              1,0\n",
      "A  !totalWordCount      3,8\n",
      "A  !totalDocClassCount  1,3\n",
      "B  !totalWordCount      3,8\n",
      "B  !totalDocClassCount  1,3\n",
      "C  !totalWordCount      3,8\n",
      "C  !totalDocClassCount  1,3\n",
      "D  !totalWordCount      3,8\n",
      "D  !totalDocClassCount  1,3\n"
     ]
    }
   ],
   "source": [
    "# part b - write a unit test for your mapper here\n",
    "!cat NaiveBayes/chineseTrain.txt | NaiveBayes/train_mapper.py | column -t"
   ]
  },
  {
   "cell_type": "code",
   "execution_count": 77,
   "metadata": {},
   "outputs": [
    {
     "name": "stdout",
     "output_type": "stream",
     "text": [
      "alpha        1.0,  1.0,  0.3333333333333333,  0.125\n",
      "beijing      1.0,  2.0,  0.3333333333333333,  0.25\n",
      "beta         1.0,  0.0,  0.3333333333333333,  0.0\n",
      "chinese      0.0,  5.0,  0.0,                 0.625\n",
      "ClassPriors  1.0,  3.0,  0.25,                0.75\n"
     ]
    }
   ],
   "source": [
    "# part b - write a unit test for your reducer here\n",
    "!cat NaiveBayes/chineseTestReducer.txt | NaiveBayes/train_reducer.py | column -t"
   ]
  },
  {
   "cell_type": "code",
   "execution_count": 42,
   "metadata": {},
   "outputs": [
    {
     "name": "stdout",
     "output_type": "stream",
     "text": [
      "beijing      0.0,  1.0,  0.0,                 0.125\n",
      "chinese      1.0,  5.0,  0.3333333333333333,  0.625\n",
      "japan        1.0,  0.0,  0.3333333333333333,  0.0\n",
      "macao        0.0,  1.0,  0.0,                 0.125\n",
      "shanghai     0.0,  1.0,  0.0,                 0.125\n",
      "tokyo        1.0,  0.0,  0.3333333333333333,  0.0\n",
      "ClassPriors  1.0,  3.0,  0.25,                0.75\n"
     ]
    }
   ],
   "source": [
    "# part b - write a systems test for your mapper + reducer together here\n",
    "!cat NaiveBayes/chineseTrain.txt | NaiveBayes/train_mapper.py | sort -k1,1 | NaiveBayes/train_reducer.py | column -t"
   ]
  },
  {
   "cell_type": "code",
   "execution_count": 43,
   "metadata": {},
   "outputs": [
    {
     "name": "stdout",
     "output_type": "stream",
     "text": [
      "Deleted /user/root/HW2/nb-unsmoothed-chinese-output\n"
     ]
    }
   ],
   "source": [
    "# part b - clear (and name) an output directory in HDFS for your unsmoothed chinese NB model\n",
    "!hdfs dfs -rm -r {HDFS_DIR}/nb-unsmoothed-chinese-output"
   ]
  },
  {
   "cell_type": "code",
   "execution_count": 44,
   "metadata": {},
   "outputs": [
    {
     "name": "stdout",
     "output_type": "stream",
     "text": [
      "rm: `/user/root/HW2//nb-unsmoothed-chinese-output': No such file or directory\n",
      "packageJobJar: [] [/usr/lib/hadoop-mapreduce/hadoop-streaming-2.6.0-cdh5.16.2.jar] /tmp/streamjob7576241135749287986.jar tmpDir=null\n",
      "21/09/18 20:07:36 INFO client.RMProxy: Connecting to ResourceManager at /0.0.0.0:8032\n",
      "21/09/18 20:07:36 INFO client.RMProxy: Connecting to ResourceManager at /0.0.0.0:8032\n",
      "21/09/18 20:07:37 INFO mapred.FileInputFormat: Total input paths to process : 1\n",
      "21/09/18 20:07:37 INFO mapreduce.JobSubmitter: number of splits:2\n",
      "21/09/18 20:07:37 INFO mapreduce.JobSubmitter: Submitting tokens for job: job_1631977959277_0002\n",
      "21/09/18 20:07:37 INFO impl.YarnClientImpl: Submitted application application_1631977959277_0002\n",
      "21/09/18 20:07:38 INFO mapreduce.Job: The url to track the job: http://docker.w261:8088/proxy/application_1631977959277_0002/\n",
      "21/09/18 20:07:38 INFO mapreduce.Job: Running job: job_1631977959277_0002\n",
      "21/09/18 20:07:44 INFO mapreduce.Job: Job job_1631977959277_0002 running in uber mode : false\n",
      "21/09/18 20:07:44 INFO mapreduce.Job:  map 0% reduce 0%\n",
      "21/09/18 20:07:50 INFO mapreduce.Job:  map 50% reduce 0%\n",
      "21/09/18 20:07:51 INFO mapreduce.Job:  map 100% reduce 0%\n",
      "21/09/18 20:07:59 INFO mapreduce.Job:  map 100% reduce 25%\n",
      "21/09/18 20:08:01 INFO mapreduce.Job:  map 100% reduce 50%\n",
      "21/09/18 20:08:02 INFO mapreduce.Job:  map 100% reduce 100%\n",
      "21/09/18 20:08:03 INFO mapreduce.Job: Job job_1631977959277_0002 completed successfully\n",
      "21/09/18 20:08:03 INFO mapreduce.Job: Counters: 50\n",
      "\tFile System Counters\n",
      "\t\tFILE: Number of bytes read=638\n",
      "\t\tFILE: Number of bytes written=904686\n",
      "\t\tFILE: Number of read operations=0\n",
      "\t\tFILE: Number of large read operations=0\n",
      "\t\tFILE: Number of write operations=0\n",
      "\t\tHDFS: Number of bytes read=389\n",
      "\t\tHDFS: Number of bytes written=416\n",
      "\t\tHDFS: Number of read operations=18\n",
      "\t\tHDFS: Number of large read operations=0\n",
      "\t\tHDFS: Number of write operations=8\n",
      "\tJob Counters \n",
      "\t\tKilled reduce tasks=1\n",
      "\t\tLaunched map tasks=2\n",
      "\t\tLaunched reduce tasks=4\n",
      "\t\tData-local map tasks=2\n",
      "\t\tTotal time spent by all maps in occupied slots (ms)=7848\n",
      "\t\tTotal time spent by all reduces in occupied slots (ms)=24460\n",
      "\t\tTotal time spent by all map tasks (ms)=7848\n",
      "\t\tTotal time spent by all reduce tasks (ms)=24460\n",
      "\t\tTotal vcore-milliseconds taken by all map tasks=7848\n",
      "\t\tTotal vcore-milliseconds taken by all reduce tasks=24460\n",
      "\t\tTotal megabyte-milliseconds taken by all map tasks=8036352\n",
      "\t\tTotal megabyte-milliseconds taken by all reduce tasks=25047040\n",
      "\tMap-Reduce Framework\n",
      "\t\tMap input records=4\n",
      "\t\tMap output records=27\n",
      "\t\tMap output bytes=560\n",
      "\t\tMap output materialized bytes=662\n",
      "\t\tInput split bytes=228\n",
      "\t\tCombine input records=0\n",
      "\t\tCombine output records=0\n",
      "\t\tReduce input groups=24\n",
      "\t\tReduce shuffle bytes=662\n",
      "\t\tReduce input records=27\n",
      "\t\tReduce output records=10\n",
      "\t\tSpilled Records=54\n",
      "\t\tShuffled Maps =8\n",
      "\t\tFailed Shuffles=0\n",
      "\t\tMerged Map outputs=8\n",
      "\t\tGC time elapsed (ms)=381\n",
      "\t\tCPU time spent (ms)=6750\n",
      "\t\tPhysical memory (bytes) snapshot=1582964736\n",
      "\t\tVirtual memory (bytes) snapshot=8263741440\n",
      "\t\tTotal committed heap usage (bytes)=1843396608\n",
      "\tShuffle Errors\n",
      "\t\tBAD_ID=0\n",
      "\t\tCONNECTION=0\n",
      "\t\tIO_ERROR=0\n",
      "\t\tWRONG_LENGTH=0\n",
      "\t\tWRONG_MAP=0\n",
      "\t\tWRONG_REDUCE=0\n",
      "\tFile Input Format Counters \n",
      "\t\tBytes Read=161\n",
      "\tFile Output Format Counters \n",
      "\t\tBytes Written=416\n",
      "21/09/18 20:08:03 INFO streaming.StreamJob: Output directory: /user/root/HW2//nb-unsmoothed-chinese-output\n"
     ]
    }
   ],
   "source": [
    "# part b - write your hadoop streaming job\n",
    "!hdfs dfs -rm -r {HDFS_DIR}/nb-unsmoothed-chinese-output\n",
    "!hadoop jar {JAR_FILE} \\\n",
    "  -D stream.num.map.output.key.fields=3 \\\n",
    "  -D stream.map.output.field.separator=\"\\t\" \\\n",
    "  -D mapreduce.job.output.key.comparator.class=org.apache.hadoop.mapred.lib.KeyFieldBasedComparator \\\n",
    "  -D mapreduce.partition.keycomparator.options=\"-k2,2\" \\\n",
    "  -D mapreduce.partition.keypartitioner.options=\"-k1,1\" \\\n",
    "  -files NaiveBayes/train_reducer.py,NaiveBayes/train_mapper.py \\\n",
    "  -mapper train_mapper.py \\\n",
    "  -reducer train_reducer.py \\\n",
    "  -input {HDFS_DIR}/chineseTrain.txt \\\n",
    "  -output {HDFS_DIR}/nb-unsmoothed-chinese-output \\\n",
    "  -cmdenv PATH={PATH} \\\n",
    "  -numReduceTasks 4 \\\n",
    "  -partitioner org.apache.hadoop.mapred.lib.KeyFieldBasedPartitioner"
   ]
  },
  {
   "cell_type": "code",
   "execution_count": 45,
   "metadata": {},
   "outputs": [],
   "source": [
    "# part b - extract your results (i.e. model) to a local file\n",
    "!hdfs dfs -cat {HDFS_DIR}/nb-unsmoothed-chinese-output/part-000* > NaiveBayes/nbUnsmoothedChineseResults.txt"
   ]
  },
  {
   "cell_type": "code",
   "execution_count": 46,
   "metadata": {},
   "outputs": [
    {
     "name": "stdout",
     "output_type": "stream",
     "text": [
      "tokyo        1.0,  0.0,  0.3333333333333333,  0.0\n",
      "ClassPriors  1.0,  3.0,  0.25,                0.75\n",
      "beijing      0.0,  1.0,  0.0,                 0.125\n",
      "chinese      1.0,  5.0,  0.3333333333333333,  0.625\n",
      "ClassPriors  1.0,  3.0,  0.25,                0.75\n",
      "japan        1.0,  0.0,  0.3333333333333333,  0.0\n",
      "macao        0.0,  1.0,  0.0,                 0.125\n",
      "ClassPriors  1.0,  3.0,  0.25,                0.75\n",
      "shanghai     0.0,  1.0,  0.0,                 0.125\n",
      "ClassPriors  1.0,  3.0,  0.25,                0.75\n"
     ]
    }
   ],
   "source": [
    "# part b - print your model so that we can confirm that it matches expected results\n",
    "!cat NaiveBayes/nbUnsmoothedChineseResults.txt | column -t"
   ]
  },
  {
   "cell_type": "code",
   "execution_count": 74,
   "metadata": {},
   "outputs": [
    {
     "name": "stdout",
     "output_type": "stream",
     "text": [
      "D1\t1\t\tChinese Beijing Chinese\n",
      "D2\t1\t\tChinese Chinese Shanghai\n",
      "D3\t1\t\tChinese Macao\n",
      "D4\t0\t\tTokyo Japan Chinese\n"
     ]
    }
   ],
   "source": [
    "!cat NaiveBayes/chineseTrain.txt"
   ]
  },
  {
   "cell_type": "code",
   "execution_count": 47,
   "metadata": {},
   "outputs": [
    {
     "name": "stdout",
     "output_type": "stream",
     "text": [
      "========== PARTITION1 ==========\n",
      "tokyo\t1.0, 0.0,      0.3333333333333333, 0.0\n",
      "ClassPriors\t1.0, 3.0,      0.25, 0.75\n",
      "========== PARTITION2 ==========\n",
      "beijing\t0.0, 1.0,                  0.0, 0.125\n",
      "chinese\t1.0, 5.0,      0.3333333333333333, 0.625\n",
      "ClassPriors\t1.0, 3.0,      0.25, 0.75\n",
      "========== PARTITION3 ==========\n",
      "japan\t1.0, 0.0,                  0.3333333333333333, 0.0\n",
      "macao\t0.0, 1.0,      0.0, 0.125\n",
      "ClassPriors\t1.0, 3.0,      0.25, 0.75\n",
      "========== PARTITION4 ==========\n",
      "shanghai\t0.0, 1.0,      0.0, 0.125\n",
      "ClassPriors\t1.0, 3.0,      0.25, 0.75\n"
     ]
    }
   ],
   "source": [
    "# view partitions\n",
    "for p in range(4):\n",
    "    print('='*10,f'PARTITION{p+1}','='*10)\n",
    "    !hdfs dfs -cat {HDFS_DIR}/nb-unsmoothed-chinese-output/part-0000{p} | head -n 5"
   ]
  },
  {
   "cell_type": "markdown",
   "metadata": {},
   "source": [
    "__`part e starts here`:__ MNB _with_ Smoothing (training on Chinese Example Corpus)."
   ]
  },
  {
   "cell_type": "code",
   "execution_count": 78,
   "metadata": {},
   "outputs": [
    {
     "name": "stdout",
     "output_type": "stream",
     "text": [
      "alpha        1.0,  1.0,  0.3333333333333333,  0.125\n",
      "beijing      1.0,  2.0,  0.3333333333333333,  0.25\n",
      "beta         1.0,  0.0,  0.3333333333333333,  0.0\n",
      "chinese      0.0,  5.0,  0.0,                 0.625\n",
      "ClassPriors  1.0,  3.0,  0.25,                0.75\n",
      "!TotalTerms  4.0,  4.0,  3.0,                 8.0\n"
     ]
    }
   ],
   "source": [
    "# part e - write a unit test for your NEW reducer here\n",
    "!chmod a+x NaiveBayes/train_reducer_smooth.py\n",
    "!cat NaiveBayes/chineseTestReducer.txt | NaiveBayes/train_reducer_smooth.py | column -t"
   ]
  },
  {
   "cell_type": "code",
   "execution_count": 58,
   "metadata": {},
   "outputs": [
    {
     "name": "stdout",
     "output_type": "stream",
     "text": [
      "beijing      0.0,  1.0,  0.0,                 0.125\n",
      "chinese      1.0,  5.0,  0.3333333333333333,  0.625\n",
      "japan        1.0,  0.0,  0.3333333333333333,  0.0\n",
      "macao        0.0,  1.0,  0.0,                 0.125\n",
      "shanghai     0.0,  1.0,  0.0,                 0.125\n",
      "tokyo        1.0,  0.0,  0.3333333333333333,  0.0\n",
      "ClassPriors  1.0,  3.0,  0.25,                0.75\n",
      "!TotalTerms  6.0,  6.0,  3.0,                 8.0\n"
     ]
    }
   ],
   "source": [
    "# part e - write a systems test for your mapper + reducer together here\n",
    "!cat NaiveBayes/chineseTrain.txt | NaiveBayes/train_mapper.py | sort -k1,1 | NaiveBayes/train_reducer_smooth.py | column -t"
   ]
  },
  {
   "cell_type": "code",
   "execution_count": 60,
   "metadata": {},
   "outputs": [
    {
     "name": "stdout",
     "output_type": "stream",
     "text": [
      "rm: `/user/root/HW2//nb-smoothed-chinese-output': No such file or directory\n",
      "packageJobJar: [] [/usr/lib/hadoop-mapreduce/hadoop-streaming-2.6.0-cdh5.16.2.jar] /tmp/streamjob2236153097573439145.jar tmpDir=null\n",
      "21/09/18 20:50:37 INFO client.RMProxy: Connecting to ResourceManager at /0.0.0.0:8032\n",
      "21/09/18 20:50:38 INFO client.RMProxy: Connecting to ResourceManager at /0.0.0.0:8032\n",
      "21/09/18 20:50:38 INFO mapred.FileInputFormat: Total input paths to process : 1\n",
      "21/09/18 20:50:38 INFO mapreduce.JobSubmitter: number of splits:2\n",
      "21/09/18 20:50:38 INFO mapreduce.JobSubmitter: Submitting tokens for job: job_1631977959277_0003\n",
      "21/09/18 20:50:39 INFO impl.YarnClientImpl: Submitted application application_1631977959277_0003\n",
      "21/09/18 20:50:39 INFO mapreduce.Job: The url to track the job: http://docker.w261:8088/proxy/application_1631977959277_0003/\n",
      "21/09/18 20:50:39 INFO mapreduce.Job: Running job: job_1631977959277_0003\n",
      "21/09/18 20:50:46 INFO mapreduce.Job: Job job_1631977959277_0003 running in uber mode : false\n",
      "21/09/18 20:50:46 INFO mapreduce.Job:  map 0% reduce 0%\n",
      "21/09/18 20:50:52 INFO mapreduce.Job:  map 50% reduce 0%\n",
      "21/09/18 20:50:53 INFO mapreduce.Job:  map 100% reduce 0%\n",
      "21/09/18 20:51:00 INFO mapreduce.Job:  map 100% reduce 25%\n",
      "21/09/18 20:51:02 INFO mapreduce.Job:  map 100% reduce 50%\n",
      "21/09/18 20:51:03 INFO mapreduce.Job:  map 100% reduce 75%\n",
      "21/09/18 20:51:04 INFO mapreduce.Job:  map 100% reduce 100%\n",
      "21/09/18 20:51:04 INFO mapreduce.Job: Job job_1631977959277_0003 completed successfully\n",
      "21/09/18 20:51:04 INFO mapreduce.Job: Counters: 50\n",
      "\tFile System Counters\n",
      "\t\tFILE: Number of bytes read=638\n",
      "\t\tFILE: Number of bytes written=904884\n",
      "\t\tFILE: Number of read operations=0\n",
      "\t\tFILE: Number of large read operations=0\n",
      "\t\tFILE: Number of write operations=0\n",
      "\t\tHDFS: Number of bytes read=389\n",
      "\t\tHDFS: Number of bytes written=560\n",
      "\t\tHDFS: Number of read operations=18\n",
      "\t\tHDFS: Number of large read operations=0\n",
      "\t\tHDFS: Number of write operations=8\n",
      "\tJob Counters \n",
      "\t\tKilled reduce tasks=1\n",
      "\t\tLaunched map tasks=2\n",
      "\t\tLaunched reduce tasks=4\n",
      "\t\tData-local map tasks=2\n",
      "\t\tTotal time spent by all maps in occupied slots (ms)=8219\n",
      "\t\tTotal time spent by all reduces in occupied slots (ms)=24997\n",
      "\t\tTotal time spent by all map tasks (ms)=8219\n",
      "\t\tTotal time spent by all reduce tasks (ms)=24997\n",
      "\t\tTotal vcore-milliseconds taken by all map tasks=8219\n",
      "\t\tTotal vcore-milliseconds taken by all reduce tasks=24997\n",
      "\t\tTotal megabyte-milliseconds taken by all map tasks=8416256\n",
      "\t\tTotal megabyte-milliseconds taken by all reduce tasks=25596928\n",
      "\tMap-Reduce Framework\n",
      "\t\tMap input records=4\n",
      "\t\tMap output records=27\n",
      "\t\tMap output bytes=560\n",
      "\t\tMap output materialized bytes=662\n",
      "\t\tInput split bytes=228\n",
      "\t\tCombine input records=0\n",
      "\t\tCombine output records=0\n",
      "\t\tReduce input groups=24\n",
      "\t\tReduce shuffle bytes=662\n",
      "\t\tReduce input records=27\n",
      "\t\tReduce output records=14\n",
      "\t\tSpilled Records=54\n",
      "\t\tShuffled Maps =8\n",
      "\t\tFailed Shuffles=0\n",
      "\t\tMerged Map outputs=8\n",
      "\t\tGC time elapsed (ms)=343\n",
      "\t\tCPU time spent (ms)=6870\n",
      "\t\tPhysical memory (bytes) snapshot=1648054272\n",
      "\t\tVirtual memory (bytes) snapshot=8269381632\n",
      "\t\tTotal committed heap usage (bytes)=1777336320\n",
      "\tShuffle Errors\n",
      "\t\tBAD_ID=0\n",
      "\t\tCONNECTION=0\n",
      "\t\tIO_ERROR=0\n",
      "\t\tWRONG_LENGTH=0\n",
      "\t\tWRONG_MAP=0\n",
      "\t\tWRONG_REDUCE=0\n",
      "\tFile Input Format Counters \n",
      "\t\tBytes Read=161\n",
      "\tFile Output Format Counters \n",
      "\t\tBytes Written=560\n",
      "21/09/18 20:51:04 INFO streaming.StreamJob: Output directory: /user/root/HW2//nb-smoothed-chinese-output\n"
     ]
    }
   ],
   "source": [
    "# part e - clear (and name) an output directory in HDFS for your SMOOTHED chinese NB \n",
    "!hdfs dfs -rm -r {HDFS_DIR}/nb-smoothed-chinese-output\n",
    "# part e - write your hadoop streaming job\n",
    "!hadoop jar {JAR_FILE} \\\n",
    "  -D stream.num.map.output.key.fields=3 \\\n",
    "  -D stream.map.output.field.separator=\"\\t\" \\\n",
    "  -D mapreduce.job.output.key.comparator.class=org.apache.hadoop.mapred.lib.KeyFieldBasedComparator \\\n",
    "  -D mapreduce.partition.keycomparator.options=\"-k2,2\" \\\n",
    "  -D mapreduce.partition.keypartitioner.options=\"-k1,1\" \\\n",
    "  -files NaiveBayes/train_reducer_smooth.py,NaiveBayes/train_mapper.py \\\n",
    "  -mapper train_mapper.py \\\n",
    "  -reducer train_reducer_smooth.py \\\n",
    "  -input {HDFS_DIR}/chineseTrain.txt \\\n",
    "  -output {HDFS_DIR}/nb-smoothed-chinese-output\\\n",
    "  -cmdenv PATH={PATH} \\\n",
    "  -numReduceTasks 4 \\\n",
    "  -partitioner org.apache.hadoop.mapred.lib.KeyFieldBasedPartitioner"
   ]
  },
  {
   "cell_type": "code",
   "execution_count": 62,
   "metadata": {},
   "outputs": [],
   "source": [
    "# part e - extract your results (i.e. model) to a local file\n",
    "!hdfs dfs -cat {HDFS_DIR}/nb-smoothed-chinese-output/part-000* > NaiveBayes/chineseResultsNBSmoothed.txt"
   ]
  },
  {
   "cell_type": "code",
   "execution_count": 80,
   "metadata": {},
   "outputs": [
    {
     "name": "stdout",
     "output_type": "stream",
     "text": [
      "ClassPriors  1.0,3.0,  0.25,0.75\n",
      "beijing      0.0,      1.0,       0.1111111111111111,  0.14285714285714285\n",
      "chinese      1.0,      5.0,       0.2222222222222222,  0.42857142857142855\n",
      "japan        1.0,      0.0,       0.2222222222222222,  0.07142857142857142\n",
      "macao        0.0,      1.0,       0.1111111111111111,  0.14285714285714285\n",
      "shanghai     0.0,      1.0,       0.1111111111111111,  0.14285714285714285\n",
      "tokyo        1.0,      0.0,       0.2222222222222222,  0.07142857142857142\n"
     ]
    }
   ],
   "source": [
    "# part e - print your model (above local file) so that we can confirm that it matches expected results\n",
    "#!chmod a+x NaiveBayes/smoothNB_postProcess.py\n",
    "!cat NaiveBayes/chineseResultsNBSmoothed.txt | sort -k1,1 | NaiveBayes/smoothNB_postProcess.py | column -t"
   ]
  },
  {
   "cell_type": "markdown",
   "metadata": {},
   "source": [
    "# Question 9: Enron Ham/Spam NB Classifier & Results.\n",
    "\n",
    "Fantastic work. We're finally ready to perform Spam Classification on the Enron Corpus. In this question you'll run the analysis you've developed, report its performance.\n",
    "\n",
    "### Q9 Tasks:\n",
    "* __a) train/test split:__ Run the provided code to split our Enron file into a training set and testing set then load them into HDFS. [`NOTE:` _Make sure you re calculate the vocab size for just the training set!_]\n",
    "\n",
    "* __b) train 2 models:__ Write Hadoop Streaming jobs to train MNB Models on the training set with and without smoothing. Save your models to local files at __`NaiveBayes/Unsmoothed/NBmodel.txt`__ and __`NaiveBayes/Smoothed/NBmodel.txt`__. [`NOTE:` _This naming is important because we wrote our classification task so that it expects a file of that name... if this inelegance frustrates you there is an alternative that would involve a few adjustments to your code [read more about it here](http://www.tnoda.com/blog/2013-11-23)._] Finally run the checks that we provide to confirm that your results are correct.\n",
    "\n",
    "\n",
    "* __c) code:__ Recall that we designed our classification job with just a mapper. An efficient way to report the performance of our models would be to simply add a reducer phase to this job and compute precision and recall right there. Complete the code in __`NaiveBayes/evaluation_reducer.py`__ and then write Hadoop jobs to evaluate your two models on the test set. Report their performance side by side. [`NOTE:` if you need a refresher on precision, recall and F1-score [Wikipedia](https://en.wikipedia.org/wiki/F1_score) is a good resource.]\n",
    "\n",
    "\n",
    "* __d) short response:__ Compare the performance of your two models. What do you notice about the unsmoothed model's predictions? Can you guess why this is happening? Which evaluation measure do you think is most relevant in our use case? [`NOTE:` _Feel free to answer using your common sense but if you want more information on evaluating the classification task checkout_ [this blogpost](https://tryolabs.com/blog/2013/03/25/why-accuracy-alone-bad-measure-classification-tasks-and-what-we-can-do-about-it/\n",
    ") or [this paper](http://www.flinders.edu.au/science_engineering/fms/School-CSEM/publications/tech_reps-research_artfcts/TRRA_2007.pdf\n",
    ")]\n",
    "\n"
   ]
  },
  {
   "cell_type": "markdown",
   "metadata": {},
   "source": [
    "### Q9 Student Answers:\n",
    "> __d)__ The smoothed model has much higher accuracy compared to the unsmoothed model.  This is a result of the unsmoothed model handling terms not seen during training but seen during testing much better than the unsmoothed model.  Notice that the smoothed model has higher precision than the unsmoothed model, yet the smoothed model has a far superior recall.  In this case, the F1-score is most relevant.  These results indicate the smoothed model generalized much better than the unsmoothed model.\n",
    "\n"
   ]
  },
  {
   "cell_type": "markdown",
   "metadata": {},
   "source": [
    "__Test/Train split__"
   ]
  },
  {
   "cell_type": "code",
   "execution_count": 68,
   "metadata": {},
   "outputs": [],
   "source": [
    "# part a - test/train split (RUN THIS CELL AS IS)\n",
    "!head -n 80 data/enronemail_1h.txt > data/enron_train.txt\n",
    "!tail -n 20 data/enronemail_1h.txt > data/enron_test.txt\n",
    "!hdfs dfs -copyFromLocal data/enron_train.txt {HDFS_DIR}\n",
    "!hdfs dfs -copyFromLocal data/enron_test.txt {HDFS_DIR}"
   ]
  },
  {
   "cell_type": "markdown",
   "metadata": {},
   "source": [
    "__Training__ (Enron MNB Model _without smoothing_ )"
   ]
  },
  {
   "cell_type": "code",
   "execution_count": 69,
   "metadata": {},
   "outputs": [
    {
     "name": "stdout",
     "output_type": "stream",
     "text": [
      "rm: `/user/root/HW2//enron-model': No such file or directory\n",
      "packageJobJar: [] [/usr/lib/hadoop-mapreduce/hadoop-streaming-2.6.0-cdh5.16.2.jar] /tmp/streamjob5181463804026509919.jar tmpDir=null\n",
      "21/09/19 00:58:04 INFO client.RMProxy: Connecting to ResourceManager at /0.0.0.0:8032\n",
      "21/09/19 00:58:04 INFO client.RMProxy: Connecting to ResourceManager at /0.0.0.0:8032\n",
      "21/09/19 00:58:05 INFO mapred.FileInputFormat: Total input paths to process : 1\n",
      "21/09/19 00:58:05 INFO mapreduce.JobSubmitter: number of splits:2\n",
      "21/09/19 00:58:05 INFO mapreduce.JobSubmitter: Submitting tokens for job: job_1631977959277_0004\n",
      "21/09/19 00:58:05 INFO impl.YarnClientImpl: Submitted application application_1631977959277_0004\n",
      "21/09/19 00:58:06 INFO mapreduce.Job: The url to track the job: http://docker.w261:8088/proxy/application_1631977959277_0004/\n",
      "21/09/19 00:58:06 INFO mapreduce.Job: Running job: job_1631977959277_0004\n",
      "21/09/19 00:58:13 INFO mapreduce.Job: Job job_1631977959277_0004 running in uber mode : false\n",
      "21/09/19 00:58:13 INFO mapreduce.Job:  map 0% reduce 0%\n",
      "21/09/19 00:58:21 INFO mapreduce.Job:  map 50% reduce 0%\n",
      "21/09/19 00:58:22 INFO mapreduce.Job:  map 100% reduce 0%\n",
      "21/09/19 00:58:30 INFO mapreduce.Job:  map 100% reduce 25%\n",
      "21/09/19 00:58:33 INFO mapreduce.Job:  map 100% reduce 50%\n",
      "21/09/19 00:58:34 INFO mapreduce.Job:  map 100% reduce 75%\n",
      "21/09/19 00:58:35 INFO mapreduce.Job:  map 100% reduce 100%\n",
      "21/09/19 00:58:35 INFO mapreduce.Job: Job job_1631977959277_0004 completed successfully\n",
      "21/09/19 00:58:35 INFO mapreduce.Job: Counters: 50\n",
      "\tFile System Counters\n",
      "\t\tFILE: Number of bytes read=369049\n",
      "\t\tFILE: Number of bytes written=1641400\n",
      "\t\tFILE: Number of read operations=0\n",
      "\t\tFILE: Number of large read operations=0\n",
      "\t\tFILE: Number of write operations=0\n",
      "\t\tHDFS: Number of bytes read=167388\n",
      "\t\tHDFS: Number of bytes written=296339\n",
      "\t\tHDFS: Number of read operations=18\n",
      "\t\tHDFS: Number of large read operations=0\n",
      "\t\tHDFS: Number of write operations=8\n",
      "\tJob Counters \n",
      "\t\tKilled map tasks=1\n",
      "\t\tLaunched map tasks=2\n",
      "\t\tLaunched reduce tasks=4\n",
      "\t\tData-local map tasks=2\n",
      "\t\tTotal time spent by all maps in occupied slots (ms)=9877\n",
      "\t\tTotal time spent by all reduces in occupied slots (ms)=26333\n",
      "\t\tTotal time spent by all map tasks (ms)=9877\n",
      "\t\tTotal time spent by all reduce tasks (ms)=26333\n",
      "\t\tTotal vcore-milliseconds taken by all map tasks=9877\n",
      "\t\tTotal vcore-milliseconds taken by all reduce tasks=26333\n",
      "\t\tTotal megabyte-milliseconds taken by all map tasks=10114048\n",
      "\t\tTotal megabyte-milliseconds taken by all reduce tasks=26964992\n",
      "\tMap-Reduce Framework\n",
      "\t\tMap input records=80\n",
      "\t\tMap output records=25083\n",
      "\t\tMap output bytes=318859\n",
      "\t\tMap output materialized bytes=369073\n",
      "\t\tInput split bytes=226\n",
      "\t\tCombine input records=0\n",
      "\t\tCombine output records=0\n",
      "\t\tReduce input groups=10063\n",
      "\t\tReduce shuffle bytes=369073\n",
      "\t\tReduce input records=25083\n",
      "\t\tReduce output records=4559\n",
      "\t\tSpilled Records=50166\n",
      "\t\tShuffled Maps =8\n",
      "\t\tFailed Shuffles=0\n",
      "\t\tMerged Map outputs=8\n",
      "\t\tGC time elapsed (ms)=537\n",
      "\t\tCPU time spent (ms)=12060\n",
      "\t\tPhysical memory (bytes) snapshot=1618755584\n",
      "\t\tVirtual memory (bytes) snapshot=8292151296\n",
      "\t\tTotal committed heap usage (bytes)=1909456896\n",
      "\tShuffle Errors\n",
      "\t\tBAD_ID=0\n",
      "\t\tCONNECTION=0\n",
      "\t\tIO_ERROR=0\n",
      "\t\tWRONG_LENGTH=0\n",
      "\t\tWRONG_MAP=0\n",
      "\t\tWRONG_REDUCE=0\n",
      "\tFile Input Format Counters \n",
      "\t\tBytes Read=167162\n",
      "\tFile Output Format Counters \n",
      "\t\tBytes Written=296339\n",
      "21/09/19 00:58:35 INFO streaming.StreamJob: Output directory: /user/root/HW2//enron-model\n"
     ]
    }
   ],
   "source": [
    "# part b -  Unsmoothed model (FILL IN THE MISSING CODE BELOW)\n",
    "\n",
    "# clear the output directory\n",
    "!hdfs dfs -rm -r {HDFS_DIR}/enron-model\n",
    "\n",
    "# hadoop command\n",
    "!hadoop jar {JAR_FILE} \\\n",
    "  -D stream.num.map.output.key.fields=3 \\\n",
    "  -D stream.map.output.field.separator=\"\\t\" \\\n",
    "  -D mapreduce.job.output.key.comparator.class=org.apache.hadoop.mapred.lib.KeyFieldBasedComparator \\\n",
    "  -D mapreduce.partition.keycomparator.options=\"-k2,2\" \\\n",
    "  -D mapreduce.partition.keypartitioner.options=\"-k1,1\" \\\n",
    "  -files NaiveBayes/train_reducer.py,NaiveBayes/train_mapper.py \\\n",
    "  -mapper train_mapper.py \\\n",
    "  -reducer train_reducer.py \\\n",
    "  -input {HDFS_DIR}/enron_train.txt \\\n",
    "  -output {HDFS_DIR}/enron-model \\\n",
    "  -cmdenv PATH={PATH} \\\n",
    "  -numReduceTasks 4 \\\n",
    "  -partitioner org.apache.hadoop.mapred.lib.KeyFieldBasedPartitioner\n",
    "\n",
    "# save the model locally\n",
    "!mkdir NaiveBayes/Unsmoothed\n",
    "!hdfs dfs -cat {HDFS_DIR}/enron-model/part-000* > NaiveBayes/Unsmoothed/NBmodel.txt"
   ]
  },
  {
   "cell_type": "code",
   "execution_count": 70,
   "metadata": {},
   "outputs": [
    {
     "name": "stdout",
     "output_type": "stream",
     "text": [
      "assistance\t2.0, 4.0,                  0.0001725476662928134, 0.00029682398337785694\n"
     ]
    }
   ],
   "source": [
    "# part b - check your UNSMOOTHED model results (RUN THIS CELL AS IS)\n",
    "!grep assistance NaiveBayes/Unsmoothed/NBmodel.txt\n",
    "# EXPECTED OUTPUT: assistance\t2,4,0.000172547666293,0.000296823983378"
   ]
  },
  {
   "cell_type": "code",
   "execution_count": 71,
   "metadata": {},
   "outputs": [
    {
     "name": "stdout",
     "output_type": "stream",
     "text": [
      "money\t1.0, 22.0,                  8.62738331464067e-05, 0.001632531908578213\n"
     ]
    }
   ],
   "source": [
    "# part b - check your UNSMOOTHED model results (RUN THIS CELL AS IS)\n",
    "!grep money NaiveBayes/Unsmoothed/NBmodel.txt\n",
    "# EXPECTED OUTPUT: money\t1,22,8.62738331464e-05,0.00163253190858"
   ]
  },
  {
   "cell_type": "markdown",
   "metadata": {},
   "source": [
    "__Training__ (Enron MNB Model _with Laplace +1 smoothing_ )"
   ]
  },
  {
   "cell_type": "code",
   "execution_count": 81,
   "metadata": {},
   "outputs": [
    {
     "name": "stdout",
     "output_type": "stream",
     "text": [
      "Deleted /user/root/HW2/smooth-model-preprocess\n",
      "packageJobJar: [] [/usr/lib/hadoop-mapreduce/hadoop-streaming-2.6.0-cdh5.16.2.jar] /tmp/streamjob1120084469177153423.jar tmpDir=null\n",
      "21/09/19 01:08:03 INFO client.RMProxy: Connecting to ResourceManager at /0.0.0.0:8032\n",
      "21/09/19 01:08:04 INFO client.RMProxy: Connecting to ResourceManager at /0.0.0.0:8032\n",
      "21/09/19 01:08:04 INFO mapred.FileInputFormat: Total input paths to process : 1\n",
      "21/09/19 01:08:04 INFO mapreduce.JobSubmitter: number of splits:2\n",
      "21/09/19 01:08:04 INFO mapreduce.JobSubmitter: Submitting tokens for job: job_1631977959277_0013\n",
      "21/09/19 01:08:05 INFO impl.YarnClientImpl: Submitted application application_1631977959277_0013\n",
      "21/09/19 01:08:05 INFO mapreduce.Job: The url to track the job: http://docker.w261:8088/proxy/application_1631977959277_0013/\n",
      "21/09/19 01:08:05 INFO mapreduce.Job: Running job: job_1631977959277_0013\n",
      "21/09/19 01:08:11 INFO mapreduce.Job: Job job_1631977959277_0013 running in uber mode : false\n",
      "21/09/19 01:08:11 INFO mapreduce.Job:  map 0% reduce 0%\n",
      "21/09/19 01:08:17 INFO mapreduce.Job:  map 50% reduce 0%\n",
      "21/09/19 01:08:18 INFO mapreduce.Job:  map 100% reduce 0%\n",
      "21/09/19 01:08:26 INFO mapreduce.Job:  map 100% reduce 25%\n",
      "21/09/19 01:08:28 INFO mapreduce.Job:  map 100% reduce 50%\n",
      "21/09/19 01:08:29 INFO mapreduce.Job:  map 100% reduce 75%\n",
      "21/09/19 01:08:30 INFO mapreduce.Job:  map 100% reduce 100%\n",
      "21/09/19 01:08:30 INFO mapreduce.Job: Job job_1631977959277_0013 completed successfully\n",
      "21/09/19 01:08:30 INFO mapreduce.Job: Counters: 50\n",
      "\tFile System Counters\n",
      "\t\tFILE: Number of bytes read=369049\n",
      "\t\tFILE: Number of bytes written=1641682\n",
      "\t\tFILE: Number of read operations=0\n",
      "\t\tFILE: Number of large read operations=0\n",
      "\t\tFILE: Number of write operations=0\n",
      "\t\tHDFS: Number of bytes read=167388\n",
      "\t\tHDFS: Number of bytes written=296527\n",
      "\t\tHDFS: Number of read operations=18\n",
      "\t\tHDFS: Number of large read operations=0\n",
      "\t\tHDFS: Number of write operations=8\n",
      "\tJob Counters \n",
      "\t\tKilled reduce tasks=1\n",
      "\t\tLaunched map tasks=2\n",
      "\t\tLaunched reduce tasks=4\n",
      "\t\tData-local map tasks=2\n",
      "\t\tTotal time spent by all maps in occupied slots (ms)=8657\n",
      "\t\tTotal time spent by all reduces in occupied slots (ms)=26818\n",
      "\t\tTotal time spent by all map tasks (ms)=8657\n",
      "\t\tTotal time spent by all reduce tasks (ms)=26818\n",
      "\t\tTotal vcore-milliseconds taken by all map tasks=8657\n",
      "\t\tTotal vcore-milliseconds taken by all reduce tasks=26818\n",
      "\t\tTotal megabyte-milliseconds taken by all map tasks=8864768\n",
      "\t\tTotal megabyte-milliseconds taken by all reduce tasks=27461632\n",
      "\tMap-Reduce Framework\n",
      "\t\tMap input records=80\n",
      "\t\tMap output records=25083\n",
      "\t\tMap output bytes=318859\n",
      "\t\tMap output materialized bytes=369073\n",
      "\t\tInput split bytes=226\n",
      "\t\tCombine input records=0\n",
      "\t\tCombine output records=0\n",
      "\t\tReduce input groups=10063\n",
      "\t\tReduce shuffle bytes=369073\n",
      "\t\tReduce input records=25083\n",
      "\t\tReduce output records=4563\n",
      "\t\tSpilled Records=50166\n",
      "\t\tShuffled Maps =8\n",
      "\t\tFailed Shuffles=0\n",
      "\t\tMerged Map outputs=8\n",
      "\t\tGC time elapsed (ms)=519\n",
      "\t\tCPU time spent (ms)=11190\n",
      "\t\tPhysical memory (bytes) snapshot=1508425728\n",
      "\t\tVirtual memory (bytes) snapshot=8280674304\n",
      "\t\tTotal committed heap usage (bytes)=1909456896\n",
      "\tShuffle Errors\n",
      "\t\tBAD_ID=0\n",
      "\t\tCONNECTION=0\n",
      "\t\tIO_ERROR=0\n",
      "\t\tWRONG_LENGTH=0\n",
      "\t\tWRONG_MAP=0\n",
      "\t\tWRONG_REDUCE=0\n",
      "\tFile Input Format Counters \n",
      "\t\tBytes Read=167162\n",
      "\tFile Output Format Counters \n",
      "\t\tBytes Written=296527\n",
      "21/09/19 01:08:30 INFO streaming.StreamJob: Output directory: /user/root/HW2/smooth-model-preprocess\n",
      "mkdir: cannot create directory `NaiveBayes/Unsmoothed': File exists\n",
      "cat: `/user/root/HW2/smooth-model/part-000*': No such file or directory\n"
     ]
    }
   ],
   "source": [
    "# part b -  Smoothed model (FILL IN THE MISSING CODE BELOW)\n",
    "\n",
    "# clear the output directory\n",
    "!hdfs dfs -rm -r {HDFS_DIR}/smooth-model-preprocess\n",
    "\n",
    "# hadoop command\n",
    "!hadoop jar {JAR_FILE} \\\n",
    "  -D stream.num.map.output.key.fields=3 \\\n",
    "  -D stream.map.output.field.separator=\"\\t\" \\\n",
    "  -D mapreduce.job.output.key.comparator.class=org.apache.hadoop.mapred.lib.KeyFieldBasedComparator \\\n",
    "  -D mapreduce.partition.keycomparator.options=\"-k2,2\" \\\n",
    "  -D mapreduce.partition.keypartitioner.options=\"-k1,1\" \\\n",
    "  -files NaiveBayes/train_reducer_smooth.py,NaiveBayes/train_mapper.py \\\n",
    "  -mapper train_mapper.py \\\n",
    "  -reducer train_reducer_smooth.py \\\n",
    "  -input {HDFS_DIR}/enron_train.txt \\\n",
    "  -output {HDFS_DIR}/smooth-model-preprocess \\\n",
    "  -cmdenv PATH={PATH} \\\n",
    "  -numReduceTasks 4 \\\n",
    "  -partitioner org.apache.hadoop.mapred.lib.KeyFieldBasedPartitioner\n",
    "\n",
    "# save the model locally\n",
    "!mkdir NaiveBayes/Unsmoothed\n",
    "!hdfs dfs -cat {HDFS_DIR}/smooth-model/part-000* > NaiveBayes/Smoothed/NBmodel-preprocess.txt"
   ]
  },
  {
   "cell_type": "code",
   "execution_count": 79,
   "metadata": {},
   "outputs": [
    {
     "name": "stdout",
     "output_type": "stream",
     "text": [
      "Deleted /user/root/HW2/smooth-model\n",
      "packageJobJar: [] [/usr/lib/hadoop-mapreduce/hadoop-streaming-2.6.0-cdh5.16.2.jar] /tmp/streamjob999650093935238747.jar tmpDir=null\n",
      "21/09/22 05:56:05 INFO client.RMProxy: Connecting to ResourceManager at /0.0.0.0:8032\n",
      "21/09/22 05:56:05 INFO client.RMProxy: Connecting to ResourceManager at /0.0.0.0:8032\n",
      "21/09/22 05:56:06 INFO mapred.FileInputFormat: Total input paths to process : 4\n",
      "21/09/22 05:56:06 INFO mapreduce.JobSubmitter: number of splits:4\n",
      "21/09/22 05:56:06 INFO mapreduce.JobSubmitter: Submitting tokens for job: job_1632276588378_0011\n",
      "21/09/22 05:56:06 INFO impl.YarnClientImpl: Submitted application application_1632276588378_0011\n",
      "21/09/22 05:56:06 INFO mapreduce.Job: The url to track the job: http://docker.w261:8088/proxy/application_1632276588378_0011/\n",
      "21/09/22 05:56:06 INFO mapreduce.Job: Running job: job_1632276588378_0011\n",
      "21/09/22 05:56:13 INFO mapreduce.Job: Job job_1632276588378_0011 running in uber mode : false\n",
      "21/09/22 05:56:13 INFO mapreduce.Job:  map 0% reduce 0%\n",
      "21/09/22 05:56:20 INFO mapreduce.Job:  map 25% reduce 0%\n",
      "21/09/22 05:56:22 INFO mapreduce.Job:  map 50% reduce 0%\n",
      "21/09/22 05:56:23 INFO mapreduce.Job:  map 75% reduce 0%\n",
      "21/09/22 05:56:24 INFO mapreduce.Job:  map 100% reduce 0%\n",
      "21/09/22 05:56:27 INFO mapreduce.Job:  map 100% reduce 100%\n",
      "21/09/22 05:56:27 INFO mapreduce.Job: Job job_1632276588378_0011 completed successfully\n",
      "21/09/22 05:56:27 INFO mapreduce.Job: Counters: 50\n",
      "\tFile System Counters\n",
      "\t\tFILE: Number of bytes read=305659\n",
      "\t\tFILE: Number of bytes written=1357086\n",
      "\t\tFILE: Number of read operations=0\n",
      "\t\tFILE: Number of large read operations=0\n",
      "\t\tFILE: Number of write operations=0\n",
      "\t\tHDFS: Number of bytes read=297055\n",
      "\t\tHDFS: Number of bytes written=363501\n",
      "\t\tHDFS: Number of read operations=15\n",
      "\t\tHDFS: Number of large read operations=0\n",
      "\t\tHDFS: Number of write operations=2\n",
      "\tJob Counters \n",
      "\t\tKilled map tasks=1\n",
      "\t\tLaunched map tasks=4\n",
      "\t\tLaunched reduce tasks=1\n",
      "\t\tData-local map tasks=4\n",
      "\t\tTotal time spent by all maps in occupied slots (ms)=19599\n",
      "\t\tTotal time spent by all reduces in occupied slots (ms)=3103\n",
      "\t\tTotal time spent by all map tasks (ms)=19599\n",
      "\t\tTotal time spent by all reduce tasks (ms)=3103\n",
      "\t\tTotal vcore-milliseconds taken by all map tasks=19599\n",
      "\t\tTotal vcore-milliseconds taken by all reduce tasks=3103\n",
      "\t\tTotal megabyte-milliseconds taken by all map tasks=20069376\n",
      "\t\tTotal megabyte-milliseconds taken by all reduce tasks=3177472\n",
      "\tMap-Reduce Framework\n",
      "\t\tMap input records=4563\n",
      "\t\tMap output records=4563\n",
      "\t\tMap output bytes=296527\n",
      "\t\tMap output materialized bytes=305677\n",
      "\t\tInput split bytes=528\n",
      "\t\tCombine input records=0\n",
      "\t\tCombine output records=0\n",
      "\t\tReduce input groups=4557\n",
      "\t\tReduce shuffle bytes=305677\n",
      "\t\tReduce input records=4563\n",
      "\t\tReduce output records=4556\n",
      "\t\tSpilled Records=9126\n",
      "\t\tShuffled Maps =4\n",
      "\t\tFailed Shuffles=0\n",
      "\t\tMerged Map outputs=4\n",
      "\t\tGC time elapsed (ms)=168\n",
      "\t\tCPU time spent (ms)=5000\n",
      "\t\tPhysical memory (bytes) snapshot=1553809408\n",
      "\t\tVirtual memory (bytes) snapshot=6876471296\n",
      "\t\tTotal committed heap usage (bytes)=1525153792\n",
      "\tShuffle Errors\n",
      "\t\tBAD_ID=0\n",
      "\t\tCONNECTION=0\n",
      "\t\tIO_ERROR=0\n",
      "\t\tWRONG_LENGTH=0\n",
      "\t\tWRONG_MAP=0\n",
      "\t\tWRONG_REDUCE=0\n",
      "\tFile Input Format Counters \n",
      "\t\tBytes Read=296527\n",
      "\tFile Output Format Counters \n",
      "\t\tBytes Written=363501\n",
      "21/09/22 05:56:27 INFO streaming.StreamJob: Output directory: /user/root/HW2/smooth-model\n"
     ]
    }
   ],
   "source": [
    "# part b -  Smoothed model postprocessing\n",
    "\n",
    "# clear the output directory\n",
    "!hdfs dfs -rm -r {HDFS_DIR}/smooth-model\n",
    "\n",
    "# hadoop command\n",
    "!hadoop jar {JAR_FILE} \\\n",
    "  -files NaiveBayes/smoothNB_postProcess.py\\\n",
    "  -mapper /bin/cat \\\n",
    "  -reducer smoothNB_postProcess.py \\\n",
    "  -input {HDFS_DIR}/smooth-model-preprocess \\\n",
    "  -output {HDFS_DIR}/smooth-model \\\n",
    "  -cmdenv PATH={PATH} \\\n",
    "  -numReduceTasks 1 \\\n",
    "\n",
    "# save the model locally\n",
    "# !mkdir NaiveBayes/Smoothed\n",
    "!hdfs dfs -cat {HDFS_DIR}/smooth-model/part-000* > NaiveBayes/Smoothed/NBmodel.txt"
   ]
  },
  {
   "cell_type": "code",
   "execution_count": 84,
   "metadata": {},
   "outputs": [
    {
     "name": "stdout",
     "output_type": "stream",
     "text": [
      "assistance\t2.0, 4.0,                  0.0001858045336306206, 0.00027730020520215184\n"
     ]
    }
   ],
   "source": [
    "# part b - check your SMOOTHED model results (RUN THIS CELL AS IS)\n",
    "!grep assistance NaiveBayes/Smoothed/NBmodel.txt\n",
    "# EXPECTED OUTPUT: assistance\t2,4,0.000185804533631,0.000277300205202"
   ]
  },
  {
   "cell_type": "code",
   "execution_count": 85,
   "metadata": {},
   "outputs": [
    {
     "name": "stdout",
     "output_type": "stream",
     "text": [
      "money\t1.0, 22.0,                  0.0001238696890870804, 0.0012755809439298986\n"
     ]
    }
   ],
   "source": [
    "# part b - check your SMOOTHED model results (RUN THIS CELL AS IS)\n",
    "!grep money NaiveBayes/Smoothed/NBmodel.txt\n",
    "# EXPECTED OUTPUT: money\t1,22,0.000123869689087,0.00127558094393"
   ]
  },
  {
   "cell_type": "markdown",
   "metadata": {},
   "source": [
    "__Evaluation__"
   ]
  },
  {
   "cell_type": "code",
   "execution_count": 86,
   "metadata": {},
   "outputs": [],
   "source": [
    "# part c - write your code in NaiveBayes/evaluation_reducer.py then RUN THIS\n",
    "!chmod a+x NaiveBayes/evaluation_reducer.py"
   ]
  },
  {
   "cell_type": "code",
   "execution_count": 87,
   "metadata": {
    "collapsed": true,
    "jupyter": {
     "outputs_hidden": true
    }
   },
   "outputs": [
    {
     "name": "stdout",
     "output_type": "stream",
     "text": [
      "#!/usr/bin/env python\n",
      "\"\"\"\n",
      "Reducer to calculate precision and recall as part\n",
      "of the inference phase of Naive Bayes.\n",
      "INPUT:\n",
      "    ID \\t true_class \\t P(ham|doc) \\t P(spam|doc) \\t predicted_class\n",
      "OUTPUT:\n",
      "    precision \\t ##\n",
      "    recall \\t ##\n",
      "    accuracy \\t ##\n",
      "    F-score \\t ##\n",
      "         \n",
      "Instructions:\n",
      "    Complete the missing code to compute these^ four\n",
      "    evaluation measures for our classification task.\n",
      "    \n",
      "    Note: if you have no True Positives you will not \n",
      "    be able to compute the F1 score (and maybe not \n",
      "    precision/recall). Your code should handle this \n",
      "    case appropriately feel free to interpret the \n",
      "    \"output format\" above as a rough suggestion. It\n",
      "    may be helpful to also print the counts for true\n",
      "    positives, false positives, etc.\n",
      "\"\"\"\n",
      "import sys\n",
      "\n",
      "# initialize counters\n",
      "FP = 0.0 # false positives\n",
      "FN = 0.0 # false negatives\n",
      "TP = 0.0 # true positives\n",
      "TN = 0.0 # true negatives\n",
      "\n",
      "# read from STDIN\n",
      "for line in sys.stdin:\n",
      "    # parse input\n",
      "    docID, class_, pHam, pSpam, pred = line.split()\n",
      "    # emit classification results first\n",
      "    print(line[:-2], class_ == pred)\n",
      "    \n",
      "    # then compute evaluation stats\n",
      "#################### YOUR CODE HERE ###################\n",
      "\n",
      "    class_ = float(class_)\n",
      "    pred = float(pred)\n",
      "\n",
      "    # tally TP, TN, FP, FN\n",
      "    if (class_ == 1 and pred == 1):\n",
      "        TP += 1\n",
      "    if (class_ == 0 and pred == 0):\n",
      "        TN += 1\n",
      "    if (class_ == 0 and pred == 1):\n",
      "        FP += 1\n",
      "    if (class_ == 1 and pred == 0):\n",
      "        FN += 1\n",
      "\n",
      "\n",
      "# print class\n",
      "print(f\"True Positives\\t{TP}\")\n",
      "print(f\"True Negatives\\t{TN}\")\n",
      "print(f\"False Positives\\t{FP}\")\n",
      "print(f\"False Negatives\\t{FN}\")\n",
      "\n",
      "# handle divide by zero\n",
      "if (TP+FP) > 0:\n",
      "    precision = TP / (TP+FP)\n",
      "else:\n",
      "    precision = 'N/A'\n",
      "\n",
      "if (TP+FN) > 0:\n",
      "    recall = TP / (TP+FN)\n",
      "else:\n",
      "    recall = 'N/A'\n",
      "\n",
      "accuracy = (TP+TN) / (TP+TN+FP+FN)\n",
      "\n",
      "if TP > 0:\n",
      "    f_score = (2*precision*recall) / (precision + recall)\n",
      "else:\n",
      "    f_score = 'N/A'\n",
      "    \n",
      "# priint results\n",
      "print(f\"Precision\\t{precision}\")\n",
      "print(f\"Recall\\t{recall}\")\n",
      "print(f\"Accuracy\\t{accuracy}\")\n",
      "print(f\"F-score\\t{f_score}\")\n",
      "\n",
      "#################### (END) YOUR CODE ###################\n",
      "    "
     ]
    }
   ],
   "source": [
    "!cat NaiveBayes/evaluation_reducer.py"
   ]
  },
  {
   "cell_type": "code",
   "execution_count": 89,
   "metadata": {},
   "outputs": [
    {
     "name": "stdout",
     "output_type": "stream",
     "text": [
      "d5\t1\t-8.90668134500626\t-8.10769031284611\t1\n",
      "d6\t1\t-5.780743515794329\t-4.179502370564408\t1\n",
      "d7\t0\t-6.591673732011658\t-7.511706880737811\t0\n",
      "d8\t0\t-4.394449154674438\t-5.565796731681498\t0\n",
      "\n",
      "d5\t1\t-8.90668134500626\t-8.10769031284611\t True\n",
      "d6\t1\t-5.780743515794329\t-4.179502370564408\t True\n",
      "d7\t0\t-6.591673732011658\t-7.511706880737811\t True\n",
      "d8\t0\t-4.394449154674438\t-5.565796731681498\t True\n",
      "True Positives\t2.0\n",
      "True Negatives\t2.0\n",
      "False Positives\t0.0\n",
      "False Negatives\t0.0\n",
      "Precision\t1.0\n",
      "Recall\t1.0\n",
      "Accuracy\t1.0\n",
      "F-score\t1.0\n"
     ]
    }
   ],
   "source": [
    "# part c - unit test your evaluation job on the chinese model (RUN THIS CELL AS IS)\n",
    "!cat NaiveBayes/chineseTest.txt | NaiveBayes/classify_mapper.py \n",
    "print(\"\")\n",
    "!cat NaiveBayes/chineseTest.txt | NaiveBayes/classify_mapper.py | NaiveBayes/evaluation_reducer.py"
   ]
  },
  {
   "cell_type": "code",
   "execution_count": 94,
   "metadata": {},
   "outputs": [
    {
     "name": "stdout",
     "output_type": "stream",
     "text": [
      "rm: `/user/root/HW2/unsmoothed-evaluation': No such file or directory\n",
      "packageJobJar: [] [/usr/lib/hadoop-mapreduce/hadoop-streaming-2.6.0-cdh5.16.2.jar] /tmp/streamjob7819299292078338768.jar tmpDir=null\n",
      "21/09/19 01:34:52 INFO client.RMProxy: Connecting to ResourceManager at /0.0.0.0:8032\n",
      "21/09/19 01:34:52 INFO client.RMProxy: Connecting to ResourceManager at /0.0.0.0:8032\n",
      "21/09/19 01:34:53 INFO mapred.FileInputFormat: Total input paths to process : 1\n",
      "21/09/19 01:34:53 INFO mapreduce.JobSubmitter: number of splits:2\n",
      "21/09/19 01:34:53 INFO mapreduce.JobSubmitter: Submitting tokens for job: job_1631977959277_0018\n",
      "21/09/19 01:34:53 INFO impl.YarnClientImpl: Submitted application application_1631977959277_0018\n",
      "21/09/19 01:34:53 INFO mapreduce.Job: The url to track the job: http://docker.w261:8088/proxy/application_1631977959277_0018/\n",
      "21/09/19 01:34:53 INFO mapreduce.Job: Running job: job_1631977959277_0018\n",
      "21/09/19 01:35:00 INFO mapreduce.Job: Job job_1631977959277_0018 running in uber mode : false\n",
      "21/09/19 01:35:00 INFO mapreduce.Job:  map 0% reduce 0%\n",
      "21/09/19 01:35:06 INFO mapreduce.Job:  map 50% reduce 0%\n",
      "21/09/19 01:35:07 INFO mapreduce.Job:  map 100% reduce 0%\n",
      "21/09/19 01:35:12 INFO mapreduce.Job:  map 100% reduce 100%\n",
      "21/09/19 01:35:12 INFO mapreduce.Job: Job job_1631977959277_0018 completed successfully\n",
      "21/09/19 01:35:12 INFO mapreduce.Job: Counters: 49\n",
      "\tFile System Counters\n",
      "\t\tFILE: Number of bytes read=818\n",
      "\t\tFILE: Number of bytes written=451086\n",
      "\t\tFILE: Number of read operations=0\n",
      "\t\tFILE: Number of large read operations=0\n",
      "\t\tFILE: Number of write operations=0\n",
      "\t\tHDFS: Number of bytes read=49909\n",
      "\t\tHDFS: Number of bytes written=1023\n",
      "\t\tHDFS: Number of read operations=9\n",
      "\t\tHDFS: Number of large read operations=0\n",
      "\t\tHDFS: Number of write operations=2\n",
      "\tJob Counters \n",
      "\t\tLaunched map tasks=2\n",
      "\t\tLaunched reduce tasks=1\n",
      "\t\tData-local map tasks=2\n",
      "\t\tTotal time spent by all maps in occupied slots (ms)=8035\n",
      "\t\tTotal time spent by all reduces in occupied slots (ms)=2967\n",
      "\t\tTotal time spent by all map tasks (ms)=8035\n",
      "\t\tTotal time spent by all reduce tasks (ms)=2967\n",
      "\t\tTotal vcore-milliseconds taken by all map tasks=8035\n",
      "\t\tTotal vcore-milliseconds taken by all reduce tasks=2967\n",
      "\t\tTotal megabyte-milliseconds taken by all map tasks=8227840\n",
      "\t\tTotal megabyte-milliseconds taken by all reduce tasks=3038208\n",
      "\tMap-Reduce Framework\n",
      "\t\tMap input records=20\n",
      "\t\tMap output records=20\n",
      "\t\tMap output bytes=772\n",
      "\t\tMap output materialized bytes=824\n",
      "\t\tInput split bytes=224\n",
      "\t\tCombine input records=0\n",
      "\t\tCombine output records=0\n",
      "\t\tReduce input groups=20\n",
      "\t\tReduce shuffle bytes=824\n",
      "\t\tReduce input records=20\n",
      "\t\tReduce output records=28\n",
      "\t\tSpilled Records=40\n",
      "\t\tShuffled Maps =2\n",
      "\t\tFailed Shuffles=0\n",
      "\t\tMerged Map outputs=2\n",
      "\t\tGC time elapsed (ms)=91\n",
      "\t\tCPU time spent (ms)=2510\n",
      "\t\tPhysical memory (bytes) snapshot=903380992\n",
      "\t\tVirtual memory (bytes) snapshot=4127272960\n",
      "\t\tTotal committed heap usage (bytes)=954728448\n",
      "\tShuffle Errors\n",
      "\t\tBAD_ID=0\n",
      "\t\tCONNECTION=0\n",
      "\t\tIO_ERROR=0\n",
      "\t\tWRONG_LENGTH=0\n",
      "\t\tWRONG_MAP=0\n",
      "\t\tWRONG_REDUCE=0\n",
      "\tFile Input Format Counters \n",
      "\t\tBytes Read=49685\n",
      "\tFile Output Format Counters \n",
      "\t\tBytes Written=1023\n",
      "21/09/19 01:35:12 INFO streaming.StreamJob: Output directory: /user/root/HW2/unsmoothed-evaluation\n"
     ]
    }
   ],
   "source": [
    "# part c - Evaluate the UNSMOOTHED Model Here (FILL IN THE MISSING CODE)\n",
    "\n",
    "# clear output directory\n",
    "!hdfs dfs -rm -r {HDFS_DIR}/unsmoothed-evaluation\n",
    "# hadoop job\n",
    "!hadoop jar {JAR_FILE} \\\n",
    "  -files NaiveBayes/evaluation_reducer.py,NaiveBayes/classify_mapper.py,NaiveBayes/Unsmoothed/NBmodel.txt \\\n",
    "  -mapper classify_mapper.py \\\n",
    "  -reducer evaluation_reducer.py \\\n",
    "  -input {HDFS_DIR}/enron_test.txt \\\n",
    "  -output {HDFS_DIR}/unsmoothed-evaluation \\\n",
    "  -cmdenv PATH={PATH} \\\n",
    "  -numReduceTasks 1 \\\n",
    "\n",
    "# retrieve results locally\n",
    "!hdfs dfs -cat {HDFS_DIR}/unsmoothed-evaluation/part-000* > NaiveBayes/Unsmoothed/results.txt"
   ]
  },
  {
   "cell_type": "code",
   "execution_count": 95,
   "metadata": {},
   "outputs": [
    {
     "name": "stdout",
     "output_type": "stream",
     "text": [
      "Deleted /user/root/HW2/smoothed-evaluation\n",
      "packageJobJar: [] [/usr/lib/hadoop-mapreduce/hadoop-streaming-2.6.0-cdh5.16.2.jar] /tmp/streamjob429253816486911156.jar tmpDir=null\n",
      "21/09/19 01:35:24 INFO client.RMProxy: Connecting to ResourceManager at /0.0.0.0:8032\n",
      "21/09/19 01:35:24 INFO client.RMProxy: Connecting to ResourceManager at /0.0.0.0:8032\n",
      "21/09/19 01:35:24 INFO mapred.FileInputFormat: Total input paths to process : 1\n",
      "21/09/19 01:35:24 INFO mapreduce.JobSubmitter: number of splits:2\n",
      "21/09/19 01:35:25 INFO mapreduce.JobSubmitter: Submitting tokens for job: job_1631977959277_0019\n",
      "21/09/19 01:35:25 INFO impl.YarnClientImpl: Submitted application application_1631977959277_0019\n",
      "21/09/19 01:35:25 INFO mapreduce.Job: The url to track the job: http://docker.w261:8088/proxy/application_1631977959277_0019/\n",
      "21/09/19 01:35:25 INFO mapreduce.Job: Running job: job_1631977959277_0019\n",
      "21/09/19 01:35:31 INFO mapreduce.Job: Job job_1631977959277_0019 running in uber mode : false\n",
      "21/09/19 01:35:31 INFO mapreduce.Job:  map 0% reduce 0%\n",
      "21/09/19 01:35:38 INFO mapreduce.Job:  map 50% reduce 0%\n",
      "21/09/19 01:35:39 INFO mapreduce.Job:  map 100% reduce 0%\n",
      "21/09/19 01:35:44 INFO mapreduce.Job:  map 100% reduce 100%\n",
      "21/09/19 01:35:44 INFO mapreduce.Job: Job job_1631977959277_0019 completed successfully\n",
      "21/09/19 01:35:44 INFO mapreduce.Job: Counters: 49\n",
      "\tFile System Counters\n",
      "\t\tFILE: Number of bytes read=1345\n",
      "\t\tFILE: Number of bytes written=452125\n",
      "\t\tFILE: Number of read operations=0\n",
      "\t\tFILE: Number of large read operations=0\n",
      "\t\tFILE: Number of write operations=0\n",
      "\t\tHDFS: Number of bytes read=49909\n",
      "\t\tHDFS: Number of bytes written=1528\n",
      "\t\tHDFS: Number of read operations=9\n",
      "\t\tHDFS: Number of large read operations=0\n",
      "\t\tHDFS: Number of write operations=2\n",
      "\tJob Counters \n",
      "\t\tLaunched map tasks=2\n",
      "\t\tLaunched reduce tasks=1\n",
      "\t\tData-local map tasks=2\n",
      "\t\tTotal time spent by all maps in occupied slots (ms)=7973\n",
      "\t\tTotal time spent by all reduces in occupied slots (ms)=3133\n",
      "\t\tTotal time spent by all map tasks (ms)=7973\n",
      "\t\tTotal time spent by all reduce tasks (ms)=3133\n",
      "\t\tTotal vcore-milliseconds taken by all map tasks=7973\n",
      "\t\tTotal vcore-milliseconds taken by all reduce tasks=3133\n",
      "\t\tTotal megabyte-milliseconds taken by all map tasks=8164352\n",
      "\t\tTotal megabyte-milliseconds taken by all reduce tasks=3208192\n",
      "\tMap-Reduce Framework\n",
      "\t\tMap input records=20\n",
      "\t\tMap output records=20\n",
      "\t\tMap output bytes=1299\n",
      "\t\tMap output materialized bytes=1351\n",
      "\t\tInput split bytes=224\n",
      "\t\tCombine input records=0\n",
      "\t\tCombine output records=0\n",
      "\t\tReduce input groups=20\n",
      "\t\tReduce shuffle bytes=1351\n",
      "\t\tReduce input records=20\n",
      "\t\tReduce output records=28\n",
      "\t\tSpilled Records=40\n",
      "\t\tShuffled Maps =2\n",
      "\t\tFailed Shuffles=0\n",
      "\t\tMerged Map outputs=2\n",
      "\t\tGC time elapsed (ms)=126\n",
      "\t\tCPU time spent (ms)=2350\n",
      "\t\tPhysical memory (bytes) snapshot=858841088\n",
      "\t\tVirtual memory (bytes) snapshot=4137435136\n",
      "\t\tTotal committed heap usage (bytes)=888668160\n",
      "\tShuffle Errors\n",
      "\t\tBAD_ID=0\n",
      "\t\tCONNECTION=0\n",
      "\t\tIO_ERROR=0\n",
      "\t\tWRONG_LENGTH=0\n",
      "\t\tWRONG_MAP=0\n",
      "\t\tWRONG_REDUCE=0\n",
      "\tFile Input Format Counters \n",
      "\t\tBytes Read=49685\n",
      "\tFile Output Format Counters \n",
      "\t\tBytes Written=1528\n",
      "21/09/19 01:35:44 INFO streaming.StreamJob: Output directory: /user/root/HW2/smoothed-evaluation\n"
     ]
    }
   ],
   "source": [
    "# part c - Evaluate the SMOOTHED Model Here (FILL IN THE MISSING CODE)\n",
    "\n",
    "# clear output directory\n",
    "!hdfs dfs -rm -r {HDFS_DIR}/smoothed-evaluation\n",
    "# hadoop job\n",
    "!hadoop jar {JAR_FILE} \\\n",
    "  -files NaiveBayes/evaluation_reducer.py,NaiveBayes/classify_mapper.py,NaiveBayes/Smoothed/NBmodel.txt \\\n",
    "  -mapper classify_mapper.py \\\n",
    "  -reducer evaluation_reducer.py \\\n",
    "  -input {HDFS_DIR}/enron_test.txt \\\n",
    "  -output {HDFS_DIR}/smoothed-evaluation \\\n",
    "  -cmdenv PATH={PATH} \\\n",
    "  -numReduceTasks 1 \\\n",
    "\n",
    "# retrieve results locally\n",
    "!hdfs dfs -cat {HDFS_DIR}/smoothed-evaluation/part-000* > NaiveBayes/Smoothed/results.txt"
   ]
  },
  {
   "cell_type": "code",
   "execution_count": 96,
   "metadata": {},
   "outputs": [
    {
     "name": "stdout",
     "output_type": "stream",
     "text": [
      "=========== UNSMOOTHED MODEL ============\n",
      "0018.2003-12-18.gp\t1\t-inf\t-inf\t False\n",
      "True Positives\t1.0\n",
      "True Negatives\t9.0\n",
      "False Positives\t0.0\n",
      "False Negatives\t10.0\n",
      "Precision\t1.0\n",
      "Recall\t0.09090909090909091\n",
      "Accuracy\t0.5\n",
      "F-score\t0.16666666666666669\n",
      "=========== SMOOTHED MODEL ============\n",
      "0018.2003-12-18.gp\t1\t-2754.1808545502745\t-2687.628142401689\t True\n",
      "True Positives\t11.0\n",
      "True Negatives\t6.0\n",
      "False Positives\t3.0\n",
      "False Negatives\t0.0\n",
      "Precision\t0.7857142857142857\n",
      "Recall\t1.0\n",
      "Accuracy\t0.85\n",
      "F-score\t0.88\n"
     ]
    }
   ],
   "source": [
    "# part c - display results \n",
    "# NOTE: feel free to modify the tail commands to match the format of your results file\n",
    "print('=========== UNSMOOTHED MODEL ============')\n",
    "!tail -n 9 NaiveBayes/Unsmoothed/results.txt\n",
    "print('=========== SMOOTHED MODEL ============')\n",
    "!tail -n 9 NaiveBayes/Smoothed/results.txt"
   ]
  },
  {
   "cell_type": "markdown",
   "metadata": {},
   "source": [
    "__`EXPECTED RESULTS:`__ \n",
    "<table>\n",
    "<th>Unsmoothed Model</th>\n",
    "<th>Smoothed Model</th>\n",
    "<tr>\n",
    "<td><pre>\n",
    "# Documents:\t20\n",
    "True Positives:\t1\n",
    "True Negatives:\t9\n",
    "False Positives:\t0\n",
    "False Negatives:\t10\n",
    "Accuracy\t0.5\n",
    "Precision\t1.0\n",
    "Recall\t0.0909\n",
    "F-Score\t0.1666\n",
    "</pre></td>\n",
    "<td><pre>\n",
    "# Documents:\t20\n",
    "True Positives:\t11\n",
    "True Negatives:\t6\n",
    "False Positives:\t3\n",
    "False Negatives:\t0\n",
    "Accuracy\t0.85\n",
    "Precision\t0.7857\n",
    "Recall\t1.0\n",
    "F-Score\t0.88\n",
    "</pre></td>\n",
    "</tr>\n",
    "</table>\n",
    "\n",
    "__`NOTE:`__ _Don't be too disappointed if these seem low to you. We've trained and tested on a very very small corpus... bigger datasets coming soon!_"
   ]
  },
  {
   "cell_type": "markdown",
   "metadata": {},
   "source": [
    "# Question 10: Custom Partitioning and Secondary Sort\n",
    "\n",
    "Now that we have our model, we can analyse the results and think about future improvements.\n",
    "\n",
    "### Q10 Tasks:\n",
    "\n",
    "* __a) code + short response:__ Let's look at the top ten words with the highest conditional probability in `Spam` and in `Ham`. We'll do this by writing a Hadoop job that sorts the model file (`NaiveBayes/Smoothed/NBmodel.py`). Normally we'd have to run two jobs -- one that sorts on $P(word|ham)$ and another that sorts on $P(word|spam)$. However if we slighly modify the data format in the model file then we can get the top words in each class with just one job. We've written a mapper that will do just this for you. Read through __`NaiveBayes/model_sort_mapper.py`__ and then briefly explain how this mapper will allow us to partition and sort our model file. Write a Hadoop job that uses our mapper and `/bin/cat` for a reducer to partition and sort. Print out the top 10 words in each class (where 'top' == highest conditional probability).[`HINT:` _this should remind you a lot of what we did in Question 6._]\n",
    "\n",
    "\n",
    "* __b) short response:__ What do you notice about the 'top words' we printed in `a`? How would increasing the smoothing parameter 'k' affect the probabilities for the top words that you identified for 'a'. How would they affect the probabilities of words that occur much more in one class than another? In summary, how does the smoothing parameter 'k' affect the bias and the variance of our model. [`NOTE:` _you do not need to code anything for this task, but if you are struggling with it you could try changing 'k' and see what happens to the test set. We don't recommend doing this exploration with the Enron data because it will be harder to see the impact with such a big vocabulary_]"
   ]
  },
  {
   "cell_type": "markdown",
   "metadata": {},
   "source": [
    "### Q10 Student Answers:\n",
    "> __a)__ The mapper receives as input the key-value pair of:  \n",
    "key - word  \n",
    "value - count ham, count spam, conditional probability ham, conditional probability spam  \n",
    "It then pulls out the class and conditional probability for ham and spam separately.  Finally, it emits the record with the class and the corresponding conditional probability.   \n",
    "\n",
    "> __b)__ Higher values of the smoothing parameter 'k' will reduce the variance of the model but increase its bias."
   ]
  },
  {
   "cell_type": "code",
   "execution_count": 126,
   "metadata": {},
   "outputs": [],
   "source": [
    "!chmod a+x NaiveBayes/model_sort_mapper.py\n",
    "!cat NBmodel.txt | NaiveBayes/model_sort_mapper.py | column -t > NaiveBayes/NBmodel_sort_mapper.txt"
   ]
  },
  {
   "cell_type": "code",
   "execution_count": 128,
   "metadata": {},
   "outputs": [
    {
     "name": "stdout",
     "output_type": "stream",
     "text": [
      "beijing   0.0,1.0,0.111111111111,0.142857142857   ham   0.111111111111\n",
      "beijing   0.0,1.0,0.111111111111,0.142857142857   spam  0.142857142857\n",
      "chinese   1.0,5.0,0.222222222222,0.428571428571   ham   0.222222222222\n",
      "chinese   1.0,5.0,0.222222222222,0.428571428571   spam  0.428571428571\n",
      "tokyo     1.0,0.0,0.222222222222,0.0714285714286  ham   0.222222222222\n",
      "tokyo     1.0,0.0,0.222222222222,0.0714285714286  spam  0.0714285714286\n",
      "shanghai  0.0,1.0,0.111111111111,0.142857142857   ham   0.111111111111\n",
      "shanghai  0.0,1.0,0.111111111111,0.142857142857   spam  0.142857142857\n",
      "japan     1.0,0.0,0.222222222222,0.0714285714286  ham   0.222222222222\n",
      "japan     1.0,0.0,0.222222222222,0.0714285714286  spam  0.0714285714286\n",
      "macao     0.0,1.0,0.111111111111,0.142857142857   ham   0.111111111111\n",
      "macao     0.0,1.0,0.111111111111,0.142857142857   spam  0.142857142857\n"
     ]
    }
   ],
   "source": [
    "!cat NaiveBayes/NBmodel_sort_mapper.txt"
   ]
  },
  {
   "cell_type": "code",
   "execution_count": 187,
   "metadata": {},
   "outputs": [
    {
     "name": "stdout",
     "output_type": "stream",
     "text": [
      "beijing   0.0,1.0,0.111111111111,0.142857142857   ham   0.111111111111\n",
      "macao     0.0,1.0,0.111111111111,0.142857142857   ham   0.111111111111\n",
      "shanghai  0.0,1.0,0.111111111111,0.142857142857   ham   0.111111111111\n",
      "chinese   1.0,5.0,0.222222222222,0.428571428571   ham   0.222222222222\n",
      "japan     1.0,0.0,0.222222222222,0.0714285714286  ham   0.222222222222\n",
      "tokyo     1.0,0.0,0.222222222222,0.0714285714286  ham   0.222222222222\n",
      "japan     1.0,0.0,0.222222222222,0.0714285714286  spam  0.0714285714286\n",
      "tokyo     1.0,0.0,0.222222222222,0.0714285714286  spam  0.0714285714286\n",
      "beijing   0.0,1.0,0.111111111111,0.142857142857   spam  0.142857142857\n",
      "macao     0.0,1.0,0.111111111111,0.142857142857   spam  0.142857142857\n",
      "shanghai  0.0,1.0,0.111111111111,0.142857142857   spam  0.142857142857\n",
      "chinese   1.0,5.0,0.222222222222,0.428571428571   spam  0.428571428571\n"
     ]
    }
   ],
   "source": [
    "!sort -k4,4 NaiveBayes/NBmodel_sort_mapper.txt "
   ]
  },
  {
   "cell_type": "code",
   "execution_count": 124,
   "metadata": {},
   "outputs": [
    {
     "name": "stdout",
     "output_type": "stream",
     "text": [
      "beijing      0.0,1.0,0.111111111111,0.142857142857\n",
      "macao        0.0,1.0,0.111111111111,0.142857142857\n",
      "shanghai     0.0,1.0,0.111111111111,0.142857142857\n",
      "chinese      1.0,5.0,0.222222222222,0.428571428571\n",
      "japan        1.0,0.0,0.222222222222,0.0714285714286\n",
      "tokyo        1.0,0.0,0.222222222222,0.0714285714286\n",
      "ClassPriors  1.0,3.0,0.25,0.75\n"
     ]
    }
   ],
   "source": [
    "!sort -t, -k3n,3 -k1,1 NBmodel.txt | column -t"
   ]
  },
  {
   "cell_type": "code",
   "execution_count": 171,
   "metadata": {},
   "outputs": [
    {
     "name": "stdout",
     "output_type": "stream",
     "text": [
      "ClassPriors  47.0,33.0,  0.5875,0.4125\n",
      "a            168.0,      274.0,         0.010466988727858293,    0.015251511286118352\n",
      "ab           4.0,        0.0,           0.00030967422271770096,  5.546004104043037e-05\n",
      "able         3.0,        8.0,           0.0002477393781741608,   0.0004991403693638733\n",
      "abn          0.0,        1.0,           6.19348445435402e-05,    0.00011092008208086075\n",
      "about        8.0,        36.0,          0.0005574136008918618,   0.0020520215184959235\n",
      "above        2.0,        5.0,           0.0001858045336306206,   0.00033276024624258224\n",
      "absent       1.0,        0.0,           0.0001238696890870804,   5.546004104043037e-05\n",
      "absenteeism  0.0,        1.0,           6.19348445435402e-05,    0.00011092008208086075\n",
      "absolute     0.0,        1.0,           6.19348445435402e-05,    0.00011092008208086075\n",
      "cat: Unable to write to output stream.\n"
     ]
    }
   ],
   "source": [
    "!hdfs dfs -cat {HDFS_DIR}/smooth-model/part-00000 | head | column -t"
   ]
  },
  {
   "cell_type": "code",
   "execution_count": 181,
   "metadata": {},
   "outputs": [],
   "source": [
    "!hdfs dfs -copyFromLocal {HOME_DIR}/NBmodel.txt {HDFS_DIR}/NBmodel.txt"
   ]
  },
  {
   "cell_type": "code",
   "execution_count": 10,
   "metadata": {},
   "outputs": [
    {
     "name": "stdout",
     "output_type": "stream",
     "text": [
      "rm: `/user/root/HW2/smoothed-sort': No such file or directory\n",
      "packageJobJar: [] [/usr/lib/hadoop-mapreduce/hadoop-streaming-2.6.0-cdh5.16.2.jar] /tmp/streamjob6217861309351116323.jar tmpDir=null\n",
      "21/09/22 06:58:55 INFO client.RMProxy: Connecting to ResourceManager at /0.0.0.0:8032\n",
      "21/09/22 06:58:55 INFO client.RMProxy: Connecting to ResourceManager at /0.0.0.0:8032\n",
      "21/09/22 06:58:56 INFO mapred.FileInputFormat: Total input paths to process : 1\n",
      "21/09/22 06:58:56 INFO mapreduce.JobSubmitter: number of splits:2\n",
      "21/09/22 06:58:56 INFO mapreduce.JobSubmitter: Submitting tokens for job: job_1632276588378_0034\n",
      "21/09/22 06:58:56 INFO impl.YarnClientImpl: Submitted application application_1632276588378_0034\n",
      "21/09/22 06:58:56 INFO mapreduce.Job: The url to track the job: http://docker.w261:8088/proxy/application_1632276588378_0034/\n",
      "21/09/22 06:58:56 INFO mapreduce.Job: Running job: job_1632276588378_0034\n",
      "21/09/22 06:59:04 INFO mapreduce.Job: Job job_1632276588378_0034 running in uber mode : false\n",
      "21/09/22 06:59:04 INFO mapreduce.Job:  map 0% reduce 0%\n",
      "21/09/22 06:59:10 INFO mapreduce.Job:  map 50% reduce 0%\n",
      "21/09/22 06:59:11 INFO mapreduce.Job:  map 100% reduce 0%\n",
      "21/09/22 06:59:16 INFO mapreduce.Job:  map 100% reduce 50%\n",
      "21/09/22 06:59:17 INFO mapreduce.Job:  map 100% reduce 100%\n",
      "21/09/22 06:59:17 INFO mapreduce.Job: Job job_1632276588378_0034 completed successfully\n",
      "21/09/22 06:59:17 INFO mapreduce.Job: Counters: 49\n",
      "\tFile System Counters\n",
      "\t\tFILE: Number of bytes read=830\n",
      "\t\tFILE: Number of bytes written=602594\n",
      "\t\tFILE: Number of read operations=0\n",
      "\t\tFILE: Number of large read operations=0\n",
      "\t\tFILE: Number of write operations=0\n",
      "\t\tHDFS: Number of bytes read=673\n",
      "\t\tHDFS: Number of bytes written=794\n",
      "\t\tHDFS: Number of read operations=12\n",
      "\t\tHDFS: Number of large read operations=0\n",
      "\t\tHDFS: Number of write operations=4\n",
      "\tJob Counters \n",
      "\t\tLaunched map tasks=2\n",
      "\t\tLaunched reduce tasks=2\n",
      "\t\tData-local map tasks=2\n",
      "\t\tTotal time spent by all maps in occupied slots (ms)=6678\n",
      "\t\tTotal time spent by all reduces in occupied slots (ms)=7157\n",
      "\t\tTotal time spent by all map tasks (ms)=6678\n",
      "\t\tTotal time spent by all reduce tasks (ms)=7157\n",
      "\t\tTotal vcore-milliseconds taken by all map tasks=6678\n",
      "\t\tTotal vcore-milliseconds taken by all reduce tasks=7157\n",
      "\t\tTotal megabyte-milliseconds taken by all map tasks=6838272\n",
      "\t\tTotal megabyte-milliseconds taken by all reduce tasks=7328768\n",
      "\tMap-Reduce Framework\n",
      "\t\tMap input records=7\n",
      "\t\tMap output records=12\n",
      "\t\tMap output bytes=794\n",
      "\t\tMap output materialized bytes=842\n",
      "\t\tInput split bytes=218\n",
      "\t\tCombine input records=0\n",
      "\t\tCombine output records=0\n",
      "\t\tReduce input groups=12\n",
      "\t\tReduce shuffle bytes=842\n",
      "\t\tReduce input records=12\n",
      "\t\tReduce output records=12\n",
      "\t\tSpilled Records=24\n",
      "\t\tShuffled Maps =4\n",
      "\t\tFailed Shuffles=0\n",
      "\t\tMerged Map outputs=4\n",
      "\t\tGC time elapsed (ms)=185\n",
      "\t\tCPU time spent (ms)=3300\n",
      "\t\tPhysical memory (bytes) snapshot=1022095360\n",
      "\t\tVirtual memory (bytes) snapshot=5553106944\n",
      "\t\tTotal committed heap usage (bytes)=1140850688\n",
      "\tShuffle Errors\n",
      "\t\tBAD_ID=0\n",
      "\t\tCONNECTION=0\n",
      "\t\tIO_ERROR=0\n",
      "\t\tWRONG_LENGTH=0\n",
      "\t\tWRONG_MAP=0\n",
      "\t\tWRONG_REDUCE=0\n",
      "\tFile Input Format Counters \n",
      "\t\tBytes Read=455\n",
      "\tFile Output Format Counters \n",
      "\t\tBytes Written=794\n",
      "21/09/22 06:59:17 INFO streaming.StreamJob: Output directory: /user/root/HW2/smoothed-sort\n"
     ]
    }
   ],
   "source": [
    "# part a - write your Hadoop job here (sort smoothed model on P(word|class))\n",
    "\n",
    "# clear output directory\n",
    "!hdfs dfs -rm -r {HDFS_DIR}/smoothed-sort\n",
    "# hadoop \n",
    "!hadoop jar {JAR_FILE} \\\n",
    "  -D stream.num.map.output.key.fields=4 \\\n",
    "  -D stream.map.output.field.separator=\"\\t\" \\\n",
    "  -D mapreduce.job.output.key.comparator.class=org.apache.hadoop.mapred.lib.KeyFieldBasedComparator \\\n",
    "  -D mapreduce.partition.keycomparator.options=\"-k4,4nr\" \\\n",
    "  -D mapreduce.partition.keypartitioner.options=\"-k3,3\" \\\n",
    "  -files NaiveBayes/model_sort_mapper.py \\\n",
    "  -mapper model_sort_mapper.py \\\n",
    "  -reducer /bin/cat \\\n",
    "  -input {HDFS_DIR}/NBmodel.txt \\\n",
    "  -output {HDFS_DIR}/smoothed-sort \\\n",
    "  -cmdenv PATH={PATH} \\\n",
    "  -numReduceTasks 2 \\\n",
    "  -partitioner org.apache.hadoop.mapred.lib.KeyFieldBasedPartitioner\n",
    "\n"
   ]
  },
  {
   "cell_type": "code",
   "execution_count": 11,
   "metadata": {},
   "outputs": [],
   "source": [
    "# retrieve results locally\n",
    "!hdfs dfs -cat {HDFS_DIR}/smoothed-sort/part-000* > NaiveBayes/Smoothed/smoothed_sort.txt"
   ]
  },
  {
   "cell_type": "code",
   "execution_count": 12,
   "metadata": {},
   "outputs": [
    {
     "name": "stdout",
     "output_type": "stream",
     "text": [
      "========== PARTITION1 ==========\n",
      "japan\t1.0,0.0,0.222222222222,0.0714285714286\tham\t0.222222222222\t\n",
      "tokyo\t1.0,0.0,0.222222222222,0.0714285714286\tham\t0.222222222222\t\n",
      "chinese\t1.0,5.0,0.222222222222,0.428571428571\tham\t0.222222222222\t\n",
      "shanghai\t0.0,1.0,0.111111111111,0.142857142857\tham\t0.111111111111\t\n",
      "beijing\t0.0,1.0,0.111111111111,0.142857142857\tham\t0.111111111111\t\n",
      "macao\t0.0,1.0,0.111111111111,0.142857142857\tham\t0.111111111111\t\n",
      "========== PARTITION2 ==========\n",
      "chinese\t1.0,5.0,0.222222222222,0.428571428571\tspam\t0.428571428571\t\n",
      "shanghai\t0.0,1.0,0.111111111111,0.142857142857\tspam\t0.142857142857\t\n",
      "beijing\t0.0,1.0,0.111111111111,0.142857142857\tspam\t0.142857142857\t\n",
      "macao\t0.0,1.0,0.111111111111,0.142857142857\tspam\t0.142857142857\t\n",
      "japan\t1.0,0.0,0.222222222222,0.0714285714286\tspam\t0.0714285714286\t\n",
      "tokyo\t1.0,0.0,0.222222222222,0.0714285714286\tspam\t0.0714285714286\t\n"
     ]
    }
   ],
   "source": [
    "# part b - print top words in each class\n",
    "for p in range(2):\n",
    "    print('='*10,f'PARTITION{p+1}','='*10)\n",
    "    !hdfs dfs -cat {HDFS_DIR}/smoothed-sort/part-0000{p} | head -n 10"
   ]
  },
  {
   "cell_type": "raw",
   "metadata": {},
   "source": [
    "Expected results:\n",
    "============== PART-00000===============\n",
    "abn\t0,1,6.19348445435402e-05,0.00011092008208086075\tham\t6.19348445435402e-05\t\n",
    "absenteeism\t0,1,6.19348445435402e-05,0.00011092008208086075\tham\t6.19348445435402e-05\t\n",
    "absolute\t0,1,6.19348445435402e-05,0.00011092008208086075\tham\t6.19348445435402e-05\t\n",
    "absolutely\t0,1,6.19348445435402e-05,0.00011092008208086075\tham\t6.19348445435402e-05\t\n",
    "absorb\t0,1,6.19348445435402e-05,0.00011092008208086075\tham\t6.19348445435402e-05\t\n",
    "abuse\t0,1,6.19348445435402e-05,0.00011092008208086075\tham\t6.19348445435402e-05\t\n",
    "abused\t0,1,6.19348445435402e-05,0.00011092008208086075\tham\t6.19348445435402e-05\t\n",
    "acce\t0,1,6.19348445435402e-05,0.00011092008208086075\tham\t6.19348445435402e-05\t\n",
    "accelerate\t0,1,6.19348445435402e-05,0.00011092008208086075\tham\t6.19348445435402e-05\t\n",
    "accelerated\t0,1,6.19348445435402e-05,0.00011092008208086075\tham\t6.19348445435402e-05\t\n",
    "cat: Unable to write to output stream.\n",
    "============== PART-00001===============\n",
    "ab\t4,0,0.00030967422271770096,5.546004104043037e-05\tspam\t5.546004104043037e-05\t\n",
    "absent\t1,0,0.0001238696890870804,5.546004104043037e-05\tspam\t5.546004104043037e-05\t\n",
    "accepts\t1,0,0.0001238696890870804,5.546004104043037e-05\tspam\t5.546004104043037e-05\t\n",
    "accomodate\t4,0,0.00030967422271770096,5.546004104043037e-05\tspam\t5.546004104043037e-05\t\n",
    "accomodates\t1,0,0.0001238696890870804,5.546004104043037e-05\tspam\t5.546004104043037e-05\t\n",
    "accompanied\t1,0,0.0001238696890870804,5.546004104043037e-05\tspam\t5.546004104043037e-05\t\n",
    "accounting\t4,0,0.00030967422271770096,5.546004104043037e-05\tspam\t5.546004104043037e-05\t\n",
    "accurate\t1,0,0.0001238696890870804,5.546004104043037e-05\tspam\t5.546004104043037e-05\t\n",
    "achieve\t1,0,0.0001238696890870804,5.546004104043037e-05\tspam\t5.546004104043037e-05\t\n",
    "achieved\t1,0,0.0001238696890870804,5.546004104043037e-05\tspam\t5.546004104043037e-05\t\n",
    "cat: Unable to write to output stream."
   ]
  },
  {
   "cell_type": "markdown",
   "metadata": {},
   "source": [
    "### Congratulations, you have completed HW2! Please refer to the readme for submission instructions.\n",
    "\n",
    "If you would like to provide feedback regarding this homework, please use the survey at: https://docs.google.com/forms/d/e/1FAIpQLSce9feiQeSkdP43A0ZYui1tMGIBfLfzb0rmgToQeZD9bXXX8Q/viewform"
   ]
  },
  {
   "cell_type": "code",
   "execution_count": 137,
   "metadata": {},
   "outputs": [],
   "source": []
  },
  {
   "cell_type": "code",
   "execution_count": 6,
   "metadata": {},
   "outputs": [
    {
     "name": "stdout",
     "output_type": "stream",
     "text": [
      "beijing\t0.0,1.0,0.111111111111,0.142857142857\n",
      "chinese\t1.0,5.0,0.222222222222,0.428571428571\n",
      "tokyo\t1.0,0.0,0.222222222222,0.0714285714286\n",
      "shanghai\t0.0,1.0,0.111111111111,0.142857142857\n",
      "ClassPriors\t1.0,3.0,0.25,0.75\n",
      "japan\t1.0,0.0,0.222222222222,0.0714285714286\n",
      "macao\t0.0,1.0,0.111111111111,0.142857142857\n"
     ]
    }
   ],
   "source": [
    "!cat NBmodel.txt | head -10"
   ]
  },
  {
   "cell_type": "code",
   "execution_count": null,
   "metadata": {},
   "outputs": [],
   "source": []
  }
 ],
 "metadata": {
  "kernelspec": {
   "display_name": "Python 3",
   "language": "python",
   "name": "python3"
  },
  "language_info": {
   "codemirror_mode": {
    "name": "ipython",
    "version": 3
   },
   "file_extension": ".py",
   "mimetype": "text/x-python",
   "name": "python",
   "nbconvert_exporter": "python",
   "pygments_lexer": "ipython3",
   "version": "3.7.5"
  }
 },
 "nbformat": 4,
 "nbformat_minor": 4
}
